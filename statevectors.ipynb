{
  "nbformat": 4,
  "nbformat_minor": 0,
  "metadata": {
    "colab": {
      "name": "nnqc.ipynb",
      "provenance": [],
      "include_colab_link": true
    },
    "kernelspec": {
      "name": "python3",
      "display_name": "Python 3"
    }
  },
  "cells": [
    {
      "cell_type": "markdown",
      "metadata": {
        "id": "view-in-github",
        "colab_type": "text"
      },
      "source": [
        "<a href=\"https://colab.research.google.com/github/IllgamhoDuck/Quantum-Circuit-Optimization-with-Deep-learning/blob/master/statevectors.ipynb\" target=\"_parent\"><img src=\"https://colab.research.google.com/assets/colab-badge.svg\" alt=\"Open In Colab\"/></a>"
      ]
    },
    {
      "cell_type": "markdown",
      "metadata": {
        "id": "NIdQ7YJdCM2Z",
        "colab_type": "text"
      },
      "source": [
        "Use Neural Networks to imitate Quantum Computers with Qiskit"
      ]
    },
    {
      "cell_type": "markdown",
      "metadata": {
        "id": "3C-DO9zfCWm1",
        "colab_type": "text"
      },
      "source": [
        "Quantum computers are rare, and even simulating quantum computation is expensive. With neural networks you can simulate quantum computers. Qiskit provides many useful functions along the way."
      ]
    },
    {
      "cell_type": "markdown",
      "metadata": {
        "id": "ERqfwSXVCyPE",
        "colab_type": "text"
      },
      "source": [
        "Data generation\n",
        "\n",
        "To use neural networks, we need a large dataset from which to find patterns. Using Qiskit allows us to create this large dataset."
      ]
    },
    {
      "cell_type": "code",
      "metadata": {
        "id": "hEcHuE1SDQ9p",
        "colab_type": "code",
        "colab": {}
      },
      "source": [
        "#ok\n"
      ],
      "execution_count": 0,
      "outputs": []
    }
  ]
}