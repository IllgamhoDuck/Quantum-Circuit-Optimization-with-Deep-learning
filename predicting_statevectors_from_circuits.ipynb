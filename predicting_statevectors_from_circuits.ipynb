{
  "nbformat": 4,
  "nbformat_minor": 0,
  "metadata": {
    "colab": {
      "name": "predicting_statevectors_from_circuits.ipynb",
      "provenance": [],
      "collapsed_sections": [],
      "include_colab_link": true
    },
    "kernelspec": {
      "name": "python3",
      "display_name": "Python 3"
    }
  },
  "cells": [
    {
      "cell_type": "markdown",
      "metadata": {
        "id": "view-in-github",
        "colab_type": "text"
      },
      "source": [
        "<a href=\"https://colab.research.google.com/github/IllgamhoDuck/Quantum-Circuit-Optimization-with-Deep-learning/blob/master/predicting_statevectors_from_circuits.ipynb\" target=\"_parent\"><img src=\"https://colab.research.google.com/assets/colab-badge.svg\" alt=\"Open In Colab\"/></a>"
      ]
    },
    {
      "cell_type": "markdown",
      "metadata": {
        "id": "FWtVQUu2eKjS",
        "colab_type": "text"
      },
      "source": [
        "# Use Neural Networks to imitate Quantum Computers with Qiskit"
      ]
    },
    {
      "cell_type": "markdown",
      "metadata": {
        "id": "xLiwIsobeNx6",
        "colab_type": "text"
      },
      "source": [
        "Quantum computers are rare, and even simulating quantum computation is expensive. With neural networks you can simulate quantum computers. Qiskit provides many useful functions along the way."
      ]
    },
    {
      "cell_type": "markdown",
      "metadata": {
        "id": "NIwzgD35eZby",
        "colab_type": "text"
      },
      "source": [
        "## Predicting Statevectors from Quantum Circuits\n",
        "\n",
        "You can predict statevectors from quantum circuits using neural networks. \n",
        "\n",
        "You can see in this [Google Sheets](https://docs.google.com/spreadsheets/d/1LPAHmYtP5d9_qKSbEQmxlSk6NTAQU2ytRe82e3c6dVQ/edit?usp=sharing) spreadsheet an example of how we ran multiple experiments to find the best way to predict statevectors from quantum circuits.\n",
        "\n",
        "\n"
      ]
    },
    {
      "cell_type": "markdown",
      "metadata": {
        "id": "Stnpk0DKmUyW",
        "colab_type": "text"
      },
      "source": [
        "When we ran the experiments, we found it interesting that the neural networks were able to predict the statevectors much better when they were trained on more data. The RMSE (a way to measure how different the predicted and actual statevectors are) for totally random predictions is 600, while for perfect predictions it would be 0. With 1k data, the RMSE is 320. With 5m data, the RMSE is 120 and with 8m data the RMSE is 70. "
      ]
    },
    {
      "cell_type": "markdown",
      "metadata": {
        "id": "K-hyuWV1iEU6",
        "colab_type": "text"
      },
      "source": [
        "First we take the 10 lines of circuit-statevector pairs we generated earlier but write them in json format."
      ]
    },
    {
      "cell_type": "code",
      "metadata": {
        "id": "J4_YV3zWeJ5b",
        "colab_type": "code",
        "outputId": "742c4567-b5f2-4a80-8bf1-8e8f2acf121a",
        "colab": {
          "base_uri": "https://localhost:8080/",
          "height": 34
        }
      },
      "source": [
        "%%writefile 10_quantum_circuits.json\n",
        "[{\"statevector\": {\"state_11111\": 0, \"state_10111\": 0, \"state_11011\": 0, \"state_11100\": 0, \"state_01001\": 0, \"state_01100\": 0, \"state_00000\": 0, \"state_00100\": 0, \"state_01000\": 0, \"state_11110\": 0, \"state_11000\": 0, \"state_00001\": 0, \"state_00111\": 0, \"state_00010\": 0, \"state_11010\": 0, \"state_10000\": 1024, \"state_10110\": 0, \"state_10010\": 0, \"state_00101\": 0, \"state_10100\": 0, \"state_01111\": 0, \"state_11001\": 0, \"state_10001\": 0, \"state_00011\": 0, \"state_10101\": 0, \"state_01010\": 0, \"state_11101\": 0, \"state_10011\": 0, \"state_01110\": 0, \"state_01101\": 0, \"state_00110\": 0, \"state_01011\": 0}, \"gate_11\": {\"Gate_Type\": \"CnotGate\", \"Angle_3\": -1, \"Control\": 0, \"Angle_1\": -1, \"Target\": 1, \"Angle_2\": -1, \"Gate_Number\": 11}, \"gate_30\": {\"Gate_Type\": \"\", \"Angle_3\": -1, \"Control\": -1, \"Angle_2\": -1, \"Gate_Number\": -1, \"Target\": -1, \"Angle_1\": -1}, \"gate_28\": {\"Gate_Type\": \"Measure\", \"Angle_3\": -1, \"Control\": 3, \"Angle_1\": -1, \"Target\": -1, \"Angle_2\": -1, \"Gate_Number\": 28}, \"gate_08\": {\"Gate_Type\": \"CnotGate\", \"Angle_3\": -1, \"Control\": 0, \"Angle_1\": -1, \"Target\": 1, \"Angle_2\": -1, \"Gate_Number\": 8}, \"gate_12\": {\"Gate_Type\": \"U3Gate\", \"Angle_3\": 1.0, \"Control\": 3, \"Angle_1\": 0.5, \"Target\": -1, \"Angle_2\": 0.0, \"Gate_Number\": 12}, \"gate_20\": {\"Gate_Type\": \"CnotGate\", \"Angle_3\": -1, \"Control\": 3, \"Angle_1\": -1, \"Target\": 2, \"Angle_2\": -1, \"Gate_Number\": 20}, \"gate_15\": {\"Gate_Type\": \"U3Gate\", \"Angle_3\": 0.5, \"Control\": 4, \"Angle_1\": 1.0, \"Target\": -1, \"Angle_2\": 0.5, \"Gate_Number\": 15}, \"gate_32\": {\"Gate_Type\": \"\", \"Angle_3\": -1, \"Control\": -1, \"Angle_2\": -1, \"Gate_Number\": -1, \"Target\": -1, \"Angle_1\": -1}, \"gate_23\": {\"Gate_Type\": \"U3Gate\", \"Angle_3\": 0.0, \"Control\": 2, \"Angle_1\": 0.8049289612268833, \"Target\": -1, \"Angle_2\": 0.8607349082288277, \"Gate_Number\": 23}, \"gate_02\": {\"Gate_Type\": \"U3Gate\", \"Angle_3\": 1.0, \"Control\": 0, \"Angle_1\": 0.5, \"Target\": -1, \"Angle_2\": 0.0, \"Gate_Number\": 2}, \"gate_37\": {\"Gate_Type\": \"\", \"Angle_3\": -1, \"Control\": -1, \"Angle_2\": -1, \"Gate_Number\": -1, \"Target\": -1, \"Angle_1\": -1}, \"gate_31\": {\"Gate_Type\": \"\", \"Angle_3\": -1, \"Control\": -1, \"Angle_2\": -1, \"Gate_Number\": -1, \"Target\": -1, \"Angle_1\": -1}, \"gate_10\": {\"Gate_Type\": \"CnotGate\", \"Angle_3\": -1, \"Control\": 1, \"Angle_1\": -1, \"Target\": 0, \"Angle_2\": -1, \"Gate_Number\": 10}, \"gate_17\": {\"Gate_Type\": \"U3Gate\", \"Angle_3\": -0.7136315159360238, \"Control\": 2, \"Angle_1\": 0.0, \"Target\": -1, \"Angle_2\": 0.0, \"Gate_Number\": 17}, \"gate_01\": {\"Gate_Type\": \"CnotGate\", \"Angle_3\": -1, \"Control\": 2, \"Angle_1\": -1, \"Target\": 0, \"Angle_2\": -1, \"Gate_Number\": 1}, \"gate_39\": {\"Gate_Type\": \"\", \"Angle_3\": -1, \"Control\": -1, \"Angle_2\": -1, \"Gate_Number\": -1, \"Target\": -1, \"Angle_1\": -1}, \"gate_00\": {\"Gate_Type\": \"U3Gate\", \"Angle_3\": 1.0, \"Control\": 0, \"Angle_1\": 0.5, \"Target\": -1, \"Angle_2\": 0.0, \"Gate_Number\": 0}, \"gate_40\": {\"Gate_Type\": \"\", \"Angle_3\": -1, \"Control\": -1, \"Angle_2\": -1, \"Gate_Number\": -1, \"Target\": -1, \"Angle_1\": -1}, \"gate_05\": {\"Gate_Type\": \"CnotGate\", \"Angle_3\": -1, \"Control\": 1, \"Angle_1\": -1, \"Target\": 3, \"Angle_2\": -1, \"Gate_Number\": 5}, \"gate_16\": {\"Gate_Type\": \"CnotGate\", \"Angle_3\": -1, \"Control\": 4, \"Angle_1\": -1, \"Target\": 2, \"Angle_2\": -1, \"Gate_Number\": 16}, \"gate_18\": {\"Gate_Type\": \"CnotGate\", \"Angle_3\": -1, \"Control\": 4, \"Angle_1\": -1, \"Target\": 2, \"Angle_2\": -1, \"Gate_Number\": 18}, \"gate_27\": {\"Gate_Type\": \"Measure\", \"Angle_3\": -1, \"Control\": 2, \"Angle_1\": -1, \"Target\": -1, \"Angle_2\": -1, \"Gate_Number\": 27}, \"gate_25\": {\"Gate_Type\": \"Measure\", \"Angle_3\": -1, \"Control\": 0, \"Angle_1\": -1, \"Target\": -1, \"Angle_2\": -1, \"Gate_Number\": 25}, \"gate_34\": {\"Gate_Type\": \"\", \"Angle_3\": -1, \"Control\": -1, \"Angle_2\": -1, \"Gate_Number\": -1, \"Target\": -1, \"Angle_1\": -1}, \"gate_35\": {\"Gate_Type\": \"\", \"Angle_3\": -1, \"Control\": -1, \"Angle_2\": -1, \"Gate_Number\": -1, \"Target\": -1, \"Angle_1\": -1}, \"gate_06\": {\"Gate_Type\": \"CnotGate\", \"Angle_3\": -1, \"Control\": 0, \"Angle_1\": -1, \"Target\": 1, \"Angle_2\": -1, \"Gate_Number\": 6}, \"gate_29\": {\"Gate_Type\": \"Measure\", \"Angle_3\": -1, \"Control\": 4, \"Angle_1\": -1, \"Target\": -1, \"Angle_2\": -1, \"Gate_Number\": 29}, \"gate_38\": {\"Gate_Type\": \"\", \"Angle_3\": -1, \"Control\": -1, \"Angle_2\": -1, \"Gate_Number\": -1, \"Target\": -1, \"Angle_1\": -1}, \"gate_19\": {\"Gate_Type\": \"U3Gate\", \"Angle_3\": -0.1511817108902763, \"Control\": 2, \"Angle_1\": 0.0, \"Target\": -1, \"Angle_2\": 0.0, \"Gate_Number\": 19}, \"QASM_File_Name\": \"3125_random_5_qubit_circuits/circuit_1033.qasm\", \"gate_33\": {\"Gate_Type\": \"\", \"Angle_3\": -1, \"Control\": -1, \"Angle_2\": -1, \"Gate_Number\": -1, \"Target\": -1, \"Angle_1\": -1}, \"gate_09\": {\"Gate_Type\": \"CnotGate\", \"Angle_3\": -1, \"Control\": 0, \"Angle_1\": -1, \"Target\": 1, \"Angle_2\": -1, \"Gate_Number\": 9}, \"gate_24\": {\"Gate_Type\": \"U3Gate\", \"Angle_3\": -0.5, \"Control\": 4, \"Angle_1\": 0.0, \"Target\": -1, \"Angle_2\": 0.0, \"Gate_Number\": 24}, \"gate_13\": {\"Gate_Type\": \"U3Gate\", \"Angle_3\": 0.7428302918802038, \"Control\": 3, \"Angle_1\": 0.0, \"Target\": -1, \"Angle_2\": 0.0, \"Gate_Number\": 13}, \"gate_14\": {\"Gate_Type\": \"U3Gate\", \"Angle_3\": 0.7095531973385508, \"Control\": 3, \"Angle_1\": 0.0, \"Target\": -1, \"Angle_2\": 0.0, \"Gate_Number\": 14}, \"gate_26\": {\"Gate_Type\": \"Measure\", \"Angle_3\": -1, \"Control\": 1, \"Angle_1\": -1, \"Target\": -1, \"Angle_2\": -1, \"Gate_Number\": 26}, \"gate_07\": {\"Gate_Type\": \"CnotGate\", \"Angle_3\": -1, \"Control\": 1, \"Angle_1\": -1, \"Target\": 0, \"Angle_2\": -1, \"Gate_Number\": 7}, \"gate_03\": {\"Gate_Type\": \"U3Gate\", \"Angle_3\": 0.7136315159360238, \"Control\": 2, \"Angle_1\": 0.0, \"Target\": -1, \"Angle_2\": 0.0, \"Gate_Number\": 3}, \"gate_21\": {\"Gate_Type\": \"U3Gate\", \"Angle_3\": -0.7095531973385508, \"Control\": 2, \"Angle_1\": -0.8049289612268833, \"Target\": -1, \"Angle_2\": 0.0, \"Gate_Number\": 21}, \"gate_22\": {\"Gate_Type\": \"CnotGate\", \"Angle_3\": -1, \"Control\": 3, \"Angle_1\": -1, \"Target\": 2, \"Angle_2\": -1, \"Gate_Number\": 22}, \"gate_36\": {\"Gate_Type\": \"\", \"Angle_3\": -1, \"Control\": -1, \"Angle_2\": -1, \"Gate_Number\": -1, \"Target\": -1, \"Angle_1\": -1}, \"gate_04\": {\"Gate_Type\": \"U3Gate\", \"Angle_3\": 1.0, \"Control\": 3, \"Angle_1\": 0.5, \"Target\": -1, \"Angle_2\": 0.0, \"Gate_Number\": 4}},\n",
        "{\"statevector\": {\"state_11111\": 0, \"state_10111\": 0, \"state_11011\": 0, \"state_11100\": 1, \"state_01001\": 0, \"state_01100\": 7, \"state_00000\": 0, \"state_00100\": 6, \"state_01000\": 0, \"state_11110\": 0, \"state_11000\": 0, \"state_00001\": 0, \"state_00111\": 0, \"state_00010\": 0, \"state_11010\": 0, \"state_10000\": 0, \"state_10110\": 0, \"state_10010\": 0, \"state_00101\": 276, \"state_10100\": 0, \"state_01111\": 0, \"state_11001\": 0, \"state_10001\": 0, \"state_00011\": 0, \"state_10101\": 70, \"state_01010\": 0, \"state_11101\": 126, \"state_10011\": 0, \"state_01110\": 0, \"state_01101\": 538, \"state_00110\": 0, \"state_01011\": 0}, \"gate_11\": {\"Gate_Type\": \"U3Gate\", \"Angle_3\": 1.0, \"Control\": 2, \"Angle_1\": 1.0, \"Target\": -1, \"Angle_2\": 0.0, \"Gate_Number\": 11}, \"gate_30\": {\"Gate_Type\": \"U3Gate\", \"Angle_3\": 0.5, \"Control\": 4, \"Angle_1\": 0.712385061802925, \"Target\": -1, \"Angle_2\": -0.5, \"Gate_Number\": 30}, \"gate_28\": {\"Gate_Type\": \"U3Gate\", \"Angle_3\": 0.5, \"Control\": 4, \"Angle_1\": 1.0, \"Target\": -1, \"Angle_2\": 0.5, \"Gate_Number\": 28}, \"gate_08\": {\"Gate_Type\": \"U3Gate\", \"Angle_3\": 0.303869713933786, \"Control\": 2, \"Angle_1\": 0.0, \"Target\": -1, \"Angle_2\": 0.0, \"Gate_Number\": 8}, \"gate_12\": {\"Gate_Type\": \"U3Gate\", \"Angle_3\": 1.0, \"Control\": 3, \"Angle_1\": 0.5, \"Target\": -1, \"Angle_2\": 0.0, \"Gate_Number\": 12}, \"gate_20\": {\"Gate_Type\": \"U3Gate\", \"Angle_3\": 1.1090761541508274, \"Control\": 1, \"Angle_1\": 0.0, \"Target\": -1, \"Angle_2\": 0.0, \"Gate_Number\": 20}, \"gate_15\": {\"Gate_Type\": \"U3Gate\", \"Angle_3\": 1.0, \"Control\": 3, \"Angle_1\": 0.5, \"Target\": -1, \"Angle_2\": 0.0, \"Gate_Number\": 15}, \"gate_32\": {\"Gate_Type\": \"Measure\", \"Angle_3\": -1, \"Control\": 1, \"Angle_1\": -1, \"Target\": -1, \"Angle_2\": -1, \"Gate_Number\": 32}, \"gate_23\": {\"Gate_Type\": \"CnotGate\", \"Angle_3\": -1, \"Control\": 1, \"Angle_1\": -1, \"Target\": 0, \"Angle_2\": -1, \"Gate_Number\": 23}, \"gate_02\": {\"Gate_Type\": \"U3Gate\", \"Angle_3\": 0.0, \"Control\": 0, \"Angle_1\": 0.9137505906370721, \"Target\": -1, \"Angle_2\": 0.0, \"Gate_Number\": 2}, \"gate_37\": {\"Gate_Type\": \"\", \"Angle_3\": -1, \"Control\": -1, \"Angle_2\": -1, \"Gate_Number\": -1, \"Target\": -1, \"Angle_1\": -1}, \"gate_31\": {\"Gate_Type\": \"Measure\", \"Angle_3\": -1, \"Control\": 0, \"Angle_1\": -1, \"Target\": -1, \"Angle_2\": -1, \"Gate_Number\": 31}, \"gate_10\": {\"Gate_Type\": \"U3Gate\", \"Angle_3\": 0.5, \"Control\": 2, \"Angle_1\": 1.0, \"Target\": -1, \"Angle_2\": 0.5, \"Gate_Number\": 10}, \"gate_17\": {\"Gate_Type\": \"CnotGate\", \"Angle_3\": -1, \"Control\": 1, \"Angle_1\": -1, \"Target\": 3, \"Angle_2\": -1, \"Gate_Number\": 17}, \"gate_01\": {\"Gate_Type\": \"U3Gate\", \"Angle_3\": 1.0, \"Control\": 0, \"Angle_1\": 0.0, \"Target\": -1, \"Angle_2\": 0.0, \"Gate_Number\": 1}, \"gate_39\": {\"Gate_Type\": \"\", \"Angle_3\": -1, \"Control\": -1, \"Angle_2\": -1, \"Gate_Number\": -1, \"Target\": -1, \"Angle_1\": -1}, \"gate_00\": {\"Gate_Type\": \"CnotGate\", \"Angle_3\": -1, \"Control\": 1, \"Angle_1\": -1, \"Target\": 0, \"Angle_2\": -1, \"Gate_Number\": 0}, \"gate_40\": {\"Gate_Type\": \"\", \"Angle_3\": -1, \"Control\": -1, \"Angle_2\": -1, \"Gate_Number\": -1, \"Target\": -1, \"Angle_1\": -1}, \"gate_05\": {\"Gate_Type\": \"CnotGate\", \"Angle_3\": -1, \"Control\": 3, \"Angle_1\": -1, \"Target\": 2, \"Angle_2\": -1, \"Gate_Number\": 5}, \"gate_16\": {\"Gate_Type\": \"U3Gate\", \"Angle_3\": -0.25090112293232186, \"Control\": 3, \"Angle_1\": 0.0, \"Target\": -1, \"Angle_2\": 0.0, \"Gate_Number\": 16}, \"gate_18\": {\"Gate_Type\": \"U3Gate\", \"Angle_3\": -1.0885938102646706, \"Control\": 3, \"Angle_1\": -0.40406205203081336, \"Target\": -1, \"Angle_2\": 0.0, \"Gate_Number\": 18}, \"gate_27\": {\"Gate_Type\": \"U3Gate\", \"Angle_3\": -0.25, \"Control\": 4, \"Angle_1\": 0.0, \"Target\": -1, \"Angle_2\": 0.0, \"Gate_Number\": 27}, \"gate_25\": {\"Gate_Type\": \"U3Gate\", \"Angle_3\": 0.0, \"Control\": 3, \"Angle_1\": 0.40406205203081336, \"Target\": -1, \"Angle_2\": 1.3394949331969916, \"Gate_Number\": 25}, \"gate_34\": {\"Gate_Type\": \"Measure\", \"Angle_3\": -1, \"Control\": 3, \"Angle_1\": -1, \"Target\": -1, \"Angle_2\": -1, \"Gate_Number\": 34}, \"gate_35\": {\"Gate_Type\": \"Measure\", \"Angle_3\": -1, \"Control\": 4, \"Angle_1\": -1, \"Target\": -1, \"Angle_2\": -1, \"Gate_Number\": 35}, \"gate_06\": {\"Gate_Type\": \"U3Gate\", \"Angle_3\": -0.303869713933786, \"Control\": 2, \"Angle_1\": 0.0, \"Target\": -1, \"Angle_2\": 0.0, \"Gate_Number\": 6}, \"gate_29\": {\"Gate_Type\": \"U3Gate\", \"Angle_3\": 1.413511704425418, \"Control\": 4, \"Angle_1\": 0.0, \"Target\": -1, \"Angle_2\": 0.0, \"Gate_Number\": 29}, \"gate_38\": {\"Gate_Type\": \"\", \"Angle_3\": -1, \"Control\": -1, \"Angle_2\": -1, \"Gate_Number\": -1, \"Target\": -1, \"Angle_1\": -1}, \"gate_19\": {\"Gate_Type\": \"CnotGate\", \"Angle_3\": -1, \"Control\": 1, \"Angle_1\": -1, \"Target\": 3, \"Angle_2\": -1, \"Gate_Number\": 19}, \"QASM_File_Name\": \"3125_random_5_qubit_circuits/circuit_1093.qasm\", \"gate_33\": {\"Gate_Type\": \"Measure\", \"Angle_3\": -1, \"Control\": 2, \"Angle_1\": -1, \"Target\": -1, \"Angle_2\": -1, \"Gate_Number\": 33}, \"gate_09\": {\"Gate_Type\": \"U3Gate\", \"Angle_3\": 1.0, \"Control\": 2, \"Angle_1\": 1.0, \"Target\": -1, \"Angle_2\": 0.0, \"Gate_Number\": 9}, \"gate_24\": {\"Gate_Type\": \"U3Gate\", \"Angle_3\": 0.0, \"Control\": 0, \"Angle_1\": 0.7353563437579959, \"Target\": -1, \"Angle_2\": 0.32998262752760155, \"Gate_Number\": 24}, \"gate_13\": {\"Gate_Type\": \"CnotGate\", \"Angle_3\": -1, \"Control\": 1, \"Angle_1\": -1, \"Target\": 3, \"Angle_2\": -1, \"Gate_Number\": 13}, \"gate_14\": {\"Gate_Type\": \"U3Gate\", \"Angle_3\": 1.0885938102646706, \"Control\": 1, \"Angle_1\": 0.0, \"Target\": -1, \"Angle_2\": 0.0, \"Gate_Number\": 14}, \"gate_26\": {\"Gate_Type\": \"U3Gate\", \"Angle_3\": 0.5, \"Control\": 3, \"Angle_1\": 1.3927355704625703, \"Target\": -1, \"Angle_2\": -0.5, \"Gate_Number\": 26}, \"gate_07\": {\"Gate_Type\": \"CnotGate\", \"Angle_3\": -1, \"Control\": 3, \"Angle_1\": -1, \"Target\": 2, \"Angle_2\": -1, \"Gate_Number\": 7}, \"gate_03\": {\"Gate_Type\": \"U3Gate\", \"Angle_3\": 0.7790935266232226, \"Control\": 0, \"Angle_1\": 0.0, \"Target\": -1, \"Angle_2\": 0.0, \"Gate_Number\": 3}, \"gate_21\": {\"Gate_Type\": \"CnotGate\", \"Angle_3\": -1, \"Control\": 1, \"Angle_1\": -1, \"Target\": 0, \"Angle_2\": -1, \"Gate_Number\": 21}, \"gate_22\": {\"Gate_Type\": \"U3Gate\", \"Angle_3\": -1.1090761541508274, \"Control\": 0, \"Angle_1\": -0.7353563437579959, \"Target\": -1, \"Angle_2\": 0.0, \"Gate_Number\": 22}, \"gate_36\": {\"Gate_Type\": \"\", \"Angle_3\": -1, \"Control\": -1, \"Angle_2\": -1, \"Gate_Number\": -1, \"Target\": -1, \"Angle_1\": -1}, \"gate_04\": {\"Gate_Type\": \"U3Gate\", \"Angle_3\": 0.303869713933786, \"Control\": 3, \"Angle_1\": 0.0, \"Target\": -1, \"Angle_2\": 0.0, \"Gate_Number\": 4}},\n",
        "{\"statevector\": {\"state_11111\": 0, \"state_10111\": 0, \"state_11011\": 0, \"state_11100\": 0, \"state_01001\": 473, \"state_01100\": 0, \"state_00000\": 0, \"state_00100\": 0, \"state_01000\": 0, \"state_11110\": 0, \"state_11000\": 0, \"state_00001\": 0, \"state_00111\": 0, \"state_00010\": 0, \"state_11010\": 0, \"state_10000\": 0, \"state_10110\": 0, \"state_10010\": 0, \"state_00101\": 0, \"state_10100\": 0, \"state_01111\": 0, \"state_11001\": 0, \"state_10001\": 0, \"state_00011\": 507, \"state_10101\": 0, \"state_01010\": 0, \"state_11101\": 0, \"state_10011\": 0, \"state_01110\": 0, \"state_01101\": 0, \"state_00110\": 0, \"state_01011\": 44}, \"gate_11\": {\"Gate_Type\": \"U3Gate\", \"Angle_3\": -0.5846280370467051, \"Control\": 2, \"Angle_1\": 0.0, \"Target\": -1, \"Angle_2\": 0.0, \"Gate_Number\": 11}, \"gate_30\": {\"Gate_Type\": \"U3Gate\", \"Angle_3\": 0.5, \"Control\": 4, \"Angle_1\": 0.0, \"Target\": -1, \"Angle_2\": 0.0, \"Gate_Number\": 30}, \"gate_28\": {\"Gate_Type\": \"CnotGate\", \"Angle_3\": -1, \"Control\": 0, \"Angle_1\": -1, \"Target\": 2, \"Angle_2\": -1, \"Gate_Number\": 28}, \"gate_08\": {\"Gate_Type\": \"U3Gate\", \"Angle_3\": 1.8516227649410237, \"Control\": 1, \"Angle_1\": 0.0, \"Target\": -1, \"Angle_2\": 0.0, \"Gate_Number\": 8}, \"gate_12\": {\"Gate_Type\": \"U3Gate\", \"Angle_3\": 0.7700503795647785, \"Control\": 3, \"Angle_1\": 0.0, \"Target\": -1, \"Angle_2\": 0.0, \"Gate_Number\": 12}, \"gate_20\": {\"Gate_Type\": \"U3Gate\", \"Angle_3\": -0.5, \"Control\": 4, \"Angle_1\": 0.0, \"Target\": -1, \"Angle_2\": 0.0, \"Gate_Number\": 20}, \"gate_15\": {\"Gate_Type\": \"U3Gate\", \"Angle_3\": 1.7796287299937472, \"Control\": 3, \"Angle_1\": 0.0, \"Target\": -1, \"Angle_2\": 0.0, \"Gate_Number\": 15}, \"gate_32\": {\"Gate_Type\": \"Measure\", \"Angle_3\": -1, \"Control\": 0, \"Angle_1\": -1, \"Target\": -1, \"Angle_2\": -1, \"Gate_Number\": 32}, \"gate_23\": {\"Gate_Type\": \"U3Gate\", \"Angle_3\": -1.2442257118795548, \"Control\": 2, \"Angle_1\": -0.5165480413989794, \"Target\": -1, \"Angle_2\": 0.0, \"Gate_Number\": 23}, \"gate_02\": {\"Gate_Type\": \"U3Gate\", \"Angle_3\": 0.0, \"Control\": 1, \"Angle_1\": 0.9791406541201794, \"Target\": -1, \"Angle_2\": 0.0, \"Gate_Number\": 2}, \"gate_37\": {\"Gate_Type\": \"\", \"Angle_3\": -1, \"Control\": -1, \"Angle_2\": -1, \"Gate_Number\": -1, \"Target\": -1, \"Angle_1\": -1}, \"gate_31\": {\"Gate_Type\": \"U3Gate\", \"Angle_3\": 1.9914471621193017, \"Control\": 4, \"Angle_1\": 0.0, \"Target\": -1, \"Angle_2\": 0.0, \"Gate_Number\": 31}, \"gate_10\": {\"Gate_Type\": \"U3Gate\", \"Angle_3\": -0.25, \"Control\": 2, \"Angle_1\": 0.0, \"Target\": -1, \"Angle_2\": 0.0, \"Gate_Number\": 10}, \"gate_17\": {\"Gate_Type\": \"U3Gate\", \"Angle_3\": -1.7796287299937472, \"Control\": 1, \"Angle_1\": -0.6005123411564115, \"Target\": -1, \"Angle_2\": 0.0, \"Gate_Number\": 17}, \"gate_01\": {\"Gate_Type\": \"U3Gate\", \"Angle_3\": 0.8807997938322562, \"Control\": 0, \"Angle_1\": 0.0, \"Target\": -1, \"Angle_2\": 0.0, \"Gate_Number\": 1}, \"gate_39\": {\"Gate_Type\": \"\", \"Angle_3\": -1, \"Control\": -1, \"Angle_2\": -1, \"Gate_Number\": -1, \"Target\": -1, \"Angle_1\": -1}, \"gate_00\": {\"Gate_Type\": \"U3Gate\", \"Angle_3\": -0.5, \"Control\": 0, \"Angle_1\": 0.0, \"Target\": -1, \"Angle_2\": 0.0, \"Gate_Number\": 0}, \"gate_40\": {\"Gate_Type\": \"\", \"Angle_3\": -1, \"Control\": -1, \"Angle_2\": -1, \"Gate_Number\": -1, \"Target\": -1, \"Angle_1\": -1}, \"gate_05\": {\"Gate_Type\": \"CnotGate\", \"Angle_3\": -1, \"Control\": 0, \"Angle_1\": -1, \"Target\": 1, \"Angle_2\": -1, \"Gate_Number\": 5}, \"gate_16\": {\"Gate_Type\": \"CnotGate\", \"Angle_3\": -1, \"Control\": 3, \"Angle_1\": -1, \"Target\": 1, \"Angle_2\": -1, \"Gate_Number\": 16}, \"gate_18\": {\"Gate_Type\": \"CnotGate\", \"Angle_3\": -1, \"Control\": 3, \"Angle_1\": -1, \"Target\": 1, \"Angle_2\": -1, \"Gate_Number\": 18}, \"gate_27\": {\"Gate_Type\": \"U3Gate\", \"Angle_3\": 1.0, \"Control\": 2, \"Angle_1\": 0.5, \"Target\": -1, \"Angle_2\": 0.0, \"Gate_Number\": 27}, \"gate_25\": {\"Gate_Type\": \"U3Gate\", \"Angle_3\": 0.0, \"Control\": 2, \"Angle_1\": 0.5165480413989794, \"Target\": -1, \"Angle_2\": 1.828853748926263, \"Gate_Number\": 25}, \"gate_34\": {\"Gate_Type\": \"Measure\", \"Angle_3\": -1, \"Control\": 2, \"Angle_1\": -1, \"Target\": -1, \"Angle_2\": -1, \"Gate_Number\": 34}, \"gate_35\": {\"Gate_Type\": \"Measure\", \"Angle_3\": -1, \"Control\": 3, \"Angle_1\": -1, \"Target\": -1, \"Angle_2\": -1, \"Gate_Number\": 35}, \"gate_06\": {\"Gate_Type\": \"U3Gate\", \"Angle_3\": 1.0, \"Control\": 0, \"Angle_1\": 1.0, \"Target\": -1, \"Angle_2\": 0.0, \"Gate_Number\": 6}, \"gate_29\": {\"Gate_Type\": \"U3Gate\", \"Angle_3\": 1.0, \"Control\": 2, \"Angle_1\": 0.5, \"Target\": -1, \"Angle_2\": 0.0, \"Gate_Number\": 29}, \"gate_38\": {\"Gate_Type\": \"\", \"Angle_3\": -1, \"Control\": -1, \"Angle_2\": -1, \"Gate_Number\": -1, \"Target\": -1, \"Angle_1\": -1}, \"gate_19\": {\"Gate_Type\": \"U3Gate\", \"Angle_3\": 0.0, \"Control\": 1, \"Angle_1\": 0.6005123411564115, \"Target\": -1, \"Angle_2\": 1.9488056187580274, \"Gate_Number\": 19}, \"QASM_File_Name\": \"3125_random_5_qubit_circuits/circuit_2511.qasm\", \"gate_33\": {\"Gate_Type\": \"Measure\", \"Angle_3\": -1, \"Control\": 1, \"Angle_1\": -1, \"Target\": -1, \"Angle_2\": -1, \"Gate_Number\": 33}, \"gate_09\": {\"Gate_Type\": \"U3Gate\", \"Angle_3\": -0.169176888764282, \"Control\": 1, \"Angle_1\": 0.0, \"Target\": -1, \"Angle_2\": 0.0, \"Gate_Number\": 9}, \"gate_24\": {\"Gate_Type\": \"CnotGate\", \"Angle_3\": -1, \"Control\": 4, \"Angle_1\": -1, \"Target\": 2, \"Angle_2\": -1, \"Gate_Number\": 24}, \"gate_13\": {\"Gate_Type\": \"U3Gate\", \"Angle_3\": 0.4531223252373775, \"Control\": 3, \"Angle_1\": 0.5, \"Target\": -1, \"Angle_2\": 0.6151476265908303, \"Gate_Number\": 13}, \"gate_14\": {\"Gate_Type\": \"U3Gate\", \"Angle_3\": 1.0, \"Control\": 3, \"Angle_1\": 1.0, \"Target\": -1, \"Angle_2\": 0.0, \"Gate_Number\": 14}, \"gate_26\": {\"Gate_Type\": \"U3Gate\", \"Angle_3\": -0.5, \"Control\": 2, \"Angle_1\": 0.0, \"Target\": -1, \"Angle_2\": 0.0, \"Gate_Number\": 26}, \"gate_07\": {\"Gate_Type\": \"U3Gate\", \"Angle_3\": 0.8807997938322562, \"Control\": 1, \"Angle_1\": 0.0, \"Target\": -1, \"Angle_2\": 0.0, \"Gate_Number\": 7}, \"gate_03\": {\"Gate_Type\": \"CnotGate\", \"Angle_3\": -1, \"Control\": 0, \"Angle_1\": -1, \"Target\": 1, \"Angle_2\": -1, \"Gate_Number\": 3}, \"gate_21\": {\"Gate_Type\": \"U3Gate\", \"Angle_3\": 1.2442257118795548, \"Control\": 4, \"Angle_1\": 0.0, \"Target\": -1, \"Angle_2\": 0.0, \"Gate_Number\": 21}, \"gate_22\": {\"Gate_Type\": \"CnotGate\", \"Angle_3\": -1, \"Control\": 4, \"Angle_1\": -1, \"Target\": 2, \"Angle_2\": -1, \"Gate_Number\": 22}, \"gate_36\": {\"Gate_Type\": \"Measure\", \"Angle_3\": -1, \"Control\": 4, \"Angle_1\": -1, \"Target\": -1, \"Angle_2\": -1, \"Gate_Number\": 36}, \"gate_04\": {\"Gate_Type\": \"U3Gate\", \"Angle_3\": -0.8807997938322562, \"Control\": 1, \"Angle_1\": 0.0, \"Target\": -1, \"Angle_2\": 0.0, \"Gate_Number\": 4}},\n",
        "{\"statevector\": {\"state_11111\": 0, \"state_10111\": 0, \"state_11011\": 0, \"state_11100\": 0, \"state_01001\": 0, \"state_01100\": 0, \"state_00000\": 0, \"state_00100\": 0, \"state_01000\": 0, \"state_11110\": 0, \"state_11000\": 0, \"state_00001\": 0, \"state_00111\": 1, \"state_00010\": 0, \"state_11010\": 0, \"state_10000\": 0, \"state_10110\": 0, \"state_10010\": 0, \"state_00101\": 0, \"state_10100\": 0, \"state_01111\": 0, \"state_11001\": 0, \"state_10001\": 0, \"state_00011\": 0, \"state_10101\": 0, \"state_01010\": 0, \"state_11101\": 0, \"state_10011\": 0, \"state_01110\": 0, \"state_01101\": 0, \"state_00110\": 1023, \"state_01011\": 0}, \"gate_11\": {\"Gate_Type\": \"U3Gate\", \"Angle_3\": 0.1028622995855569, \"Control\": 4, \"Angle_1\": 0.0, \"Target\": -1, \"Angle_2\": 0.0, \"Gate_Number\": 11}, \"gate_30\": {\"Gate_Type\": \"\", \"Angle_3\": -1, \"Control\": -1, \"Angle_2\": -1, \"Gate_Number\": -1, \"Target\": -1, \"Angle_1\": -1}, \"gate_28\": {\"Gate_Type\": \"\", \"Angle_3\": -1, \"Control\": -1, \"Angle_2\": -1, \"Gate_Number\": -1, \"Target\": -1, \"Angle_1\": -1}, \"gate_08\": {\"Gate_Type\": \"CnotGate\", \"Angle_3\": -1, \"Control\": 1, \"Angle_1\": -1, \"Target\": 4, \"Angle_2\": -1, \"Gate_Number\": 8}, \"gate_12\": {\"Gate_Type\": \"CnotGate\", \"Angle_3\": -1, \"Control\": 2, \"Angle_1\": -1, \"Target\": 4, \"Angle_2\": -1, \"Gate_Number\": 12}, \"gate_20\": {\"Gate_Type\": \"U3Gate\", \"Angle_3\": -0.5989071275785603, \"Control\": 4, \"Angle_1\": 0.0, \"Target\": -1, \"Angle_2\": 0.0, \"Gate_Number\": 20}, \"gate_15\": {\"Gate_Type\": \"U3Gate\", \"Angle_3\": -0.5, \"Control\": 2, \"Angle_1\": 0.0, \"Target\": -1, \"Angle_2\": 0.0, \"Gate_Number\": 15}, \"gate_32\": {\"Gate_Type\": \"\", \"Angle_3\": -1, \"Control\": -1, \"Angle_2\": -1, \"Gate_Number\": -1, \"Target\": -1, \"Angle_1\": -1}, \"gate_23\": {\"Gate_Type\": \"Measure\", \"Angle_3\": -1, \"Control\": 1, \"Angle_1\": -1, \"Target\": -1, \"Angle_2\": -1, \"Gate_Number\": 23}, \"gate_02\": {\"Gate_Type\": \"CnotGate\", \"Angle_3\": -1, \"Control\": 3, \"Angle_1\": -1, \"Target\": 2, \"Angle_2\": -1, \"Gate_Number\": 2}, \"gate_37\": {\"Gate_Type\": \"\", \"Angle_3\": -1, \"Control\": -1, \"Angle_2\": -1, \"Gate_Number\": -1, \"Target\": -1, \"Angle_1\": -1}, \"gate_31\": {\"Gate_Type\": \"\", \"Angle_3\": -1, \"Control\": -1, \"Angle_2\": -1, \"Gate_Number\": -1, \"Target\": -1, \"Angle_1\": -1}, \"gate_10\": {\"Gate_Type\": \"U3Gate\", \"Angle_3\": 1.0, \"Control\": 4, \"Angle_1\": 0.5, \"Target\": -1, \"Angle_2\": 0.0, \"Gate_Number\": 10}, \"gate_17\": {\"Gate_Type\": \"U3Gate\", \"Angle_3\": 0.5, \"Control\": 2, \"Angle_1\": 0.0, \"Target\": -1, \"Angle_2\": 0.0, \"Gate_Number\": 17}, \"gate_01\": {\"Gate_Type\": \"U3Gate\", \"Angle_3\": 0.5, \"Control\": 0, \"Angle_1\": 1.9861418429793378, \"Target\": -1, \"Angle_2\": -0.5, \"Gate_Number\": 1}, \"gate_39\": {\"Gate_Type\": \"\", \"Angle_3\": -1, \"Control\": -1, \"Angle_2\": -1, \"Gate_Number\": -1, \"Target\": -1, \"Angle_1\": -1}, \"gate_00\": {\"Gate_Type\": \"U3Gate\", \"Angle_3\": 1.0, \"Control\": 0, \"Angle_1\": 0.0, \"Target\": -1, \"Angle_2\": 0.0, \"Gate_Number\": 0}, \"gate_40\": {\"Gate_Type\": \"\", \"Angle_3\": -1, \"Control\": -1, \"Angle_2\": -1, \"Gate_Number\": -1, \"Target\": -1, \"Angle_1\": -1}, \"gate_05\": {\"Gate_Type\": \"U3Gate\", \"Angle_3\": -0.25, \"Control\": 3, \"Angle_1\": 0.0, \"Target\": -1, \"Angle_2\": 0.0, \"Gate_Number\": 5}, \"gate_16\": {\"Gate_Type\": \"CnotGate\", \"Angle_3\": -1, \"Control\": 1, \"Angle_1\": -1, \"Target\": 2, \"Angle_2\": -1, \"Gate_Number\": 16}, \"gate_18\": {\"Gate_Type\": \"U3Gate\", \"Angle_3\": 0.5989071275785603, \"Control\": 4, \"Angle_1\": 0.0, \"Target\": -1, \"Angle_2\": 0.0, \"Gate_Number\": 18}, \"gate_27\": {\"Gate_Type\": \"\", \"Angle_3\": -1, \"Control\": -1, \"Angle_2\": -1, \"Gate_Number\": -1, \"Target\": -1, \"Angle_1\": -1}, \"gate_25\": {\"Gate_Type\": \"Measure\", \"Angle_3\": -1, \"Control\": 3, \"Angle_1\": -1, \"Target\": -1, \"Angle_2\": -1, \"Gate_Number\": 25}, \"gate_34\": {\"Gate_Type\": \"\", \"Angle_3\": -1, \"Control\": -1, \"Angle_2\": -1, \"Gate_Number\": -1, \"Target\": -1, \"Angle_1\": -1}, \"gate_35\": {\"Gate_Type\": \"\", \"Angle_3\": -1, \"Control\": -1, \"Angle_2\": -1, \"Gate_Number\": -1, \"Target\": -1, \"Angle_1\": -1}, \"gate_06\": {\"Gate_Type\": \"U3Gate\", \"Angle_3\": 0.5, \"Control\": 3, \"Angle_1\": 0.0, \"Target\": -1, \"Angle_2\": 0.0, \"Gate_Number\": 6}, \"gate_29\": {\"Gate_Type\": \"\", \"Angle_3\": -1, \"Control\": -1, \"Angle_2\": -1, \"Gate_Number\": -1, \"Target\": -1, \"Angle_1\": -1}, \"gate_38\": {\"Gate_Type\": \"\", \"Angle_3\": -1, \"Control\": -1, \"Angle_2\": -1, \"Gate_Number\": -1, \"Target\": -1, \"Angle_1\": -1}, \"gate_19\": {\"Gate_Type\": \"CnotGate\", \"Angle_3\": -1, \"Control\": 0, \"Angle_1\": -1, \"Target\": 4, \"Angle_2\": -1, \"Gate_Number\": 19}, \"QASM_File_Name\": \"3125_random_5_qubit_circuits/circuit_998.qasm\", \"gate_33\": {\"Gate_Type\": \"\", \"Angle_3\": -1, \"Control\": -1, \"Angle_2\": -1, \"Gate_Number\": -1, \"Target\": -1, \"Angle_1\": -1}, \"gate_09\": {\"Gate_Type\": \"U3Gate\", \"Angle_3\": 0.5, \"Control\": 1, \"Angle_1\": 1.0, \"Target\": -1, \"Angle_2\": 0.5, \"Gate_Number\": 9}, \"gate_24\": {\"Gate_Type\": \"Measure\", \"Angle_3\": -1, \"Control\": 2, \"Angle_1\": -1, \"Target\": -1, \"Angle_2\": -1, \"Gate_Number\": 24}, \"gate_13\": {\"Gate_Type\": \"U3Gate\", \"Angle_3\": -0.1028622995855569, \"Control\": 4, \"Angle_1\": 0.0, \"Target\": -1, \"Angle_2\": 0.0, \"Gate_Number\": 13}, \"gate_14\": {\"Gate_Type\": \"CnotGate\", \"Angle_3\": -1, \"Control\": 2, \"Angle_1\": -1, \"Target\": 4, \"Angle_2\": -1, \"Gate_Number\": 14}, \"gate_26\": {\"Gate_Type\": \"Measure\", \"Angle_3\": -1, \"Control\": 4, \"Angle_1\": -1, \"Target\": -1, \"Angle_2\": -1, \"Gate_Number\": 26}, \"gate_07\": {\"Gate_Type\": \"U3Gate\", \"Angle_3\": 1.0, \"Control\": 4, \"Angle_1\": 0.5, \"Target\": -1, \"Angle_2\": 0.0, \"Gate_Number\": 7}, \"gate_03\": {\"Gate_Type\": \"U3Gate\", \"Angle_3\": 0.3683039947093093, \"Control\": 2, \"Angle_1\": 0.0, \"Target\": -1, \"Angle_2\": 0.0, \"Gate_Number\": 3}, \"gate_21\": {\"Gate_Type\": \"CnotGate\", \"Angle_3\": -1, \"Control\": 0, \"Angle_1\": -1, \"Target\": 4, \"Angle_2\": -1, \"Gate_Number\": 21}, \"gate_22\": {\"Gate_Type\": \"Measure\", \"Angle_3\": -1, \"Control\": 0, \"Angle_1\": -1, \"Target\": -1, \"Angle_2\": -1, \"Gate_Number\": 22}, \"gate_36\": {\"Gate_Type\": \"\", \"Angle_3\": -1, \"Control\": -1, \"Angle_2\": -1, \"Gate_Number\": -1, \"Target\": -1, \"Angle_1\": -1}, \"gate_04\": {\"Gate_Type\": \"CnotGate\", \"Angle_3\": -1, \"Control\": 3, \"Angle_1\": -1, \"Target\": 2, \"Angle_2\": -1, \"Gate_Number\": 4}},\n",
        "{\"statevector\": {\"state_11111\": 0, \"state_10111\": 0, \"state_11011\": 0, \"state_11100\": 0, \"state_01001\": 0, \"state_01100\": 0, \"state_00000\": 1024, \"state_00100\": 0, \"state_01000\": 0, \"state_11110\": 0, \"state_11000\": 0, \"state_00001\": 0, \"state_00111\": 0, \"state_00010\": 0, \"state_11010\": 0, \"state_10000\": 0, \"state_10110\": 0, \"state_10010\": 0, \"state_00101\": 0, \"state_10100\": 0, \"state_01111\": 0, \"state_11001\": 0, \"state_10001\": 0, \"state_00011\": 0, \"state_10101\": 0, \"state_01010\": 0, \"state_11101\": 0, \"state_10011\": 0, \"state_01110\": 0, \"state_01101\": 0, \"state_00110\": 0, \"state_01011\": 0}, \"gate_11\": {\"Gate_Type\": \"CnotGate\", \"Angle_3\": -1, \"Control\": 2, \"Angle_1\": -1, \"Target\": 4, \"Angle_2\": -1, \"Gate_Number\": 11}, \"gate_30\": {\"Gate_Type\": \"U3Gate\", \"Angle_3\": 1.9505773075083912, \"Control\": 4, \"Angle_1\": 0.0, \"Target\": -1, \"Angle_2\": 0.0, \"Gate_Number\": 30}, \"gate_28\": {\"Gate_Type\": \"CnotGate\", \"Angle_3\": -1, \"Control\": 2, \"Angle_1\": -1, \"Target\": 1, \"Angle_2\": -1, \"Gate_Number\": 28}, \"gate_08\": {\"Gate_Type\": \"U3Gate\", \"Angle_3\": -0.34754072386077195, \"Control\": 4, \"Angle_1\": 0.0, \"Target\": -1, \"Angle_2\": 0.0, \"Gate_Number\": 8}, \"gate_12\": {\"Gate_Type\": \"U3Gate\", \"Angle_3\": 0.0, \"Control\": 4, \"Angle_1\": 0.711135270090666, \"Target\": -1, \"Angle_2\": 1.3320896117497358, \"Gate_Number\": 12}, \"gate_20\": {\"Gate_Type\": \"U3Gate\", \"Angle_3\": 1.0, \"Control\": 4, \"Angle_1\": 0.5, \"Target\": -1, \"Angle_2\": 0.0, \"Gate_Number\": 20}, \"gate_15\": {\"Gate_Type\": \"U3Gate\", \"Angle_3\": 0.25, \"Control\": 4, \"Angle_1\": 0.0, \"Target\": -1, \"Angle_2\": 0.0, \"Gate_Number\": 15}, \"gate_32\": {\"Gate_Type\": \"Measure\", \"Angle_3\": -1, \"Control\": 0, \"Angle_1\": -1, \"Target\": -1, \"Angle_2\": -1, \"Gate_Number\": 32}, \"gate_23\": {\"Gate_Type\": \"CnotGate\", \"Angle_3\": -1, \"Control\": 1, \"Angle_1\": -1, \"Target\": 4, \"Angle_2\": -1, \"Gate_Number\": 23}, \"gate_02\": {\"Gate_Type\": \"U3Gate\", \"Angle_3\": 0.5, \"Control\": 0, \"Angle_1\": 0.0, \"Target\": -1, \"Angle_2\": 0.0, \"Gate_Number\": 2}, \"gate_37\": {\"Gate_Type\": \"\", \"Angle_3\": -1, \"Control\": -1, \"Angle_2\": -1, \"Gate_Number\": -1, \"Target\": -1, \"Angle_1\": -1}, \"gate_31\": {\"Gate_Type\": \"CnotGate\", \"Angle_3\": -1, \"Control\": 0, \"Angle_1\": -1, \"Target\": 4, \"Angle_2\": -1, \"Gate_Number\": 31}, \"gate_10\": {\"Gate_Type\": \"U3Gate\", \"Angle_3\": -0.984548887888964, \"Control\": 4, \"Angle_1\": -0.711135270090666, \"Target\": -1, \"Angle_2\": 0.0, \"Gate_Number\": 10}, \"gate_17\": {\"Gate_Type\": \"CnotGate\", \"Angle_3\": -1, \"Control\": 2, \"Angle_1\": -1, \"Target\": 3, \"Angle_2\": -1, \"Gate_Number\": 17}, \"gate_01\": {\"Gate_Type\": \"U3Gate\", \"Angle_3\": 1.4475353431734401, \"Control\": 0, \"Angle_1\": 0.0, \"Target\": -1, \"Angle_2\": 0.0, \"Gate_Number\": 1}, \"gate_39\": {\"Gate_Type\": \"\", \"Angle_3\": -1, \"Control\": -1, \"Angle_2\": -1, \"Gate_Number\": -1, \"Target\": -1, \"Angle_1\": -1}, \"gate_00\": {\"Gate_Type\": \"U3Gate\", \"Angle_3\": 0.25, \"Control\": 0, \"Angle_1\": 0.0, \"Target\": -1, \"Angle_2\": 0.0, \"Gate_Number\": 0}, \"gate_40\": {\"Gate_Type\": \"\", \"Angle_3\": -1, \"Control\": -1, \"Angle_2\": -1, \"Gate_Number\": -1, \"Target\": -1, \"Angle_1\": -1}, \"gate_05\": {\"Gate_Type\": \"U3Gate\", \"Angle_3\": 1.0, \"Control\": 3, \"Angle_1\": 0.5, \"Target\": -1, \"Angle_2\": 0.0, \"Gate_Number\": 5}, \"gate_16\": {\"Gate_Type\": \"CnotGate\", \"Angle_3\": -1, \"Control\": 2, \"Angle_1\": -1, \"Target\": 4, \"Angle_2\": -1, \"Gate_Number\": 16}, \"gate_18\": {\"Gate_Type\": \"U3Gate\", \"Angle_3\": -0.25, \"Control\": 3, \"Angle_1\": 0.0, \"Target\": -1, \"Angle_2\": 0.0, \"Gate_Number\": 18}, \"gate_27\": {\"Gate_Type\": \"CnotGate\", \"Angle_3\": -1, \"Control\": 1, \"Angle_1\": -1, \"Target\": 2, \"Angle_2\": -1, \"Gate_Number\": 27}, \"gate_25\": {\"Gate_Type\": \"CnotGate\", \"Angle_3\": -1, \"Control\": 1, \"Angle_1\": -1, \"Target\": 4, \"Angle_2\": -1, \"Gate_Number\": 25}, \"gate_34\": {\"Gate_Type\": \"Measure\", \"Angle_3\": -1, \"Control\": 2, \"Angle_1\": -1, \"Target\": -1, \"Angle_2\": -1, \"Gate_Number\": 34}, \"gate_35\": {\"Gate_Type\": \"Measure\", \"Angle_3\": -1, \"Control\": 3, \"Angle_1\": -1, \"Target\": -1, \"Angle_2\": -1, \"Gate_Number\": 35}, \"gate_06\": {\"Gate_Type\": \"CnotGate\", \"Angle_3\": -1, \"Control\": 1, \"Angle_1\": -1, \"Target\": 3, \"Angle_2\": -1, \"Gate_Number\": 6}, \"gate_29\": {\"Gate_Type\": \"CnotGate\", \"Angle_3\": -1, \"Control\": 1, \"Angle_1\": -1, \"Target\": 2, \"Angle_2\": -1, \"Gate_Number\": 29}, \"gate_38\": {\"Gate_Type\": \"\", \"Angle_3\": -1, \"Control\": -1, \"Angle_2\": -1, \"Gate_Number\": -1, \"Target\": -1, \"Angle_1\": -1}, \"gate_19\": {\"Gate_Type\": \"U3Gate\", \"Angle_3\": -0.25, \"Control\": 4, \"Angle_1\": 0.0, \"Target\": -1, \"Angle_2\": 0.0, \"Gate_Number\": 19}, \"QASM_File_Name\": \"3125_random_5_qubit_circuits/circuit_564.qasm\", \"gate_33\": {\"Gate_Type\": \"Measure\", \"Angle_3\": -1, \"Control\": 1, \"Angle_1\": -1, \"Target\": -1, \"Angle_2\": -1, \"Gate_Number\": 33}, \"gate_09\": {\"Gate_Type\": \"CnotGate\", \"Angle_3\": -1, \"Control\": 2, \"Angle_1\": -1, \"Target\": 4, \"Angle_2\": -1, \"Gate_Number\": 9}, \"gate_24\": {\"Gate_Type\": \"U3Gate\", \"Angle_3\": -0.5314909712084498, \"Control\": 4, \"Angle_1\": 0.0, \"Target\": -1, \"Angle_2\": 0.0, \"Gate_Number\": 24}, \"gate_13\": {\"Gate_Type\": \"U3Gate\", \"Angle_3\": 0.5, \"Control\": 4, \"Angle_1\": 0.0, \"Target\": -1, \"Angle_2\": 0.0, \"Gate_Number\": 13}, \"gate_14\": {\"Gate_Type\": \"U3Gate\", \"Angle_3\": 1.0, \"Control\": 4, \"Angle_1\": 0.5, \"Target\": -1, \"Angle_2\": 0.0, \"Gate_Number\": 14}, \"gate_26\": {\"Gate_Type\": \"CnotGate\", \"Angle_3\": -1, \"Control\": 0, \"Angle_1\": -1, \"Target\": 4, \"Angle_2\": -1, \"Gate_Number\": 26}, \"gate_07\": {\"Gate_Type\": \"U3Gate\", \"Angle_3\": 1.0, \"Control\": 3, \"Angle_1\": 0.5, \"Target\": -1, \"Angle_2\": 0.0, \"Gate_Number\": 7}, \"gate_03\": {\"Gate_Type\": \"U3Gate\", \"Angle_3\": 0.984548887888964, \"Control\": 2, \"Angle_1\": 0.0, \"Target\": -1, \"Angle_2\": 0.0, \"Gate_Number\": 3}, \"gate_21\": {\"Gate_Type\": \"U3Gate\", \"Angle_3\": -0.5, \"Control\": 4, \"Angle_1\": 0.0, \"Target\": -1, \"Angle_2\": 0.0, \"Gate_Number\": 21}, \"gate_22\": {\"Gate_Type\": \"U3Gate\", \"Angle_3\": 0.5314909712084498, \"Control\": 4, \"Angle_1\": 0.0, \"Target\": -1, \"Angle_2\": 0.0, \"Gate_Number\": 22}, \"gate_36\": {\"Gate_Type\": \"Measure\", \"Angle_3\": -1, \"Control\": 4, \"Angle_1\": -1, \"Target\": -1, \"Angle_2\": -1, \"Gate_Number\": 36}, \"gate_04\": {\"Gate_Type\": \"CnotGate\", \"Angle_3\": -1, \"Control\": 3, \"Angle_1\": -1, \"Target\": 1, \"Angle_2\": -1, \"Gate_Number\": 4}},\n",
        "{\"statevector\": {\"state_11111\": 0, \"state_10111\": 0, \"state_11011\": 0, \"state_11100\": 0, \"state_01001\": 0, \"state_01100\": 0, \"state_00000\": 690, \"state_00100\": 0, \"state_01000\": 334, \"state_11110\": 0, \"state_11000\": 0, \"state_00001\": 0, \"state_00111\": 0, \"state_00010\": 0, \"state_11010\": 0, \"state_10000\": 0, \"state_10110\": 0, \"state_10010\": 0, \"state_00101\": 0, \"state_10100\": 0, \"state_01111\": 0, \"state_11001\": 0, \"state_10001\": 0, \"state_00011\": 0, \"state_10101\": 0, \"state_01010\": 0, \"state_11101\": 0, \"state_10011\": 0, \"state_01110\": 0, \"state_01101\": 0, \"state_00110\": 0, \"state_01011\": 0}, \"gate_11\": {\"Gate_Type\": \"Measure\", \"Angle_3\": -1, \"Control\": 0, \"Angle_1\": -1, \"Target\": -1, \"Angle_2\": -1, \"Gate_Number\": 11}, \"gate_30\": {\"Gate_Type\": \"\", \"Angle_3\": -1, \"Control\": -1, \"Angle_2\": -1, \"Gate_Number\": -1, \"Target\": -1, \"Angle_1\": -1}, \"gate_28\": {\"Gate_Type\": \"\", \"Angle_3\": -1, \"Control\": -1, \"Angle_2\": -1, \"Gate_Number\": -1, \"Target\": -1, \"Angle_1\": -1}, \"gate_08\": {\"Gate_Type\": \"U3Gate\", \"Angle_3\": -0.12160002696855625, \"Control\": 2, \"Angle_1\": 0.0, \"Target\": -1, \"Angle_2\": 0.0, \"Gate_Number\": 8}, \"gate_12\": {\"Gate_Type\": \"Measure\", \"Angle_3\": -1, \"Control\": 1, \"Angle_1\": -1, \"Target\": -1, \"Angle_2\": -1, \"Gate_Number\": 12}, \"gate_20\": {\"Gate_Type\": \"\", \"Angle_3\": -1, \"Control\": -1, \"Angle_2\": -1, \"Gate_Number\": -1, \"Target\": -1, \"Angle_1\": -1}, \"gate_15\": {\"Gate_Type\": \"Measure\", \"Angle_3\": -1, \"Control\": 4, \"Angle_1\": -1, \"Target\": -1, \"Angle_2\": -1, \"Gate_Number\": 15}, \"gate_32\": {\"Gate_Type\": \"\", \"Angle_3\": -1, \"Control\": -1, \"Angle_2\": -1, \"Gate_Number\": -1, \"Target\": -1, \"Angle_1\": -1}, \"gate_23\": {\"Gate_Type\": \"\", \"Angle_3\": -1, \"Control\": -1, \"Angle_2\": -1, \"Gate_Number\": -1, \"Target\": -1, \"Angle_1\": -1}, \"gate_02\": {\"Gate_Type\": \"U3Gate\", \"Angle_3\": -0.45279895310823803, \"Control\": 1, \"Angle_1\": 0.0, \"Target\": -1, \"Angle_2\": 0.0, \"Gate_Number\": 2}, \"gate_37\": {\"Gate_Type\": \"\", \"Angle_3\": -1, \"Control\": -1, \"Angle_2\": -1, \"Gate_Number\": -1, \"Target\": -1, \"Angle_1\": -1}, \"gate_31\": {\"Gate_Type\": \"\", \"Angle_3\": -1, \"Control\": -1, \"Angle_2\": -1, \"Gate_Number\": -1, \"Target\": -1, \"Angle_1\": -1}, \"gate_10\": {\"Gate_Type\": \"U3Gate\", \"Angle_3\": 0.12160002696855625, \"Control\": 2, \"Angle_1\": 0.0, \"Target\": -1, \"Angle_2\": 0.0, \"Gate_Number\": 10}, \"gate_17\": {\"Gate_Type\": \"\", \"Angle_3\": -1, \"Control\": -1, \"Angle_2\": -1, \"Gate_Number\": -1, \"Target\": -1, \"Angle_1\": -1}, \"gate_01\": {\"Gate_Type\": \"CnotGate\", \"Angle_3\": -1, \"Control\": 0, \"Angle_1\": -1, \"Target\": 1, \"Angle_2\": -1, \"Gate_Number\": 1}, \"gate_39\": {\"Gate_Type\": \"\", \"Angle_3\": -1, \"Control\": -1, \"Angle_2\": -1, \"Gate_Number\": -1, \"Target\": -1, \"Angle_1\": -1}, \"gate_00\": {\"Gate_Type\": \"U3Gate\", \"Angle_3\": 0.45279895310823803, \"Control\": 0, \"Angle_1\": 0.0, \"Target\": -1, \"Angle_2\": 0.0, \"Gate_Number\": 0}, \"gate_40\": {\"Gate_Type\": \"\", \"Angle_3\": -1, \"Control\": -1, \"Angle_2\": -1, \"Gate_Number\": -1, \"Target\": -1, \"Angle_1\": -1}, \"gate_05\": {\"Gate_Type\": \"U3Gate\", \"Angle_3\": 0.0, \"Control\": 3, \"Angle_1\": 1.6104523376393305, \"Target\": -1, \"Angle_2\": 0.0, \"Gate_Number\": 5}, \"gate_16\": {\"Gate_Type\": \"\", \"Angle_3\": -1, \"Control\": -1, \"Angle_2\": -1, \"Gate_Number\": -1, \"Target\": -1, \"Angle_1\": -1}, \"gate_18\": {\"Gate_Type\": \"\", \"Angle_3\": -1, \"Control\": -1, \"Angle_2\": -1, \"Gate_Number\": -1, \"Target\": -1, \"Angle_1\": -1}, \"gate_27\": {\"Gate_Type\": \"\", \"Angle_3\": -1, \"Control\": -1, \"Angle_2\": -1, \"Gate_Number\": -1, \"Target\": -1, \"Angle_1\": -1}, \"gate_25\": {\"Gate_Type\": \"\", \"Angle_3\": -1, \"Control\": -1, \"Angle_2\": -1, \"Gate_Number\": -1, \"Target\": -1, \"Angle_1\": -1}, \"gate_34\": {\"Gate_Type\": \"\", \"Angle_3\": -1, \"Control\": -1, \"Angle_2\": -1, \"Gate_Number\": -1, \"Target\": -1, \"Angle_1\": -1}, \"gate_35\": {\"Gate_Type\": \"\", \"Angle_3\": -1, \"Control\": -1, \"Angle_2\": -1, \"Gate_Number\": -1, \"Target\": -1, \"Angle_1\": -1}, \"gate_06\": {\"Gate_Type\": \"U3Gate\", \"Angle_3\": 0.12160002696855625, \"Control\": 4, \"Angle_1\": 0.0, \"Target\": -1, \"Angle_2\": 0.0, \"Gate_Number\": 6}, \"gate_29\": {\"Gate_Type\": \"\", \"Angle_3\": -1, \"Control\": -1, \"Angle_2\": -1, \"Gate_Number\": -1, \"Target\": -1, \"Angle_1\": -1}, \"gate_38\": {\"Gate_Type\": \"\", \"Angle_3\": -1, \"Control\": -1, \"Angle_2\": -1, \"Gate_Number\": -1, \"Target\": -1, \"Angle_1\": -1}, \"gate_19\": {\"Gate_Type\": \"\", \"Angle_3\": -1, \"Control\": -1, \"Angle_2\": -1, \"Gate_Number\": -1, \"Target\": -1, \"Angle_1\": -1}, \"QASM_File_Name\": \"3125_random_5_qubit_circuits/circuit_1224.qasm\", \"gate_33\": {\"Gate_Type\": \"\", \"Angle_3\": -1, \"Control\": -1, \"Angle_2\": -1, \"Gate_Number\": -1, \"Target\": -1, \"Angle_1\": -1}, \"gate_09\": {\"Gate_Type\": \"CnotGate\", \"Angle_3\": -1, \"Control\": 4, \"Angle_1\": -1, \"Target\": 2, \"Angle_2\": -1, \"Gate_Number\": 9}, \"gate_24\": {\"Gate_Type\": \"\", \"Angle_3\": -1, \"Control\": -1, \"Angle_2\": -1, \"Gate_Number\": -1, \"Target\": -1, \"Angle_1\": -1}, \"gate_13\": {\"Gate_Type\": \"Measure\", \"Angle_3\": -1, \"Control\": 2, \"Angle_1\": -1, \"Target\": -1, \"Angle_2\": -1, \"Gate_Number\": 13}, \"gate_14\": {\"Gate_Type\": \"Measure\", \"Angle_3\": -1, \"Control\": 3, \"Angle_1\": -1, \"Target\": -1, \"Angle_2\": -1, \"Gate_Number\": 14}, \"gate_26\": {\"Gate_Type\": \"\", \"Angle_3\": -1, \"Control\": -1, \"Angle_2\": -1, \"Gate_Number\": -1, \"Target\": -1, \"Angle_1\": -1}, \"gate_07\": {\"Gate_Type\": \"CnotGate\", \"Angle_3\": -1, \"Control\": 4, \"Angle_1\": -1, \"Target\": 2, \"Angle_2\": -1, \"Gate_Number\": 7}, \"gate_03\": {\"Gate_Type\": \"CnotGate\", \"Angle_3\": -1, \"Control\": 0, \"Angle_1\": -1, \"Target\": 1, \"Angle_2\": -1, \"Gate_Number\": 3}, \"gate_21\": {\"Gate_Type\": \"\", \"Angle_3\": -1, \"Control\": -1, \"Angle_2\": -1, \"Gate_Number\": -1, \"Target\": -1, \"Angle_1\": -1}, \"gate_22\": {\"Gate_Type\": \"\", \"Angle_3\": -1, \"Control\": -1, \"Angle_2\": -1, \"Gate_Number\": -1, \"Target\": -1, \"Angle_1\": -1}, \"gate_36\": {\"Gate_Type\": \"\", \"Angle_3\": -1, \"Control\": -1, \"Angle_2\": -1, \"Gate_Number\": -1, \"Target\": -1, \"Angle_1\": -1}, \"gate_04\": {\"Gate_Type\": \"U3Gate\", \"Angle_3\": 0.45279895310823803, \"Control\": 1, \"Angle_1\": 0.0, \"Target\": -1, \"Angle_2\": 0.0, \"Gate_Number\": 4}},\n",
        "{\"statevector\": {\"state_11111\": 0, \"state_10111\": 0, \"state_11011\": 0, \"state_11100\": 0, \"state_01001\": 0, \"state_01100\": 0, \"state_00000\": 1024, \"state_00100\": 0, \"state_01000\": 0, \"state_11110\": 0, \"state_11000\": 0, \"state_00001\": 0, \"state_00111\": 0, \"state_00010\": 0, \"state_11010\": 0, \"state_10000\": 0, \"state_10110\": 0, \"state_10010\": 0, \"state_00101\": 0, \"state_10100\": 0, \"state_01111\": 0, \"state_11001\": 0, \"state_10001\": 0, \"state_00011\": 0, \"state_10101\": 0, \"state_01010\": 0, \"state_11101\": 0, \"state_10011\": 0, \"state_01110\": 0, \"state_01101\": 0, \"state_00110\": 0, \"state_01011\": 0}, \"gate_11\": {\"Gate_Type\": \"CnotGate\", \"Angle_3\": -1, \"Control\": 0, \"Angle_1\": -1, \"Target\": 2, \"Angle_2\": -1, \"Gate_Number\": 11}, \"gate_30\": {\"Gate_Type\": \"\", \"Angle_3\": -1, \"Control\": -1, \"Angle_2\": -1, \"Gate_Number\": -1, \"Target\": -1, \"Angle_1\": -1}, \"gate_28\": {\"Gate_Type\": \"Measure\", \"Angle_3\": -1, \"Control\": 4, \"Angle_1\": -1, \"Target\": -1, \"Angle_2\": -1, \"Gate_Number\": 28}, \"gate_08\": {\"Gate_Type\": \"U3Gate\", \"Angle_3\": 0.4584936681031713, \"Control\": 2, \"Angle_1\": 0.0, \"Target\": -1, \"Angle_2\": 0.0, \"Gate_Number\": 8}, \"gate_12\": {\"Gate_Type\": \"U3Gate\", \"Angle_3\": 0.0, \"Control\": 2, \"Angle_1\": 0.17337766460881043, \"Target\": -1, \"Angle_2\": 0.20097867929171565, \"Gate_Number\": 12}, \"gate_20\": {\"Gate_Type\": \"U3Gate\", \"Angle_3\": -0.25, \"Control\": 3, \"Angle_1\": 0.0, \"Target\": -1, \"Angle_2\": 0.0, \"Gate_Number\": 20}, \"gate_15\": {\"Gate_Type\": \"U3Gate\", \"Angle_3\": 0.5, \"Control\": 3, \"Angle_1\": 0.0, \"Target\": -1, \"Angle_2\": 0.0, \"Gate_Number\": 15}, \"gate_32\": {\"Gate_Type\": \"\", \"Angle_3\": -1, \"Control\": -1, \"Angle_2\": -1, \"Gate_Number\": -1, \"Target\": -1, \"Angle_1\": -1}, \"gate_23\": {\"Gate_Type\": \"U3Gate\", \"Angle_3\": 0.25, \"Control\": 4, \"Angle_1\": 0.0, \"Target\": -1, \"Angle_2\": 0.0, \"Gate_Number\": 23}, \"gate_02\": {\"Gate_Type\": \"CnotGate\", \"Angle_3\": -1, \"Control\": 0, \"Angle_1\": -1, \"Target\": 1, \"Angle_2\": -1, \"Gate_Number\": 2}, \"gate_37\": {\"Gate_Type\": \"\", \"Angle_3\": -1, \"Control\": -1, \"Angle_2\": -1, \"Gate_Number\": -1, \"Target\": -1, \"Angle_1\": -1}, \"gate_31\": {\"Gate_Type\": \"\", \"Angle_3\": -1, \"Control\": -1, \"Angle_2\": -1, \"Gate_Number\": -1, \"Target\": -1, \"Angle_1\": -1}, \"gate_10\": {\"Gate_Type\": \"U3Gate\", \"Angle_3\": -0.6594723473948892, \"Control\": 2, \"Angle_1\": -0.17337766460881043, \"Target\": -1, \"Angle_2\": 0.0, \"Gate_Number\": 10}, \"gate_17\": {\"Gate_Type\": \"U3Gate\", \"Angle_3\": 1.0, \"Control\": 3, \"Angle_1\": 0.5, \"Target\": -1, \"Angle_2\": 0.0, \"Gate_Number\": 17}, \"gate_01\": {\"Gate_Type\": \"U3Gate\", \"Angle_3\": 0.4541884394143358, \"Control\": 1, \"Angle_1\": 0.0, \"Target\": -1, \"Angle_2\": 0.0, \"Gate_Number\": 1}, \"gate_39\": {\"Gate_Type\": \"\", \"Angle_3\": -1, \"Control\": -1, \"Angle_2\": -1, \"Gate_Number\": -1, \"Target\": -1, \"Angle_1\": -1}, \"gate_00\": {\"Gate_Type\": \"U3Gate\", \"Angle_3\": 0.9025876956920168, \"Control\": 0, \"Angle_1\": 0.0, \"Target\": -1, \"Angle_2\": 0.0, \"Gate_Number\": 0}, \"gate_40\": {\"Gate_Type\": \"\", \"Angle_3\": -1, \"Control\": -1, \"Angle_2\": -1, \"Gate_Number\": -1, \"Target\": -1, \"Angle_1\": -1}, \"gate_05\": {\"Gate_Type\": \"U3Gate\", \"Angle_3\": 0.6594723473948892, \"Control\": 0, \"Angle_1\": 0.0, \"Target\": -1, \"Angle_2\": 0.0, \"Gate_Number\": 5}, \"gate_16\": {\"Gate_Type\": \"U3Gate\", \"Angle_3\": 0.5, \"Control\": 3, \"Angle_1\": 0.0, \"Target\": -1, \"Angle_2\": 0.0, \"Gate_Number\": 16}, \"gate_18\": {\"Gate_Type\": \"U3Gate\", \"Angle_3\": 0.25, \"Control\": 3, \"Angle_1\": 0.0, \"Target\": -1, \"Angle_2\": 0.0, \"Gate_Number\": 18}, \"gate_27\": {\"Gate_Type\": \"Measure\", \"Angle_3\": -1, \"Control\": 3, \"Angle_1\": -1, \"Target\": -1, \"Angle_2\": -1, \"Gate_Number\": 27}, \"gate_25\": {\"Gate_Type\": \"Measure\", \"Angle_3\": -1, \"Control\": 1, \"Angle_1\": -1, \"Target\": -1, \"Angle_2\": -1, \"Gate_Number\": 25}, \"gate_34\": {\"Gate_Type\": \"\", \"Angle_3\": -1, \"Control\": -1, \"Angle_2\": -1, \"Gate_Number\": -1, \"Target\": -1, \"Angle_1\": -1}, \"gate_35\": {\"Gate_Type\": \"\", \"Angle_3\": -1, \"Control\": -1, \"Angle_2\": -1, \"Gate_Number\": -1, \"Target\": -1, \"Angle_1\": -1}, \"gate_06\": {\"Gate_Type\": \"U3Gate\", \"Angle_3\": 0.0, \"Control\": 1, \"Angle_1\": 0.5499541573692338, \"Target\": -1, \"Angle_2\": 0.44839925627767796, \"Gate_Number\": 6}, \"gate_29\": {\"Gate_Type\": \"\", \"Angle_3\": -1, \"Control\": -1, \"Angle_2\": -1, \"Gate_Number\": -1, \"Target\": -1, \"Angle_1\": -1}, \"gate_38\": {\"Gate_Type\": \"\", \"Angle_3\": -1, \"Control\": -1, \"Angle_2\": -1, \"Gate_Number\": -1, \"Target\": -1, \"Angle_1\": -1}, \"gate_19\": {\"Gate_Type\": \"CnotGate\", \"Angle_3\": -1, \"Control\": 1, \"Angle_1\": -1, \"Target\": 3, \"Angle_2\": -1, \"Gate_Number\": 19}, \"QASM_File_Name\": \"3125_random_5_qubit_circuits/circuit_450.qasm\", \"gate_33\": {\"Gate_Type\": \"\", \"Angle_3\": -1, \"Control\": -1, \"Angle_2\": -1, \"Gate_Number\": -1, \"Target\": -1, \"Angle_1\": -1}, \"gate_09\": {\"Gate_Type\": \"CnotGate\", \"Angle_3\": -1, \"Control\": 0, \"Angle_1\": -1, \"Target\": 2, \"Angle_2\": -1, \"Gate_Number\": 9}, \"gate_24\": {\"Gate_Type\": \"Measure\", \"Angle_3\": -1, \"Control\": 0, \"Angle_1\": -1, \"Target\": -1, \"Angle_2\": -1, \"Gate_Number\": 24}, \"gate_13\": {\"Gate_Type\": \"U3Gate\", \"Angle_3\": -0.5, \"Control\": 3, \"Angle_1\": 0.0, \"Target\": -1, \"Angle_2\": 0.0, \"Gate_Number\": 13}, \"gate_14\": {\"Gate_Type\": \"CnotGate\", \"Angle_3\": -1, \"Control\": 4, \"Angle_1\": -1, \"Target\": 3, \"Angle_2\": -1, \"Gate_Number\": 14}, \"gate_26\": {\"Gate_Type\": \"Measure\", \"Angle_3\": -1, \"Control\": 2, \"Angle_1\": -1, \"Target\": -1, \"Angle_2\": -1, \"Gate_Number\": 26}, \"gate_07\": {\"Gate_Type\": \"U3Gate\", \"Angle_3\": 1.8972592162875261, \"Control\": 2, \"Angle_1\": 0.0, \"Target\": -1, \"Angle_2\": 0.0, \"Gate_Number\": 7}, \"gate_03\": {\"Gate_Type\": \"U3Gate\", \"Angle_3\": -0.9025876956920168, \"Control\": 1, \"Angle_1\": -0.5499541573692338, \"Target\": -1, \"Angle_2\": 0.0, \"Gate_Number\": 3}, \"gate_21\": {\"Gate_Type\": \"U3Gate\", \"Angle_3\": 1.0, \"Control\": 3, \"Angle_1\": 0.5, \"Target\": -1, \"Angle_2\": 0.0, \"Gate_Number\": 21}, \"gate_22\": {\"Gate_Type\": \"U3Gate\", \"Angle_3\": -0.5, \"Control\": 3, \"Angle_1\": 0.0, \"Target\": -1, \"Angle_2\": 0.0, \"Gate_Number\": 22}, \"gate_36\": {\"Gate_Type\": \"\", \"Angle_3\": -1, \"Control\": -1, \"Angle_2\": -1, \"Gate_Number\": -1, \"Target\": -1, \"Angle_1\": -1}, \"gate_04\": {\"Gate_Type\": \"CnotGate\", \"Angle_3\": -1, \"Control\": 0, \"Angle_1\": -1, \"Target\": 1, \"Angle_2\": -1, \"Gate_Number\": 4}},\n",
        "{\"statevector\": {\"state_11111\": 0, \"state_10111\": 0, \"state_11011\": 0, \"state_11100\": 0, \"state_01001\": 0, \"state_01100\": 0, \"state_00000\": 0, \"state_00100\": 0, \"state_01000\": 1024, \"state_11110\": 0, \"state_11000\": 0, \"state_00001\": 0, \"state_00111\": 0, \"state_00010\": 0, \"state_11010\": 0, \"state_10000\": 0, \"state_10110\": 0, \"state_10010\": 0, \"state_00101\": 0, \"state_10100\": 0, \"state_01111\": 0, \"state_11001\": 0, \"state_10001\": 0, \"state_00011\": 0, \"state_10101\": 0, \"state_01010\": 0, \"state_11101\": 0, \"state_10011\": 0, \"state_01110\": 0, \"state_01101\": 0, \"state_00110\": 0, \"state_01011\": 0}, \"gate_11\": {\"Gate_Type\": \"CnotGate\", \"Angle_3\": -1, \"Control\": 1, \"Angle_1\": -1, \"Target\": 0, \"Angle_2\": -1, \"Gate_Number\": 11}, \"gate_30\": {\"Gate_Type\": \"Measure\", \"Angle_3\": -1, \"Control\": 4, \"Angle_1\": -1, \"Target\": -1, \"Angle_2\": -1, \"Gate_Number\": 30}, \"gate_28\": {\"Gate_Type\": \"Measure\", \"Angle_3\": -1, \"Control\": 2, \"Angle_1\": -1, \"Target\": -1, \"Angle_2\": -1, \"Gate_Number\": 28}, \"gate_08\": {\"Gate_Type\": \"U3Gate\", \"Angle_3\": 0.25, \"Control\": 3, \"Angle_1\": 0.0, \"Target\": -1, \"Angle_2\": 0.0, \"Gate_Number\": 8}, \"gate_12\": {\"Gate_Type\": \"CnotGate\", \"Angle_3\": -1, \"Control\": 0, \"Angle_1\": -1, \"Target\": 1, \"Angle_2\": -1, \"Gate_Number\": 12}, \"gate_20\": {\"Gate_Type\": \"U3Gate\", \"Angle_3\": 1.0, \"Control\": 4, \"Angle_1\": 0.5, \"Target\": -1, \"Angle_2\": 0.0, \"Gate_Number\": 20}, \"gate_15\": {\"Gate_Type\": \"U3Gate\", \"Angle_3\": 1.0, \"Control\": 4, \"Angle_1\": 0.5, \"Target\": -1, \"Angle_2\": 0.0, \"Gate_Number\": 15}, \"gate_32\": {\"Gate_Type\": \"\", \"Angle_3\": -1, \"Control\": -1, \"Angle_2\": -1, \"Gate_Number\": -1, \"Target\": -1, \"Angle_1\": -1}, \"gate_23\": {\"Gate_Type\": \"U3Gate\", \"Angle_3\": -0.25, \"Control\": 3, \"Angle_1\": 0.0, \"Target\": -1, \"Angle_2\": 0.0, \"Gate_Number\": 23}, \"gate_02\": {\"Gate_Type\": \"U3Gate\", \"Angle_3\": -0.5, \"Control\": 3, \"Angle_1\": 0.0, \"Target\": -1, \"Angle_2\": 0.0, \"Gate_Number\": 2}, \"gate_37\": {\"Gate_Type\": \"\", \"Angle_3\": -1, \"Control\": -1, \"Angle_2\": -1, \"Gate_Number\": -1, \"Target\": -1, \"Angle_1\": -1}, \"gate_31\": {\"Gate_Type\": \"\", \"Angle_3\": -1, \"Control\": -1, \"Angle_2\": -1, \"Gate_Number\": -1, \"Target\": -1, \"Angle_1\": -1}, \"gate_10\": {\"Gate_Type\": \"U3Gate\", \"Angle_3\": 1.0183191453400793, \"Control\": 0, \"Angle_1\": 0.0, \"Target\": -1, \"Angle_2\": 0.0, \"Gate_Number\": 10}, \"gate_17\": {\"Gate_Type\": \"CnotGate\", \"Angle_3\": -1, \"Control\": 2, \"Angle_1\": -1, \"Target\": 4, \"Angle_2\": -1, \"Gate_Number\": 17}, \"gate_01\": {\"Gate_Type\": \"U3Gate\", \"Angle_3\": 1.3072700714031118, \"Control\": 1, \"Angle_1\": 0.0, \"Target\": -1, \"Angle_2\": 0.0, \"Gate_Number\": 1}, \"gate_39\": {\"Gate_Type\": \"\", \"Angle_3\": -1, \"Control\": -1, \"Angle_2\": -1, \"Gate_Number\": -1, \"Target\": -1, \"Angle_1\": -1}, \"gate_00\": {\"Gate_Type\": \"U3Gate\", \"Angle_3\": 0.5, \"Control\": 1, \"Angle_1\": 0.0, \"Target\": -1, \"Angle_2\": 0.0, \"Gate_Number\": 0}, \"gate_40\": {\"Gate_Type\": \"\", \"Angle_3\": -1, \"Control\": -1, \"Angle_2\": -1, \"Gate_Number\": -1, \"Target\": -1, \"Angle_1\": -1}, \"gate_05\": {\"Gate_Type\": \"U3Gate\", \"Angle_3\": 0.5, \"Control\": 3, \"Angle_1\": 1.0, \"Target\": -1, \"Angle_2\": 0.5, \"Gate_Number\": 5}, \"gate_16\": {\"Gate_Type\": \"U3Gate\", \"Angle_3\": 0.25, \"Control\": 4, \"Angle_1\": 0.0, \"Target\": -1, \"Angle_2\": 0.0, \"Gate_Number\": 16}, \"gate_18\": {\"Gate_Type\": \"U3Gate\", \"Angle_3\": 0.25, \"Control\": 2, \"Angle_1\": 0.0, \"Target\": -1, \"Angle_2\": 0.0, \"Gate_Number\": 18}, \"gate_27\": {\"Gate_Type\": \"Measure\", \"Angle_3\": -1, \"Control\": 1, \"Angle_1\": -1, \"Target\": -1, \"Angle_2\": -1, \"Gate_Number\": 27}, \"gate_25\": {\"Gate_Type\": \"U3Gate\", \"Angle_3\": -0.5, \"Control\": 3, \"Angle_1\": 0.0, \"Target\": -1, \"Angle_2\": 0.0, \"Gate_Number\": 25}, \"gate_34\": {\"Gate_Type\": \"\", \"Angle_3\": -1, \"Control\": -1, \"Angle_2\": -1, \"Gate_Number\": -1, \"Target\": -1, \"Angle_1\": -1}, \"gate_35\": {\"Gate_Type\": \"\", \"Angle_3\": -1, \"Control\": -1, \"Angle_2\": -1, \"Gate_Number\": -1, \"Target\": -1, \"Angle_1\": -1}, \"gate_06\": {\"Gate_Type\": \"U3Gate\", \"Angle_3\": 0.5, \"Control\": 3, \"Angle_1\": 0.0, \"Target\": -1, \"Angle_2\": 0.0, \"Gate_Number\": 6}, \"gate_29\": {\"Gate_Type\": \"Measure\", \"Angle_3\": -1, \"Control\": 3, \"Angle_1\": -1, \"Target\": -1, \"Angle_2\": -1, \"Gate_Number\": 29}, \"gate_38\": {\"Gate_Type\": \"\", \"Angle_3\": -1, \"Control\": -1, \"Angle_2\": -1, \"Gate_Number\": -1, \"Target\": -1, \"Angle_1\": -1}, \"gate_19\": {\"Gate_Type\": \"U3Gate\", \"Angle_3\": -0.25, \"Control\": 4, \"Angle_1\": 0.0, \"Target\": -1, \"Angle_2\": 0.0, \"Gate_Number\": 19}, \"QASM_File_Name\": \"3125_random_5_qubit_circuits/circuit_663.qasm\", \"gate_33\": {\"Gate_Type\": \"\", \"Angle_3\": -1, \"Control\": -1, \"Angle_2\": -1, \"Gate_Number\": -1, \"Target\": -1, \"Angle_1\": -1}, \"gate_09\": {\"Gate_Type\": \"CnotGate\", \"Angle_3\": -1, \"Control\": 4, \"Angle_1\": -1, \"Target\": 0, \"Angle_2\": -1, \"Gate_Number\": 9}, \"gate_24\": {\"Gate_Type\": \"U3Gate\", \"Angle_3\": 1.0, \"Control\": 3, \"Angle_1\": 0.5, \"Target\": -1, \"Angle_2\": 0.0, \"Gate_Number\": 24}, \"gate_13\": {\"Gate_Type\": \"CnotGate\", \"Angle_3\": -1, \"Control\": 1, \"Angle_1\": -1, \"Target\": 0, \"Angle_2\": -1, \"Gate_Number\": 13}, \"gate_14\": {\"Gate_Type\": \"U3Gate\", \"Angle_3\": 0.5, \"Control\": 4, \"Angle_1\": 0.0, \"Target\": -1, \"Angle_2\": 0.0, \"Gate_Number\": 14}, \"gate_26\": {\"Gate_Type\": \"Measure\", \"Angle_3\": -1, \"Control\": 0, \"Angle_1\": -1, \"Target\": -1, \"Angle_2\": -1, \"Gate_Number\": 26}, \"gate_07\": {\"Gate_Type\": \"U3Gate\", \"Angle_3\": 1.0, \"Control\": 3, \"Angle_1\": 0.5, \"Target\": -1, \"Angle_2\": 0.0, \"Gate_Number\": 7}, \"gate_03\": {\"Gate_Type\": \"CnotGate\", \"Angle_3\": -1, \"Control\": 2, \"Angle_1\": -1, \"Target\": 3, \"Angle_2\": -1, \"Gate_Number\": 3}, \"gate_21\": {\"Gate_Type\": \"U3Gate\", \"Angle_3\": -0.5, \"Control\": 4, \"Angle_1\": 0.0, \"Target\": -1, \"Angle_2\": 0.0, \"Gate_Number\": 21}, \"gate_22\": {\"Gate_Type\": \"CnotGate\", \"Angle_3\": -1, \"Control\": 4, \"Angle_1\": -1, \"Target\": 3, \"Angle_2\": -1, \"Gate_Number\": 22}, \"gate_36\": {\"Gate_Type\": \"\", \"Angle_3\": -1, \"Control\": -1, \"Angle_2\": -1, \"Gate_Number\": -1, \"Target\": -1, \"Angle_1\": -1}, \"gate_04\": {\"Gate_Type\": \"U3Gate\", \"Angle_3\": 0.5, \"Control\": 3, \"Angle_1\": 0.0, \"Target\": -1, \"Angle_2\": 0.0, \"Gate_Number\": 4}},\n",
        "{\"statevector\": {\"state_11111\": 0, \"state_10111\": 0, \"state_11011\": 0, \"state_11100\": 0, \"state_01001\": 1024, \"state_01100\": 0, \"state_00000\": 0, \"state_00100\": 0, \"state_01000\": 0, \"state_11110\": 0, \"state_11000\": 0, \"state_00001\": 0, \"state_00111\": 0, \"state_00010\": 0, \"state_11010\": 0, \"state_10000\": 0, \"state_10110\": 0, \"state_10010\": 0, \"state_00101\": 0, \"state_10100\": 0, \"state_01111\": 0, \"state_11001\": 0, \"state_10001\": 0, \"state_00011\": 0, \"state_10101\": 0, \"state_01010\": 0, \"state_11101\": 0, \"state_10011\": 0, \"state_01110\": 0, \"state_01101\": 0, \"state_00110\": 0, \"state_01011\": 0}, \"gate_11\": {\"Gate_Type\": \"U3Gate\", \"Angle_3\": 0.5633414972337775, \"Control\": 3, \"Angle_1\": 0.0, \"Target\": -1, \"Angle_2\": 0.0, \"Gate_Number\": 11}, \"gate_30\": {\"Gate_Type\": \"Measure\", \"Angle_3\": -1, \"Control\": 3, \"Angle_1\": -1, \"Target\": -1, \"Angle_2\": -1, \"Gate_Number\": 30}, \"gate_28\": {\"Gate_Type\": \"Measure\", \"Angle_3\": -1, \"Control\": 1, \"Angle_1\": -1, \"Target\": -1, \"Angle_2\": -1, \"Gate_Number\": 28}, \"gate_08\": {\"Gate_Type\": \"U3Gate\", \"Angle_3\": 0.5, \"Control\": 3, \"Angle_1\": 1.0, \"Target\": -1, \"Angle_2\": 0.5, \"Gate_Number\": 8}, \"gate_12\": {\"Gate_Type\": \"CnotGate\", \"Angle_3\": -1, \"Control\": 0, \"Angle_1\": -1, \"Target\": 3, \"Angle_2\": -1, \"Gate_Number\": 12}, \"gate_20\": {\"Gate_Type\": \"U3Gate\", \"Angle_3\": 0.5, \"Control\": 2, \"Angle_1\": 0.0, \"Target\": -1, \"Angle_2\": 0.0, \"Gate_Number\": 20}, \"gate_15\": {\"Gate_Type\": \"U3Gate\", \"Angle_3\": -0.5, \"Control\": 4, \"Angle_1\": 0.0, \"Target\": -1, \"Angle_2\": 0.0, \"Gate_Number\": 15}, \"gate_32\": {\"Gate_Type\": \"\", \"Angle_3\": -1, \"Control\": -1, \"Angle_2\": -1, \"Gate_Number\": -1, \"Target\": -1, \"Angle_1\": -1}, \"gate_23\": {\"Gate_Type\": \"CnotGate\", \"Angle_3\": -1, \"Control\": 2, \"Angle_1\": -1, \"Target\": 4, \"Angle_2\": -1, \"Gate_Number\": 23}, \"gate_02\": {\"Gate_Type\": \"U3Gate\", \"Angle_3\": 0.25, \"Control\": 0, \"Angle_1\": 0.0, \"Target\": -1, \"Angle_2\": 0.0, \"Gate_Number\": 2}, \"gate_37\": {\"Gate_Type\": \"\", \"Angle_3\": -1, \"Control\": -1, \"Angle_2\": -1, \"Gate_Number\": -1, \"Target\": -1, \"Angle_1\": -1}, \"gate_31\": {\"Gate_Type\": \"Measure\", \"Angle_3\": -1, \"Control\": 4, \"Angle_1\": -1, \"Target\": -1, \"Angle_2\": -1, \"Gate_Number\": 31}, \"gate_10\": {\"Gate_Type\": \"U3Gate\", \"Angle_3\": 0.25, \"Control\": 1, \"Angle_1\": 0.0, \"Target\": -1, \"Angle_2\": 0.0, \"Gate_Number\": 10}, \"gate_17\": {\"Gate_Type\": \"U3Gate\", \"Angle_3\": -0.5, \"Control\": 2, \"Angle_1\": 0.0, \"Target\": -1, \"Angle_2\": 0.0, \"Gate_Number\": 17}, \"gate_01\": {\"Gate_Type\": \"U3Gate\", \"Angle_3\": 1.0, \"Control\": 0, \"Angle_1\": 0.5, \"Target\": -1, \"Angle_2\": 0.0, \"Gate_Number\": 1}, \"gate_39\": {\"Gate_Type\": \"\", \"Angle_3\": -1, \"Control\": -1, \"Angle_2\": -1, \"Gate_Number\": -1, \"Target\": -1, \"Angle_1\": -1}, \"gate_00\": {\"Gate_Type\": \"U3Gate\", \"Angle_3\": 0.5, \"Control\": 0, \"Angle_1\": 0.0, \"Target\": -1, \"Angle_2\": 0.0, \"Gate_Number\": 0}, \"gate_40\": {\"Gate_Type\": \"\", \"Angle_3\": -1, \"Control\": -1, \"Angle_2\": -1, \"Gate_Number\": -1, \"Target\": -1, \"Angle_1\": -1}, \"gate_05\": {\"Gate_Type\": \"U3Gate\", \"Angle_3\": 1.0, \"Control\": 0, \"Angle_1\": 0.5, \"Target\": -1, \"Angle_2\": 0.0, \"Gate_Number\": 5}, \"gate_16\": {\"Gate_Type\": \"CnotGate\", \"Angle_3\": -1, \"Control\": 2, \"Angle_1\": -1, \"Target\": 4, \"Angle_2\": -1, \"Gate_Number\": 16}, \"gate_18\": {\"Gate_Type\": \"U3Gate\", \"Angle_3\": 0.5, \"Control\": 4, \"Angle_1\": 0.0, \"Target\": -1, \"Angle_2\": 0.0, \"Gate_Number\": 18}, \"gate_27\": {\"Gate_Type\": \"Measure\", \"Angle_3\": -1, \"Control\": 0, \"Angle_1\": -1, \"Target\": -1, \"Angle_2\": -1, \"Gate_Number\": 27}, \"gate_25\": {\"Gate_Type\": \"CnotGate\", \"Angle_3\": -1, \"Control\": 2, \"Angle_1\": -1, \"Target\": 4, \"Angle_2\": -1, \"Gate_Number\": 25}, \"gate_34\": {\"Gate_Type\": \"\", \"Angle_3\": -1, \"Control\": -1, \"Angle_2\": -1, \"Gate_Number\": -1, \"Target\": -1, \"Angle_1\": -1}, \"gate_35\": {\"Gate_Type\": \"\", \"Angle_3\": -1, \"Control\": -1, \"Angle_2\": -1, \"Gate_Number\": -1, \"Target\": -1, \"Angle_1\": -1}, \"gate_06\": {\"Gate_Type\": \"U3Gate\", \"Angle_3\": -0.5, \"Control\": 0, \"Angle_1\": 0.0, \"Target\": -1, \"Angle_2\": 0.0, \"Gate_Number\": 6}, \"gate_29\": {\"Gate_Type\": \"Measure\", \"Angle_3\": -1, \"Control\": 2, \"Angle_1\": -1, \"Target\": -1, \"Angle_2\": -1, \"Gate_Number\": 29}, \"gate_38\": {\"Gate_Type\": \"\", \"Angle_3\": -1, \"Control\": -1, \"Angle_2\": -1, \"Gate_Number\": -1, \"Target\": -1, \"Angle_1\": -1}, \"gate_19\": {\"Gate_Type\": \"CnotGate\", \"Angle_3\": -1, \"Control\": 4, \"Angle_1\": -1, \"Target\": 2, \"Angle_2\": -1, \"Gate_Number\": 19}, \"QASM_File_Name\": \"3125_random_5_qubit_circuits/circuit_1746.qasm\", \"gate_33\": {\"Gate_Type\": \"\", \"Angle_3\": -1, \"Control\": -1, \"Angle_2\": -1, \"Gate_Number\": -1, \"Target\": -1, \"Angle_1\": -1}, \"gate_09\": {\"Gate_Type\": \"CnotGate\", \"Angle_3\": -1, \"Control\": 1, \"Angle_1\": -1, \"Target\": 3, \"Angle_2\": -1, \"Gate_Number\": 9}, \"gate_24\": {\"Gate_Type\": \"U3Gate\", \"Angle_3\": -1.0225828058102693, \"Control\": 4, \"Angle_1\": -0.47730070348744585, \"Target\": -1, \"Angle_2\": 0.0, \"Gate_Number\": 24}, \"gate_13\": {\"Gate_Type\": \"U3Gate\", \"Angle_3\": -0.5633414972337775, \"Control\": 3, \"Angle_1\": 0.0, \"Target\": -1, \"Angle_2\": 0.0, \"Gate_Number\": 13}, \"gate_14\": {\"Gate_Type\": \"CnotGate\", \"Angle_3\": -1, \"Control\": 0, \"Angle_1\": -1, \"Target\": 3, \"Angle_2\": -1, \"Gate_Number\": 14}, \"gate_26\": {\"Gate_Type\": \"U3Gate\", \"Angle_3\": 0.0, \"Control\": 4, \"Angle_1\": 0.47730070348744585, \"Target\": -1, \"Angle_2\": 1.7251934917156755, \"Gate_Number\": 26}, \"gate_07\": {\"Gate_Type\": \"U3Gate\", \"Angle_3\": 0.5, \"Control\": 0, \"Angle_1\": 1.0, \"Target\": -1, \"Angle_2\": 0.5, \"Gate_Number\": 7}, \"gate_03\": {\"Gate_Type\": \"CnotGate\", \"Angle_3\": -1, \"Control\": 1, \"Angle_1\": -1, \"Target\": 0, \"Angle_2\": -1, \"Gate_Number\": 3}, \"gate_21\": {\"Gate_Type\": \"U3Gate\", \"Angle_3\": 1.0225828058102693, \"Control\": 2, \"Angle_1\": 0.0, \"Target\": -1, \"Angle_2\": 0.0, \"Gate_Number\": 21}, \"gate_22\": {\"Gate_Type\": \"U3Gate\", \"Angle_3\": -0.7026106859054063, \"Control\": 4, \"Angle_1\": 0.0, \"Target\": -1, \"Angle_2\": 0.0, \"Gate_Number\": 22}, \"gate_36\": {\"Gate_Type\": \"\", \"Angle_3\": -1, \"Control\": -1, \"Angle_2\": -1, \"Gate_Number\": -1, \"Target\": -1, \"Angle_1\": -1}, \"gate_04\": {\"Gate_Type\": \"U3Gate\", \"Angle_3\": -0.25, \"Control\": 0, \"Angle_1\": 0.0, \"Target\": -1, \"Angle_2\": 0.0, \"Gate_Number\": 4}},\n",
        "{\"statevector\": {\"state_11111\": 0, \"state_10111\": 0, \"state_11011\": 0, \"state_11100\": 0, \"state_01001\": 0, \"state_01100\": 0, \"state_00000\": 516, \"state_00100\": 0, \"state_01000\": 508, \"state_11110\": 0, \"state_11000\": 0, \"state_00001\": 0, \"state_00111\": 0, \"state_00010\": 0, \"state_11010\": 0, \"state_10000\": 0, \"state_10110\": 0, \"state_10010\": 0, \"state_00101\": 0, \"state_10100\": 0, \"state_01111\": 0, \"state_11001\": 0, \"state_10001\": 0, \"state_00011\": 0, \"state_10101\": 0, \"state_01010\": 0, \"state_11101\": 0, \"state_10011\": 0, \"state_01110\": 0, \"state_01101\": 0, \"state_00110\": 0, \"state_01011\": 0}, \"gate_11\": {\"Gate_Type\": \"\", \"Angle_3\": -1, \"Control\": -1, \"Angle_2\": -1, \"Gate_Number\": -1, \"Target\": -1, \"Angle_1\": -1}, \"gate_30\": {\"Gate_Type\": \"\", \"Angle_3\": -1, \"Control\": -1, \"Angle_2\": -1, \"Gate_Number\": -1, \"Target\": -1, \"Angle_1\": -1}, \"gate_28\": {\"Gate_Type\": \"\", \"Angle_3\": -1, \"Control\": -1, \"Angle_2\": -1, \"Gate_Number\": -1, \"Target\": -1, \"Angle_1\": -1}, \"gate_08\": {\"Gate_Type\": \"Measure\", \"Angle_3\": -1, \"Control\": 2, \"Angle_1\": -1, \"Target\": -1, \"Angle_2\": -1, \"Gate_Number\": 8}, \"gate_12\": {\"Gate_Type\": \"\", \"Angle_3\": -1, \"Control\": -1, \"Angle_2\": -1, \"Gate_Number\": -1, \"Target\": -1, \"Angle_1\": -1}, \"gate_20\": {\"Gate_Type\": \"\", \"Angle_3\": -1, \"Control\": -1, \"Angle_2\": -1, \"Gate_Number\": -1, \"Target\": -1, \"Angle_1\": -1}, \"gate_15\": {\"Gate_Type\": \"\", \"Angle_3\": -1, \"Control\": -1, \"Angle_2\": -1, \"Gate_Number\": -1, \"Target\": -1, \"Angle_1\": -1}, \"gate_32\": {\"Gate_Type\": \"\", \"Angle_3\": -1, \"Control\": -1, \"Angle_2\": -1, \"Gate_Number\": -1, \"Target\": -1, \"Angle_1\": -1}, \"gate_23\": {\"Gate_Type\": \"\", \"Angle_3\": -1, \"Control\": -1, \"Angle_2\": -1, \"Gate_Number\": -1, \"Target\": -1, \"Angle_1\": -1}, \"gate_02\": {\"Gate_Type\": \"U3Gate\", \"Angle_3\": 1.0, \"Control\": 3, \"Angle_1\": 0.5, \"Target\": -1, \"Angle_2\": 0.0, \"Gate_Number\": 2}, \"gate_37\": {\"Gate_Type\": \"\", \"Angle_3\": -1, \"Control\": -1, \"Angle_2\": -1, \"Gate_Number\": -1, \"Target\": -1, \"Angle_1\": -1}, \"gate_31\": {\"Gate_Type\": \"\", \"Angle_3\": -1, \"Control\": -1, \"Angle_2\": -1, \"Gate_Number\": -1, \"Target\": -1, \"Angle_1\": -1}, \"gate_10\": {\"Gate_Type\": \"Measure\", \"Angle_3\": -1, \"Control\": 4, \"Angle_1\": -1, \"Target\": -1, \"Angle_2\": -1, \"Gate_Number\": 10}, \"gate_17\": {\"Gate_Type\": \"\", \"Angle_3\": -1, \"Control\": -1, \"Angle_2\": -1, \"Gate_Number\": -1, \"Target\": -1, \"Angle_1\": -1}, \"gate_01\": {\"Gate_Type\": \"U3Gate\", \"Angle_3\": 1.6262791423758534, \"Control\": 2, \"Angle_1\": 0.0, \"Target\": -1, \"Angle_2\": 0.0, \"Gate_Number\": 1}, \"gate_39\": {\"Gate_Type\": \"\", \"Angle_3\": -1, \"Control\": -1, \"Angle_2\": -1, \"Gate_Number\": -1, \"Target\": -1, \"Angle_1\": -1}, \"gate_00\": {\"Gate_Type\": \"U3Gate\", \"Angle_3\": 1.0, \"Control\": 0, \"Angle_1\": 0.0, \"Target\": -1, \"Angle_2\": 0.0, \"Gate_Number\": 0}, \"gate_40\": {\"Gate_Type\": \"\", \"Angle_3\": -1, \"Control\": -1, \"Angle_2\": -1, \"Gate_Number\": -1, \"Target\": -1, \"Angle_1\": -1}, \"gate_05\": {\"Gate_Type\": \"U3Gate\", \"Angle_3\": 0.5, \"Control\": 4, \"Angle_1\": 0.0, \"Target\": -1, \"Angle_2\": 0.0, \"Gate_Number\": 5}, \"gate_16\": {\"Gate_Type\": \"\", \"Angle_3\": -1, \"Control\": -1, \"Angle_2\": -1, \"Gate_Number\": -1, \"Target\": -1, \"Angle_1\": -1}, \"gate_18\": {\"Gate_Type\": \"\", \"Angle_3\": -1, \"Control\": -1, \"Angle_2\": -1, \"Gate_Number\": -1, \"Target\": -1, \"Angle_1\": -1}, \"gate_27\": {\"Gate_Type\": \"\", \"Angle_3\": -1, \"Control\": -1, \"Angle_2\": -1, \"Gate_Number\": -1, \"Target\": -1, \"Angle_1\": -1}, \"gate_25\": {\"Gate_Type\": \"\", \"Angle_3\": -1, \"Control\": -1, \"Angle_2\": -1, \"Gate_Number\": -1, \"Target\": -1, \"Angle_1\": -1}, \"gate_34\": {\"Gate_Type\": \"\", \"Angle_3\": -1, \"Control\": -1, \"Angle_2\": -1, \"Gate_Number\": -1, \"Target\": -1, \"Angle_1\": -1}, \"gate_35\": {\"Gate_Type\": \"\", \"Angle_3\": -1, \"Control\": -1, \"Angle_2\": -1, \"Gate_Number\": -1, \"Target\": -1, \"Angle_1\": -1}, \"gate_06\": {\"Gate_Type\": \"Measure\", \"Angle_3\": -1, \"Control\": 0, \"Angle_1\": -1, \"Target\": -1, \"Angle_2\": -1, \"Gate_Number\": 6}, \"gate_29\": {\"Gate_Type\": \"\", \"Angle_3\": -1, \"Control\": -1, \"Angle_2\": -1, \"Gate_Number\": -1, \"Target\": -1, \"Angle_1\": -1}, \"gate_38\": {\"Gate_Type\": \"\", \"Angle_3\": -1, \"Control\": -1, \"Angle_2\": -1, \"Gate_Number\": -1, \"Target\": -1, \"Angle_1\": -1}, \"gate_19\": {\"Gate_Type\": \"\", \"Angle_3\": -1, \"Control\": -1, \"Angle_2\": -1, \"Gate_Number\": -1, \"Target\": -1, \"Angle_1\": -1}, \"QASM_File_Name\": \"3125_random_5_qubit_circuits/circuit_220.qasm\", \"gate_33\": {\"Gate_Type\": \"\", \"Angle_3\": -1, \"Control\": -1, \"Angle_2\": -1, \"Gate_Number\": -1, \"Target\": -1, \"Angle_1\": -1}, \"gate_09\": {\"Gate_Type\": \"Measure\", \"Angle_3\": -1, \"Control\": 3, \"Angle_1\": -1, \"Target\": -1, \"Angle_2\": -1, \"Gate_Number\": 9}, \"gate_24\": {\"Gate_Type\": \"\", \"Angle_3\": -1, \"Control\": -1, \"Angle_2\": -1, \"Gate_Number\": -1, \"Target\": -1, \"Angle_1\": -1}, \"gate_13\": {\"Gate_Type\": \"\", \"Angle_3\": -1, \"Control\": -1, \"Angle_2\": -1, \"Gate_Number\": -1, \"Target\": -1, \"Angle_1\": -1}, \"gate_14\": {\"Gate_Type\": \"\", \"Angle_3\": -1, \"Control\": -1, \"Angle_2\": -1, \"Gate_Number\": -1, \"Target\": -1, \"Angle_1\": -1}, \"gate_26\": {\"Gate_Type\": \"\", \"Angle_3\": -1, \"Control\": -1, \"Angle_2\": -1, \"Gate_Number\": -1, \"Target\": -1, \"Angle_1\": -1}, \"gate_07\": {\"Gate_Type\": \"Measure\", \"Angle_3\": -1, \"Control\": 1, \"Angle_1\": -1, \"Target\": -1, \"Angle_2\": -1, \"Gate_Number\": 7}, \"gate_03\": {\"Gate_Type\": \"U3Gate\", \"Angle_3\": -0.5, \"Control\": 4, \"Angle_1\": 0.0, \"Target\": -1, \"Angle_2\": 0.0, \"Gate_Number\": 3}, \"gate_21\": {\"Gate_Type\": \"\", \"Angle_3\": -1, \"Control\": -1, \"Angle_2\": -1, \"Gate_Number\": -1, \"Target\": -1, \"Angle_1\": -1}, \"gate_22\": {\"Gate_Type\": \"\", \"Angle_3\": -1, \"Control\": -1, \"Angle_2\": -1, \"Gate_Number\": -1, \"Target\": -1, \"Angle_1\": -1}, \"gate_36\": {\"Gate_Type\": \"\", \"Angle_3\": -1, \"Control\": -1, \"Angle_2\": -1, \"Gate_Number\": -1, \"Target\": -1, \"Angle_1\": -1}, \"gate_04\": {\"Gate_Type\": \"CnotGate\", \"Angle_3\": -1, \"Control\": 1, \"Angle_1\": -1, \"Target\": 4, \"Angle_2\": -1, \"Gate_Number\": 4}}]"
      ],
      "execution_count": 0,
      "outputs": [
        {
          "output_type": "stream",
          "text": [
            "Writing 10_quantum_circuits.json\n"
          ],
          "name": "stdout"
        }
      ]
    },
    {
      "cell_type": "code",
      "metadata": {
        "id": "svdzoZr9eGWT",
        "colab_type": "code",
        "outputId": "6bf29184-03c5-4d4e-ea10-a85e45cb9c02",
        "colab": {
          "base_uri": "https://localhost:8080/",
          "height": 34
        }
      },
      "source": [
        "import json\n",
        "with open('10_quantum_circuits.json') as json_file:\n",
        "    data2 = json.load(json_file)\n",
        "print(len(data2)) # prints 10"
      ],
      "execution_count": 0,
      "outputs": [
        {
          "output_type": "stream",
          "text": [
            "10\n"
          ],
          "name": "stdout"
        }
      ]
    },
    {
      "cell_type": "markdown",
      "metadata": {
        "id": "OARUM8xxipyx",
        "colab_type": "text"
      },
      "source": [
        "We then pre-process the data so that it can be use by our neural network."
      ]
    },
    {
      "cell_type": "code",
      "metadata": {
        "id": "YSh2thOtikqI",
        "colab_type": "code",
        "colab": {}
      },
      "source": [
        "# PLACE PROVIDED INPUT DATA INTO DATA FRAME\n",
        "def x_data_preprocess(data):\n",
        "  \"\"\"\n",
        "  to construct a one flat array for the x input data\n",
        "  reflecting all the gates, along with angles, etc.\n",
        "  we first construct an empty dataframe with needed columns\n",
        "  representing all the gates and angles\n",
        "  then we fetch data row by row and populate the dataframe.\n",
        "  because we fetch the data by the same order as the dataframe, we can input \n",
        "  the data, in that order into the dataframe.\n",
        "  \"\"\"\n",
        " \n",
        "  df = pd.DataFrame()\n",
        "  keys_idx = [idx for idx in sorted(data[0].keys()) if 'gate' in idx]\n",
        "  label_list = ['Angle_1', 'Angle_2', 'Angle_3', 'Control', 'Target']\n",
        "\n",
        "  for i in keys_idx:\n",
        "    for j in label_list:\n",
        "      col_idx = str(i)+'_'+str(j)\n",
        "      df[col_idx] = []\n",
        "\n",
        "  for h in range(len(data)):\n",
        "    tmp = [data[h][i][j] for i in keys_idx for j in label_list]\n",
        "    df = df.append(pd.Series(tmp, index=df.columns), ignore_index=True)\n",
        "\n",
        "  # number of features\n",
        "  print(len(df.columns))\n",
        "  \n",
        "  # number of samples\n",
        "  print(len(df))\n",
        "  \n",
        "  # output will have 32 nodes\n",
        "  print(len(data[0]['statevector']))\n",
        "\n",
        "  return df"
      ],
      "execution_count": 0,
      "outputs": []
    },
    {
      "cell_type": "code",
      "metadata": {
        "id": "b1UtbGg4ijrP",
        "colab_type": "code",
        "colab": {}
      },
      "source": [
        "def y_data_preprocess(data):\n",
        "  \"\"\"\n",
        "  we first scale the y target data such that we have a probability distribution.\n",
        "  then, we populate the dataframe with each row representing a sample target distribution.\n",
        "  \"\"\"\n",
        "  # PLACE PROVIDED TARGET DATA INTO DATA FRAME\n",
        "  # Scale into distribution with sum of probabilities equal to 1.0\n",
        "  # https://stackoverflow.com/questions/30964577/divide-each-python-dictionary-value-by-total-value\n",
        "  y_data = {}\n",
        "  for i in range(len(data)):\n",
        "    tot = sum(data[i]['statevector'].values())\n",
        "    y_data[i] = {k: v / tot for k, v in data[i]['statevector'].items()}\n",
        "\n",
        "  # CONSTRUCT DATAFRAME TO HOLD Y DATA.\n",
        "  # EACH ROW REPRESENT A SAMPLE\n",
        "  # EACH SAMPLE IS A VECTOR, REPRESENTING DISTRUBUTION\n",
        "  df_y = pd.DataFrame(columns=[k for k in data[0]['statevector'].keys()])\n",
        "  for i in range(len(data)):\n",
        "    df_y.loc[i] = [v for v in y_data[i].values()]\n",
        "\n",
        "  return df_y"
      ],
      "execution_count": 0,
      "outputs": []
    },
    {
      "cell_type": "code",
      "metadata": {
        "id": "u5BFiVseivyw",
        "colab_type": "code",
        "colab": {}
      },
      "source": [
        "def data_split(data, df, df_y, train_split=0.8, val_split=0.9):\n",
        "  \"\"\"\n",
        "  data: original raw data provided\n",
        "  df: dataframe for x input data\n",
        "  df_y: dataframe for y target data\n",
        "  train_split: 0.9 represent 90%\n",
        "  val_split: 0.95 represent 5% for validation data\n",
        "  we split the data into train, validation and testing.\n",
        "  the user specifies the split as arguments to the function.\n",
        "  \"\"\"\n",
        "  # split data into train, val, and test.\n",
        "  m = len(data)\n",
        "  x_train = df.iloc[0 : int(train_split * m), :]\n",
        "  y_train = df_y.iloc[0 : int(train_split * m), :].values\n",
        "  x_val = df.iloc[int(train_split * m + 1) : int(val_split * m), :]\n",
        "  y_val = df_y.iloc[int(train_split * m + 1) : int(val_split * m), :].values\n",
        "  x_test = df.iloc[int(val_split * m + 1) : m, :]\n",
        "  y_test = df_y.iloc[int(val_split * m + 1) : m, :].values\n",
        "\n",
        "  print(x_train.shape)\n",
        "  print(y_train.shape)\n",
        "  print(x_val.shape)\n",
        "  print(y_val.shape)\n",
        "  print(x_test.shape)\n",
        "  print(y_test.shape)\n",
        "  return (x_train, y_train, x_val, y_val, x_test, y_test)"
      ],
      "execution_count": 0,
      "outputs": []
    },
    {
      "cell_type": "code",
      "metadata": {
        "id": "hsNP8S8si3nS",
        "colab_type": "code",
        "colab": {}
      },
      "source": [
        "import pandas as pd"
      ],
      "execution_count": 0,
      "outputs": []
    },
    {
      "cell_type": "code",
      "metadata": {
        "id": "003QMgrWiwYY",
        "colab_type": "code",
        "outputId": "d97f8968-5ef9-4a2f-828b-1624e7b54c8b",
        "colab": {
          "base_uri": "https://localhost:8080/",
          "height": 168
        }
      },
      "source": [
        "df = x_data_preprocess(data2)\n",
        "df_y = y_data_preprocess(data2)\n",
        "(x_train, y_train, x_val, y_val, x_test, y_test) = data_split(data2, df, df_y, train_split=0.7, val_split=0.9)"
      ],
      "execution_count": 0,
      "outputs": [
        {
          "output_type": "stream",
          "text": [
            "205\n",
            "10\n",
            "32\n",
            "(3, 205)\n",
            "(3, 32)\n",
            "(0, 205)\n",
            "(0, 32)\n",
            "(6, 205)\n",
            "(6, 32)\n"
          ],
          "name": "stdout"
        }
      ]
    },
    {
      "cell_type": "code",
      "metadata": {
        "id": "Srwn56cIi-mH",
        "colab_type": "code",
        "outputId": "ab083626-194e-49df-ff92-1260789507f9",
        "colab": {
          "base_uri": "https://localhost:8080/",
          "height": 34
        }
      },
      "source": [
        "try:\n",
        "  # %tensorflow_version only exists in Colab.\n",
        "  %tensorflow_version 2.x\n",
        "except Exception:\n",
        "  pass\n",
        "\n",
        "# Load the TensorBoard notebook extension.\n",
        "%load_ext tensorboard"
      ],
      "execution_count": 0,
      "outputs": [
        {
          "output_type": "stream",
          "text": [
            "TensorFlow 2.x selected.\n"
          ],
          "name": "stdout"
        }
      ]
    },
    {
      "cell_type": "code",
      "metadata": {
        "id": "FHe3VzRoi_jn",
        "colab_type": "code",
        "outputId": "4404b75c-5310-4075-9a9c-05cc4e2f5e93",
        "colab": {
          "base_uri": "https://localhost:8080/",
          "height": 34
        }
      },
      "source": [
        "from __future__ import absolute_import\n",
        "from __future__ import division\n",
        "from __future__ import print_function\n",
        "\n",
        "from datetime import datetime\n",
        "from packaging import version\n",
        "\n",
        "import tensorflow as tf\n",
        "from tensorflow import keras\n",
        "\n",
        "import numpy as np\n",
        "import pandas as pd\n",
        "\n",
        "print(\"TensorFlow version: \", tf.__version__)\n",
        "assert version.parse(tf.__version__).release[0] >= 2, \\\n",
        "    \"This notebook requires TensorFlow 2.0 or above.\""
      ],
      "execution_count": 0,
      "outputs": [
        {
          "output_type": "stream",
          "text": [
            "TensorFlow version:  2.0.0\n"
          ],
          "name": "stdout"
        }
      ]
    },
    {
      "cell_type": "code",
      "metadata": {
        "id": "g-Tcae6TiwV6",
        "colab_type": "code",
        "colab": {}
      },
      "source": [
        "from tensorflow.keras import layers\n",
        "\n",
        "model = tf.keras.Sequential()\n",
        "model.add(layers.Dense(102, activation='relu', input_shape=(205,)))\n",
        "model.add(layers.Dense(10, activation='relu'))\n",
        "model.add(layers.Dense(32, activation='softmax'))"
      ],
      "execution_count": 0,
      "outputs": []
    },
    {
      "cell_type": "markdown",
      "metadata": {
        "id": "8OXj1EmmjUZ2",
        "colab_type": "text"
      },
      "source": [
        "Now we compile the model"
      ]
    },
    {
      "cell_type": "code",
      "metadata": {
        "id": "V2NPAN2CiwTh",
        "colab_type": "code",
        "colab": {}
      },
      "source": [
        "# Compile the model.\n",
        "model.compile(\n",
        "  optimizer='adam',\n",
        "  loss='categorical_crossentropy'\n",
        "  #metrics=['accuracy'],\n",
        ")"
      ],
      "execution_count": 0,
      "outputs": []
    },
    {
      "cell_type": "code",
      "metadata": {
        "id": "ciS9OS_GiwRQ",
        "colab_type": "code",
        "colab": {}
      },
      "source": [
        "# Clear any logs from previous runs\n",
        "!rm -rf ./logs/ "
      ],
      "execution_count": 0,
      "outputs": []
    },
    {
      "cell_type": "code",
      "metadata": {
        "id": "J8IKsoLbjWq2",
        "colab_type": "code",
        "colab": {}
      },
      "source": [
        "# SET THE LOG FILE NAME AND THE CALLBACK\n",
        "logdir = 'logs/' + datetime.now().strftime(\"%Y%m%d-%H%M%S\")\n",
        "tensorboard_callback = keras.callbacks.TensorBoard(log_dir=logdir, histogram_freq=50, write_graph=True, write_images=True)"
      ],
      "execution_count": 0,
      "outputs": []
    },
    {
      "cell_type": "markdown",
      "metadata": {
        "id": "lEhDQRS9jZIg",
        "colab_type": "text"
      },
      "source": [
        "Train the model"
      ]
    },
    {
      "cell_type": "code",
      "metadata": {
        "id": "oLIipXkqjX1d",
        "colab_type": "code",
        "outputId": "2b3df7aa-014e-4fb7-c737-d54270e9b16f",
        "colab": {
          "base_uri": "https://localhost:8080/",
          "height": 54
        }
      },
      "source": [
        "EPOCHS=70\n",
        "\n",
        "# Train the model.\n",
        "history = model.fit(\n",
        "  x_train,\n",
        "  y_train,\n",
        "  epochs=EPOCHS,\n",
        "  batch_size=100,\n",
        "  verbose=0,\n",
        "  #validation_split=0.1,\n",
        "  validation_data=(x_val, y_val), # validation data used to monitor validation loss at the end of each epoch\n",
        "  callbacks=[tensorboard_callback],\n",
        ")"
      ],
      "execution_count": 0,
      "outputs": [
        {
          "output_type": "stream",
          "text": [
            "WARNING:tensorflow:Falling back from v2 loop because of error: Failed to find data adapter that can handle input: <class 'pandas.core.frame.DataFrame'>, <class 'NoneType'>\n"
          ],
          "name": "stdout"
        }
      ]
    },
    {
      "cell_type": "markdown",
      "metadata": {
        "id": "dM_CDiCpjbWW",
        "colab_type": "text"
      },
      "source": [
        "Here we launch TensorBoard to see the progress as the model trains."
      ]
    },
    {
      "cell_type": "code",
      "metadata": {
        "id": "vvU0CMK0jXzW",
        "colab_type": "code",
        "outputId": "fcb3c401-3651-452a-c5a4-23c754cb90fd",
        "colab": {
          "base_uri": "https://localhost:8080/",
          "height": 34
        }
      },
      "source": [
        "%tensorboard --logdir logs"
      ],
      "execution_count": 0,
      "outputs": [
        {
          "output_type": "display_data",
          "data": {
            "text/plain": [
              "Reusing TensorBoard on port 6006 (pid 196), started 0:01:42 ago. (Use '!kill 196' to kill it.)"
            ]
          },
          "metadata": {
            "tags": []
          }
        },
        {
          "output_type": "display_data",
          "data": {
            "text/html": [
              "\n",
              "    <div id=\"root\"></div>\n",
              "    <script>\n",
              "      (function() {\n",
              "        window.TENSORBOARD_ENV = window.TENSORBOARD_ENV || {};\n",
              "        window.TENSORBOARD_ENV[\"IN_COLAB\"] = true;\n",
              "        document.querySelector(\"base\").href = \"https://localhost:6006\";\n",
              "        function fixUpTensorboard(root) {\n",
              "          const tftb = root.querySelector(\"tf-tensorboard\");\n",
              "          // Disable the fragment manipulation behavior in Colab. Not\n",
              "          // only is the behavior not useful (as the iframe's location\n",
              "          // is not visible to the user), it causes TensorBoard's usage\n",
              "          // of `window.replace` to navigate away from the page and to\n",
              "          // the `localhost:<port>` URL specified by the base URI, which\n",
              "          // in turn causes the frame to (likely) crash.\n",
              "          tftb.removeAttribute(\"use-hash\");\n",
              "        }\n",
              "        function executeAllScripts(root) {\n",
              "          // When `script` elements are inserted into the DOM by\n",
              "          // assigning to an element's `innerHTML`, the scripts are not\n",
              "          // executed. Thus, we manually re-insert these scripts so that\n",
              "          // TensorBoard can initialize itself.\n",
              "          for (const script of root.querySelectorAll(\"script\")) {\n",
              "            const newScript = document.createElement(\"script\");\n",
              "            newScript.type = script.type;\n",
              "            newScript.textContent = script.textContent;\n",
              "            root.appendChild(newScript);\n",
              "            script.remove();\n",
              "          }\n",
              "        }\n",
              "        function setHeight(root, height) {\n",
              "          // We set the height dynamically after the TensorBoard UI has\n",
              "          // been initialized. This avoids an intermediate state in\n",
              "          // which the container plus the UI become taller than the\n",
              "          // final width and cause the Colab output frame to be\n",
              "          // permanently resized, eventually leading to an empty\n",
              "          // vertical gap below the TensorBoard UI. It's not clear\n",
              "          // exactly what causes this problematic intermediate state,\n",
              "          // but setting the height late seems to fix it.\n",
              "          root.style.height = `${height}px`;\n",
              "        }\n",
              "        const root = document.getElementById(\"root\");\n",
              "        fetch(\".\")\n",
              "          .then((x) => x.text())\n",
              "          .then((html) => void (root.innerHTML = html))\n",
              "          .then(() => fixUpTensorboard(root))\n",
              "          .then(() => executeAllScripts(root))\n",
              "          .then(() => setHeight(root, 800));\n",
              "      })();\n",
              "    </script>\n",
              "  "
            ],
            "text/plain": [
              "<IPython.core.display.HTML object>"
            ]
          },
          "metadata": {
            "tags": []
          }
        }
      ]
    },
    {
      "cell_type": "markdown",
      "metadata": {
        "id": "Zz3xYV8okleT",
        "colab_type": "text"
      },
      "source": [
        "You can save the model weights for future reference"
      ]
    },
    {
      "cell_type": "code",
      "metadata": {
        "id": "q0TKp_DnklTF",
        "colab_type": "code",
        "colab": {}
      },
      "source": [
        "model.save_weights('model.h5')"
      ],
      "execution_count": 0,
      "outputs": []
    },
    {
      "cell_type": "markdown",
      "metadata": {
        "id": "ezd9ttfykpIW",
        "colab_type": "text"
      },
      "source": [
        "And you can also load the saved weights to predict statevectors for quantum circuits!"
      ]
    },
    {
      "cell_type": "code",
      "metadata": {
        "id": "bWzIP9frjXw0",
        "colab_type": "code",
        "outputId": "05394ea0-26a9-40ae-b127-24b9adbd5281",
        "colab": {
          "base_uri": "https://localhost:8080/",
          "height": 34
        }
      },
      "source": [
        "from keras.models import Sequential\n",
        "from keras.layers import Dense\n",
        "# use the architecture as above for the model.\n",
        "# Load the model's saved weights.\n",
        "model.load_weights('model.h5')"
      ],
      "execution_count": 0,
      "outputs": [
        {
          "output_type": "stream",
          "text": [
            "Using TensorFlow backend.\n"
          ],
          "name": "stderr"
        }
      ]
    },
    {
      "cell_type": "code",
      "metadata": {
        "id": "TpmOJqIxjXuh",
        "colab_type": "code",
        "outputId": "5f05bb29-fd7d-4f35-d55c-c287477e7870",
        "colab": {
          "base_uri": "https://localhost:8080/",
          "height": 238
        }
      },
      "source": [
        "# Predict on select data\n",
        "predictions = model.predict(x_test[:1])\n",
        "\n",
        "# Print ground truth\n",
        "print(y_test[0])\n",
        "print('\\n')\n",
        "# Print our model's predictions.\n",
        "print(predictions)"
      ],
      "execution_count": 0,
      "outputs": [
        {
          "output_type": "stream",
          "text": [
            "WARNING:tensorflow:Falling back from v2 loop because of error: Failed to find data adapter that can handle input: <class 'pandas.core.frame.DataFrame'>, <class 'NoneType'>\n",
            "[0. 0. 0. 0. 0. 0. 1. 0. 0. 0. 0. 0. 0. 0. 0. 0. 0. 0. 0. 0. 0. 0. 0. 0.\n",
            " 0. 0. 0. 0. 0. 0. 0. 0.]\n",
            "\n",
            "\n",
            "[[6.2798807e-07 8.4055733e-07 4.3597727e-05 2.1840318e-04 1.7675817e-03\n",
            "  3.1319435e-06 5.2903146e-01 8.1587298e-04 2.2162017e-03 1.3141071e-03\n",
            "  1.3854662e-05 4.6528038e-07 7.3993988e-06 4.4741569e-07 8.6083543e-03\n",
            "  1.3782032e-01 4.5915465e-03 3.7050608e-08 4.1279446e-08 4.3890986e-04\n",
            "  4.1501644e-06 5.6648895e-07 1.3083605e-04 4.5170427e-07 1.0051192e-07\n",
            "  6.3324109e-02 4.3048974e-04 1.8433859e-03 9.4183834e-09 1.0644725e-01\n",
            "  1.3799413e-01 2.9312454e-03]]\n"
          ],
          "name": "stdout"
        }
      ]
    }
  ]
}