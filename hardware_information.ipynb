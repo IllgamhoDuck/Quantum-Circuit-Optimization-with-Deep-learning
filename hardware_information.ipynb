{
  "nbformat": 4,
  "nbformat_minor": 0,
  "metadata": {
    "colab": {
      "name": "hardware information.ipynb",
      "provenance": [],
      "collapsed_sections": [
        "dChgkE-Esl2I",
        "aZJs0JAhuGpK",
        "LvF0QEpkQfyR",
        "nT_VUrt9Z97q",
        "6U1fAbWadOm_",
        "yYKooJ0eeDRc",
        "ydyQLlk_eLBS",
        "MBaSi7CBdduu",
        "gzty5F-Gd-Wq",
        "RBMcNrxqdtNa",
        "8xh-yzDHq5ZS",
        "pZocufMMZpHs",
        "7Sr9SOZ7vryS",
        "Du8tNlEbyDSj"
      ],
      "include_colab_link": true
    },
    "kernelspec": {
      "name": "python3",
      "display_name": "Python 3"
    }
  },
  "cells": [
    {
      "cell_type": "markdown",
      "metadata": {
        "id": "view-in-github",
        "colab_type": "text"
      },
      "source": [
        "<a href=\"https://colab.research.google.com/github/IllgamhoDuck/Quantum-Circuit-Optimization-with-Deep-learning/blob/master/hardware_information.ipynb\" target=\"_parent\"><img src=\"https://colab.research.google.com/assets/colab-badge.svg\" alt=\"Open In Colab\"/></a>"
      ]
    },
    {
      "cell_type": "markdown",
      "metadata": {
        "id": "AQAH1dCttbtF",
        "colab_type": "text"
      },
      "source": [
        "# Hardware information\n",
        "**This page is to check the hardware information that quantum computer provide**\n",
        "\n",
        "Circuit optimization is heavily related to hardware information like topologie of qubits and noise information of gates, qubits etc. To make a deep learning model that generate optimized circuit we have to put hardware information to the input of model. We are going to look through the real quantum computer hardware information and choose what information to accept as a input to the deep learning model.\n",
        "\n",
        "1. Check available quantum backend and for additional check the difference between the backend\n",
        "2. Check IBMQ london quantum computer in detail and learn more about hardware information\n",
        "3. Learn how to use qasm simulator like real quantum computer\n",
        "4. Choose what hardware information to use for deep learning"
      ]
    },
    {
      "cell_type": "markdown",
      "metadata": {
        "id": "dChgkE-Esl2I",
        "colab_type": "text"
      },
      "source": [
        "### Setting environment\n",
        "- package install\n",
        "- package import\n",
        "- IBMQ experience user token save and load"
      ]
    },
    {
      "cell_type": "code",
      "metadata": {
        "id": "2kVJtQzgn9jt",
        "colab_type": "code",
        "colab": {}
      },
      "source": [
        "!pip install --quiet qiskit nxpd"
      ],
      "execution_count": 0,
      "outputs": []
    },
    {
      "cell_type": "code",
      "metadata": {
        "id": "3oEio4JXoTFD",
        "colab_type": "code",
        "colab": {}
      },
      "source": [
        "%matplotlib inline\n",
        "from qiskit import QuantumCircuit\n",
        "from qiskit.compiler import transpile\n",
        "from qiskit.transpiler import PassManager\n",
        "from qiskit import execute, IBMQ, Aer"
      ],
      "execution_count": 0,
      "outputs": []
    },
    {
      "cell_type": "code",
      "metadata": {
        "id": "8Sjm8zS6scPV",
        "colab_type": "code",
        "colab": {}
      },
      "source": [
        "# This only has to be run once per Python run-time to get it to work with your IBM Q Experience account\n",
        "# In the IBM Q Composer, click your avatar (top right), select My Account, click Advanced.\n",
        "# If the API Token field is empty, click Regenerate. \n",
        "# Press Copy API Token in the composer, and then paste the result into the token string literal value below\n",
        "# Uncomment the lines to run them, which only has to be done once.\n",
        "\n",
        "# TODO - Save your token to your computer\n",
        "token = \"YOUR TOKEN HERE from IBMQ Experience\"\n",
        "IBMQ.save_account(token)"
      ],
      "execution_count": 0,
      "outputs": []
    },
    {
      "cell_type": "code",
      "metadata": {
        "id": "mjJ-L15KsgIA",
        "colab_type": "code",
        "colab": {}
      },
      "source": [
        "# This loads the user's API access key, which was previously saved in a one-time setup above.\n",
        "IBMQ.load_accounts()"
      ],
      "execution_count": 0,
      "outputs": []
    },
    {
      "cell_type": "markdown",
      "metadata": {
        "id": "aZJs0JAhuGpK",
        "colab_type": "text"
      },
      "source": [
        "## Backend list\n",
        "**Available quantum computer**\n",
        "\n",
        "    - ibmq_qasm_simulator\n",
        "    - ibmq_16_melbourne\n",
        "    - ibmq_ourense\n",
        "    - ibmqx2\n",
        "    - ibmq_vigo\n",
        "    - ibmq_london\n",
        "    - ibmq_burlington\n",
        "    - ibmq_essex"
      ]
    },
    {
      "cell_type": "code",
      "metadata": {
        "id": "7_CLVHACs30j",
        "colab_type": "code",
        "colab": {}
      },
      "source": [
        "try:\n",
        "    # Obtain an available quantum computer\n",
        "    ibmq_backends = IBMQ.backends()\n",
        "    print(\"Running on device: \", ibmq_backends)\n",
        "except:\n",
        "    print(\"All devices are currently unavailable.\")"
      ],
      "execution_count": 0,
      "outputs": []
    },
    {
      "cell_type": "code",
      "metadata": {
        "id": "ybVSmkB4t3_G",
        "colab_type": "code",
        "colab": {}
      },
      "source": [
        "ibmq_london = IBMQ.get_backend('ibmq_london')\n",
        "ibmq_ourense = IBMQ.get_backend('ibmq_ourense')\n",
        "ibmq_burlington = IBMQ.get_backend('ibmq_burlington')\n",
        "ibmq_melbourne = IBMQ.get_backend('ibmq_16_melbourne')\n",
        "ibmq_essex = IBMQ.get_backend('ibmq_essex')"
      ],
      "execution_count": 0,
      "outputs": []
    },
    {
      "cell_type": "markdown",
      "metadata": {
        "id": "LvF0QEpkQfyR",
        "colab_type": "text"
      },
      "source": [
        "### Compare between backends"
      ]
    },
    {
      "cell_type": "code",
      "metadata": {
        "id": "n4Oc0yymQaqT",
        "colab_type": "code",
        "colab": {}
      },
      "source": [
        "mel_config = ibmq_melbourne.configuration()\n",
        "mel_proper = ibmq_melbourne.properties()\n",
        "# properities\n",
        "for op in dir(mel_proper):\n",
        "    if op[0] == '_':\n",
        "        continue\n",
        "    print(\"{} : \".format(op), end=\"\")\n",
        "    exec(\"print(proper.{})\".format(op))"
      ],
      "execution_count": 0,
      "outputs": []
    },
    {
      "cell_type": "code",
      "metadata": {
        "id": "l6gnCNdDRV3T",
        "colab_type": "code",
        "colab": {}
      },
      "source": [
        "lon_config = ibmq_london.configuration()\n",
        "lon_proper = ibmq_london.properties()\n",
        "# properities\n",
        "for op in dir(lon_proper):\n",
        "    if op[0] == '_':\n",
        "        continue\n",
        "    print(\"{} : \".format(op), end=\"\")\n",
        "    exec(\"print(proper.{})\".format(op))"
      ],
      "execution_count": 0,
      "outputs": []
    },
    {
      "cell_type": "code",
      "metadata": {
        "id": "cEFQc9tLRgpb",
        "colab_type": "code",
        "colab": {}
      },
      "source": [
        "bur_config = ibmq_burlington.configuration()\n",
        "bur_proper = ibmq_burlington.properties()\n",
        "# properities\n",
        "for op in dir(bur_proper):\n",
        "    if op[0] == '_':\n",
        "        continue\n",
        "    print(\"{} : \".format(op), end=\"\")\n",
        "    exec(\"print(proper.{})\".format(op))"
      ],
      "execution_count": 0,
      "outputs": []
    },
    {
      "cell_type": "code",
      "metadata": {
        "id": "-A7P5X2LRqAj",
        "colab_type": "code",
        "colab": {}
      },
      "source": [
        "our_config = ibmq_ourense.configuration()\n",
        "our_proper = ibmq_ourense.properties()\n",
        "# properities\n",
        "for op in dir(our_proper):\n",
        "    if op[0] == '_':\n",
        "        continue\n",
        "    print(\"{} : \".format(op), end=\"\")\n",
        "    exec(\"print(proper.{})\".format(op))"
      ],
      "execution_count": 0,
      "outputs": []
    },
    {
      "cell_type": "code",
      "metadata": {
        "id": "H5s72ONGR4c7",
        "colab_type": "code",
        "colab": {}
      },
      "source": [
        "ess_config = ibmq_essex.configuration()\n",
        "ess_proper = ibmq_essex.properties()\n",
        "# properities\n",
        "for op in dir(ess_proper):\n",
        "    if op[0] == '_':\n",
        "        continue\n",
        "    print(\"{} : \".format(op), end=\"\")\n",
        "    exec(\"print(proper.{})\".format(op))"
      ],
      "execution_count": 0,
      "outputs": []
    },
    {
      "cell_type": "markdown",
      "metadata": {
        "id": "nT_VUrt9Z97q",
        "colab_type": "text"
      },
      "source": [
        "## IBMQ london\n",
        "**Check the hardware information of IBMQ london quantum computer**\n",
        "\n",
        "- configuration\n",
        "- properties\n",
        "\n",
        "Both includes following information\n",
        "\n",
        "    - hierarchy structure\n",
        "    - parameter\n"
      ]
    },
    {
      "cell_type": "code",
      "metadata": {
        "id": "3m_RWgWibX2t",
        "colab_type": "code",
        "outputId": "98ad0a78-2c81-4bcd-ed0b-347243b1f95a",
        "colab": {
          "base_uri": "https://localhost:8080/",
          "height": 71
        }
      },
      "source": [
        "# ibmq london\n",
        "config = ibmq_london.configuration()\n",
        "proper = ibmq_london.properties()\n",
        "print(config)\n",
        "print(proper)"
      ],
      "execution_count": 0,
      "outputs": [
        {
          "output_type": "stream",
          "text": [
            "QasmBackendConfiguration(allow_object_storage=True, allow_q_circuit=False, allow_q_object=True, backend_name='ibmq_london', backend_version='1.0.0', basis_gates=['u1', 'u2', 'u3', 'cx', 'id'], conditional=False, coupling_map=[[0, 1], [1, 0], [1, 2], [1, 3], [2, 1], [3, 1], [3, 4], [4, 3]], credits_required=True, description='5 qubit device London', gates=[GateConfig(coupling_map=[[0], [1], [2], [3], [4]], name='id', parameters=[], qasm_def='gate id q { U(0,0,0) q; }'), GateConfig(coupling_map=[[0], [1], [2], [3], [4]], name='u1', parameters=['lambda'], qasm_def='gate u1(lambda) q { U(0,0,lambda) q; }'), GateConfig(coupling_map=[[0], [1], [2], [3], [4]], name='u2', parameters=['phi', 'lambda'], qasm_def='gate u2(phi,lambda) q { U(pi/2,phi,lambda) q; }'), GateConfig(coupling_map=[[0], [1], [2], [3], [4]], name='u3', parameters=['theta', 'phi', 'lambda'], qasm_def='gate u3(theta,phi,lambda) q { U(theta,phi,lambda) q; }'), GateConfig(coupling_map=[[0, 1], [1, 0], [1, 2], [1, 3], [2, 1], [3, 1], [3, 4], [4, 3]], name='cx', parameters=[], qasm_def='gate cx q1,q2 { CX q1,q2; }')], local=False, max_experiments=75, max_shots=8192, memory=True, n_qubits=5, n_registers=1, online_date=datetime.datetime(2019, 9, 13, 4, 0, tzinfo=datetime.timezone.utc), open_pulse=False, quantum_volume=16, sample_name='Giraffe', simulator=False, url='None')\n",
            "BackendProperties(backend_name='ibmq_london', backend_version='1.0.0', gates=[Gate(gate='id', name='id_0', parameters=[Nduv(date=datetime.datetime(2019, 11, 19, 8, 14, 46, tzinfo=datetime.timezone.utc), name='gate_error', unit='', value=0.00024224374804775767), Nduv(date=datetime.datetime(2019, 11, 19, 8, 27, 58, tzinfo=datetime.timezone.utc), name='gate_length', unit='ns', value=35.55555555555556)], qubits=[0]), Gate(gate='u1', name='u1_0', parameters=[Nduv(date=datetime.datetime(2019, 11, 19, 8, 14, 46, tzinfo=datetime.timezone.utc), name='gate_error', unit='', value=0.0), Nduv(date=datetime.datetime(2019, 11, 19, 8, 27, 58, tzinfo=datetime.timezone.utc), name='gate_length', unit='ns', value=0.0)], qubits=[0]), Gate(gate='u2', name='u2_0', parameters=[Nduv(date=datetime.datetime(2019, 11, 19, 8, 14, 46, tzinfo=datetime.timezone.utc), name='gate_error', unit='', value=0.00024224374804775767), Nduv(date=datetime.datetime(2019, 11, 19, 8, 27, 58, tzinfo=datetime.timezone.utc), name='gate_length', unit='ns', value=35.55555555555556)], qubits=[0]), Gate(gate='u3', name='u3_0', parameters=[Nduv(date=datetime.datetime(2019, 11, 19, 8, 14, 46, tzinfo=datetime.timezone.utc), name='gate_error', unit='', value=0.00048448749609551533), Nduv(date=datetime.datetime(2019, 11, 19, 8, 27, 58, tzinfo=datetime.timezone.utc), name='gate_length', unit='ns', value=71.11111111111111)], qubits=[0]), Gate(gate='id', name='id_1', parameters=[Nduv(date=datetime.datetime(2019, 11, 19, 8, 15, 33, tzinfo=datetime.timezone.utc), name='gate_error', unit='', value=0.0003865413109417161), Nduv(date=datetime.datetime(2019, 11, 19, 8, 27, 58, tzinfo=datetime.timezone.utc), name='gate_length', unit='ns', value=35.55555555555556)], qubits=[1]), Gate(gate='u1', name='u1_1', parameters=[Nduv(date=datetime.datetime(2019, 11, 19, 8, 15, 33, tzinfo=datetime.timezone.utc), name='gate_error', unit='', value=0.0), Nduv(date=datetime.datetime(2019, 11, 19, 8, 27, 58, tzinfo=datetime.timezone.utc), name='gate_length', unit='ns', value=0.0)], qubits=[1]), Gate(gate='u2', name='u2_1', parameters=[Nduv(date=datetime.datetime(2019, 11, 19, 8, 15, 33, tzinfo=datetime.timezone.utc), name='gate_error', unit='', value=0.0003865413109417161), Nduv(date=datetime.datetime(2019, 11, 19, 8, 27, 58, tzinfo=datetime.timezone.utc), name='gate_length', unit='ns', value=35.55555555555556)], qubits=[1]), Gate(gate='u3', name='u3_1', parameters=[Nduv(date=datetime.datetime(2019, 11, 19, 8, 15, 33, tzinfo=datetime.timezone.utc), name='gate_error', unit='', value=0.0007730826218834323), Nduv(date=datetime.datetime(2019, 11, 19, 8, 27, 58, tzinfo=datetime.timezone.utc), name='gate_length', unit='ns', value=71.11111111111111)], qubits=[1]), Gate(gate='id', name='id_2', parameters=[Nduv(date=datetime.datetime(2019, 11, 19, 8, 14, 46, tzinfo=datetime.timezone.utc), name='gate_error', unit='', value=0.00045449638853158097), Nduv(date=datetime.datetime(2019, 11, 19, 8, 27, 58, tzinfo=datetime.timezone.utc), name='gate_length', unit='ns', value=35.55555555555556)], qubits=[2]), Gate(gate='u1', name='u1_2', parameters=[Nduv(date=datetime.datetime(2019, 11, 19, 8, 14, 46, tzinfo=datetime.timezone.utc), name='gate_error', unit='', value=0.0), Nduv(date=datetime.datetime(2019, 11, 19, 8, 27, 58, tzinfo=datetime.timezone.utc), name='gate_length', unit='ns', value=0.0)], qubits=[2]), Gate(gate='u2', name='u2_2', parameters=[Nduv(date=datetime.datetime(2019, 11, 19, 8, 14, 46, tzinfo=datetime.timezone.utc), name='gate_error', unit='', value=0.00045449638853158097), Nduv(date=datetime.datetime(2019, 11, 19, 8, 27, 58, tzinfo=datetime.timezone.utc), name='gate_length', unit='ns', value=35.55555555555556)], qubits=[2]), Gate(gate='u3', name='u3_2', parameters=[Nduv(date=datetime.datetime(2019, 11, 19, 8, 14, 46, tzinfo=datetime.timezone.utc), name='gate_error', unit='', value=0.0009089927770631619), Nduv(date=datetime.datetime(2019, 11, 19, 8, 27, 58, tzinfo=datetime.timezone.utc), name='gate_length', unit='ns', value=71.11111111111111)], qubits=[2]), Gate(gate='id', name='id_3', parameters=[Nduv(date=datetime.datetime(2019, 11, 19, 8, 14, 46, tzinfo=datetime.timezone.utc), name='gate_error', unit='', value=0.00023355579589998267), Nduv(date=datetime.datetime(2019, 11, 19, 8, 27, 58, tzinfo=datetime.timezone.utc), name='gate_length', unit='ns', value=35.55555555555556)], qubits=[3]), Gate(gate='u1', name='u1_3', parameters=[Nduv(date=datetime.datetime(2019, 11, 19, 8, 14, 46, tzinfo=datetime.timezone.utc), name='gate_error', unit='', value=0.0), Nduv(date=datetime.datetime(2019, 11, 19, 8, 27, 58, tzinfo=datetime.timezone.utc), name='gate_length', unit='ns', value=0.0)], qubits=[3]), Gate(gate='u2', name='u2_3', parameters=[Nduv(date=datetime.datetime(2019, 11, 19, 8, 14, 46, tzinfo=datetime.timezone.utc), name='gate_error', unit='', value=0.00023355579589998267), Nduv(date=datetime.datetime(2019, 11, 19, 8, 27, 58, tzinfo=datetime.timezone.utc), name='gate_length', unit='ns', value=35.55555555555556)], qubits=[3]), Gate(gate='u3', name='u3_3', parameters=[Nduv(date=datetime.datetime(2019, 11, 19, 8, 14, 46, tzinfo=datetime.timezone.utc), name='gate_error', unit='', value=0.00046711159179996535), Nduv(date=datetime.datetime(2019, 11, 19, 8, 27, 58, tzinfo=datetime.timezone.utc), name='gate_length', unit='ns', value=71.11111111111111)], qubits=[3]), Gate(gate='id', name='id_4', parameters=[Nduv(date=datetime.datetime(2019, 11, 19, 8, 15, 33, tzinfo=datetime.timezone.utc), name='gate_error', unit='', value=0.0003990078732276052), Nduv(date=datetime.datetime(2019, 11, 19, 8, 27, 58, tzinfo=datetime.timezone.utc), name='gate_length', unit='ns', value=35.55555555555556)], qubits=[4]), Gate(gate='u1', name='u1_4', parameters=[Nduv(date=datetime.datetime(2019, 11, 19, 8, 15, 33, tzinfo=datetime.timezone.utc), name='gate_error', unit='', value=0.0), Nduv(date=datetime.datetime(2019, 11, 19, 8, 27, 58, tzinfo=datetime.timezone.utc), name='gate_length', unit='ns', value=0.0)], qubits=[4]), Gate(gate='u2', name='u2_4', parameters=[Nduv(date=datetime.datetime(2019, 11, 19, 8, 15, 33, tzinfo=datetime.timezone.utc), name='gate_error', unit='', value=0.0003990078732276052), Nduv(date=datetime.datetime(2019, 11, 19, 8, 27, 58, tzinfo=datetime.timezone.utc), name='gate_length', unit='ns', value=35.55555555555556)], qubits=[4]), Gate(gate='u3', name='u3_4', parameters=[Nduv(date=datetime.datetime(2019, 11, 19, 8, 15, 33, tzinfo=datetime.timezone.utc), name='gate_error', unit='', value=0.0007980157464552104), Nduv(date=datetime.datetime(2019, 11, 19, 8, 27, 58, tzinfo=datetime.timezone.utc), name='gate_length', unit='ns', value=71.11111111111111)], qubits=[4]), Gate(gate='cx', name='cx0_1', parameters=[Nduv(date=datetime.datetime(2019, 11, 19, 8, 18, 20, tzinfo=datetime.timezone.utc), name='gate_error', unit='', value=0.007257097608848406), Nduv(date=datetime.datetime(2019, 11, 19, 8, 27, 58, tzinfo=datetime.timezone.utc), name='gate_length', unit='ns', value=241.77777777777777)], qubits=[0, 1]), Gate(gate='cx', name='cx1_0', parameters=[Nduv(date=datetime.datetime(2019, 11, 19, 8, 18, 20, tzinfo=datetime.timezone.utc), name='gate_error', unit='', value=0.007257097608848406), Nduv(date=datetime.datetime(2019, 11, 19, 8, 27, 58, tzinfo=datetime.timezone.utc), name='gate_length', unit='ns', value=241.77777777777777)], qubits=[1, 0]), Gate(gate='cx', name='cx1_2', parameters=[Nduv(date=datetime.datetime(2019, 11, 19, 8, 21, 48, tzinfo=datetime.timezone.utc), name='gate_error', unit='', value=0.024981827391178046), Nduv(date=datetime.datetime(2019, 11, 19, 8, 27, 58, tzinfo=datetime.timezone.utc), name='gate_length', unit='ns', value=305.77777777777777)], qubits=[1, 2]), Gate(gate='cx', name='cx1_3', parameters=[Nduv(date=datetime.datetime(2019, 11, 19, 8, 24, 58, tzinfo=datetime.timezone.utc), name='gate_error', unit='', value=0.007954074665301736), Nduv(date=datetime.datetime(2019, 11, 19, 8, 27, 58, tzinfo=datetime.timezone.utc), name='gate_length', unit='ns', value=433.77777777777777)], qubits=[1, 3]), Gate(gate='cx', name='cx2_1', parameters=[Nduv(date=datetime.datetime(2019, 11, 19, 8, 21, 48, tzinfo=datetime.timezone.utc), name='gate_error', unit='', value=0.024981827391178046), Nduv(date=datetime.datetime(2019, 11, 19, 8, 27, 58, tzinfo=datetime.timezone.utc), name='gate_length', unit='ns', value=305.77777777777777)], qubits=[2, 1]), Gate(gate='cx', name='cx3_1', parameters=[Nduv(date=datetime.datetime(2019, 11, 19, 8, 24, 58, tzinfo=datetime.timezone.utc), name='gate_error', unit='', value=0.007954074665301736), Nduv(date=datetime.datetime(2019, 11, 19, 8, 27, 58, tzinfo=datetime.timezone.utc), name='gate_length', unit='ns', value=433.77777777777777)], qubits=[3, 1]), Gate(gate='cx', name='cx3_4', parameters=[Nduv(date=datetime.datetime(2019, 11, 19, 8, 27, 58, tzinfo=datetime.timezone.utc), name='gate_error', unit='', value=0.011113105529863249), Nduv(date=datetime.datetime(2019, 11, 19, 8, 27, 58, tzinfo=datetime.timezone.utc), name='gate_length', unit='ns', value=817.7777777777777)], qubits=[3, 4]), Gate(gate='cx', name='cx4_3', parameters=[Nduv(date=datetime.datetime(2019, 11, 19, 8, 27, 58, tzinfo=datetime.timezone.utc), name='gate_error', unit='', value=0.011113105529863249), Nduv(date=datetime.datetime(2019, 11, 19, 8, 27, 58, tzinfo=datetime.timezone.utc), name='gate_length', unit='ns', value=817.7777777777777)], qubits=[4, 3])], general=[], last_update_date=datetime.datetime(2019, 11, 19, 8, 27, 58, tzinfo=datetime.timezone.utc), qubits=[[Nduv(date=datetime.datetime(2019, 11, 19, 8, 12, 42, tzinfo=datetime.timezone.utc), name='T1', unit='µs', value=64.3941543228813), Nduv(date=datetime.datetime(2019, 11, 19, 8, 13, 23, tzinfo=datetime.timezone.utc), name='T2', unit='µs', value=81.26578667428593), Nduv(date=datetime.datetime(2019, 11, 19, 8, 27, 58, tzinfo=datetime.timezone.utc), name='frequency', unit='GHz', value=5.254061989453832), Nduv(date=datetime.datetime(2019, 11, 19, 8, 12, 13, tzinfo=datetime.timezone.utc), name='readout_error', unit='', value=0.02499999999999991), Nduv(date=datetime.datetime(2019, 11, 19, 8, 12, 13, tzinfo=datetime.timezone.utc), name='prob_meas0_prep1', unit='', value=0.036666666666666625), Nduv(date=datetime.datetime(2019, 11, 19, 8, 12, 13, tzinfo=datetime.timezone.utc), name='prob_meas1_prep0', unit='', value=0.013333333333333334)], [Nduv(date=datetime.datetime(2019, 11, 19, 8, 12, 42, tzinfo=datetime.timezone.utc), name='T1', unit='µs', value=64.94915265659091), Nduv(date=datetime.datetime(2019, 11, 19, 8, 14, 4, tzinfo=datetime.timezone.utc), name='T2', unit='µs', value=49.2969315899979), Nduv(date=datetime.datetime(2019, 11, 19, 8, 27, 58, tzinfo=datetime.timezone.utc), name='frequency', unit='GHz', value=5.048745862985357), Nduv(date=datetime.datetime(2019, 11, 19, 8, 12, 13, tzinfo=datetime.timezone.utc), name='readout_error', unit='', value=0.036666666666666625), Nduv(date=datetime.datetime(2019, 11, 19, 8, 12, 13, tzinfo=datetime.timezone.utc), name='prob_meas0_prep1', unit='', value=0.06000000000000005), Nduv(date=datetime.datetime(2019, 11, 19, 8, 12, 13, tzinfo=datetime.timezone.utc), name='prob_meas1_prep0', unit='', value=0.013333333333333334)], [Nduv(date=datetime.datetime(2019, 11, 19, 8, 12, 42, tzinfo=datetime.timezone.utc), name='T1', unit='µs', value=57.45885738074015), Nduv(date=datetime.datetime(2019, 11, 19, 8, 13, 23, tzinfo=datetime.timezone.utc), name='T2', unit='µs', value=94.06773407036839), Nduv(date=datetime.datetime(2019, 11, 19, 8, 27, 58, tzinfo=datetime.timezone.utc), name='frequency', unit='GHz', value=5.230614019248117), Nduv(date=datetime.datetime(2019, 11, 19, 8, 12, 13, tzinfo=datetime.timezone.utc), name='readout_error', unit='', value=0.033333333333333326), Nduv(date=datetime.datetime(2019, 11, 19, 8, 12, 13, tzinfo=datetime.timezone.utc), name='prob_meas0_prep1', unit='', value=0.040000000000000036), Nduv(date=datetime.datetime(2019, 11, 19, 8, 12, 13, tzinfo=datetime.timezone.utc), name='prob_meas1_prep0', unit='', value=0.02666666666666667)], [Nduv(date=datetime.datetime(2019, 11, 19, 8, 12, 42, tzinfo=datetime.timezone.utc), name='T1', unit='µs', value=91.41305551666868), Nduv(date=datetime.datetime(2019, 11, 19, 8, 13, 23, tzinfo=datetime.timezone.utc), name='T2', unit='µs', value=125.19988997205803), Nduv(date=datetime.datetime(2019, 11, 19, 8, 27, 58, tzinfo=datetime.timezone.utc), name='frequency', unit='GHz', value=5.200912302963144), Nduv(date=datetime.datetime(2019, 11, 19, 8, 12, 13, tzinfo=datetime.timezone.utc), name='readout_error', unit='', value=0.02833333333333332), Nduv(date=datetime.datetime(2019, 11, 19, 8, 12, 13, tzinfo=datetime.timezone.utc), name='prob_meas0_prep1', unit='', value=0.03), Nduv(date=datetime.datetime(2019, 11, 19, 8, 12, 13, tzinfo=datetime.timezone.utc), name='prob_meas1_prep0', unit='', value=0.026666666666666616)], [Nduv(date=datetime.datetime(2019, 11, 19, 8, 12, 42, tzinfo=datetime.timezone.utc), name='T1', unit='µs', value=69.9485233269213), Nduv(date=datetime.datetime(2019, 11, 19, 8, 14, 4, tzinfo=datetime.timezone.utc), name='T2', unit='µs', value=27.31735578542831), Nduv(date=datetime.datetime(2019, 11, 19, 8, 27, 58, tzinfo=datetime.timezone.utc), name='frequency', unit='GHz', value=5.06584251589964), Nduv(date=datetime.datetime(2019, 11, 19, 8, 12, 13, tzinfo=datetime.timezone.utc), name='readout_error', unit='', value=0.021666666666666723), Nduv(date=datetime.datetime(2019, 11, 19, 8, 12, 13, tzinfo=datetime.timezone.utc), name='prob_meas0_prep1', unit='', value=0.036666666666666625), Nduv(date=datetime.datetime(2019, 11, 19, 8, 12, 13, tzinfo=datetime.timezone.utc), name='prob_meas1_prep0', unit='', value=0.006666666666666667)]])\n"
          ],
          "name": "stdout"
        }
      ]
    },
    {
      "cell_type": "markdown",
      "metadata": {
        "id": "6U1fAbWadOm_",
        "colab_type": "text"
      },
      "source": [
        "### Configuration"
      ]
    },
    {
      "cell_type": "markdown",
      "metadata": {
        "id": "yYKooJ0eeDRc",
        "colab_type": "text"
      },
      "source": [
        "#### Hierarchy structure of Configuration"
      ]
    },
    {
      "cell_type": "markdown",
      "metadata": {
        "id": "oSeSU4ynePjR",
        "colab_type": "text"
      },
      "source": [
        "- `allow_object_storage` = True\n",
        "- `allow_q_circuit` = False\n",
        "- `backend_name` = 'ibmq_london'\n",
        "- `backend_version` = '1.0.0'\n",
        "- `basis_gates` = `['u1', 'u2', 'u3', 'cx', 'id']`\n",
        "- `conditional` = False\n",
        "- `coupling_map` = `[[0, 1], [1, 0], [1, 2], [1, 3], [2, 1], [3, 1], [3, 4], [4, 3]]`\n",
        "- `credits_required` = True\n",
        "- `description` = '5 qubit device London'\n",
        "- `gates` - **GateConfig** stored in list\n",
        "    - **id**\n",
        "        - `coupling_map` = `[[0], [1], [2], [3], [4]]`\n",
        "        - `name` = `id`\n",
        "        - `parameters` = `[]`\n",
        "        - `qasm_def` = **gate id q** `{ U(0,0,0) q; }`\n",
        "    - **u1**\n",
        "        - `coupling_map` = `[[0], [1], [2], [3], [4]]`\n",
        "        - `name` = `u1`\n",
        "        - `parameters` = `['lambda']`\n",
        "        - `qasm_def` = **gate u1(lambda) q** `{ U(0,0,lambda) q; }`\n",
        "    - **u2**\n",
        "        - `coupling_map` = `[[0], [1], [2], [3], [4]]`\n",
        "        - `name` = `u2`\n",
        "        - `parameters` = `['phi', 'lambda']`\n",
        "        - `qasm_def` = **gate u2(phi,lambda) q** `{ U(pi/2,phi,lambda) q; }`\n",
        "    - **u3**\n",
        "        - `coupling_map` = `[[0], [1], [2], [3], [4]]`\n",
        "        - `name` = `u3`\n",
        "        - `parameters` = `['theta', 'phi', 'lambda']`\n",
        "        - `qasm_def` = **gate u3(theta,phi,lambda) q** `{ U(theta,phi,lambda) q; }`\n",
        "    - **cx**\n",
        "        - `coupling_map` = `[[0, 1], [1, 0], [1, 2], [1, 3], [2, 1], [3, 1], [3, 4], [4, 3]]`\n",
        "        - `name` = `cx`\n",
        "        - `parameters` = []\n",
        "        - `qasm_def` = **gate cx q1,q2** `{ CX q1,q2; }`\n",
        "- `local` = False\n",
        "- `max_experiments` = 75\n",
        "- `max_shots` = 8192\n",
        "- `memory` = True\n",
        "- `n_qubits` = 5\n",
        "- `n_registers` = 1\n",
        "- `online_date` = `datetime.datetime(2019, 9, 13, 4, 0, tzinfo=datetime.timezone.utc)`\n",
        "- `open_pulse` = False\n",
        "- `quantum_volume` = 16\n",
        "- `sample_name` = 'Giraffe'\n",
        "- `simulator` = False\n",
        "- `url` = 'None'"
      ]
    },
    {
      "cell_type": "markdown",
      "metadata": {
        "id": "ydyQLlk_eLBS",
        "colab_type": "text"
      },
      "source": [
        "#### check the properties parameter"
      ]
    },
    {
      "cell_type": "code",
      "metadata": {
        "id": "VMBaWf_GyDl4",
        "colab_type": "code",
        "outputId": "af83852c-5aa2-401a-98a3-9f2b8c9d6f21",
        "colab": {
          "base_uri": "https://localhost:8080/",
          "height": 513
        }
      },
      "source": [
        "# configuration\n",
        "for op in dir(config):\n",
        "    if op[0] == '_':\n",
        "        continue\n",
        "    print(\"{} : \".format(op), end=\"\")\n",
        "    exec(\"print(config.{})\".format(op))"
      ],
      "execution_count": 0,
      "outputs": [
        {
          "output_type": "stream",
          "text": [
            "allow_object_storage : True\n",
            "allow_q_circuit : False\n",
            "allow_q_object : True\n",
            "as_dict : <bound method BaseModel.as_dict of QasmBackendConfiguration(allow_object_storage=True, allow_q_circuit=False, allow_q_object=True, backend_name='ibmq_london', backend_version='1.0.0', basis_gates=['u1', 'u2', 'u3', 'cx', 'id'], conditional=False, coupling_map=[[0, 1], [1, 0], [1, 2], [1, 3], [2, 1], [3, 1], [3, 4], [4, 3]], credits_required=True, description='5 qubit device London', gates=[GateConfig(coupling_map=[[0], [1], [2], [3], [4]], name='id', parameters=[], qasm_def='gate id q { U(0,0,0) q; }'), GateConfig(coupling_map=[[0], [1], [2], [3], [4]], name='u1', parameters=['lambda'], qasm_def='gate u1(lambda) q { U(0,0,lambda) q; }'), GateConfig(coupling_map=[[0], [1], [2], [3], [4]], name='u2', parameters=['phi', 'lambda'], qasm_def='gate u2(phi,lambda) q { U(pi/2,phi,lambda) q; }'), GateConfig(coupling_map=[[0], [1], [2], [3], [4]], name='u3', parameters=['theta', 'phi', 'lambda'], qasm_def='gate u3(theta,phi,lambda) q { U(theta,phi,lambda) q; }'), GateConfig(coupling_map=[[0, 1], [1, 0], [1, 2], [1, 3], [2, 1], [3, 1], [3, 4], [4, 3]], name='cx', parameters=[], qasm_def='gate cx q1,q2 { CX q1,q2; }')], local=False, max_experiments=75, max_shots=8192, memory=True, n_qubits=5, n_registers=1, online_date=datetime.datetime(2019, 9, 13, 4, 0, tzinfo=datetime.timezone.utc), open_pulse=False, quantum_volume=16, sample_name='Giraffe', simulator=False, url='None')>\n",
            "backend_name : ibmq_london\n",
            "backend_version : 1.0.0\n",
            "basis_gates : ['u1', 'u2', 'u3', 'cx', 'id']\n",
            "conditional : False\n",
            "coupling_map : [[0, 1], [1, 0], [1, 2], [1, 3], [2, 1], [3, 1], [3, 4], [4, 3]]\n",
            "credits_required : True\n",
            "description : 5 qubit device London\n",
            "from_dict : <bound method BaseModel.from_dict of <class 'qiskit.providers.models.backendconfiguration.QasmBackendConfiguration'>>\n",
            "gates : [GateConfig(coupling_map=[[0], [1], [2], [3], [4]], name='id', parameters=[], qasm_def='gate id q { U(0,0,0) q; }'), GateConfig(coupling_map=[[0], [1], [2], [3], [4]], name='u1', parameters=['lambda'], qasm_def='gate u1(lambda) q { U(0,0,lambda) q; }'), GateConfig(coupling_map=[[0], [1], [2], [3], [4]], name='u2', parameters=['phi', 'lambda'], qasm_def='gate u2(phi,lambda) q { U(pi/2,phi,lambda) q; }'), GateConfig(coupling_map=[[0], [1], [2], [3], [4]], name='u3', parameters=['theta', 'phi', 'lambda'], qasm_def='gate u3(theta,phi,lambda) q { U(theta,phi,lambda) q; }'), GateConfig(coupling_map=[[0, 1], [1, 0], [1, 2], [1, 3], [2, 1], [3, 1], [3, 4], [4, 3]], name='cx', parameters=[], qasm_def='gate cx q1,q2 { CX q1,q2; }')]\n",
            "local : False\n",
            "max_experiments : 75\n",
            "max_shots : 8192\n",
            "memory : True\n",
            "n_qubits : 5\n",
            "n_registers : 1\n",
            "online_date : 2019-09-13 04:00:00+00:00\n",
            "open_pulse : False\n",
            "quantum_volume : 16\n",
            "sample_name : Giraffe\n",
            "schema : <QasmBackendConfigurationSchema(many=False)>\n",
            "shallow_schema : <QasmBackendConfigurationSchema(many=False)>\n",
            "simulator : False\n",
            "to_dict : <bound method BaseModel.to_dict of QasmBackendConfiguration(allow_object_storage=True, allow_q_circuit=False, allow_q_object=True, backend_name='ibmq_london', backend_version='1.0.0', basis_gates=['u1', 'u2', 'u3', 'cx', 'id'], conditional=False, coupling_map=[[0, 1], [1, 0], [1, 2], [1, 3], [2, 1], [3, 1], [3, 4], [4, 3]], credits_required=True, description='5 qubit device London', gates=[GateConfig(coupling_map=[[0], [1], [2], [3], [4]], name='id', parameters=[], qasm_def='gate id q { U(0,0,0) q; }'), GateConfig(coupling_map=[[0], [1], [2], [3], [4]], name='u1', parameters=['lambda'], qasm_def='gate u1(lambda) q { U(0,0,lambda) q; }'), GateConfig(coupling_map=[[0], [1], [2], [3], [4]], name='u2', parameters=['phi', 'lambda'], qasm_def='gate u2(phi,lambda) q { U(pi/2,phi,lambda) q; }'), GateConfig(coupling_map=[[0], [1], [2], [3], [4]], name='u3', parameters=['theta', 'phi', 'lambda'], qasm_def='gate u3(theta,phi,lambda) q { U(theta,phi,lambda) q; }'), GateConfig(coupling_map=[[0, 1], [1, 0], [1, 2], [1, 3], [2, 1], [3, 1], [3, 4], [4, 3]], name='cx', parameters=[], qasm_def='gate cx q1,q2 { CX q1,q2; }')], local=False, max_experiments=75, max_shots=8192, memory=True, n_qubits=5, n_registers=1, online_date=datetime.datetime(2019, 9, 13, 4, 0, tzinfo=datetime.timezone.utc), open_pulse=False, quantum_volume=16, sample_name='Giraffe', simulator=False, url='None')>\n",
            "url : None\n"
          ],
          "name": "stdout"
        }
      ]
    },
    {
      "cell_type": "markdown",
      "metadata": {
        "id": "MBaSi7CBdduu",
        "colab_type": "text"
      },
      "source": [
        "### Properties\n"
      ]
    },
    {
      "cell_type": "markdown",
      "metadata": {
        "id": "gzty5F-Gd-Wq",
        "colab_type": "text"
      },
      "source": [
        "#### Hierarchy Structure of Properties"
      ]
    },
    {
      "cell_type": "markdown",
      "metadata": {
        "id": "_96xY_9SdnaB",
        "colab_type": "text"
      },
      "source": [
        "- `backend_name` = 'ibmq_london'\n",
        "- `backend_version` = '1.0.0'\n",
        "- `gates` - gates are stored in a list with order\n",
        "    - `gate` = id, u1, u2, u3, cx\n",
        "    - `name` = id_0, u1_2, cx4_3...\n",
        "    - `parameters` - distinguished by **Nduv**\n",
        "        - **Gate error**\n",
        "            - `date` - date & time_zone\n",
        "            - `name` = gate error\n",
        "            - `unit` = ' ' \n",
        "            - `value` = 0.00024224374804775767\n",
        "        - **Gate length**\n",
        "            - `date` - date & time_zone\n",
        "            - `name` - gate length\n",
        "            - `unit` - ns\n",
        "            - `value` - 35.55555555555556\n",
        "    - `qubits` = [0] - qubit 0, [2] - qubit 2, [4,3] - cx (4->3) \n",
        "- `qubits` - qubit is stored in order in list. `q0, q1, q2, q3, q4`\n",
        "    - qubit - qubit information is stored in a list by **Nduv**\n",
        "        - **T1**\n",
        "            - `date` - date & time_zone\n",
        "            - `name` - T1\n",
        "            - `unit` - µs\n",
        "            - `value` - 64.3941543228813\n",
        "        - **T2**\n",
        "            - `date`\n",
        "            - `name` - T2\n",
        "            - `unit` - µs\n",
        "            - `value` - 81.26578667428593 \n",
        "        - **Frequency**\n",
        "            - `date`\n",
        "            - `name` - frequency\n",
        "            - `unit` - GHz\n",
        "            - `value` - 5.254061989453832\n",
        "        - **Readout error**\n",
        "            - `date`\n",
        "            - `name` - readout_error\n",
        "            - `unit` - \"\"\n",
        "            - `value` - 0.02499999999999991\n",
        "        - **Probability Measure 0 prep 1**\n",
        "            - `date`\n",
        "            - `name` - prob_meas0_prep1\n",
        "            - `unit` - \"\"\n",
        "            - `value` - 0.036666666666666625\n",
        "        - **Probability Measure 1 prep 0**\n",
        "            - `date`\n",
        "            - `name` - prob_meas1_prep0\n",
        "            - `unit` - \"\"\n",
        "            - `value` - 0.013333333333333334"
      ]
    },
    {
      "cell_type": "markdown",
      "metadata": {
        "id": "RBMcNrxqdtNa",
        "colab_type": "text"
      },
      "source": [
        "#### check the properties parameter"
      ]
    },
    {
      "cell_type": "code",
      "metadata": {
        "id": "b-6Hw9Jstgt7",
        "colab_type": "code",
        "outputId": "6b4d4777-074f-47d3-972b-0e043896375e",
        "colab": {
          "base_uri": "https://localhost:8080/",
          "height": 224
        }
      },
      "source": [
        "# properities\n",
        "for op in dir(proper):\n",
        "    if op[0] == '_':\n",
        "        continue\n",
        "    print(\"{} : \".format(op), end=\"\")\n",
        "    exec(\"print(proper.{})\".format(op))"
      ],
      "execution_count": 0,
      "outputs": [
        {
          "output_type": "stream",
          "text": [
            "as_dict : <bound method BaseModel.as_dict of BackendProperties(backend_name='ibmq_london', backend_version='1.0.0', gates=[Gate(gate='id', name='id_0', parameters=[Nduv(date=datetime.datetime(2019, 11, 19, 8, 14, 46, tzinfo=datetime.timezone.utc), name='gate_error', unit='', value=0.00024224374804775767), Nduv(date=datetime.datetime(2019, 11, 19, 8, 27, 58, tzinfo=datetime.timezone.utc), name='gate_length', unit='ns', value=35.55555555555556)], qubits=[0]), Gate(gate='u1', name='u1_0', parameters=[Nduv(date=datetime.datetime(2019, 11, 19, 8, 14, 46, tzinfo=datetime.timezone.utc), name='gate_error', unit='', value=0.0), Nduv(date=datetime.datetime(2019, 11, 19, 8, 27, 58, tzinfo=datetime.timezone.utc), name='gate_length', unit='ns', value=0.0)], qubits=[0]), Gate(gate='u2', name='u2_0', parameters=[Nduv(date=datetime.datetime(2019, 11, 19, 8, 14, 46, tzinfo=datetime.timezone.utc), name='gate_error', unit='', value=0.00024224374804775767), Nduv(date=datetime.datetime(2019, 11, 19, 8, 27, 58, tzinfo=datetime.timezone.utc), name='gate_length', unit='ns', value=35.55555555555556)], qubits=[0]), Gate(gate='u3', name='u3_0', parameters=[Nduv(date=datetime.datetime(2019, 11, 19, 8, 14, 46, tzinfo=datetime.timezone.utc), name='gate_error', unit='', value=0.00048448749609551533), Nduv(date=datetime.datetime(2019, 11, 19, 8, 27, 58, tzinfo=datetime.timezone.utc), name='gate_length', unit='ns', value=71.11111111111111)], qubits=[0]), Gate(gate='id', name='id_1', parameters=[Nduv(date=datetime.datetime(2019, 11, 19, 8, 15, 33, tzinfo=datetime.timezone.utc), name='gate_error', unit='', value=0.0003865413109417161), Nduv(date=datetime.datetime(2019, 11, 19, 8, 27, 58, tzinfo=datetime.timezone.utc), name='gate_length', unit='ns', value=35.55555555555556)], qubits=[1]), Gate(gate='u1', name='u1_1', parameters=[Nduv(date=datetime.datetime(2019, 11, 19, 8, 15, 33, tzinfo=datetime.timezone.utc), name='gate_error', unit='', value=0.0), Nduv(date=datetime.datetime(2019, 11, 19, 8, 27, 58, tzinfo=datetime.timezone.utc), name='gate_length', unit='ns', value=0.0)], qubits=[1]), Gate(gate='u2', name='u2_1', parameters=[Nduv(date=datetime.datetime(2019, 11, 19, 8, 15, 33, tzinfo=datetime.timezone.utc), name='gate_error', unit='', value=0.0003865413109417161), Nduv(date=datetime.datetime(2019, 11, 19, 8, 27, 58, tzinfo=datetime.timezone.utc), name='gate_length', unit='ns', value=35.55555555555556)], qubits=[1]), Gate(gate='u3', name='u3_1', parameters=[Nduv(date=datetime.datetime(2019, 11, 19, 8, 15, 33, tzinfo=datetime.timezone.utc), name='gate_error', unit='', value=0.0007730826218834323), Nduv(date=datetime.datetime(2019, 11, 19, 8, 27, 58, tzinfo=datetime.timezone.utc), name='gate_length', unit='ns', value=71.11111111111111)], qubits=[1]), Gate(gate='id', name='id_2', parameters=[Nduv(date=datetime.datetime(2019, 11, 19, 8, 14, 46, tzinfo=datetime.timezone.utc), name='gate_error', unit='', value=0.00045449638853158097), Nduv(date=datetime.datetime(2019, 11, 19, 8, 27, 58, tzinfo=datetime.timezone.utc), name='gate_length', unit='ns', value=35.55555555555556)], qubits=[2]), Gate(gate='u1', name='u1_2', parameters=[Nduv(date=datetime.datetime(2019, 11, 19, 8, 14, 46, tzinfo=datetime.timezone.utc), name='gate_error', unit='', value=0.0), Nduv(date=datetime.datetime(2019, 11, 19, 8, 27, 58, tzinfo=datetime.timezone.utc), name='gate_length', unit='ns', value=0.0)], qubits=[2]), Gate(gate='u2', name='u2_2', parameters=[Nduv(date=datetime.datetime(2019, 11, 19, 8, 14, 46, tzinfo=datetime.timezone.utc), name='gate_error', unit='', value=0.00045449638853158097), Nduv(date=datetime.datetime(2019, 11, 19, 8, 27, 58, tzinfo=datetime.timezone.utc), name='gate_length', unit='ns', value=35.55555555555556)], qubits=[2]), Gate(gate='u3', name='u3_2', parameters=[Nduv(date=datetime.datetime(2019, 11, 19, 8, 14, 46, tzinfo=datetime.timezone.utc), name='gate_error', unit='', value=0.0009089927770631619), Nduv(date=datetime.datetime(2019, 11, 19, 8, 27, 58, tzinfo=datetime.timezone.utc), name='gate_length', unit='ns', value=71.11111111111111)], qubits=[2]), Gate(gate='id', name='id_3', parameters=[Nduv(date=datetime.datetime(2019, 11, 19, 8, 14, 46, tzinfo=datetime.timezone.utc), name='gate_error', unit='', value=0.00023355579589998267), Nduv(date=datetime.datetime(2019, 11, 19, 8, 27, 58, tzinfo=datetime.timezone.utc), name='gate_length', unit='ns', value=35.55555555555556)], qubits=[3]), Gate(gate='u1', name='u1_3', parameters=[Nduv(date=datetime.datetime(2019, 11, 19, 8, 14, 46, tzinfo=datetime.timezone.utc), name='gate_error', unit='', value=0.0), Nduv(date=datetime.datetime(2019, 11, 19, 8, 27, 58, tzinfo=datetime.timezone.utc), name='gate_length', unit='ns', value=0.0)], qubits=[3]), Gate(gate='u2', name='u2_3', parameters=[Nduv(date=datetime.datetime(2019, 11, 19, 8, 14, 46, tzinfo=datetime.timezone.utc), name='gate_error', unit='', value=0.00023355579589998267), Nduv(date=datetime.datetime(2019, 11, 19, 8, 27, 58, tzinfo=datetime.timezone.utc), name='gate_length', unit='ns', value=35.55555555555556)], qubits=[3]), Gate(gate='u3', name='u3_3', parameters=[Nduv(date=datetime.datetime(2019, 11, 19, 8, 14, 46, tzinfo=datetime.timezone.utc), name='gate_error', unit='', value=0.00046711159179996535), Nduv(date=datetime.datetime(2019, 11, 19, 8, 27, 58, tzinfo=datetime.timezone.utc), name='gate_length', unit='ns', value=71.11111111111111)], qubits=[3]), Gate(gate='id', name='id_4', parameters=[Nduv(date=datetime.datetime(2019, 11, 19, 8, 15, 33, tzinfo=datetime.timezone.utc), name='gate_error', unit='', value=0.0003990078732276052), Nduv(date=datetime.datetime(2019, 11, 19, 8, 27, 58, tzinfo=datetime.timezone.utc), name='gate_length', unit='ns', value=35.55555555555556)], qubits=[4]), Gate(gate='u1', name='u1_4', parameters=[Nduv(date=datetime.datetime(2019, 11, 19, 8, 15, 33, tzinfo=datetime.timezone.utc), name='gate_error', unit='', value=0.0), Nduv(date=datetime.datetime(2019, 11, 19, 8, 27, 58, tzinfo=datetime.timezone.utc), name='gate_length', unit='ns', value=0.0)], qubits=[4]), Gate(gate='u2', name='u2_4', parameters=[Nduv(date=datetime.datetime(2019, 11, 19, 8, 15, 33, tzinfo=datetime.timezone.utc), name='gate_error', unit='', value=0.0003990078732276052), Nduv(date=datetime.datetime(2019, 11, 19, 8, 27, 58, tzinfo=datetime.timezone.utc), name='gate_length', unit='ns', value=35.55555555555556)], qubits=[4]), Gate(gate='u3', name='u3_4', parameters=[Nduv(date=datetime.datetime(2019, 11, 19, 8, 15, 33, tzinfo=datetime.timezone.utc), name='gate_error', unit='', value=0.0007980157464552104), Nduv(date=datetime.datetime(2019, 11, 19, 8, 27, 58, tzinfo=datetime.timezone.utc), name='gate_length', unit='ns', value=71.11111111111111)], qubits=[4]), Gate(gate='cx', name='cx0_1', parameters=[Nduv(date=datetime.datetime(2019, 11, 19, 8, 18, 20, tzinfo=datetime.timezone.utc), name='gate_error', unit='', value=0.007257097608848406), Nduv(date=datetime.datetime(2019, 11, 19, 8, 27, 58, tzinfo=datetime.timezone.utc), name='gate_length', unit='ns', value=241.77777777777777)], qubits=[0, 1]), Gate(gate='cx', name='cx1_0', parameters=[Nduv(date=datetime.datetime(2019, 11, 19, 8, 18, 20, tzinfo=datetime.timezone.utc), name='gate_error', unit='', value=0.007257097608848406), Nduv(date=datetime.datetime(2019, 11, 19, 8, 27, 58, tzinfo=datetime.timezone.utc), name='gate_length', unit='ns', value=241.77777777777777)], qubits=[1, 0]), Gate(gate='cx', name='cx1_2', parameters=[Nduv(date=datetime.datetime(2019, 11, 19, 8, 21, 48, tzinfo=datetime.timezone.utc), name='gate_error', unit='', value=0.024981827391178046), Nduv(date=datetime.datetime(2019, 11, 19, 8, 27, 58, tzinfo=datetime.timezone.utc), name='gate_length', unit='ns', value=305.77777777777777)], qubits=[1, 2]), Gate(gate='cx', name='cx1_3', parameters=[Nduv(date=datetime.datetime(2019, 11, 19, 8, 24, 58, tzinfo=datetime.timezone.utc), name='gate_error', unit='', value=0.007954074665301736), Nduv(date=datetime.datetime(2019, 11, 19, 8, 27, 58, tzinfo=datetime.timezone.utc), name='gate_length', unit='ns', value=433.77777777777777)], qubits=[1, 3]), Gate(gate='cx', name='cx2_1', parameters=[Nduv(date=datetime.datetime(2019, 11, 19, 8, 21, 48, tzinfo=datetime.timezone.utc), name='gate_error', unit='', value=0.024981827391178046), Nduv(date=datetime.datetime(2019, 11, 19, 8, 27, 58, tzinfo=datetime.timezone.utc), name='gate_length', unit='ns', value=305.77777777777777)], qubits=[2, 1]), Gate(gate='cx', name='cx3_1', parameters=[Nduv(date=datetime.datetime(2019, 11, 19, 8, 24, 58, tzinfo=datetime.timezone.utc), name='gate_error', unit='', value=0.007954074665301736), Nduv(date=datetime.datetime(2019, 11, 19, 8, 27, 58, tzinfo=datetime.timezone.utc), name='gate_length', unit='ns', value=433.77777777777777)], qubits=[3, 1]), Gate(gate='cx', name='cx3_4', parameters=[Nduv(date=datetime.datetime(2019, 11, 19, 8, 27, 58, tzinfo=datetime.timezone.utc), name='gate_error', unit='', value=0.011113105529863249), Nduv(date=datetime.datetime(2019, 11, 19, 8, 27, 58, tzinfo=datetime.timezone.utc), name='gate_length', unit='ns', value=817.7777777777777)], qubits=[3, 4]), Gate(gate='cx', name='cx4_3', parameters=[Nduv(date=datetime.datetime(2019, 11, 19, 8, 27, 58, tzinfo=datetime.timezone.utc), name='gate_error', unit='', value=0.011113105529863249), Nduv(date=datetime.datetime(2019, 11, 19, 8, 27, 58, tzinfo=datetime.timezone.utc), name='gate_length', unit='ns', value=817.7777777777777)], qubits=[4, 3])], general=[], last_update_date=datetime.datetime(2019, 11, 19, 8, 27, 58, tzinfo=datetime.timezone.utc), qubits=[[Nduv(date=datetime.datetime(2019, 11, 19, 8, 12, 42, tzinfo=datetime.timezone.utc), name='T1', unit='µs', value=64.3941543228813), Nduv(date=datetime.datetime(2019, 11, 19, 8, 13, 23, tzinfo=datetime.timezone.utc), name='T2', unit='µs', value=81.26578667428593), Nduv(date=datetime.datetime(2019, 11, 19, 8, 27, 58, tzinfo=datetime.timezone.utc), name='frequency', unit='GHz', value=5.254061989453832), Nduv(date=datetime.datetime(2019, 11, 19, 8, 12, 13, tzinfo=datetime.timezone.utc), name='readout_error', unit='', value=0.02499999999999991), Nduv(date=datetime.datetime(2019, 11, 19, 8, 12, 13, tzinfo=datetime.timezone.utc), name='prob_meas0_prep1', unit='', value=0.036666666666666625), Nduv(date=datetime.datetime(2019, 11, 19, 8, 12, 13, tzinfo=datetime.timezone.utc), name='prob_meas1_prep0', unit='', value=0.013333333333333334)], [Nduv(date=datetime.datetime(2019, 11, 19, 8, 12, 42, tzinfo=datetime.timezone.utc), name='T1', unit='µs', value=64.94915265659091), Nduv(date=datetime.datetime(2019, 11, 19, 8, 14, 4, tzinfo=datetime.timezone.utc), name='T2', unit='µs', value=49.2969315899979), Nduv(date=datetime.datetime(2019, 11, 19, 8, 27, 58, tzinfo=datetime.timezone.utc), name='frequency', unit='GHz', value=5.048745862985357), Nduv(date=datetime.datetime(2019, 11, 19, 8, 12, 13, tzinfo=datetime.timezone.utc), name='readout_error', unit='', value=0.036666666666666625), Nduv(date=datetime.datetime(2019, 11, 19, 8, 12, 13, tzinfo=datetime.timezone.utc), name='prob_meas0_prep1', unit='', value=0.06000000000000005), Nduv(date=datetime.datetime(2019, 11, 19, 8, 12, 13, tzinfo=datetime.timezone.utc), name='prob_meas1_prep0', unit='', value=0.013333333333333334)], [Nduv(date=datetime.datetime(2019, 11, 19, 8, 12, 42, tzinfo=datetime.timezone.utc), name='T1', unit='µs', value=57.45885738074015), Nduv(date=datetime.datetime(2019, 11, 19, 8, 13, 23, tzinfo=datetime.timezone.utc), name='T2', unit='µs', value=94.06773407036839), Nduv(date=datetime.datetime(2019, 11, 19, 8, 27, 58, tzinfo=datetime.timezone.utc), name='frequency', unit='GHz', value=5.230614019248117), Nduv(date=datetime.datetime(2019, 11, 19, 8, 12, 13, tzinfo=datetime.timezone.utc), name='readout_error', unit='', value=0.033333333333333326), Nduv(date=datetime.datetime(2019, 11, 19, 8, 12, 13, tzinfo=datetime.timezone.utc), name='prob_meas0_prep1', unit='', value=0.040000000000000036), Nduv(date=datetime.datetime(2019, 11, 19, 8, 12, 13, tzinfo=datetime.timezone.utc), name='prob_meas1_prep0', unit='', value=0.02666666666666667)], [Nduv(date=datetime.datetime(2019, 11, 19, 8, 12, 42, tzinfo=datetime.timezone.utc), name='T1', unit='µs', value=91.41305551666868), Nduv(date=datetime.datetime(2019, 11, 19, 8, 13, 23, tzinfo=datetime.timezone.utc), name='T2', unit='µs', value=125.19988997205803), Nduv(date=datetime.datetime(2019, 11, 19, 8, 27, 58, tzinfo=datetime.timezone.utc), name='frequency', unit='GHz', value=5.200912302963144), Nduv(date=datetime.datetime(2019, 11, 19, 8, 12, 13, tzinfo=datetime.timezone.utc), name='readout_error', unit='', value=0.02833333333333332), Nduv(date=datetime.datetime(2019, 11, 19, 8, 12, 13, tzinfo=datetime.timezone.utc), name='prob_meas0_prep1', unit='', value=0.03), Nduv(date=datetime.datetime(2019, 11, 19, 8, 12, 13, tzinfo=datetime.timezone.utc), name='prob_meas1_prep0', unit='', value=0.026666666666666616)], [Nduv(date=datetime.datetime(2019, 11, 19, 8, 12, 42, tzinfo=datetime.timezone.utc), name='T1', unit='µs', value=69.9485233269213), Nduv(date=datetime.datetime(2019, 11, 19, 8, 14, 4, tzinfo=datetime.timezone.utc), name='T2', unit='µs', value=27.31735578542831), Nduv(date=datetime.datetime(2019, 11, 19, 8, 27, 58, tzinfo=datetime.timezone.utc), name='frequency', unit='GHz', value=5.06584251589964), Nduv(date=datetime.datetime(2019, 11, 19, 8, 12, 13, tzinfo=datetime.timezone.utc), name='readout_error', unit='', value=0.021666666666666723), Nduv(date=datetime.datetime(2019, 11, 19, 8, 12, 13, tzinfo=datetime.timezone.utc), name='prob_meas0_prep1', unit='', value=0.036666666666666625), Nduv(date=datetime.datetime(2019, 11, 19, 8, 12, 13, tzinfo=datetime.timezone.utc), name='prob_meas1_prep0', unit='', value=0.006666666666666667)]])>\n",
            "backend_name : ibmq_london\n",
            "backend_version : 1.0.0\n",
            "from_dict : <bound method BaseModel.from_dict of <class 'qiskit.providers.models.backendproperties.BackendProperties'>>\n",
            "gates : [Gate(gate='id', name='id_0', parameters=[Nduv(date=datetime.datetime(2019, 11, 19, 8, 14, 46, tzinfo=datetime.timezone.utc), name='gate_error', unit='', value=0.00024224374804775767), Nduv(date=datetime.datetime(2019, 11, 19, 8, 27, 58, tzinfo=datetime.timezone.utc), name='gate_length', unit='ns', value=35.55555555555556)], qubits=[0]), Gate(gate='u1', name='u1_0', parameters=[Nduv(date=datetime.datetime(2019, 11, 19, 8, 14, 46, tzinfo=datetime.timezone.utc), name='gate_error', unit='', value=0.0), Nduv(date=datetime.datetime(2019, 11, 19, 8, 27, 58, tzinfo=datetime.timezone.utc), name='gate_length', unit='ns', value=0.0)], qubits=[0]), Gate(gate='u2', name='u2_0', parameters=[Nduv(date=datetime.datetime(2019, 11, 19, 8, 14, 46, tzinfo=datetime.timezone.utc), name='gate_error', unit='', value=0.00024224374804775767), Nduv(date=datetime.datetime(2019, 11, 19, 8, 27, 58, tzinfo=datetime.timezone.utc), name='gate_length', unit='ns', value=35.55555555555556)], qubits=[0]), Gate(gate='u3', name='u3_0', parameters=[Nduv(date=datetime.datetime(2019, 11, 19, 8, 14, 46, tzinfo=datetime.timezone.utc), name='gate_error', unit='', value=0.00048448749609551533), Nduv(date=datetime.datetime(2019, 11, 19, 8, 27, 58, tzinfo=datetime.timezone.utc), name='gate_length', unit='ns', value=71.11111111111111)], qubits=[0]), Gate(gate='id', name='id_1', parameters=[Nduv(date=datetime.datetime(2019, 11, 19, 8, 15, 33, tzinfo=datetime.timezone.utc), name='gate_error', unit='', value=0.0003865413109417161), Nduv(date=datetime.datetime(2019, 11, 19, 8, 27, 58, tzinfo=datetime.timezone.utc), name='gate_length', unit='ns', value=35.55555555555556)], qubits=[1]), Gate(gate='u1', name='u1_1', parameters=[Nduv(date=datetime.datetime(2019, 11, 19, 8, 15, 33, tzinfo=datetime.timezone.utc), name='gate_error', unit='', value=0.0), Nduv(date=datetime.datetime(2019, 11, 19, 8, 27, 58, tzinfo=datetime.timezone.utc), name='gate_length', unit='ns', value=0.0)], qubits=[1]), Gate(gate='u2', name='u2_1', parameters=[Nduv(date=datetime.datetime(2019, 11, 19, 8, 15, 33, tzinfo=datetime.timezone.utc), name='gate_error', unit='', value=0.0003865413109417161), Nduv(date=datetime.datetime(2019, 11, 19, 8, 27, 58, tzinfo=datetime.timezone.utc), name='gate_length', unit='ns', value=35.55555555555556)], qubits=[1]), Gate(gate='u3', name='u3_1', parameters=[Nduv(date=datetime.datetime(2019, 11, 19, 8, 15, 33, tzinfo=datetime.timezone.utc), name='gate_error', unit='', value=0.0007730826218834323), Nduv(date=datetime.datetime(2019, 11, 19, 8, 27, 58, tzinfo=datetime.timezone.utc), name='gate_length', unit='ns', value=71.11111111111111)], qubits=[1]), Gate(gate='id', name='id_2', parameters=[Nduv(date=datetime.datetime(2019, 11, 19, 8, 14, 46, tzinfo=datetime.timezone.utc), name='gate_error', unit='', value=0.00045449638853158097), Nduv(date=datetime.datetime(2019, 11, 19, 8, 27, 58, tzinfo=datetime.timezone.utc), name='gate_length', unit='ns', value=35.55555555555556)], qubits=[2]), Gate(gate='u1', name='u1_2', parameters=[Nduv(date=datetime.datetime(2019, 11, 19, 8, 14, 46, tzinfo=datetime.timezone.utc), name='gate_error', unit='', value=0.0), Nduv(date=datetime.datetime(2019, 11, 19, 8, 27, 58, tzinfo=datetime.timezone.utc), name='gate_length', unit='ns', value=0.0)], qubits=[2]), Gate(gate='u2', name='u2_2', parameters=[Nduv(date=datetime.datetime(2019, 11, 19, 8, 14, 46, tzinfo=datetime.timezone.utc), name='gate_error', unit='', value=0.00045449638853158097), Nduv(date=datetime.datetime(2019, 11, 19, 8, 27, 58, tzinfo=datetime.timezone.utc), name='gate_length', unit='ns', value=35.55555555555556)], qubits=[2]), Gate(gate='u3', name='u3_2', parameters=[Nduv(date=datetime.datetime(2019, 11, 19, 8, 14, 46, tzinfo=datetime.timezone.utc), name='gate_error', unit='', value=0.0009089927770631619), Nduv(date=datetime.datetime(2019, 11, 19, 8, 27, 58, tzinfo=datetime.timezone.utc), name='gate_length', unit='ns', value=71.11111111111111)], qubits=[2]), Gate(gate='id', name='id_3', parameters=[Nduv(date=datetime.datetime(2019, 11, 19, 8, 14, 46, tzinfo=datetime.timezone.utc), name='gate_error', unit='', value=0.00023355579589998267), Nduv(date=datetime.datetime(2019, 11, 19, 8, 27, 58, tzinfo=datetime.timezone.utc), name='gate_length', unit='ns', value=35.55555555555556)], qubits=[3]), Gate(gate='u1', name='u1_3', parameters=[Nduv(date=datetime.datetime(2019, 11, 19, 8, 14, 46, tzinfo=datetime.timezone.utc), name='gate_error', unit='', value=0.0), Nduv(date=datetime.datetime(2019, 11, 19, 8, 27, 58, tzinfo=datetime.timezone.utc), name='gate_length', unit='ns', value=0.0)], qubits=[3]), Gate(gate='u2', name='u2_3', parameters=[Nduv(date=datetime.datetime(2019, 11, 19, 8, 14, 46, tzinfo=datetime.timezone.utc), name='gate_error', unit='', value=0.00023355579589998267), Nduv(date=datetime.datetime(2019, 11, 19, 8, 27, 58, tzinfo=datetime.timezone.utc), name='gate_length', unit='ns', value=35.55555555555556)], qubits=[3]), Gate(gate='u3', name='u3_3', parameters=[Nduv(date=datetime.datetime(2019, 11, 19, 8, 14, 46, tzinfo=datetime.timezone.utc), name='gate_error', unit='', value=0.00046711159179996535), Nduv(date=datetime.datetime(2019, 11, 19, 8, 27, 58, tzinfo=datetime.timezone.utc), name='gate_length', unit='ns', value=71.11111111111111)], qubits=[3]), Gate(gate='id', name='id_4', parameters=[Nduv(date=datetime.datetime(2019, 11, 19, 8, 15, 33, tzinfo=datetime.timezone.utc), name='gate_error', unit='', value=0.0003990078732276052), Nduv(date=datetime.datetime(2019, 11, 19, 8, 27, 58, tzinfo=datetime.timezone.utc), name='gate_length', unit='ns', value=35.55555555555556)], qubits=[4]), Gate(gate='u1', name='u1_4', parameters=[Nduv(date=datetime.datetime(2019, 11, 19, 8, 15, 33, tzinfo=datetime.timezone.utc), name='gate_error', unit='', value=0.0), Nduv(date=datetime.datetime(2019, 11, 19, 8, 27, 58, tzinfo=datetime.timezone.utc), name='gate_length', unit='ns', value=0.0)], qubits=[4]), Gate(gate='u2', name='u2_4', parameters=[Nduv(date=datetime.datetime(2019, 11, 19, 8, 15, 33, tzinfo=datetime.timezone.utc), name='gate_error', unit='', value=0.0003990078732276052), Nduv(date=datetime.datetime(2019, 11, 19, 8, 27, 58, tzinfo=datetime.timezone.utc), name='gate_length', unit='ns', value=35.55555555555556)], qubits=[4]), Gate(gate='u3', name='u3_4', parameters=[Nduv(date=datetime.datetime(2019, 11, 19, 8, 15, 33, tzinfo=datetime.timezone.utc), name='gate_error', unit='', value=0.0007980157464552104), Nduv(date=datetime.datetime(2019, 11, 19, 8, 27, 58, tzinfo=datetime.timezone.utc), name='gate_length', unit='ns', value=71.11111111111111)], qubits=[4]), Gate(gate='cx', name='cx0_1', parameters=[Nduv(date=datetime.datetime(2019, 11, 19, 8, 18, 20, tzinfo=datetime.timezone.utc), name='gate_error', unit='', value=0.007257097608848406), Nduv(date=datetime.datetime(2019, 11, 19, 8, 27, 58, tzinfo=datetime.timezone.utc), name='gate_length', unit='ns', value=241.77777777777777)], qubits=[0, 1]), Gate(gate='cx', name='cx1_0', parameters=[Nduv(date=datetime.datetime(2019, 11, 19, 8, 18, 20, tzinfo=datetime.timezone.utc), name='gate_error', unit='', value=0.007257097608848406), Nduv(date=datetime.datetime(2019, 11, 19, 8, 27, 58, tzinfo=datetime.timezone.utc), name='gate_length', unit='ns', value=241.77777777777777)], qubits=[1, 0]), Gate(gate='cx', name='cx1_2', parameters=[Nduv(date=datetime.datetime(2019, 11, 19, 8, 21, 48, tzinfo=datetime.timezone.utc), name='gate_error', unit='', value=0.024981827391178046), Nduv(date=datetime.datetime(2019, 11, 19, 8, 27, 58, tzinfo=datetime.timezone.utc), name='gate_length', unit='ns', value=305.77777777777777)], qubits=[1, 2]), Gate(gate='cx', name='cx1_3', parameters=[Nduv(date=datetime.datetime(2019, 11, 19, 8, 24, 58, tzinfo=datetime.timezone.utc), name='gate_error', unit='', value=0.007954074665301736), Nduv(date=datetime.datetime(2019, 11, 19, 8, 27, 58, tzinfo=datetime.timezone.utc), name='gate_length', unit='ns', value=433.77777777777777)], qubits=[1, 3]), Gate(gate='cx', name='cx2_1', parameters=[Nduv(date=datetime.datetime(2019, 11, 19, 8, 21, 48, tzinfo=datetime.timezone.utc), name='gate_error', unit='', value=0.024981827391178046), Nduv(date=datetime.datetime(2019, 11, 19, 8, 27, 58, tzinfo=datetime.timezone.utc), name='gate_length', unit='ns', value=305.77777777777777)], qubits=[2, 1]), Gate(gate='cx', name='cx3_1', parameters=[Nduv(date=datetime.datetime(2019, 11, 19, 8, 24, 58, tzinfo=datetime.timezone.utc), name='gate_error', unit='', value=0.007954074665301736), Nduv(date=datetime.datetime(2019, 11, 19, 8, 27, 58, tzinfo=datetime.timezone.utc), name='gate_length', unit='ns', value=433.77777777777777)], qubits=[3, 1]), Gate(gate='cx', name='cx3_4', parameters=[Nduv(date=datetime.datetime(2019, 11, 19, 8, 27, 58, tzinfo=datetime.timezone.utc), name='gate_error', unit='', value=0.011113105529863249), Nduv(date=datetime.datetime(2019, 11, 19, 8, 27, 58, tzinfo=datetime.timezone.utc), name='gate_length', unit='ns', value=817.7777777777777)], qubits=[3, 4]), Gate(gate='cx', name='cx4_3', parameters=[Nduv(date=datetime.datetime(2019, 11, 19, 8, 27, 58, tzinfo=datetime.timezone.utc), name='gate_error', unit='', value=0.011113105529863249), Nduv(date=datetime.datetime(2019, 11, 19, 8, 27, 58, tzinfo=datetime.timezone.utc), name='gate_length', unit='ns', value=817.7777777777777)], qubits=[4, 3])]\n",
            "general : []\n",
            "last_update_date : 2019-11-19 08:27:58+00:00\n",
            "qubits : [[Nduv(date=datetime.datetime(2019, 11, 19, 8, 12, 42, tzinfo=datetime.timezone.utc), name='T1', unit='µs', value=64.3941543228813), Nduv(date=datetime.datetime(2019, 11, 19, 8, 13, 23, tzinfo=datetime.timezone.utc), name='T2', unit='µs', value=81.26578667428593), Nduv(date=datetime.datetime(2019, 11, 19, 8, 27, 58, tzinfo=datetime.timezone.utc), name='frequency', unit='GHz', value=5.254061989453832), Nduv(date=datetime.datetime(2019, 11, 19, 8, 12, 13, tzinfo=datetime.timezone.utc), name='readout_error', unit='', value=0.02499999999999991), Nduv(date=datetime.datetime(2019, 11, 19, 8, 12, 13, tzinfo=datetime.timezone.utc), name='prob_meas0_prep1', unit='', value=0.036666666666666625), Nduv(date=datetime.datetime(2019, 11, 19, 8, 12, 13, tzinfo=datetime.timezone.utc), name='prob_meas1_prep0', unit='', value=0.013333333333333334)], [Nduv(date=datetime.datetime(2019, 11, 19, 8, 12, 42, tzinfo=datetime.timezone.utc), name='T1', unit='µs', value=64.94915265659091), Nduv(date=datetime.datetime(2019, 11, 19, 8, 14, 4, tzinfo=datetime.timezone.utc), name='T2', unit='µs', value=49.2969315899979), Nduv(date=datetime.datetime(2019, 11, 19, 8, 27, 58, tzinfo=datetime.timezone.utc), name='frequency', unit='GHz', value=5.048745862985357), Nduv(date=datetime.datetime(2019, 11, 19, 8, 12, 13, tzinfo=datetime.timezone.utc), name='readout_error', unit='', value=0.036666666666666625), Nduv(date=datetime.datetime(2019, 11, 19, 8, 12, 13, tzinfo=datetime.timezone.utc), name='prob_meas0_prep1', unit='', value=0.06000000000000005), Nduv(date=datetime.datetime(2019, 11, 19, 8, 12, 13, tzinfo=datetime.timezone.utc), name='prob_meas1_prep0', unit='', value=0.013333333333333334)], [Nduv(date=datetime.datetime(2019, 11, 19, 8, 12, 42, tzinfo=datetime.timezone.utc), name='T1', unit='µs', value=57.45885738074015), Nduv(date=datetime.datetime(2019, 11, 19, 8, 13, 23, tzinfo=datetime.timezone.utc), name='T2', unit='µs', value=94.06773407036839), Nduv(date=datetime.datetime(2019, 11, 19, 8, 27, 58, tzinfo=datetime.timezone.utc), name='frequency', unit='GHz', value=5.230614019248117), Nduv(date=datetime.datetime(2019, 11, 19, 8, 12, 13, tzinfo=datetime.timezone.utc), name='readout_error', unit='', value=0.033333333333333326), Nduv(date=datetime.datetime(2019, 11, 19, 8, 12, 13, tzinfo=datetime.timezone.utc), name='prob_meas0_prep1', unit='', value=0.040000000000000036), Nduv(date=datetime.datetime(2019, 11, 19, 8, 12, 13, tzinfo=datetime.timezone.utc), name='prob_meas1_prep0', unit='', value=0.02666666666666667)], [Nduv(date=datetime.datetime(2019, 11, 19, 8, 12, 42, tzinfo=datetime.timezone.utc), name='T1', unit='µs', value=91.41305551666868), Nduv(date=datetime.datetime(2019, 11, 19, 8, 13, 23, tzinfo=datetime.timezone.utc), name='T2', unit='µs', value=125.19988997205803), Nduv(date=datetime.datetime(2019, 11, 19, 8, 27, 58, tzinfo=datetime.timezone.utc), name='frequency', unit='GHz', value=5.200912302963144), Nduv(date=datetime.datetime(2019, 11, 19, 8, 12, 13, tzinfo=datetime.timezone.utc), name='readout_error', unit='', value=0.02833333333333332), Nduv(date=datetime.datetime(2019, 11, 19, 8, 12, 13, tzinfo=datetime.timezone.utc), name='prob_meas0_prep1', unit='', value=0.03), Nduv(date=datetime.datetime(2019, 11, 19, 8, 12, 13, tzinfo=datetime.timezone.utc), name='prob_meas1_prep0', unit='', value=0.026666666666666616)], [Nduv(date=datetime.datetime(2019, 11, 19, 8, 12, 42, tzinfo=datetime.timezone.utc), name='T1', unit='µs', value=69.9485233269213), Nduv(date=datetime.datetime(2019, 11, 19, 8, 14, 4, tzinfo=datetime.timezone.utc), name='T2', unit='µs', value=27.31735578542831), Nduv(date=datetime.datetime(2019, 11, 19, 8, 27, 58, tzinfo=datetime.timezone.utc), name='frequency', unit='GHz', value=5.06584251589964), Nduv(date=datetime.datetime(2019, 11, 19, 8, 12, 13, tzinfo=datetime.timezone.utc), name='readout_error', unit='', value=0.021666666666666723), Nduv(date=datetime.datetime(2019, 11, 19, 8, 12, 13, tzinfo=datetime.timezone.utc), name='prob_meas0_prep1', unit='', value=0.036666666666666625), Nduv(date=datetime.datetime(2019, 11, 19, 8, 12, 13, tzinfo=datetime.timezone.utc), name='prob_meas1_prep0', unit='', value=0.006666666666666667)]]\n",
            "schema : <BackendPropertiesSchema(many=False)>\n",
            "shallow_schema : <BackendPropertiesSchema(many=False)>\n",
            "to_dict : <bound method BaseModel.to_dict of BackendProperties(backend_name='ibmq_london', backend_version='1.0.0', gates=[Gate(gate='id', name='id_0', parameters=[Nduv(date=datetime.datetime(2019, 11, 19, 8, 14, 46, tzinfo=datetime.timezone.utc), name='gate_error', unit='', value=0.00024224374804775767), Nduv(date=datetime.datetime(2019, 11, 19, 8, 27, 58, tzinfo=datetime.timezone.utc), name='gate_length', unit='ns', value=35.55555555555556)], qubits=[0]), Gate(gate='u1', name='u1_0', parameters=[Nduv(date=datetime.datetime(2019, 11, 19, 8, 14, 46, tzinfo=datetime.timezone.utc), name='gate_error', unit='', value=0.0), Nduv(date=datetime.datetime(2019, 11, 19, 8, 27, 58, tzinfo=datetime.timezone.utc), name='gate_length', unit='ns', value=0.0)], qubits=[0]), Gate(gate='u2', name='u2_0', parameters=[Nduv(date=datetime.datetime(2019, 11, 19, 8, 14, 46, tzinfo=datetime.timezone.utc), name='gate_error', unit='', value=0.00024224374804775767), Nduv(date=datetime.datetime(2019, 11, 19, 8, 27, 58, tzinfo=datetime.timezone.utc), name='gate_length', unit='ns', value=35.55555555555556)], qubits=[0]), Gate(gate='u3', name='u3_0', parameters=[Nduv(date=datetime.datetime(2019, 11, 19, 8, 14, 46, tzinfo=datetime.timezone.utc), name='gate_error', unit='', value=0.00048448749609551533), Nduv(date=datetime.datetime(2019, 11, 19, 8, 27, 58, tzinfo=datetime.timezone.utc), name='gate_length', unit='ns', value=71.11111111111111)], qubits=[0]), Gate(gate='id', name='id_1', parameters=[Nduv(date=datetime.datetime(2019, 11, 19, 8, 15, 33, tzinfo=datetime.timezone.utc), name='gate_error', unit='', value=0.0003865413109417161), Nduv(date=datetime.datetime(2019, 11, 19, 8, 27, 58, tzinfo=datetime.timezone.utc), name='gate_length', unit='ns', value=35.55555555555556)], qubits=[1]), Gate(gate='u1', name='u1_1', parameters=[Nduv(date=datetime.datetime(2019, 11, 19, 8, 15, 33, tzinfo=datetime.timezone.utc), name='gate_error', unit='', value=0.0), Nduv(date=datetime.datetime(2019, 11, 19, 8, 27, 58, tzinfo=datetime.timezone.utc), name='gate_length', unit='ns', value=0.0)], qubits=[1]), Gate(gate='u2', name='u2_1', parameters=[Nduv(date=datetime.datetime(2019, 11, 19, 8, 15, 33, tzinfo=datetime.timezone.utc), name='gate_error', unit='', value=0.0003865413109417161), Nduv(date=datetime.datetime(2019, 11, 19, 8, 27, 58, tzinfo=datetime.timezone.utc), name='gate_length', unit='ns', value=35.55555555555556)], qubits=[1]), Gate(gate='u3', name='u3_1', parameters=[Nduv(date=datetime.datetime(2019, 11, 19, 8, 15, 33, tzinfo=datetime.timezone.utc), name='gate_error', unit='', value=0.0007730826218834323), Nduv(date=datetime.datetime(2019, 11, 19, 8, 27, 58, tzinfo=datetime.timezone.utc), name='gate_length', unit='ns', value=71.11111111111111)], qubits=[1]), Gate(gate='id', name='id_2', parameters=[Nduv(date=datetime.datetime(2019, 11, 19, 8, 14, 46, tzinfo=datetime.timezone.utc), name='gate_error', unit='', value=0.00045449638853158097), Nduv(date=datetime.datetime(2019, 11, 19, 8, 27, 58, tzinfo=datetime.timezone.utc), name='gate_length', unit='ns', value=35.55555555555556)], qubits=[2]), Gate(gate='u1', name='u1_2', parameters=[Nduv(date=datetime.datetime(2019, 11, 19, 8, 14, 46, tzinfo=datetime.timezone.utc), name='gate_error', unit='', value=0.0), Nduv(date=datetime.datetime(2019, 11, 19, 8, 27, 58, tzinfo=datetime.timezone.utc), name='gate_length', unit='ns', value=0.0)], qubits=[2]), Gate(gate='u2', name='u2_2', parameters=[Nduv(date=datetime.datetime(2019, 11, 19, 8, 14, 46, tzinfo=datetime.timezone.utc), name='gate_error', unit='', value=0.00045449638853158097), Nduv(date=datetime.datetime(2019, 11, 19, 8, 27, 58, tzinfo=datetime.timezone.utc), name='gate_length', unit='ns', value=35.55555555555556)], qubits=[2]), Gate(gate='u3', name='u3_2', parameters=[Nduv(date=datetime.datetime(2019, 11, 19, 8, 14, 46, tzinfo=datetime.timezone.utc), name='gate_error', unit='', value=0.0009089927770631619), Nduv(date=datetime.datetime(2019, 11, 19, 8, 27, 58, tzinfo=datetime.timezone.utc), name='gate_length', unit='ns', value=71.11111111111111)], qubits=[2]), Gate(gate='id', name='id_3', parameters=[Nduv(date=datetime.datetime(2019, 11, 19, 8, 14, 46, tzinfo=datetime.timezone.utc), name='gate_error', unit='', value=0.00023355579589998267), Nduv(date=datetime.datetime(2019, 11, 19, 8, 27, 58, tzinfo=datetime.timezone.utc), name='gate_length', unit='ns', value=35.55555555555556)], qubits=[3]), Gate(gate='u1', name='u1_3', parameters=[Nduv(date=datetime.datetime(2019, 11, 19, 8, 14, 46, tzinfo=datetime.timezone.utc), name='gate_error', unit='', value=0.0), Nduv(date=datetime.datetime(2019, 11, 19, 8, 27, 58, tzinfo=datetime.timezone.utc), name='gate_length', unit='ns', value=0.0)], qubits=[3]), Gate(gate='u2', name='u2_3', parameters=[Nduv(date=datetime.datetime(2019, 11, 19, 8, 14, 46, tzinfo=datetime.timezone.utc), name='gate_error', unit='', value=0.00023355579589998267), Nduv(date=datetime.datetime(2019, 11, 19, 8, 27, 58, tzinfo=datetime.timezone.utc), name='gate_length', unit='ns', value=35.55555555555556)], qubits=[3]), Gate(gate='u3', name='u3_3', parameters=[Nduv(date=datetime.datetime(2019, 11, 19, 8, 14, 46, tzinfo=datetime.timezone.utc), name='gate_error', unit='', value=0.00046711159179996535), Nduv(date=datetime.datetime(2019, 11, 19, 8, 27, 58, tzinfo=datetime.timezone.utc), name='gate_length', unit='ns', value=71.11111111111111)], qubits=[3]), Gate(gate='id', name='id_4', parameters=[Nduv(date=datetime.datetime(2019, 11, 19, 8, 15, 33, tzinfo=datetime.timezone.utc), name='gate_error', unit='', value=0.0003990078732276052), Nduv(date=datetime.datetime(2019, 11, 19, 8, 27, 58, tzinfo=datetime.timezone.utc), name='gate_length', unit='ns', value=35.55555555555556)], qubits=[4]), Gate(gate='u1', name='u1_4', parameters=[Nduv(date=datetime.datetime(2019, 11, 19, 8, 15, 33, tzinfo=datetime.timezone.utc), name='gate_error', unit='', value=0.0), Nduv(date=datetime.datetime(2019, 11, 19, 8, 27, 58, tzinfo=datetime.timezone.utc), name='gate_length', unit='ns', value=0.0)], qubits=[4]), Gate(gate='u2', name='u2_4', parameters=[Nduv(date=datetime.datetime(2019, 11, 19, 8, 15, 33, tzinfo=datetime.timezone.utc), name='gate_error', unit='', value=0.0003990078732276052), Nduv(date=datetime.datetime(2019, 11, 19, 8, 27, 58, tzinfo=datetime.timezone.utc), name='gate_length', unit='ns', value=35.55555555555556)], qubits=[4]), Gate(gate='u3', name='u3_4', parameters=[Nduv(date=datetime.datetime(2019, 11, 19, 8, 15, 33, tzinfo=datetime.timezone.utc), name='gate_error', unit='', value=0.0007980157464552104), Nduv(date=datetime.datetime(2019, 11, 19, 8, 27, 58, tzinfo=datetime.timezone.utc), name='gate_length', unit='ns', value=71.11111111111111)], qubits=[4]), Gate(gate='cx', name='cx0_1', parameters=[Nduv(date=datetime.datetime(2019, 11, 19, 8, 18, 20, tzinfo=datetime.timezone.utc), name='gate_error', unit='', value=0.007257097608848406), Nduv(date=datetime.datetime(2019, 11, 19, 8, 27, 58, tzinfo=datetime.timezone.utc), name='gate_length', unit='ns', value=241.77777777777777)], qubits=[0, 1]), Gate(gate='cx', name='cx1_0', parameters=[Nduv(date=datetime.datetime(2019, 11, 19, 8, 18, 20, tzinfo=datetime.timezone.utc), name='gate_error', unit='', value=0.007257097608848406), Nduv(date=datetime.datetime(2019, 11, 19, 8, 27, 58, tzinfo=datetime.timezone.utc), name='gate_length', unit='ns', value=241.77777777777777)], qubits=[1, 0]), Gate(gate='cx', name='cx1_2', parameters=[Nduv(date=datetime.datetime(2019, 11, 19, 8, 21, 48, tzinfo=datetime.timezone.utc), name='gate_error', unit='', value=0.024981827391178046), Nduv(date=datetime.datetime(2019, 11, 19, 8, 27, 58, tzinfo=datetime.timezone.utc), name='gate_length', unit='ns', value=305.77777777777777)], qubits=[1, 2]), Gate(gate='cx', name='cx1_3', parameters=[Nduv(date=datetime.datetime(2019, 11, 19, 8, 24, 58, tzinfo=datetime.timezone.utc), name='gate_error', unit='', value=0.007954074665301736), Nduv(date=datetime.datetime(2019, 11, 19, 8, 27, 58, tzinfo=datetime.timezone.utc), name='gate_length', unit='ns', value=433.77777777777777)], qubits=[1, 3]), Gate(gate='cx', name='cx2_1', parameters=[Nduv(date=datetime.datetime(2019, 11, 19, 8, 21, 48, tzinfo=datetime.timezone.utc), name='gate_error', unit='', value=0.024981827391178046), Nduv(date=datetime.datetime(2019, 11, 19, 8, 27, 58, tzinfo=datetime.timezone.utc), name='gate_length', unit='ns', value=305.77777777777777)], qubits=[2, 1]), Gate(gate='cx', name='cx3_1', parameters=[Nduv(date=datetime.datetime(2019, 11, 19, 8, 24, 58, tzinfo=datetime.timezone.utc), name='gate_error', unit='', value=0.007954074665301736), Nduv(date=datetime.datetime(2019, 11, 19, 8, 27, 58, tzinfo=datetime.timezone.utc), name='gate_length', unit='ns', value=433.77777777777777)], qubits=[3, 1]), Gate(gate='cx', name='cx3_4', parameters=[Nduv(date=datetime.datetime(2019, 11, 19, 8, 27, 58, tzinfo=datetime.timezone.utc), name='gate_error', unit='', value=0.011113105529863249), Nduv(date=datetime.datetime(2019, 11, 19, 8, 27, 58, tzinfo=datetime.timezone.utc), name='gate_length', unit='ns', value=817.7777777777777)], qubits=[3, 4]), Gate(gate='cx', name='cx4_3', parameters=[Nduv(date=datetime.datetime(2019, 11, 19, 8, 27, 58, tzinfo=datetime.timezone.utc), name='gate_error', unit='', value=0.011113105529863249), Nduv(date=datetime.datetime(2019, 11, 19, 8, 27, 58, tzinfo=datetime.timezone.utc), name='gate_length', unit='ns', value=817.7777777777777)], qubits=[4, 3])], general=[], last_update_date=datetime.datetime(2019, 11, 19, 8, 27, 58, tzinfo=datetime.timezone.utc), qubits=[[Nduv(date=datetime.datetime(2019, 11, 19, 8, 12, 42, tzinfo=datetime.timezone.utc), name='T1', unit='µs', value=64.3941543228813), Nduv(date=datetime.datetime(2019, 11, 19, 8, 13, 23, tzinfo=datetime.timezone.utc), name='T2', unit='µs', value=81.26578667428593), Nduv(date=datetime.datetime(2019, 11, 19, 8, 27, 58, tzinfo=datetime.timezone.utc), name='frequency', unit='GHz', value=5.254061989453832), Nduv(date=datetime.datetime(2019, 11, 19, 8, 12, 13, tzinfo=datetime.timezone.utc), name='readout_error', unit='', value=0.02499999999999991), Nduv(date=datetime.datetime(2019, 11, 19, 8, 12, 13, tzinfo=datetime.timezone.utc), name='prob_meas0_prep1', unit='', value=0.036666666666666625), Nduv(date=datetime.datetime(2019, 11, 19, 8, 12, 13, tzinfo=datetime.timezone.utc), name='prob_meas1_prep0', unit='', value=0.013333333333333334)], [Nduv(date=datetime.datetime(2019, 11, 19, 8, 12, 42, tzinfo=datetime.timezone.utc), name='T1', unit='µs', value=64.94915265659091), Nduv(date=datetime.datetime(2019, 11, 19, 8, 14, 4, tzinfo=datetime.timezone.utc), name='T2', unit='µs', value=49.2969315899979), Nduv(date=datetime.datetime(2019, 11, 19, 8, 27, 58, tzinfo=datetime.timezone.utc), name='frequency', unit='GHz', value=5.048745862985357), Nduv(date=datetime.datetime(2019, 11, 19, 8, 12, 13, tzinfo=datetime.timezone.utc), name='readout_error', unit='', value=0.036666666666666625), Nduv(date=datetime.datetime(2019, 11, 19, 8, 12, 13, tzinfo=datetime.timezone.utc), name='prob_meas0_prep1', unit='', value=0.06000000000000005), Nduv(date=datetime.datetime(2019, 11, 19, 8, 12, 13, tzinfo=datetime.timezone.utc), name='prob_meas1_prep0', unit='', value=0.013333333333333334)], [Nduv(date=datetime.datetime(2019, 11, 19, 8, 12, 42, tzinfo=datetime.timezone.utc), name='T1', unit='µs', value=57.45885738074015), Nduv(date=datetime.datetime(2019, 11, 19, 8, 13, 23, tzinfo=datetime.timezone.utc), name='T2', unit='µs', value=94.06773407036839), Nduv(date=datetime.datetime(2019, 11, 19, 8, 27, 58, tzinfo=datetime.timezone.utc), name='frequency', unit='GHz', value=5.230614019248117), Nduv(date=datetime.datetime(2019, 11, 19, 8, 12, 13, tzinfo=datetime.timezone.utc), name='readout_error', unit='', value=0.033333333333333326), Nduv(date=datetime.datetime(2019, 11, 19, 8, 12, 13, tzinfo=datetime.timezone.utc), name='prob_meas0_prep1', unit='', value=0.040000000000000036), Nduv(date=datetime.datetime(2019, 11, 19, 8, 12, 13, tzinfo=datetime.timezone.utc), name='prob_meas1_prep0', unit='', value=0.02666666666666667)], [Nduv(date=datetime.datetime(2019, 11, 19, 8, 12, 42, tzinfo=datetime.timezone.utc), name='T1', unit='µs', value=91.41305551666868), Nduv(date=datetime.datetime(2019, 11, 19, 8, 13, 23, tzinfo=datetime.timezone.utc), name='T2', unit='µs', value=125.19988997205803), Nduv(date=datetime.datetime(2019, 11, 19, 8, 27, 58, tzinfo=datetime.timezone.utc), name='frequency', unit='GHz', value=5.200912302963144), Nduv(date=datetime.datetime(2019, 11, 19, 8, 12, 13, tzinfo=datetime.timezone.utc), name='readout_error', unit='', value=0.02833333333333332), Nduv(date=datetime.datetime(2019, 11, 19, 8, 12, 13, tzinfo=datetime.timezone.utc), name='prob_meas0_prep1', unit='', value=0.03), Nduv(date=datetime.datetime(2019, 11, 19, 8, 12, 13, tzinfo=datetime.timezone.utc), name='prob_meas1_prep0', unit='', value=0.026666666666666616)], [Nduv(date=datetime.datetime(2019, 11, 19, 8, 12, 42, tzinfo=datetime.timezone.utc), name='T1', unit='µs', value=69.9485233269213), Nduv(date=datetime.datetime(2019, 11, 19, 8, 14, 4, tzinfo=datetime.timezone.utc), name='T2', unit='µs', value=27.31735578542831), Nduv(date=datetime.datetime(2019, 11, 19, 8, 27, 58, tzinfo=datetime.timezone.utc), name='frequency', unit='GHz', value=5.06584251589964), Nduv(date=datetime.datetime(2019, 11, 19, 8, 12, 13, tzinfo=datetime.timezone.utc), name='readout_error', unit='', value=0.021666666666666723), Nduv(date=datetime.datetime(2019, 11, 19, 8, 12, 13, tzinfo=datetime.timezone.utc), name='prob_meas0_prep1', unit='', value=0.036666666666666625), Nduv(date=datetime.datetime(2019, 11, 19, 8, 12, 13, tzinfo=datetime.timezone.utc), name='prob_meas1_prep0', unit='', value=0.006666666666666667)]])>\n"
          ],
          "name": "stdout"
        }
      ]
    },
    {
      "cell_type": "markdown",
      "metadata": {
        "id": "8xh-yzDHq5ZS",
        "colab_type": "text"
      },
      "source": [
        "## QASM simulator\n",
        "\n",
        "**Check how to put real quantum hardware information to the simulator**"
      ]
    },
    {
      "cell_type": "markdown",
      "metadata": {
        "id": "pZocufMMZpHs",
        "colab_type": "text"
      },
      "source": [
        "### Qasm simulator wihtout noise\n",
        "- backend.configuration - available\n",
        "- backend.properties - **unavailable**\n",
        "\n",
        "properties information is not given as default for qasm simulator. We have to input manually using noise model. You will going to check out how to do it at below **Qasm simulator with noise**"
      ]
    },
    {
      "cell_type": "code",
      "metadata": {
        "id": "3W_kkDX-2eVH",
        "colab_type": "code",
        "outputId": "0a558ebf-2a03-4608-dc2f-70a5313bad7d",
        "colab": {
          "base_uri": "https://localhost:8080/",
          "height": 34
        }
      },
      "source": [
        "from qiskit import QuantumRegister, ClassicalRegister, QuantumCircuit\n",
        "from qiskit import Aer\n",
        "\n",
        "qr = QuantumRegister(2)\n",
        "cr = ClassicalRegister(2)\n",
        "qc = QuantumCircuit(qr, cr)\n",
        "qc.h(qr)\n",
        "qc.measure(qr, cr)"
      ],
      "execution_count": 0,
      "outputs": [
        {
          "output_type": "execute_result",
          "data": {
            "text/plain": [
              "<qiskit.circuit.instructionset.InstructionSet at 0x7efe1926d198>"
            ]
          },
          "metadata": {
            "tags": []
          },
          "execution_count": 8
        }
      ]
    },
    {
      "cell_type": "code",
      "metadata": {
        "id": "T3rTFlbjbc8D",
        "colab_type": "code",
        "outputId": "6b4a7284-e743-46d0-cb41-043ab2ad7abe",
        "colab": {
          "base_uri": "https://localhost:8080/",
          "height": 71
        }
      },
      "source": [
        "backend = Aer.get_backend('qasm_simulator')\n",
        "print(backend.configuration())\n",
        "print(backend.properties())"
      ],
      "execution_count": 0,
      "outputs": [
        {
          "output_type": "stream",
          "text": [
            "QasmBackendConfiguration(backend_name='qasm_simulator', backend_version='0.3.2', basis_gates=['u1', 'u2', 'u3', 'cx', 'cz', 'cu1', 'id', 'x', 'y', 'z', 'h', 's', 'sdg', 't', 'tdg', 'ccx', 'swap', 'multiplexer', 'snapshot', 'unitary', 'reset', 'initialize', 'kraus', 'roerror'], conditional=True, coupling_map=None, description='A C++ simulator with realistic noise for qobj files', gates=[GateConfig(name='TODO', parameters=[], qasm_def='TODO')], local=True, max_shots=100000, memory=True, n_qubits=29, open_pulse=False, simulator=True, url='https://github.com/Qiskit/qiskit-aer')\n",
            "None\n"
          ],
          "name": "stdout"
        }
      ]
    },
    {
      "cell_type": "markdown",
      "metadata": {
        "colab_type": "text",
        "id": "7Sr9SOZ7vryS"
      },
      "source": [
        "### Qasm simulator with noise\n",
        "- backend.configuration - available\n",
        "- backend.properties - available\n",
        "\n",
        "\n",
        "**How to use noise with qasm simulator**\n",
        "\n",
        "    backend = FakeMelbourne()\n",
        "    properties = backend.properties()\n",
        "    noise_model = basic_device_noise_model(properties)\n",
        "    simulator = Aer.get_backend(‘qasm_simulator’)\n",
        "    execute(circuits, simulator, noise_model=noise_model, coupling_map=coupling_map)\n",
        "\n",
        "You can get fake backend properties using fake backends\n",
        "\n",
        "**List of fake backends**\n",
        "\n",
        "    - FakeQasmSimulator()\n",
        "    - FakeOpenPulse2Q()\n",
        "    - FakeOpenPulse3Q()\n",
        "    - FakeYorktown()\n",
        "    - FakeTenerife()\n",
        "    - FakeOurense()\n",
        "    - FakeVigo()\n",
        "    - FakeBurlington()\n",
        "    - FakeMelbourne()\n",
        "    - FakeRueschlikon()\n",
        "    - FakeTokyo()\n",
        "    - FakePoughkeepsie()\n",
        "    - FakeAlmaden()\n",
        "    - FakeSingapore()\n",
        "    - FakeJohannesburg()\n",
        "    - FakeBoeblingen()\n",
        "    - FakeRochester()\n",
        "\n",
        "Check below codes to see what information is inside the properties\n"
      ]
    },
    {
      "cell_type": "code",
      "metadata": {
        "id": "TR3xcq1J3q1w",
        "colab_type": "code",
        "colab": {}
      },
      "source": [
        "fake_melbourne_json = '{\"backend_version\": \"1.0.0\", \"general\": [], \"last_update_date\": \"2019-08-30T08:40:39+00:00\", \"backend_name\": \"ibmq_16_melbourne\", \"qubits\": [[{\"date\": \"2019-08-30T06:25:05+00:00\", \"unit\": \"\\u00b5s\", \"value\": 50.77314177960378, \"name\": \"T1\"}, {\"date\": \"2019-08-30T06:26:18+00:00\", \"unit\": \"\\u00b5s\", \"value\": 23.26716550447232, \"name\": \"T2\"}, {\"date\": \"2019-08-30T08:40:39+00:00\", \"unit\": \"GHz\", \"value\": 5.100143648658738, \"name\": \"frequency\"}, {\"date\": \"2019-08-30T06:24:42+00:00\", \"unit\": \"\", \"value\": 0.0816, \"name\": \"readout_error\"}], [{\"date\": \"2019-08-30T06:25:05+00:00\", \"unit\": \"\\u00b5s\", \"value\": 75.03457165555137, \"name\": \"T1\"}, {\"date\": \"2019-08-30T06:27:17+00:00\", \"unit\": \"\\u00b5s\", \"value\": 123.45446126755621, \"name\": \"T2\"}, {\"date\": \"2019-08-30T08:40:39+00:00\", \"unit\": \"GHz\", \"value\": 5.238515519242375, \"name\": \"frequency\"}, {\"date\": \"2019-08-30T06:24:42+00:00\", \"unit\": \"\", \"value\": 0.05669999999999997, \"name\": \"readout_error\"}], [{\"date\": \"2019-08-30T06:25:05+00:00\", \"unit\": \"\\u00b5s\", \"value\": 50.275404762879674, \"name\": \"T1\"}, {\"date\": \"2019-08-30T06:28:16+00:00\", \"unit\": \"\\u00b5s\", \"value\": 97.1824505756254, \"name\": \"T2\"}, {\"date\": \"2019-08-30T08:40:39+00:00\", \"unit\": \"GHz\", \"value\": 5.0325918748371725, \"name\": \"frequency\"}, {\"date\": \"2019-08-30T06:24:42+00:00\", \"unit\": \"\", \"value\": 0.03649999999999998, \"name\": \"readout_error\"}], [{\"date\": \"2019-08-30T06:25:05+00:00\", \"unit\": \"\\u00b5s\", \"value\": 77.06523067691023, \"name\": \"T1\"}, {\"date\": \"2019-08-30T06:29:16+00:00\", \"unit\": \"\\u00b5s\", \"value\": 65.88343921328119, \"name\": \"T2\"}, {\"date\": \"2019-08-30T08:40:39+00:00\", \"unit\": \"GHz\", \"value\": 4.89622995143569, \"name\": \"frequency\"}, {\"date\": \"2019-08-30T06:24:42+00:00\", \"unit\": \"\", \"value\": 0.033600000000000074, \"name\": \"readout_error\"}], [{\"date\": \"2019-08-30T06:25:05+00:00\", \"unit\": \"\\u00b5s\", \"value\": 48.6121344326565, \"name\": \"T1\"}, {\"date\": \"2019-08-30T06:26:18+00:00\", \"unit\": \"\\u00b5s\", \"value\": 33.43851454952923, \"name\": \"T2\"}, {\"date\": \"2019-08-30T08:40:39+00:00\", \"unit\": \"GHz\", \"value\": 5.030492276013032, \"name\": \"frequency\"}, {\"date\": \"2019-08-30T06:24:42+00:00\", \"unit\": \"\", \"value\": 0.06389999999999996, \"name\": \"readout_error\"}], [{\"date\": \"2019-08-30T06:25:05+00:00\", \"unit\": \"\\u00b5s\", \"value\": 27.22545338386326, \"name\": \"T1\"}, {\"date\": \"2019-08-30T06:27:17+00:00\", \"unit\": \"\\u00b5s\", \"value\": 55.30006621968561, \"name\": \"T2\"}, {\"date\": \"2019-08-30T08:40:39+00:00\", \"unit\": \"GHz\", \"value\": 5.067164115486811, \"name\": \"frequency\"}, {\"date\": \"2019-08-30T06:24:42+00:00\", \"unit\": \"\", \"value\": 0.05700000000000005, \"name\": \"readout_error\"}], [{\"date\": \"2019-08-30T06:25:05+00:00\", \"unit\": \"\\u00b5s\", \"value\": 62.04463882018325, \"name\": \"T1\"}, {\"date\": \"2019-08-30T06:28:16+00:00\", \"unit\": \"\\u00b5s\", \"value\": 61.95417571799565, \"name\": \"T2\"}, {\"date\": \"2019-08-30T08:40:39+00:00\", \"unit\": \"GHz\", \"value\": 4.923824384016654, \"name\": \"frequency\"}, {\"date\": \"2019-08-30T06:24:42+00:00\", \"unit\": \"\", \"value\": 0.07909999999999995, \"name\": \"readout_error\"}], [{\"date\": \"2019-08-30T06:25:05+00:00\", \"unit\": \"\\u00b5s\", \"value\": 43.16853024912021, \"name\": \"T1\"}, {\"date\": \"2019-08-30T06:29:16+00:00\", \"unit\": \"\\u00b5s\", \"value\": 58.427459338851314, \"name\": \"T2\"}, {\"date\": \"2019-08-30T08:40:39+00:00\", \"unit\": \"GHz\", \"value\": 4.974544202937344, \"name\": \"frequency\"}, {\"date\": \"2019-08-30T06:24:42+00:00\", \"unit\": \"\", \"value\": 0.06340000000000001, \"name\": \"readout_error\"}], [{\"date\": \"2019-08-30T06:25:05+00:00\", \"unit\": \"\\u00b5s\", \"value\": 63.71797543850963, \"name\": \"T1\"}, {\"date\": \"2019-08-30T06:26:18+00:00\", \"unit\": \"\\u00b5s\", \"value\": 88.67507787276234, \"name\": \"T2\"}, {\"date\": \"2019-08-30T08:40:39+00:00\", \"unit\": \"GHz\", \"value\": 4.739562250938468, \"name\": \"frequency\"}, {\"date\": \"2019-08-30T06:24:42+00:00\", \"unit\": \"\", \"value\": 0.034599999999999964, \"name\": \"readout_error\"}], [{\"date\": \"2019-08-30T06:25:05+00:00\", \"unit\": \"\\u00b5s\", \"value\": 46.51934163391105, \"name\": \"T1\"}, {\"date\": \"2019-08-30T06:28:16+00:00\", \"unit\": \"\\u00b5s\", \"value\": 81.94019993440179, \"name\": \"T2\"}, {\"date\": \"2019-08-30T08:40:39+00:00\", \"unit\": \"GHz\", \"value\": 4.963380996175847, \"name\": \"frequency\"}, {\"date\": \"2019-08-30T06:24:42+00:00\", \"unit\": \"\", \"value\": 0.034399999999999986, \"name\": \"readout_error\"}], [{\"date\": \"2019-08-30T06:25:05+00:00\", \"unit\": \"\\u00b5s\", \"value\": 41.30403837241326, \"name\": \"T1\"}, {\"date\": \"2019-08-30T06:27:17+00:00\", \"unit\": \"\\u00b5s\", \"value\": 51.44366097786817, \"name\": \"T2\"}, {\"date\": \"2019-08-30T08:40:39+00:00\", \"unit\": \"GHz\", \"value\": 4.945057612825996, \"name\": \"frequency\"}, {\"date\": \"2019-08-30T06:24:42+00:00\", \"unit\": \"\", \"value\": 0.062000000000000055, \"name\": \"readout_error\"}], [{\"date\": \"2019-08-30T06:25:05+00:00\", \"unit\": \"\\u00b5s\", \"value\": 68.19724093725696, \"name\": \"T1\"}, {\"date\": \"2019-08-30T06:28:16+00:00\", \"unit\": \"\\u00b5s\", \"value\": 116.05875432702656, \"name\": \"T2\"}, {\"date\": \"2019-08-30T08:40:39+00:00\", \"unit\": \"GHz\", \"value\": 5.005006866957911, \"name\": \"frequency\"}, {\"date\": \"2019-08-30T06:24:42+00:00\", \"unit\": \"\", \"value\": 0.03180000000000005, \"name\": \"readout_error\"}], [{\"date\": \"2019-08-30T06:25:05+00:00\", \"unit\": \"\\u00b5s\", \"value\": 42.18872718994089, \"name\": \"T1\"}, {\"date\": \"2019-08-30T06:27:17+00:00\", \"unit\": \"\\u00b5s\", \"value\": 72.39113698104636, \"name\": \"T2\"}, {\"date\": \"2019-08-30T08:40:39+00:00\", \"unit\": \"GHz\", \"value\": 4.759964985519018, \"name\": \"frequency\"}, {\"date\": \"2019-08-30T06:24:42+00:00\", \"unit\": \"\", \"value\": 0.05730000000000002, \"name\": \"readout_error\"}], [{\"date\": \"2019-08-30T06:25:05+00:00\", \"unit\": \"\\u00b5s\", \"value\": 23.388913061674028, \"name\": \"T1\"}, {\"date\": \"2019-08-30T06:26:18+00:00\", \"unit\": \"\\u00b5s\", \"value\": 49.568617451351685, \"name\": \"T2\"}, {\"date\": \"2019-08-30T08:40:39+00:00\", \"unit\": \"GHz\", \"value\": 4.968519920718844, \"name\": \"frequency\"}, {\"date\": \"2019-08-30T06:24:42+00:00\", \"unit\": \"\", \"value\": 0.05249999999999999, \"name\": \"readout_error\"}]], \"gates\": [{\"parameters\": [{\"date\": \"2019-08-30T06:30:09+00:00\", \"unit\": \"\", \"value\": 0.0, \"name\": \"gate_error\"}], \"qubits\": [0], \"gate\": \"u1\"}, {\"parameters\": [{\"date\": \"2019-08-30T06:30:09+00:00\", \"unit\": \"\", \"value\": 0.0022890476549879413, \"name\": \"gate_error\"}], \"qubits\": [0], \"gate\": \"u2\"}, {\"parameters\": [{\"date\": \"2019-08-30T06:30:09+00:00\", \"unit\": \"\", \"value\": 0.0045780953099758825, \"name\": \"gate_error\"}], \"qubits\": [0], \"gate\": \"u3\"}, {\"parameters\": [{\"date\": \"2019-08-30T06:30:09+00:00\", \"unit\": \"\", \"value\": 0.0, \"name\": \"gate_error\"}], \"qubits\": [1], \"gate\": \"u1\"}, {\"parameters\": [{\"date\": \"2019-08-30T06:30:09+00:00\", \"unit\": \"\", \"value\": 0.011161011211293481, \"name\": \"gate_error\"}], \"qubits\": [1], \"gate\": \"u2\"}, {\"parameters\": [{\"date\": \"2019-08-30T06:30:09+00:00\", \"unit\": \"\", \"value\": 0.022322022422586962, \"name\": \"gate_error\"}], \"qubits\": [1], \"gate\": \"u3\"}, {\"parameters\": [{\"date\": \"2019-08-30T06:30:09+00:00\", \"unit\": \"\", \"value\": 0.0, \"name\": \"gate_error\"}], \"qubits\": [2], \"gate\": \"u1\"}, {\"parameters\": [{\"date\": \"2019-08-30T06:30:09+00:00\", \"unit\": \"\", \"value\": 0.004338853227556672, \"name\": \"gate_error\"}], \"qubits\": [2], \"gate\": \"u2\"}, {\"parameters\": [{\"date\": \"2019-08-30T06:30:09+00:00\", \"unit\": \"\", \"value\": 0.008677706455113343, \"name\": \"gate_error\"}], \"qubits\": [2], \"gate\": \"u3\"}, {\"parameters\": [{\"date\": \"2019-08-30T06:30:09+00:00\", \"unit\": \"\", \"value\": 0.0, \"name\": \"gate_error\"}], \"qubits\": [3], \"gate\": \"u1\"}, {\"parameters\": [{\"date\": \"2019-08-30T06:30:09+00:00\", \"unit\": \"\", \"value\": 0.0012604117926789393, \"name\": \"gate_error\"}], \"qubits\": [3], \"gate\": \"u2\"}, {\"parameters\": [{\"date\": \"2019-08-30T06:30:09+00:00\", \"unit\": \"\", \"value\": 0.0025208235853578786, \"name\": \"gate_error\"}], \"qubits\": [3], \"gate\": \"u3\"}, {\"parameters\": [{\"date\": \"2019-08-30T06:30:09+00:00\", \"unit\": \"\", \"value\": 0.0, \"name\": \"gate_error\"}], \"qubits\": [4], \"gate\": \"u1\"}, {\"parameters\": [{\"date\": \"2019-08-30T06:30:09+00:00\", \"unit\": \"\", \"value\": 0.004304021029278404, \"name\": \"gate_error\"}], \"qubits\": [4], \"gate\": \"u2\"}, {\"parameters\": [{\"date\": \"2019-08-30T06:30:09+00:00\", \"unit\": \"\", \"value\": 0.008608042058556808, \"name\": \"gate_error\"}], \"qubits\": [4], \"gate\": \"u3\"}, {\"parameters\": [{\"date\": \"2019-08-30T06:30:09+00:00\", \"unit\": \"\", \"value\": 0.0, \"name\": \"gate_error\"}], \"qubits\": [5], \"gate\": \"u1\"}, {\"parameters\": [{\"date\": \"2019-08-30T06:30:09+00:00\", \"unit\": \"\", \"value\": 0.0022045855046065044, \"name\": \"gate_error\"}], \"qubits\": [5], \"gate\": \"u2\"}, {\"parameters\": [{\"date\": \"2019-08-30T06:30:09+00:00\", \"unit\": \"\", \"value\": 0.004409171009213009, \"name\": \"gate_error\"}], \"qubits\": [5], \"gate\": \"u3\"}, {\"parameters\": [{\"date\": \"2019-08-30T06:30:09+00:00\", \"unit\": \"\", \"value\": 0.0, \"name\": \"gate_error\"}], \"qubits\": [6], \"gate\": \"u1\"}, {\"parameters\": [{\"date\": \"2019-08-30T06:30:09+00:00\", \"unit\": \"\", \"value\": 0.003454676084759689, \"name\": \"gate_error\"}], \"qubits\": [6], \"gate\": \"u2\"}, {\"parameters\": [{\"date\": \"2019-08-30T06:30:09+00:00\", \"unit\": \"\", \"value\": 0.006909352169519378, \"name\": \"gate_error\"}], \"qubits\": [6], \"gate\": \"u3\"}, {\"parameters\": [{\"date\": \"2019-08-30T06:30:09+00:00\", \"unit\": \"\", \"value\": 0.0, \"name\": \"gate_error\"}], \"qubits\": [7], \"gate\": \"u1\"}, {\"parameters\": [{\"date\": \"2019-08-30T06:30:09+00:00\", \"unit\": \"\", \"value\": 0.0016963998440643335, \"name\": \"gate_error\"}], \"qubits\": [7], \"gate\": \"u2\"}, {\"parameters\": [{\"date\": \"2019-08-30T06:30:09+00:00\", \"unit\": \"\", \"value\": 0.003392799688128667, \"name\": \"gate_error\"}], \"qubits\": [7], \"gate\": \"u3\"}, {\"parameters\": [{\"date\": \"2019-08-30T06:30:09+00:00\", \"unit\": \"\", \"value\": 0.0, \"name\": \"gate_error\"}], \"qubits\": [8], \"gate\": \"u1\"}, {\"parameters\": [{\"date\": \"2019-08-30T06:30:09+00:00\", \"unit\": \"\", \"value\": 0.0016534919884557686, \"name\": \"gate_error\"}], \"qubits\": [8], \"gate\": \"u2\"}, {\"parameters\": [{\"date\": \"2019-08-30T06:30:09+00:00\", \"unit\": \"\", \"value\": 0.0033069839769115372, \"name\": \"gate_error\"}], \"qubits\": [8], \"gate\": \"u3\"}, {\"parameters\": [{\"date\": \"2019-08-30T06:30:09+00:00\", \"unit\": \"\", \"value\": 0.0, \"name\": \"gate_error\"}], \"qubits\": [9], \"gate\": \"u1\"}, {\"parameters\": [{\"date\": \"2019-08-30T06:30:09+00:00\", \"unit\": \"\", \"value\": 0.002924197752053881, \"name\": \"gate_error\"}], \"qubits\": [9], \"gate\": \"u2\"}, {\"parameters\": [{\"date\": \"2019-08-30T06:30:09+00:00\", \"unit\": \"\", \"value\": 0.005848395504107762, \"name\": \"gate_error\"}], \"qubits\": [9], \"gate\": \"u3\"}, {\"parameters\": [{\"date\": \"2019-08-30T06:30:09+00:00\", \"unit\": \"\", \"value\": 0.0, \"name\": \"gate_error\"}], \"qubits\": [10], \"gate\": \"u1\"}, {\"parameters\": [{\"date\": \"2019-08-30T06:30:09+00:00\", \"unit\": \"\", \"value\": 0.0019467418954691729, \"name\": \"gate_error\"}], \"qubits\": [10], \"gate\": \"u2\"}, {\"parameters\": [{\"date\": \"2019-08-30T06:30:09+00:00\", \"unit\": \"\", \"value\": 0.0038934837909383457, \"name\": \"gate_error\"}], \"qubits\": [10], \"gate\": \"u3\"}, {\"parameters\": [{\"date\": \"2019-08-30T06:30:09+00:00\", \"unit\": \"\", \"value\": 0.0, \"name\": \"gate_error\"}], \"qubits\": [11], \"gate\": \"u1\"}, {\"parameters\": [{\"date\": \"2019-08-30T06:30:09+00:00\", \"unit\": \"\", \"value\": 0.0015616057095417801, \"name\": \"gate_error\"}], \"qubits\": [11], \"gate\": \"u2\"}, {\"parameters\": [{\"date\": \"2019-08-30T06:30:09+00:00\", \"unit\": \"\", \"value\": 0.0031232114190835603, \"name\": \"gate_error\"}], \"qubits\": [11], \"gate\": \"u3\"}, {\"parameters\": [{\"date\": \"2019-08-30T06:30:09+00:00\", \"unit\": \"\", \"value\": 0.0, \"name\": \"gate_error\"}], \"qubits\": [12], \"gate\": \"u1\"}, {\"parameters\": [{\"date\": \"2019-08-30T06:30:09+00:00\", \"unit\": \"\", \"value\": 0.0038211298054479648, \"name\": \"gate_error\"}], \"qubits\": [12], \"gate\": \"u2\"}, {\"parameters\": [{\"date\": \"2019-08-30T06:30:09+00:00\", \"unit\": \"\", \"value\": 0.0076422596108959295, \"name\": \"gate_error\"}], \"qubits\": [12], \"gate\": \"u3\"}, {\"parameters\": [{\"date\": \"2019-08-30T06:30:09+00:00\", \"unit\": \"\", \"value\": 0.0, \"name\": \"gate_error\"}], \"qubits\": [13], \"gate\": \"u1\"}, {\"parameters\": [{\"date\": \"2019-08-30T06:30:09+00:00\", \"unit\": \"\", \"value\": 0.007137874193502647, \"name\": \"gate_error\"}], \"qubits\": [13], \"gate\": \"u2\"}, {\"parameters\": [{\"date\": \"2019-08-30T06:30:09+00:00\", \"unit\": \"\", \"value\": 0.014275748387005294, \"name\": \"gate_error\"}], \"qubits\": [13], \"gate\": \"u3\"}, {\"parameters\": [{\"date\": \"2019-08-30T07:40:28+00:00\", \"unit\": \"\", \"value\": 0.06766941423407083, \"name\": \"gate_error\"}], \"qubits\": [1, 0], \"gate\": \"cx\", \"name\": \"CX1_0\"}, {\"parameters\": [{\"date\": \"2019-08-29T08:20:16+00:00\", \"unit\": \"\", \"value\": 0.03801037092728929, \"name\": \"gate_error\"}], \"qubits\": [1, 2], \"gate\": \"cx\", \"name\": \"CX1_2\"}, {\"parameters\": [{\"date\": \"2019-08-30T07:43:40+00:00\", \"unit\": \"\", \"value\": 0.04035927412341517, \"name\": \"gate_error\"}], \"qubits\": [2, 3], \"gate\": \"cx\", \"name\": \"CX2_3\"}, {\"parameters\": [{\"date\": \"2019-08-30T07:46:54+00:00\", \"unit\": \"\", \"value\": 0.06554808443374471, \"name\": \"gate_error\"}], \"qubits\": [4, 3], \"gate\": \"cx\", \"name\": \"CX4_3\"}, {\"parameters\": [{\"date\": \"2019-08-30T07:50:12+00:00\", \"unit\": \"\", \"value\": 0.11000377135049015, \"name\": \"gate_error\"}], \"qubits\": [4, 10], \"gate\": \"cx\", \"name\": \"CX4_10\"}, {\"parameters\": [{\"date\": \"2019-08-30T07:53:32+00:00\", \"unit\": \"\", \"value\": 0.082271205303343, \"name\": \"gate_error\"}], \"qubits\": [5, 4], \"gate\": \"cx\", \"name\": \"CX5_4\"}, {\"parameters\": [{\"date\": \"2019-08-30T07:56:51+00:00\", \"unit\": \"\", \"value\": 0.08000264893528869, \"name\": \"gate_error\"}], \"qubits\": [5, 6], \"gate\": \"cx\", \"name\": \"CX5_6\"}, {\"parameters\": [{\"date\": \"2019-08-30T08:00:47+00:00\", \"unit\": \"\", \"value\": 0.053982705107386536, \"name\": \"gate_error\"}], \"qubits\": [5, 9], \"gate\": \"cx\", \"name\": \"CX5_9\"}, {\"parameters\": [{\"date\": \"2019-08-30T08:04:12+00:00\", \"unit\": \"\", \"value\": 0.044040614765997216, \"name\": \"gate_error\"}], \"qubits\": [6, 8], \"gate\": \"cx\", \"name\": \"CX6_8\"}, {\"parameters\": [{\"date\": \"2019-08-30T08:07:39+00:00\", \"unit\": \"\", \"value\": 0.03259217494162084, \"name\": \"gate_error\"}], \"qubits\": [7, 8], \"gate\": \"cx\", \"name\": \"CX7_8\"}, {\"parameters\": [{\"date\": \"2019-08-30T08:10:56+00:00\", \"unit\": \"\", \"value\": 0.05439659729448815, \"name\": \"gate_error\"}], \"qubits\": [9, 8], \"gate\": \"cx\", \"name\": \"CX9_8\"}, {\"parameters\": [{\"date\": \"2019-08-30T08:15:16+00:00\", \"unit\": \"\", \"value\": 0.05590172348391173, \"name\": \"gate_error\"}], \"qubits\": [9, 10], \"gate\": \"cx\", \"name\": \"CX9_10\"}, {\"parameters\": [{\"date\": \"2019-08-30T08:25:02+00:00\", \"unit\": \"\", \"value\": 0.03230502354557954, \"name\": \"gate_error\"}], \"qubits\": [11, 3], \"gate\": \"cx\", \"name\": \"CX11_3\"}, {\"parameters\": [{\"date\": \"2019-08-30T08:18:40+00:00\", \"unit\": \"\", \"value\": 0.04992714061173503, \"name\": \"gate_error\"}], \"qubits\": [11, 10], \"gate\": \"cx\", \"name\": \"CX11_10\"}, {\"parameters\": [{\"date\": \"2019-08-30T08:21:50+00:00\", \"unit\": \"\", \"value\": 0.0577565027812707, \"name\": \"gate_error\"}], \"qubits\": [11, 12], \"gate\": \"cx\", \"name\": \"CX11_12\"}, {\"parameters\": [{\"date\": \"2019-08-30T08:28:18+00:00\", \"unit\": \"\", \"value\": 0.07996541354812434, \"name\": \"gate_error\"}], \"qubits\": [12, 2], \"gate\": \"cx\", \"name\": \"CX12_2\"}, {\"parameters\": [{\"date\": \"2019-08-30T08:32:48+00:00\", \"unit\": \"\", \"value\": 0.20353725512052456, \"name\": \"gate_error\"}], \"qubits\": [13, 1], \"gate\": \"cx\", \"name\": \"CX13_1\"}, {\"parameters\": [{\"date\": \"2019-08-30T08:36:49+00:00\", \"unit\": \"\", \"value\": 0.06325184775759388, \"name\": \"gate_error\"}], \"qubits\": [13, 12], \"gate\": \"cx\", \"name\": \"CX13_12\"}]}'"
      ],
      "execution_count": 0,
      "outputs": []
    },
    {
      "cell_type": "code",
      "metadata": {
        "id": "UgceGGqr5MUh",
        "colab_type": "code",
        "colab": {}
      },
      "source": [
        "fake_melbourne_path = '/usr/local/lib/python3.6/dist-packages/qiskit/test/mock/props_melbourne.json'\n",
        "with open(fake_melbourne_path, 'w') as f:\n",
        "    f.write(fake_melbourne_json)"
      ],
      "execution_count": 0,
      "outputs": []
    },
    {
      "cell_type": "code",
      "metadata": {
        "colab_type": "code",
        "id": "plMyVdCL9x0G",
        "colab": {}
      },
      "source": [
        "from qiskit.test.mock import * \n",
        "backend = FakeMelbourne()\n",
        "properties = backend.properties()\n",
        "coupling_map = backend.configuration().coupling_map"
      ],
      "execution_count": 0,
      "outputs": []
    },
    {
      "cell_type": "code",
      "metadata": {
        "id": "qCFbwykO9ykG",
        "colab_type": "code",
        "outputId": "93c18c7f-7e96-4afc-dcf9-0bf5dd88490a",
        "colab": {
          "base_uri": "https://localhost:8080/",
          "height": 71
        }
      },
      "source": [
        "# ibmq simulator with fake melbourne\n",
        "config = backend.configuration()\n",
        "proper = backend.properties()\n",
        "print(config)\n",
        "print(proper)"
      ],
      "execution_count": 0,
      "outputs": [
        {
          "output_type": "stream",
          "text": [
            "QasmBackendConfiguration(backend_name='fake_melbourne', backend_version='0.0.0', basis_gates=['u1', 'u2', 'u3', 'cx', 'id'], conditional=False, coupling_map=[[1, 0], [1, 2], [2, 3], [4, 3], [4, 10], [5, 4], [5, 6], [5, 9], [6, 8], [7, 8], [9, 8], [9, 10], [11, 3], [11, 10], [11, 12], [12, 2], [13, 1], [13, 12]], gates=[GateConfig(name='TODO', parameters=[], qasm_def='TODO')], local=True, max_shots=65536, memory=False, n_qubits=14, open_pulse=False, simulator=False)\n",
            "BackendProperties(backend_name='ibmq_16_melbourne', backend_version='1.0.0', gates=[Gate(gate='u1', parameters=[Nduv(date=datetime.datetime(2019, 8, 30, 6, 30, 9, tzinfo=datetime.timezone(datetime.timedelta(0), '+0000')), name='gate_error', unit='', value=0.0)], qubits=[0]), Gate(gate='u2', parameters=[Nduv(date=datetime.datetime(2019, 8, 30, 6, 30, 9, tzinfo=datetime.timezone(datetime.timedelta(0), '+0000')), name='gate_error', unit='', value=0.0022890476549879413)], qubits=[0]), Gate(gate='u3', parameters=[Nduv(date=datetime.datetime(2019, 8, 30, 6, 30, 9, tzinfo=datetime.timezone(datetime.timedelta(0), '+0000')), name='gate_error', unit='', value=0.0045780953099758825)], qubits=[0]), Gate(gate='u1', parameters=[Nduv(date=datetime.datetime(2019, 8, 30, 6, 30, 9, tzinfo=datetime.timezone(datetime.timedelta(0), '+0000')), name='gate_error', unit='', value=0.0)], qubits=[1]), Gate(gate='u2', parameters=[Nduv(date=datetime.datetime(2019, 8, 30, 6, 30, 9, tzinfo=datetime.timezone(datetime.timedelta(0), '+0000')), name='gate_error', unit='', value=0.011161011211293481)], qubits=[1]), Gate(gate='u3', parameters=[Nduv(date=datetime.datetime(2019, 8, 30, 6, 30, 9, tzinfo=datetime.timezone(datetime.timedelta(0), '+0000')), name='gate_error', unit='', value=0.022322022422586962)], qubits=[1]), Gate(gate='u1', parameters=[Nduv(date=datetime.datetime(2019, 8, 30, 6, 30, 9, tzinfo=datetime.timezone(datetime.timedelta(0), '+0000')), name='gate_error', unit='', value=0.0)], qubits=[2]), Gate(gate='u2', parameters=[Nduv(date=datetime.datetime(2019, 8, 30, 6, 30, 9, tzinfo=datetime.timezone(datetime.timedelta(0), '+0000')), name='gate_error', unit='', value=0.004338853227556672)], qubits=[2]), Gate(gate='u3', parameters=[Nduv(date=datetime.datetime(2019, 8, 30, 6, 30, 9, tzinfo=datetime.timezone(datetime.timedelta(0), '+0000')), name='gate_error', unit='', value=0.008677706455113343)], qubits=[2]), Gate(gate='u1', parameters=[Nduv(date=datetime.datetime(2019, 8, 30, 6, 30, 9, tzinfo=datetime.timezone(datetime.timedelta(0), '+0000')), name='gate_error', unit='', value=0.0)], qubits=[3]), Gate(gate='u2', parameters=[Nduv(date=datetime.datetime(2019, 8, 30, 6, 30, 9, tzinfo=datetime.timezone(datetime.timedelta(0), '+0000')), name='gate_error', unit='', value=0.0012604117926789393)], qubits=[3]), Gate(gate='u3', parameters=[Nduv(date=datetime.datetime(2019, 8, 30, 6, 30, 9, tzinfo=datetime.timezone(datetime.timedelta(0), '+0000')), name='gate_error', unit='', value=0.0025208235853578786)], qubits=[3]), Gate(gate='u1', parameters=[Nduv(date=datetime.datetime(2019, 8, 30, 6, 30, 9, tzinfo=datetime.timezone(datetime.timedelta(0), '+0000')), name='gate_error', unit='', value=0.0)], qubits=[4]), Gate(gate='u2', parameters=[Nduv(date=datetime.datetime(2019, 8, 30, 6, 30, 9, tzinfo=datetime.timezone(datetime.timedelta(0), '+0000')), name='gate_error', unit='', value=0.004304021029278404)], qubits=[4]), Gate(gate='u3', parameters=[Nduv(date=datetime.datetime(2019, 8, 30, 6, 30, 9, tzinfo=datetime.timezone(datetime.timedelta(0), '+0000')), name='gate_error', unit='', value=0.008608042058556808)], qubits=[4]), Gate(gate='u1', parameters=[Nduv(date=datetime.datetime(2019, 8, 30, 6, 30, 9, tzinfo=datetime.timezone(datetime.timedelta(0), '+0000')), name='gate_error', unit='', value=0.0)], qubits=[5]), Gate(gate='u2', parameters=[Nduv(date=datetime.datetime(2019, 8, 30, 6, 30, 9, tzinfo=datetime.timezone(datetime.timedelta(0), '+0000')), name='gate_error', unit='', value=0.0022045855046065044)], qubits=[5]), Gate(gate='u3', parameters=[Nduv(date=datetime.datetime(2019, 8, 30, 6, 30, 9, tzinfo=datetime.timezone(datetime.timedelta(0), '+0000')), name='gate_error', unit='', value=0.004409171009213009)], qubits=[5]), Gate(gate='u1', parameters=[Nduv(date=datetime.datetime(2019, 8, 30, 6, 30, 9, tzinfo=datetime.timezone(datetime.timedelta(0), '+0000')), name='gate_error', unit='', value=0.0)], qubits=[6]), Gate(gate='u2', parameters=[Nduv(date=datetime.datetime(2019, 8, 30, 6, 30, 9, tzinfo=datetime.timezone(datetime.timedelta(0), '+0000')), name='gate_error', unit='', value=0.003454676084759689)], qubits=[6]), Gate(gate='u3', parameters=[Nduv(date=datetime.datetime(2019, 8, 30, 6, 30, 9, tzinfo=datetime.timezone(datetime.timedelta(0), '+0000')), name='gate_error', unit='', value=0.006909352169519378)], qubits=[6]), Gate(gate='u1', parameters=[Nduv(date=datetime.datetime(2019, 8, 30, 6, 30, 9, tzinfo=datetime.timezone(datetime.timedelta(0), '+0000')), name='gate_error', unit='', value=0.0)], qubits=[7]), Gate(gate='u2', parameters=[Nduv(date=datetime.datetime(2019, 8, 30, 6, 30, 9, tzinfo=datetime.timezone(datetime.timedelta(0), '+0000')), name='gate_error', unit='', value=0.0016963998440643335)], qubits=[7]), Gate(gate='u3', parameters=[Nduv(date=datetime.datetime(2019, 8, 30, 6, 30, 9, tzinfo=datetime.timezone(datetime.timedelta(0), '+0000')), name='gate_error', unit='', value=0.003392799688128667)], qubits=[7]), Gate(gate='u1', parameters=[Nduv(date=datetime.datetime(2019, 8, 30, 6, 30, 9, tzinfo=datetime.timezone(datetime.timedelta(0), '+0000')), name='gate_error', unit='', value=0.0)], qubits=[8]), Gate(gate='u2', parameters=[Nduv(date=datetime.datetime(2019, 8, 30, 6, 30, 9, tzinfo=datetime.timezone(datetime.timedelta(0), '+0000')), name='gate_error', unit='', value=0.0016534919884557686)], qubits=[8]), Gate(gate='u3', parameters=[Nduv(date=datetime.datetime(2019, 8, 30, 6, 30, 9, tzinfo=datetime.timezone(datetime.timedelta(0), '+0000')), name='gate_error', unit='', value=0.0033069839769115372)], qubits=[8]), Gate(gate='u1', parameters=[Nduv(date=datetime.datetime(2019, 8, 30, 6, 30, 9, tzinfo=datetime.timezone(datetime.timedelta(0), '+0000')), name='gate_error', unit='', value=0.0)], qubits=[9]), Gate(gate='u2', parameters=[Nduv(date=datetime.datetime(2019, 8, 30, 6, 30, 9, tzinfo=datetime.timezone(datetime.timedelta(0), '+0000')), name='gate_error', unit='', value=0.002924197752053881)], qubits=[9]), Gate(gate='u3', parameters=[Nduv(date=datetime.datetime(2019, 8, 30, 6, 30, 9, tzinfo=datetime.timezone(datetime.timedelta(0), '+0000')), name='gate_error', unit='', value=0.005848395504107762)], qubits=[9]), Gate(gate='u1', parameters=[Nduv(date=datetime.datetime(2019, 8, 30, 6, 30, 9, tzinfo=datetime.timezone(datetime.timedelta(0), '+0000')), name='gate_error', unit='', value=0.0)], qubits=[10]), Gate(gate='u2', parameters=[Nduv(date=datetime.datetime(2019, 8, 30, 6, 30, 9, tzinfo=datetime.timezone(datetime.timedelta(0), '+0000')), name='gate_error', unit='', value=0.0019467418954691729)], qubits=[10]), Gate(gate='u3', parameters=[Nduv(date=datetime.datetime(2019, 8, 30, 6, 30, 9, tzinfo=datetime.timezone(datetime.timedelta(0), '+0000')), name='gate_error', unit='', value=0.0038934837909383457)], qubits=[10]), Gate(gate='u1', parameters=[Nduv(date=datetime.datetime(2019, 8, 30, 6, 30, 9, tzinfo=datetime.timezone(datetime.timedelta(0), '+0000')), name='gate_error', unit='', value=0.0)], qubits=[11]), Gate(gate='u2', parameters=[Nduv(date=datetime.datetime(2019, 8, 30, 6, 30, 9, tzinfo=datetime.timezone(datetime.timedelta(0), '+0000')), name='gate_error', unit='', value=0.0015616057095417801)], qubits=[11]), Gate(gate='u3', parameters=[Nduv(date=datetime.datetime(2019, 8, 30, 6, 30, 9, tzinfo=datetime.timezone(datetime.timedelta(0), '+0000')), name='gate_error', unit='', value=0.0031232114190835603)], qubits=[11]), Gate(gate='u1', parameters=[Nduv(date=datetime.datetime(2019, 8, 30, 6, 30, 9, tzinfo=datetime.timezone(datetime.timedelta(0), '+0000')), name='gate_error', unit='', value=0.0)], qubits=[12]), Gate(gate='u2', parameters=[Nduv(date=datetime.datetime(2019, 8, 30, 6, 30, 9, tzinfo=datetime.timezone(datetime.timedelta(0), '+0000')), name='gate_error', unit='', value=0.0038211298054479648)], qubits=[12]), Gate(gate='u3', parameters=[Nduv(date=datetime.datetime(2019, 8, 30, 6, 30, 9, tzinfo=datetime.timezone(datetime.timedelta(0), '+0000')), name='gate_error', unit='', value=0.0076422596108959295)], qubits=[12]), Gate(gate='u1', parameters=[Nduv(date=datetime.datetime(2019, 8, 30, 6, 30, 9, tzinfo=datetime.timezone(datetime.timedelta(0), '+0000')), name='gate_error', unit='', value=0.0)], qubits=[13]), Gate(gate='u2', parameters=[Nduv(date=datetime.datetime(2019, 8, 30, 6, 30, 9, tzinfo=datetime.timezone(datetime.timedelta(0), '+0000')), name='gate_error', unit='', value=0.007137874193502647)], qubits=[13]), Gate(gate='u3', parameters=[Nduv(date=datetime.datetime(2019, 8, 30, 6, 30, 9, tzinfo=datetime.timezone(datetime.timedelta(0), '+0000')), name='gate_error', unit='', value=0.014275748387005294)], qubits=[13]), Gate(gate='cx', name='CX1_0', parameters=[Nduv(date=datetime.datetime(2019, 8, 30, 7, 40, 28, tzinfo=datetime.timezone(datetime.timedelta(0), '+0000')), name='gate_error', unit='', value=0.06766941423407083)], qubits=[1, 0]), Gate(gate='cx', name='CX1_2', parameters=[Nduv(date=datetime.datetime(2019, 8, 29, 8, 20, 16, tzinfo=datetime.timezone(datetime.timedelta(0), '+0000')), name='gate_error', unit='', value=0.03801037092728929)], qubits=[1, 2]), Gate(gate='cx', name='CX2_3', parameters=[Nduv(date=datetime.datetime(2019, 8, 30, 7, 43, 40, tzinfo=datetime.timezone(datetime.timedelta(0), '+0000')), name='gate_error', unit='', value=0.04035927412341517)], qubits=[2, 3]), Gate(gate='cx', name='CX4_3', parameters=[Nduv(date=datetime.datetime(2019, 8, 30, 7, 46, 54, tzinfo=datetime.timezone(datetime.timedelta(0), '+0000')), name='gate_error', unit='', value=0.06554808443374471)], qubits=[4, 3]), Gate(gate='cx', name='CX4_10', parameters=[Nduv(date=datetime.datetime(2019, 8, 30, 7, 50, 12, tzinfo=datetime.timezone(datetime.timedelta(0), '+0000')), name='gate_error', unit='', value=0.11000377135049015)], qubits=[4, 10]), Gate(gate='cx', name='CX5_4', parameters=[Nduv(date=datetime.datetime(2019, 8, 30, 7, 53, 32, tzinfo=datetime.timezone(datetime.timedelta(0), '+0000')), name='gate_error', unit='', value=0.082271205303343)], qubits=[5, 4]), Gate(gate='cx', name='CX5_6', parameters=[Nduv(date=datetime.datetime(2019, 8, 30, 7, 56, 51, tzinfo=datetime.timezone(datetime.timedelta(0), '+0000')), name='gate_error', unit='', value=0.08000264893528869)], qubits=[5, 6]), Gate(gate='cx', name='CX5_9', parameters=[Nduv(date=datetime.datetime(2019, 8, 30, 8, 0, 47, tzinfo=datetime.timezone(datetime.timedelta(0), '+0000')), name='gate_error', unit='', value=0.053982705107386536)], qubits=[5, 9]), Gate(gate='cx', name='CX6_8', parameters=[Nduv(date=datetime.datetime(2019, 8, 30, 8, 4, 12, tzinfo=datetime.timezone(datetime.timedelta(0), '+0000')), name='gate_error', unit='', value=0.044040614765997216)], qubits=[6, 8]), Gate(gate='cx', name='CX7_8', parameters=[Nduv(date=datetime.datetime(2019, 8, 30, 8, 7, 39, tzinfo=datetime.timezone(datetime.timedelta(0), '+0000')), name='gate_error', unit='', value=0.03259217494162084)], qubits=[7, 8]), Gate(gate='cx', name='CX9_8', parameters=[Nduv(date=datetime.datetime(2019, 8, 30, 8, 10, 56, tzinfo=datetime.timezone(datetime.timedelta(0), '+0000')), name='gate_error', unit='', value=0.05439659729448815)], qubits=[9, 8]), Gate(gate='cx', name='CX9_10', parameters=[Nduv(date=datetime.datetime(2019, 8, 30, 8, 15, 16, tzinfo=datetime.timezone(datetime.timedelta(0), '+0000')), name='gate_error', unit='', value=0.05590172348391173)], qubits=[9, 10]), Gate(gate='cx', name='CX11_3', parameters=[Nduv(date=datetime.datetime(2019, 8, 30, 8, 25, 2, tzinfo=datetime.timezone(datetime.timedelta(0), '+0000')), name='gate_error', unit='', value=0.03230502354557954)], qubits=[11, 3]), Gate(gate='cx', name='CX11_10', parameters=[Nduv(date=datetime.datetime(2019, 8, 30, 8, 18, 40, tzinfo=datetime.timezone(datetime.timedelta(0), '+0000')), name='gate_error', unit='', value=0.04992714061173503)], qubits=[11, 10]), Gate(gate='cx', name='CX11_12', parameters=[Nduv(date=datetime.datetime(2019, 8, 30, 8, 21, 50, tzinfo=datetime.timezone(datetime.timedelta(0), '+0000')), name='gate_error', unit='', value=0.0577565027812707)], qubits=[11, 12]), Gate(gate='cx', name='CX12_2', parameters=[Nduv(date=datetime.datetime(2019, 8, 30, 8, 28, 18, tzinfo=datetime.timezone(datetime.timedelta(0), '+0000')), name='gate_error', unit='', value=0.07996541354812434)], qubits=[12, 2]), Gate(gate='cx', name='CX13_1', parameters=[Nduv(date=datetime.datetime(2019, 8, 30, 8, 32, 48, tzinfo=datetime.timezone(datetime.timedelta(0), '+0000')), name='gate_error', unit='', value=0.20353725512052456)], qubits=[13, 1]), Gate(gate='cx', name='CX13_12', parameters=[Nduv(date=datetime.datetime(2019, 8, 30, 8, 36, 49, tzinfo=datetime.timezone(datetime.timedelta(0), '+0000')), name='gate_error', unit='', value=0.06325184775759388)], qubits=[13, 12])], general=[], last_update_date=datetime.datetime(2019, 8, 30, 8, 40, 39, tzinfo=datetime.timezone(datetime.timedelta(0), '+0000')), qubits=[[Nduv(date=datetime.datetime(2019, 8, 30, 6, 25, 5, tzinfo=datetime.timezone(datetime.timedelta(0), '+0000')), name='T1', unit='µs', value=50.77314177960378), Nduv(date=datetime.datetime(2019, 8, 30, 6, 26, 18, tzinfo=datetime.timezone(datetime.timedelta(0), '+0000')), name='T2', unit='µs', value=23.26716550447232), Nduv(date=datetime.datetime(2019, 8, 30, 8, 40, 39, tzinfo=datetime.timezone(datetime.timedelta(0), '+0000')), name='frequency', unit='GHz', value=5.100143648658738), Nduv(date=datetime.datetime(2019, 8, 30, 6, 24, 42, tzinfo=datetime.timezone(datetime.timedelta(0), '+0000')), name='readout_error', unit='', value=0.0816)], [Nduv(date=datetime.datetime(2019, 8, 30, 6, 25, 5, tzinfo=datetime.timezone(datetime.timedelta(0), '+0000')), name='T1', unit='µs', value=75.03457165555137), Nduv(date=datetime.datetime(2019, 8, 30, 6, 27, 17, tzinfo=datetime.timezone(datetime.timedelta(0), '+0000')), name='T2', unit='µs', value=123.45446126755621), Nduv(date=datetime.datetime(2019, 8, 30, 8, 40, 39, tzinfo=datetime.timezone(datetime.timedelta(0), '+0000')), name='frequency', unit='GHz', value=5.238515519242375), Nduv(date=datetime.datetime(2019, 8, 30, 6, 24, 42, tzinfo=datetime.timezone(datetime.timedelta(0), '+0000')), name='readout_error', unit='', value=0.05669999999999997)], [Nduv(date=datetime.datetime(2019, 8, 30, 6, 25, 5, tzinfo=datetime.timezone(datetime.timedelta(0), '+0000')), name='T1', unit='µs', value=50.275404762879674), Nduv(date=datetime.datetime(2019, 8, 30, 6, 28, 16, tzinfo=datetime.timezone(datetime.timedelta(0), '+0000')), name='T2', unit='µs', value=97.1824505756254), Nduv(date=datetime.datetime(2019, 8, 30, 8, 40, 39, tzinfo=datetime.timezone(datetime.timedelta(0), '+0000')), name='frequency', unit='GHz', value=5.0325918748371725), Nduv(date=datetime.datetime(2019, 8, 30, 6, 24, 42, tzinfo=datetime.timezone(datetime.timedelta(0), '+0000')), name='readout_error', unit='', value=0.03649999999999998)], [Nduv(date=datetime.datetime(2019, 8, 30, 6, 25, 5, tzinfo=datetime.timezone(datetime.timedelta(0), '+0000')), name='T1', unit='µs', value=77.06523067691023), Nduv(date=datetime.datetime(2019, 8, 30, 6, 29, 16, tzinfo=datetime.timezone(datetime.timedelta(0), '+0000')), name='T2', unit='µs', value=65.88343921328119), Nduv(date=datetime.datetime(2019, 8, 30, 8, 40, 39, tzinfo=datetime.timezone(datetime.timedelta(0), '+0000')), name='frequency', unit='GHz', value=4.89622995143569), Nduv(date=datetime.datetime(2019, 8, 30, 6, 24, 42, tzinfo=datetime.timezone(datetime.timedelta(0), '+0000')), name='readout_error', unit='', value=0.033600000000000074)], [Nduv(date=datetime.datetime(2019, 8, 30, 6, 25, 5, tzinfo=datetime.timezone(datetime.timedelta(0), '+0000')), name='T1', unit='µs', value=48.6121344326565), Nduv(date=datetime.datetime(2019, 8, 30, 6, 26, 18, tzinfo=datetime.timezone(datetime.timedelta(0), '+0000')), name='T2', unit='µs', value=33.43851454952923), Nduv(date=datetime.datetime(2019, 8, 30, 8, 40, 39, tzinfo=datetime.timezone(datetime.timedelta(0), '+0000')), name='frequency', unit='GHz', value=5.030492276013032), Nduv(date=datetime.datetime(2019, 8, 30, 6, 24, 42, tzinfo=datetime.timezone(datetime.timedelta(0), '+0000')), name='readout_error', unit='', value=0.06389999999999996)], [Nduv(date=datetime.datetime(2019, 8, 30, 6, 25, 5, tzinfo=datetime.timezone(datetime.timedelta(0), '+0000')), name='T1', unit='µs', value=27.22545338386326), Nduv(date=datetime.datetime(2019, 8, 30, 6, 27, 17, tzinfo=datetime.timezone(datetime.timedelta(0), '+0000')), name='T2', unit='µs', value=55.30006621968561), Nduv(date=datetime.datetime(2019, 8, 30, 8, 40, 39, tzinfo=datetime.timezone(datetime.timedelta(0), '+0000')), name='frequency', unit='GHz', value=5.067164115486811), Nduv(date=datetime.datetime(2019, 8, 30, 6, 24, 42, tzinfo=datetime.timezone(datetime.timedelta(0), '+0000')), name='readout_error', unit='', value=0.05700000000000005)], [Nduv(date=datetime.datetime(2019, 8, 30, 6, 25, 5, tzinfo=datetime.timezone(datetime.timedelta(0), '+0000')), name='T1', unit='µs', value=62.04463882018325), Nduv(date=datetime.datetime(2019, 8, 30, 6, 28, 16, tzinfo=datetime.timezone(datetime.timedelta(0), '+0000')), name='T2', unit='µs', value=61.95417571799565), Nduv(date=datetime.datetime(2019, 8, 30, 8, 40, 39, tzinfo=datetime.timezone(datetime.timedelta(0), '+0000')), name='frequency', unit='GHz', value=4.923824384016654), Nduv(date=datetime.datetime(2019, 8, 30, 6, 24, 42, tzinfo=datetime.timezone(datetime.timedelta(0), '+0000')), name='readout_error', unit='', value=0.07909999999999995)], [Nduv(date=datetime.datetime(2019, 8, 30, 6, 25, 5, tzinfo=datetime.timezone(datetime.timedelta(0), '+0000')), name='T1', unit='µs', value=43.16853024912021), Nduv(date=datetime.datetime(2019, 8, 30, 6, 29, 16, tzinfo=datetime.timezone(datetime.timedelta(0), '+0000')), name='T2', unit='µs', value=58.427459338851314), Nduv(date=datetime.datetime(2019, 8, 30, 8, 40, 39, tzinfo=datetime.timezone(datetime.timedelta(0), '+0000')), name='frequency', unit='GHz', value=4.974544202937344), Nduv(date=datetime.datetime(2019, 8, 30, 6, 24, 42, tzinfo=datetime.timezone(datetime.timedelta(0), '+0000')), name='readout_error', unit='', value=0.06340000000000001)], [Nduv(date=datetime.datetime(2019, 8, 30, 6, 25, 5, tzinfo=datetime.timezone(datetime.timedelta(0), '+0000')), name='T1', unit='µs', value=63.71797543850963), Nduv(date=datetime.datetime(2019, 8, 30, 6, 26, 18, tzinfo=datetime.timezone(datetime.timedelta(0), '+0000')), name='T2', unit='µs', value=88.67507787276234), Nduv(date=datetime.datetime(2019, 8, 30, 8, 40, 39, tzinfo=datetime.timezone(datetime.timedelta(0), '+0000')), name='frequency', unit='GHz', value=4.739562250938468), Nduv(date=datetime.datetime(2019, 8, 30, 6, 24, 42, tzinfo=datetime.timezone(datetime.timedelta(0), '+0000')), name='readout_error', unit='', value=0.034599999999999964)], [Nduv(date=datetime.datetime(2019, 8, 30, 6, 25, 5, tzinfo=datetime.timezone(datetime.timedelta(0), '+0000')), name='T1', unit='µs', value=46.51934163391105), Nduv(date=datetime.datetime(2019, 8, 30, 6, 28, 16, tzinfo=datetime.timezone(datetime.timedelta(0), '+0000')), name='T2', unit='µs', value=81.94019993440179), Nduv(date=datetime.datetime(2019, 8, 30, 8, 40, 39, tzinfo=datetime.timezone(datetime.timedelta(0), '+0000')), name='frequency', unit='GHz', value=4.963380996175847), Nduv(date=datetime.datetime(2019, 8, 30, 6, 24, 42, tzinfo=datetime.timezone(datetime.timedelta(0), '+0000')), name='readout_error', unit='', value=0.034399999999999986)], [Nduv(date=datetime.datetime(2019, 8, 30, 6, 25, 5, tzinfo=datetime.timezone(datetime.timedelta(0), '+0000')), name='T1', unit='µs', value=41.30403837241326), Nduv(date=datetime.datetime(2019, 8, 30, 6, 27, 17, tzinfo=datetime.timezone(datetime.timedelta(0), '+0000')), name='T2', unit='µs', value=51.44366097786817), Nduv(date=datetime.datetime(2019, 8, 30, 8, 40, 39, tzinfo=datetime.timezone(datetime.timedelta(0), '+0000')), name='frequency', unit='GHz', value=4.945057612825996), Nduv(date=datetime.datetime(2019, 8, 30, 6, 24, 42, tzinfo=datetime.timezone(datetime.timedelta(0), '+0000')), name='readout_error', unit='', value=0.062000000000000055)], [Nduv(date=datetime.datetime(2019, 8, 30, 6, 25, 5, tzinfo=datetime.timezone(datetime.timedelta(0), '+0000')), name='T1', unit='µs', value=68.19724093725696), Nduv(date=datetime.datetime(2019, 8, 30, 6, 28, 16, tzinfo=datetime.timezone(datetime.timedelta(0), '+0000')), name='T2', unit='µs', value=116.05875432702656), Nduv(date=datetime.datetime(2019, 8, 30, 8, 40, 39, tzinfo=datetime.timezone(datetime.timedelta(0), '+0000')), name='frequency', unit='GHz', value=5.005006866957911), Nduv(date=datetime.datetime(2019, 8, 30, 6, 24, 42, tzinfo=datetime.timezone(datetime.timedelta(0), '+0000')), name='readout_error', unit='', value=0.03180000000000005)], [Nduv(date=datetime.datetime(2019, 8, 30, 6, 25, 5, tzinfo=datetime.timezone(datetime.timedelta(0), '+0000')), name='T1', unit='µs', value=42.18872718994089), Nduv(date=datetime.datetime(2019, 8, 30, 6, 27, 17, tzinfo=datetime.timezone(datetime.timedelta(0), '+0000')), name='T2', unit='µs', value=72.39113698104636), Nduv(date=datetime.datetime(2019, 8, 30, 8, 40, 39, tzinfo=datetime.timezone(datetime.timedelta(0), '+0000')), name='frequency', unit='GHz', value=4.759964985519018), Nduv(date=datetime.datetime(2019, 8, 30, 6, 24, 42, tzinfo=datetime.timezone(datetime.timedelta(0), '+0000')), name='readout_error', unit='', value=0.05730000000000002)], [Nduv(date=datetime.datetime(2019, 8, 30, 6, 25, 5, tzinfo=datetime.timezone(datetime.timedelta(0), '+0000')), name='T1', unit='µs', value=23.388913061674028), Nduv(date=datetime.datetime(2019, 8, 30, 6, 26, 18, tzinfo=datetime.timezone(datetime.timedelta(0), '+0000')), name='T2', unit='µs', value=49.568617451351685), Nduv(date=datetime.datetime(2019, 8, 30, 8, 40, 39, tzinfo=datetime.timezone(datetime.timedelta(0), '+0000')), name='frequency', unit='GHz', value=4.968519920718844), Nduv(date=datetime.datetime(2019, 8, 30, 6, 24, 42, tzinfo=datetime.timezone(datetime.timedelta(0), '+0000')), name='readout_error', unit='', value=0.05249999999999999)]])\n"
          ],
          "name": "stdout"
        }
      ]
    },
    {
      "cell_type": "code",
      "metadata": {
        "id": "5i8z0SE-I9-h",
        "colab_type": "code",
        "colab": {}
      },
      "source": [
        "# configuration\n",
        "for op in dir(config):\n",
        "    if op[0] == '_':\n",
        "        continue\n",
        "    print(\"{} : \".format(op), end=\"\")\n",
        "    exec(\"print(config.{})\".format(op))"
      ],
      "execution_count": 0,
      "outputs": []
    },
    {
      "cell_type": "code",
      "metadata": {
        "id": "iT_jGMqOMIDB",
        "colab_type": "code",
        "colab": {}
      },
      "source": [
        "# properities\n",
        "for op in dir(proper):\n",
        "    if op[0] == '_':\n",
        "        continue\n",
        "    print(\"{} : \".format(op), end=\"\")\n",
        "    exec(\"print(proper.{})\".format(op))"
      ],
      "execution_count": 0,
      "outputs": []
    },
    {
      "cell_type": "code",
      "metadata": {
        "id": "-AGFBy_cMMay",
        "colab_type": "code",
        "colab": {}
      },
      "source": [
        "### Properties\n",
        "# Gate information\n",
        "for gate in proper.gates:\n",
        "    print(gate.gate, gate.qubits, end=\" \")\n",
        "    gate_error = gate.parameters[0]\n",
        "    # gate_length = gate.parameters[1]\n",
        "    print(\"{} : {} {}\".format(gate_error.name, gate_error.value, gate_error.unit))\n",
        "    # print(\"     {} : {} {}\".format(gate_length.name, gate_length.value, gate_length.unit))"
      ],
      "execution_count": 0,
      "outputs": []
    },
    {
      "cell_type": "code",
      "metadata": {
        "id": "lrdHy1JNPNCh",
        "colab_type": "code",
        "colab": {}
      },
      "source": [
        "# Qubit information\n",
        "for idx, qubit in enumerate(proper.qubits):\n",
        "    print(\"========================================\")\n",
        "    print(\"qubit {}\".format(idx))\n",
        "    print(\"========================================\")\n",
        "    for info in qubit:\n",
        "        print(\"{} : {} {}\".format(info.name, info.value, info.unit))"
      ],
      "execution_count": 0,
      "outputs": []
    },
    {
      "cell_type": "markdown",
      "metadata": {
        "id": "Du8tNlEbyDSj",
        "colab_type": "text"
      },
      "source": [
        "## Hardware information for Deep learning\n",
        "**Choose what hardware information to use**\n",
        "\n",
        "    - configuration\n",
        "        1. coupling map (qubit topologie)\n",
        "        2. basis gate (The gate that quantum computer can use)\n",
        "    - properties\n",
        "        1. gate\n",
        "            - gate error\n",
        "        2. qubit\n",
        "            - readout error\n",
        "\n",
        "T1, T2 informations are also important but at here I only choosed the information that will directly cause a error on the distribution of quantum state vector independent of time."
      ]
    },
    {
      "cell_type": "code",
      "metadata": {
        "id": "a26IH1LUxxtW",
        "colab_type": "code",
        "outputId": "1a01913b-42cf-4566-f044-b629c307f3a1",
        "colab": {
          "base_uri": "https://localhost:8080/",
          "height": 51
        }
      },
      "source": [
        "# coupling map\n",
        "print(config.coupling_map)\n",
        "\n",
        "# basis gate\n",
        "print(config.basis_gates)"
      ],
      "execution_count": 0,
      "outputs": [
        {
          "output_type": "stream",
          "text": [
            "[[0, 1], [1, 0], [1, 2], [1, 3], [2, 1], [3, 1], [3, 4], [4, 3]]\n",
            "['u1', 'u2', 'u3', 'cx', 'id']\n"
          ],
          "name": "stdout"
        }
      ]
    },
    {
      "cell_type": "code",
      "metadata": {
        "id": "6WBNxPYex8Qu",
        "colab_type": "code",
        "outputId": "d02590ba-6f15-47f6-aa76-52f1c55f68a3",
        "colab": {
          "base_uri": "https://localhost:8080/",
          "height": 969
        }
      },
      "source": [
        "### Properties\n",
        "# Gate information\n",
        "for gate in proper.gates:\n",
        "    print(gate.name, end=\" \")\n",
        "    gate_error = gate.parameters[0]\n",
        "    gate_length = gate.parameters[1]\n",
        "    print(\"{} : {} {}\".format(gate_error.name, gate_error.value, gate_error.unit))\n",
        "    print(\"     {} : {} {}\".format(gate_length.name, gate_length.value, gate_length.unit))"
      ],
      "execution_count": 0,
      "outputs": [
        {
          "output_type": "stream",
          "text": [
            "id_0 gate_error : 0.00024224374804775767 \n",
            "     gate_length : 35.55555555555556 ns\n",
            "u1_0 gate_error : 0.0 \n",
            "     gate_length : 0.0 ns\n",
            "u2_0 gate_error : 0.00024224374804775767 \n",
            "     gate_length : 35.55555555555556 ns\n",
            "u3_0 gate_error : 0.00048448749609551533 \n",
            "     gate_length : 71.11111111111111 ns\n",
            "id_1 gate_error : 0.0003865413109417161 \n",
            "     gate_length : 35.55555555555556 ns\n",
            "u1_1 gate_error : 0.0 \n",
            "     gate_length : 0.0 ns\n",
            "u2_1 gate_error : 0.0003865413109417161 \n",
            "     gate_length : 35.55555555555556 ns\n",
            "u3_1 gate_error : 0.0007730826218834323 \n",
            "     gate_length : 71.11111111111111 ns\n",
            "id_2 gate_error : 0.00045449638853158097 \n",
            "     gate_length : 35.55555555555556 ns\n",
            "u1_2 gate_error : 0.0 \n",
            "     gate_length : 0.0 ns\n",
            "u2_2 gate_error : 0.00045449638853158097 \n",
            "     gate_length : 35.55555555555556 ns\n",
            "u3_2 gate_error : 0.0009089927770631619 \n",
            "     gate_length : 71.11111111111111 ns\n",
            "id_3 gate_error : 0.00023355579589998267 \n",
            "     gate_length : 35.55555555555556 ns\n",
            "u1_3 gate_error : 0.0 \n",
            "     gate_length : 0.0 ns\n",
            "u2_3 gate_error : 0.00023355579589998267 \n",
            "     gate_length : 35.55555555555556 ns\n",
            "u3_3 gate_error : 0.00046711159179996535 \n",
            "     gate_length : 71.11111111111111 ns\n",
            "id_4 gate_error : 0.0003990078732276052 \n",
            "     gate_length : 35.55555555555556 ns\n",
            "u1_4 gate_error : 0.0 \n",
            "     gate_length : 0.0 ns\n",
            "u2_4 gate_error : 0.0003990078732276052 \n",
            "     gate_length : 35.55555555555556 ns\n",
            "u3_4 gate_error : 0.0007980157464552104 \n",
            "     gate_length : 71.11111111111111 ns\n",
            "cx0_1 gate_error : 0.007257097608848406 \n",
            "     gate_length : 241.77777777777777 ns\n",
            "cx1_0 gate_error : 0.007257097608848406 \n",
            "     gate_length : 241.77777777777777 ns\n",
            "cx1_2 gate_error : 0.024981827391178046 \n",
            "     gate_length : 305.77777777777777 ns\n",
            "cx1_3 gate_error : 0.007954074665301736 \n",
            "     gate_length : 433.77777777777777 ns\n",
            "cx2_1 gate_error : 0.024981827391178046 \n",
            "     gate_length : 305.77777777777777 ns\n",
            "cx3_1 gate_error : 0.007954074665301736 \n",
            "     gate_length : 433.77777777777777 ns\n",
            "cx3_4 gate_error : 0.011113105529863249 \n",
            "     gate_length : 817.7777777777777 ns\n",
            "cx4_3 gate_error : 0.011113105529863249 \n",
            "     gate_length : 817.7777777777777 ns\n"
          ],
          "name": "stdout"
        }
      ]
    },
    {
      "cell_type": "code",
      "metadata": {
        "id": "pONtFJZjzSN-",
        "colab_type": "code",
        "outputId": "f7b0eb24-21b3-4a37-f8ca-cb9677ff8254",
        "colab": {
          "base_uri": "https://localhost:8080/",
          "height": 782
        }
      },
      "source": [
        "# Qubit information\n",
        "for idx, qubit in enumerate(proper.qubits):\n",
        "    print(\"========================================\")\n",
        "    print(\"qubit {}\".format(idx))\n",
        "    print(\"========================================\")\n",
        "    for info in qubit:\n",
        "        print(\"{} : {} {}\".format(info.name, info.value, info.unit))"
      ],
      "execution_count": 0,
      "outputs": [
        {
          "output_type": "stream",
          "text": [
            "========================================\n",
            "qubit 0\n",
            "========================================\n",
            "T1 : 64.3941543228813 µs\n",
            "T2 : 81.26578667428593 µs\n",
            "frequency : 5.254061989453832 GHz\n",
            "readout_error : 0.02499999999999991 \n",
            "prob_meas0_prep1 : 0.036666666666666625 \n",
            "prob_meas1_prep0 : 0.013333333333333334 \n",
            "========================================\n",
            "qubit 1\n",
            "========================================\n",
            "T1 : 64.94915265659091 µs\n",
            "T2 : 49.2969315899979 µs\n",
            "frequency : 5.048745862985357 GHz\n",
            "readout_error : 0.036666666666666625 \n",
            "prob_meas0_prep1 : 0.06000000000000005 \n",
            "prob_meas1_prep0 : 0.013333333333333334 \n",
            "========================================\n",
            "qubit 2\n",
            "========================================\n",
            "T1 : 57.45885738074015 µs\n",
            "T2 : 94.06773407036839 µs\n",
            "frequency : 5.230614019248117 GHz\n",
            "readout_error : 0.033333333333333326 \n",
            "prob_meas0_prep1 : 0.040000000000000036 \n",
            "prob_meas1_prep0 : 0.02666666666666667 \n",
            "========================================\n",
            "qubit 3\n",
            "========================================\n",
            "T1 : 91.41305551666868 µs\n",
            "T2 : 125.19988997205803 µs\n",
            "frequency : 5.200912302963144 GHz\n",
            "readout_error : 0.02833333333333332 \n",
            "prob_meas0_prep1 : 0.03 \n",
            "prob_meas1_prep0 : 0.026666666666666616 \n",
            "========================================\n",
            "qubit 4\n",
            "========================================\n",
            "T1 : 69.9485233269213 µs\n",
            "T2 : 27.31735578542831 µs\n",
            "frequency : 5.06584251589964 GHz\n",
            "readout_error : 0.021666666666666723 \n",
            "prob_meas0_prep1 : 0.036666666666666625 \n",
            "prob_meas1_prep0 : 0.006666666666666667 \n"
          ],
          "name": "stdout"
        }
      ]
    },
    {
      "cell_type": "code",
      "metadata": {
        "id": "-_28cmKp4NFn",
        "colab_type": "code",
        "colab": {}
      },
      "source": [
        ""
      ],
      "execution_count": 0,
      "outputs": []
    }
  ]
}