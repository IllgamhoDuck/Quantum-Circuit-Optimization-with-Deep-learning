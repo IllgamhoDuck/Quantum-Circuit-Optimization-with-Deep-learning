{
  "nbformat": 4,
  "nbformat_minor": 0,
  "metadata": {
    "colab": {
      "name": "estimating_statevectors_from_circuits.ipynb",
      "provenance": [],
      "collapsed_sections": [],
      "toc_visible": true,
      "include_colab_link": true
    },
    "kernelspec": {
      "name": "python3",
      "display_name": "Python 3"
    }
  },
  "cells": [
    {
      "cell_type": "markdown",
      "metadata": {
        "id": "view-in-github",
        "colab_type": "text"
      },
      "source": [
        "<a href=\"https://colab.research.google.com/github/IllgamhoDuck/Quantum-Circuit-Optimization-with-Deep-learning/blob/master/estimating_statevectors_from_circuits.ipynb\" target=\"_parent\"><img src=\"https://colab.research.google.com/assets/colab-badge.svg\" alt=\"Open In Colab\"/></a>"
      ]
    },
    {
      "cell_type": "markdown",
      "metadata": {
        "id": "NIdQ7YJdCM2Z",
        "colab_type": "text"
      },
      "source": [
        "# Use Neural Networks to imitate Quantum Computers with Qiskit"
      ]
    },
    {
      "cell_type": "markdown",
      "metadata": {
        "id": "3C-DO9zfCWm1",
        "colab_type": "text"
      },
      "source": [
        "Quantum computers are rare, and even simulating quantum computation is expensive. With neural networks you can simulate quantum computers. Qiskit provides many useful functions along the way."
      ]
    },
    {
      "cell_type": "markdown",
      "metadata": {
        "id": "ERqfwSXVCyPE",
        "colab_type": "text"
      },
      "source": [
        "## Data generation\n",
        "\n",
        "To use neural networks, we need a large dataset from which to find patterns. Using Qiskit allows us to create this large dataset."
      ]
    },
    {
      "cell_type": "code",
      "metadata": {
        "id": "hEcHuE1SDQ9p",
        "colab_type": "code",
        "colab": {
          "base_uri": "https://localhost:8080/",
          "height": 625
        },
        "outputId": "d79ca813-9f81-4831-9d97-739dec832d9b"
      },
      "source": [
        "!pip install --quiet apache-beam==2.15.0 qiskit==0.13.0"
      ],
      "execution_count": 1,
      "outputs": [
        {
          "output_type": "stream",
          "text": [
            "\u001b[K     |████████████████████████████████| 2.9MB 10.9MB/s \n",
            "\u001b[K     |████████████████████████████████| 153kB 50.9MB/s \n",
            "\u001b[K     |████████████████████████████████| 1.2MB 55.2MB/s \n",
            "\u001b[K     |████████████████████████████████| 81kB 10.3MB/s \n",
            "\u001b[K     |████████████████████████████████| 61kB 8.1MB/s \n",
            "\u001b[K     |████████████████████████████████| 51kB 6.8MB/s \n",
            "\u001b[K     |████████████████████████████████| 1.6MB 39.7MB/s \n",
            "\u001b[K     |████████████████████████████████| 17.3MB 138kB/s \n",
            "\u001b[K     |████████████████████████████████| 61kB 8.3MB/s \n",
            "\u001b[K     |████████████████████████████████| 102kB 11.3MB/s \n",
            "\u001b[K     |████████████████████████████████| 983kB 55.6MB/s \n",
            "\u001b[K     |████████████████████████████████| 112kB 56.1MB/s \n",
            "\u001b[K     |████████████████████████████████| 51kB 7.2MB/s \n",
            "\u001b[K     |████████████████████████████████| 51kB 7.1MB/s \n",
            "\u001b[K     |████████████████████████████████| 5.6MB 64.1MB/s \n",
            "\u001b[K     |████████████████████████████████| 71kB 7.0MB/s \n",
            "\u001b[K     |████████████████████████████████| 573kB 55.8MB/s \n",
            "\u001b[K     |████████████████████████████████| 21.7MB 111kB/s \n",
            "\u001b[K     |████████████████████████████████| 2.3MB 49.9MB/s \n",
            "\u001b[K     |████████████████████████████████| 61kB 8.0MB/s \n",
            "\u001b[K     |████████████████████████████████| 61kB 8.2MB/s \n",
            "\u001b[?25h  Building wheel for qiskit (setup.py) ... \u001b[?25l\u001b[?25hdone\n",
            "  Building wheel for dill (setup.py) ... \u001b[?25l\u001b[?25hdone\n",
            "  Building wheel for oauth2client (setup.py) ... \u001b[?25l\u001b[?25hdone\n",
            "  Building wheel for avro-python3 (setup.py) ... \u001b[?25l\u001b[?25hdone\n",
            "  Building wheel for hdfs (setup.py) ... \u001b[?25l\u001b[?25hdone\n",
            "  Building wheel for qiskit-ibmq-provider (setup.py) ... \u001b[?25l\u001b[?25hdone\n",
            "  Building wheel for marshmallow-polyfield (setup.py) ... \u001b[?25l\u001b[?25hdone\n",
            "  Building wheel for docplex (setup.py) ... \u001b[?25l\u001b[?25hdone\n",
            "  Building wheel for dlx (setup.py) ... \u001b[?25l\u001b[?25hdone\n",
            "  Building wheel for docloud (setup.py) ... \u001b[?25l\u001b[?25hdone\n",
            "  Building wheel for inflection (setup.py) ... \u001b[?25l\u001b[?25hdone\n",
            "\u001b[31mERROR: pydrive 1.3.1 has requirement oauth2client>=4.0.0, but you'll have oauth2client 3.0.0 which is incompatible.\u001b[0m\n",
            "\u001b[31mERROR: multiprocess 0.70.9 has requirement dill>=0.3.1, but you'll have dill 0.2.9 which is incompatible.\u001b[0m\n",
            "\u001b[31mERROR: datascience 0.10.6 has requirement folium==0.2.1, but you'll have folium 0.8.3 which is incompatible.\u001b[0m\n"
          ],
          "name": "stdout"
        }
      ]
    },
    {
      "cell_type": "code",
      "metadata": {
        "id": "Q-Y7GwKObVNJ",
        "colab_type": "code",
        "colab": {
          "base_uri": "https://localhost:8080/",
          "height": 34
        },
        "outputId": "4d6aa9fa-3d61-4cd6-c4da-fef9cd683087"
      },
      "source": [
        "%%writefile generate_qc_dict.py\n",
        "\"\"\"\n",
        "Generates a dictionary describing a Quantum Circuit.\n",
        "\"\"\"\n",
        "\n",
        "import random\n",
        "\n",
        "import numpy as np\n",
        "import qiskit\n",
        "from qiskit.circuit.random.utils import random_circuit\n",
        "\n",
        "\n",
        "def qc_to_statevectors_dict(\n",
        "  qc: qiskit.QuantumCircuit,\n",
        ") -> dict:\n",
        "  \"\"\"\n",
        "  Simulates a 5-qubit Quantum Circuit to generate\n",
        "  its statevectors from 1024 simulated ideal runs of the 5-qubit Quantum Circuit.\n",
        "  :param qc: The 5-qubit Quantum Circuit to simulate\n",
        "  :return: The dictionary of statevectors generated from 1024 simulated ideal runs of the 5-qubit Quantum Circuit.\n",
        "  \"\"\"\n",
        "  results = qiskit.execute(\n",
        "    qc,\n",
        "    qiskit.Aer.get_backend('qasm_simulator')\n",
        "  ).result()\n",
        "  counts = results.get_counts()\n",
        "\n",
        "  q_n = 5\n",
        "  keys = [str(bin(i + 1024))[-q_n:] for i in range(2 ** q_n)]\n",
        "  my_counts = {\"state_\" + key: 0 for key in keys}\n",
        "\n",
        "  for key in counts:\n",
        "    my_counts[\"state_\" + key] = counts[key]\n",
        "  return my_counts\n",
        "\n",
        "\n",
        "def type_of_gate(\n",
        "  gate: qiskit.QuantumCircuit,\n",
        ") -> str:\n",
        "  \"\"\"\n",
        "  Gets the type of gate.\n",
        "  \"\"\"\n",
        "  return str(type(gate[0])).split(\".\")[-1][:-2]\n",
        "\n",
        "\n",
        "def gate_to_dict(\n",
        "  gate\n",
        ") -> dict:\n",
        "  \"\"\"\n",
        "  Given a gate, returns one row of the CSV file describing the gate.\n",
        "\n",
        "  >>> gate_to_json(None)\n",
        "  {}\n",
        "\n",
        "  >>> qc = get_unrolled_quantum_circuit_from_filename(\n",
        "  >>>     filename=\"one_qasm_file/circuit_88.qasm\"\n",
        "  >>> )\n",
        "  >>> for n, gate in enumerate(qc.data):\n",
        "  >>>   print(gate)\n",
        "  >>>   print(gate_to_json(gate))\n",
        "  (<qiskit.extensions.standard.u3.U3Gate object at 0x7fb91ab6f5c0>, [Qubit(QuantumRegister(5, 'q'), 0)], [])\n",
        "{\"Gate_Type\": \"U3Gate\", \"Control\": 0, \"Target\": -1, \"Angle_1\": 0.0, \"Angle_2\": 0.0, \"Angle_3\": 0.5}\n",
        "  ...\n",
        "\n",
        "  \"\"\"\n",
        "\n",
        "  # todo: do not return string in this function\n",
        "  if gate is None:\n",
        "    raise \"gate is None\"\n",
        "\n",
        "  COL_QUANTITY = 6\n",
        "  gate_type = type_of_gate(gate)\n",
        "  gate_control = gate[1][0].index\n",
        "  try:\n",
        "    gate_target = gate[1][1].index\n",
        "  except IndexError:\n",
        "    gate_target = -1\n",
        "  gate_angles = gate[0].params\n",
        "  u3_gate_str_list = [gate_type, gate_control, gate_target]\n",
        "  if gate_angles and len(gate_angles) == 3:\n",
        "    adj_angle = lambda angle: float(angle / np.pi)\n",
        "    u3_gate_str_list += list(map(adj_angle, gate_angles[0:2]))\n",
        "\n",
        "  initial_length = len(u3_gate_str_list)\n",
        "  for i in range(initial_length, COL_QUANTITY):\n",
        "    u3_gate_str_list.append(-1)\n",
        "  dict_json = {\n",
        "    \"Gate_Type\": u3_gate_str_list[0],\n",
        "    \"Control\": u3_gate_str_list[1],\n",
        "    \"Target\": u3_gate_str_list[2],\n",
        "    \"Angle_1\": u3_gate_str_list[3],\n",
        "    \"Angle_2\": u3_gate_str_list[4],\n",
        "    \"Angle_3\": u3_gate_str_list[5],\n",
        "  }\n",
        "  return dict_json\n",
        "\n",
        "\n",
        "def qc_to_gates_dict(\n",
        "  qc: qiskit.QuantumCircuit,\n",
        ") -> dict:\n",
        "  \"\"\"\n",
        "  Parses the gates of a Quantum Circuit\n",
        "  into a common dictionary format\n",
        "  that conforms to our JSON schema.\n",
        "  :param qc: The Quantum Circuit to get the gates of.\n",
        "  :return: The gates of the Quantum Circuit in a common dictionary format.\n",
        "  For example: { \"gate_00\": {}, ..., \"gate_40\": {}}\n",
        "  \"\"\"\n",
        "  n_gates = len(qc.data)\n",
        "  MAX_N_GATES = 40\n",
        "\n",
        "  NOT_EXIST_VALUE = -1\n",
        "  # The dictionary that every blank gate uses\n",
        "  BLANK_GATE_DICT = {\n",
        "    \"Gate_Number\": NOT_EXIST_VALUE,\n",
        "    \"Gate_Type\": \"\",\n",
        "    \"Control\": NOT_EXIST_VALUE,\n",
        "    \"Target\": NOT_EXIST_VALUE,\n",
        "    \"Angle_1\": NOT_EXIST_VALUE,\n",
        "    \"Angle_2\": NOT_EXIST_VALUE,\n",
        "    \"Angle_3\": NOT_EXIST_VALUE,\n",
        "  }\n",
        "  n_digit_gate_number = len(str(MAX_N_GATES)) // 2\n",
        "\n",
        "  gates_dict = {}\n",
        "\n",
        "  if len(qc.data) > MAX_N_GATES:\n",
        "    print(\"WARNING: More gates than capacity\")\n",
        "  for gate_number, gate in enumerate(qc.data):\n",
        "    gate_dict = gate_to_dict(gate)\n",
        "    gate_dict['Gate_Number'] = gate_number\n",
        "    gate_dict_key = 'gate_' + str(gate_number).zfill(n_digit_gate_number)\n",
        "    gates_dict[gate_dict_key] = gate_dict\n",
        "  for gate_number in range(n_gates, MAX_N_GATES + 1):\n",
        "    gate_dict = BLANK_GATE_DICT\n",
        "    gate_dict_key = 'gate_' + str(gate_number).zfill(n_digit_gate_number)\n",
        "    gates_dict[gate_dict_key] = gate_dict\n",
        "  return gates_dict\n",
        "\n",
        "\n",
        "def qc_to_qc_dict(\n",
        "  qc: qiskit.QuantumCircuit,\n",
        ") -> dict:\n",
        "  \"\"\"\n",
        "  Converts the Quantum Circuit into a common dictionary format that conforms to our JSON schema.\n",
        "  :param qc: The Quantum Circuit to convert into a common dictionary format.\n",
        "  :return: The common dictionary format representation of the Quantum Circuit.\n",
        "  \"\"\"\n",
        "  gates_dict = qc_to_gates_dict(qc=qc)\n",
        "  statevectors_dict = qc_to_statevectors_dict(qc=qc)\n",
        "  qc_dict = {\n",
        "    \"statevectors\": statevectors_dict,\n",
        "    \"gates\": gates_dict\n",
        "  }\n",
        "  return qc_dict\n",
        "\n",
        "\n",
        "def generate_qc(\n",
        "\n",
        ") -> qiskit.QuantumCircuit:\n",
        "  \"\"\"\n",
        "  Generates a random Quantum Circuit.\n",
        "  :return: The generated random Quantum Circuit.\n",
        "  \"\"\"\n",
        "  min_depth = 1\n",
        "  max_depth = 40\n",
        "  depth = random.randint(min_depth, max_depth)\n",
        "  qc = random_circuit(\n",
        "    n_qubits=5,\n",
        "    depth=depth,\n",
        "    max_operands=2,\n",
        "    measure=True\n",
        "  )\n",
        "  pass_ = qiskit.transpiler.passes.Unroller(['u3', 'cx'])\n",
        "  pm = qiskit.transpiler.PassManager(pass_)\n",
        "\n",
        "  # if the quantum circuit has more gates than allowed\n",
        "  try:\n",
        "    # check if the quantum circuit has no id gates\n",
        "    qc2 = pm.run(qc)\n",
        "  except qiskit.QiskitError:\n",
        "    # Quantum Circuit had id gate, try again\n",
        "    return generate_qc()\n",
        "\n",
        "  # if the quantum circuit has more gates than allowed\n",
        "  if len(qc2.data) > max_depth:\n",
        "    # Quantum Circuit had too many gates, try again\n",
        "    return generate_qc()\n",
        "\n",
        "  # Quantum Circuit had allowed number and type of gates, therefore successful.\n",
        "  return qc2\n",
        "\n",
        "\n",
        "def generate_qc_dict(\n",
        "\n",
        ") -> dict:\n",
        "  \"\"\"\n",
        "  Generates a dictionary describing a random Quantum Circuit.\n",
        "  :return: The generated dictionary describing a random Quantum Circuit.\n",
        "  \"\"\"\n",
        "  qc = generate_qc()\n",
        "  qc_dict = qc_to_qc_dict(\n",
        "    qc=qc,\n",
        "  )\n",
        "  return qc_dict\n"
      ],
      "execution_count": 2,
      "outputs": [
        {
          "output_type": "stream",
          "text": [
            "Writing generate_qc_dict.py\n"
          ],
          "name": "stdout"
        }
      ]
    },
    {
      "cell_type": "code",
      "metadata": {
        "id": "PrdPMr4PbWVH",
        "colab_type": "code",
        "colab": {
          "base_uri": "https://localhost:8080/",
          "height": 70
        },
        "outputId": "4abc59d2-a25f-4712-fafa-84ee28586f6a"
      },
      "source": [
        "\"\"\"\n",
        "Locally generates a JSON describing Quantum Circuits.\n",
        "\"\"\"\n",
        "\n",
        "import apache_beam as beam\n",
        "\n",
        "import generate_qc_dict\n",
        "\n",
        "\n",
        "def main(\n",
        "\n",
        "):\n",
        "  \"\"\"\n",
        "  Runs Apache Beam pipeline to generate a JSON file describing\n",
        "  random generated Quantum Circuits.\n",
        "  :return: None\n",
        "  \"\"\"\n",
        "  N_CIRCUITS_TO_GENERATE = 10\n",
        "  # make a list with length equal to number of circuits\n",
        "  #  we want to generate so we can map\n",
        "  #  the filler element with an actual circuit\n",
        "\n",
        "  with beam.Pipeline('DirectRunner') as pipeline:\n",
        "    (pipeline\n",
        "     | beam.Create(range(N_CIRCUITS_TO_GENERATE))\n",
        "     | beam.Map(lambda element: generate_qc_dict.generate_qc_dict())\n",
        "     | beam.io.WriteToText('random_quantum_circuits_as_bq_json')\n",
        "     )\n",
        "\n",
        "    pipeline.run()\n"
      ],
      "execution_count": 3,
      "outputs": [
        {
          "output_type": "stream",
          "text": [
            "/usr/local/lib/python3.6/dist-packages/apache_beam/__init__.py:84: UserWarning: Some syntactic constructs of Python 3 are not yet fully supported by Apache Beam.\n",
            "  'Some syntactic constructs of Python 3 are not yet fully supported by '\n"
          ],
          "name": "stderr"
        }
      ]
    },
    {
      "cell_type": "code",
      "metadata": {
        "id": "HBIHAKucbeGY",
        "colab_type": "code",
        "colab": {}
      },
      "source": [
        "main()"
      ],
      "execution_count": 0,
      "outputs": []
    },
    {
      "cell_type": "code",
      "metadata": {
        "id": "-LwSKZ96bgn_",
        "colab_type": "code",
        "colab": {
          "base_uri": "https://localhost:8080/",
          "height": 205
        },
        "outputId": "c875c6a4-3007-4384-9e7a-a6682566b696"
      },
      "source": [
        "!cat random_quantum_circuits_as_bq_json-00000-of-00001"
      ],
      "execution_count": 5,
      "outputs": [
        {
          "output_type": "stream",
          "text": [
            "{'statevectors': {'state_00000': 853, 'state_00001': 171, 'state_00010': 0, 'state_00011': 0, 'state_00100': 0, 'state_00101': 0, 'state_00110': 0, 'state_00111': 0, 'state_01000': 0, 'state_01001': 0, 'state_01010': 0, 'state_01011': 0, 'state_01100': 0, 'state_01101': 0, 'state_01110': 0, 'state_01111': 0, 'state_10000': 0, 'state_10001': 0, 'state_10010': 0, 'state_10011': 0, 'state_10100': 0, 'state_10101': 0, 'state_10110': 0, 'state_10111': 0, 'state_11000': 0, 'state_11001': 0, 'state_11010': 0, 'state_11011': 0, 'state_11100': 0, 'state_11101': 0, 'state_11110': 0, 'state_11111': 0}, 'gates': {'gate_0': {'Gate_Type': 'U3Gate', 'Control': 2, 'Target': -1, 'Angle_1': 0.0, 'Angle_2': 0.0, 'Angle_3': -1, 'Gate_Number': 0}, 'gate_1': {'Gate_Type': 'CnotGate', 'Control': 2, 'Target': 0, 'Angle_1': -1, 'Angle_2': -1, 'Angle_3': -1, 'Gate_Number': 1}, 'gate_2': {'Gate_Type': 'U3Gate', 'Control': 0, 'Target': -1, 'Angle_1': 0.0, 'Angle_2': 0.0, 'Angle_3': -1, 'Gate_Number': 2}, 'gate_3': {'Gate_Type': 'CnotGate', 'Control': 2, 'Target': 0, 'Angle_1': -1, 'Angle_2': -1, 'Angle_3': -1, 'Gate_Number': 3}, 'gate_4': {'Gate_Type': 'U3Gate', 'Control': 0, 'Target': -1, 'Angle_1': 0.0, 'Angle_2': 0.0, 'Angle_3': -1, 'Gate_Number': 4}, 'gate_5': {'Gate_Type': 'U3Gate', 'Control': 0, 'Target': -1, 'Angle_1': 0.0, 'Angle_2': 0.0, 'Angle_3': -1, 'Gate_Number': 5}, 'gate_6': {'Gate_Type': 'U3Gate', 'Control': 0, 'Target': -1, 'Angle_1': 1.7379326404009872, 'Angle_2': 0.934632695268228, 'Angle_3': -1, 'Gate_Number': 6}, 'gate_7': {'Gate_Type': 'U3Gate', 'Control': 2, 'Target': -1, 'Angle_1': 0.0, 'Angle_2': 0.0, 'Angle_3': -1, 'Gate_Number': 7}, 'gate_8': {'Gate_Type': 'U3Gate', 'Control': 3, 'Target': -1, 'Angle_1': 1.0, 'Angle_2': 0.5, 'Angle_3': -1, 'Gate_Number': 8}, 'gate_9': {'Gate_Type': 'U3Gate', 'Control': 3, 'Target': -1, 'Angle_1': 0.0, 'Angle_2': 0.0, 'Angle_3': -1, 'Gate_Number': 9}, 'gate_10': {'Gate_Type': 'U3Gate', 'Control': 4, 'Target': -1, 'Angle_1': 0.5, 'Angle_2': 0.0, 'Angle_3': -1, 'Gate_Number': 10}, 'gate_11': {'Gate_Type': 'CnotGate', 'Control': 1, 'Target': 4, 'Angle_1': -1, 'Angle_2': -1, 'Angle_3': -1, 'Gate_Number': 11}, 'gate_12': {'Gate_Type': 'CnotGate', 'Control': 3, 'Target': 1, 'Angle_1': -1, 'Angle_2': -1, 'Angle_3': -1, 'Gate_Number': 12}, 'gate_13': {'Gate_Type': 'U3Gate', 'Control': 1, 'Target': -1, 'Angle_1': 0.0, 'Angle_2': 0.0, 'Angle_3': -1, 'Gate_Number': 13}, 'gate_14': {'Gate_Type': 'CnotGate', 'Control': 3, 'Target': 1, 'Angle_1': -1, 'Angle_2': -1, 'Angle_3': -1, 'Gate_Number': 14}, 'gate_15': {'Gate_Type': 'U3Gate', 'Control': 1, 'Target': -1, 'Angle_1': 0.0, 'Angle_2': 0.0, 'Angle_3': -1, 'Gate_Number': 15}, 'gate_16': {'Gate_Type': 'U3Gate', 'Control': 1, 'Target': -1, 'Angle_1': 0.0, 'Angle_2': 0.0, 'Angle_3': -1, 'Gate_Number': 16}, 'gate_17': {'Gate_Type': 'U3Gate', 'Control': 3, 'Target': -1, 'Angle_1': 0.9959286560750293, 'Angle_2': 1.8432437109480742, 'Angle_3': -1, 'Gate_Number': 17}, 'gate_18': {'Gate_Type': 'U3Gate', 'Control': 4, 'Target': -1, 'Angle_1': 0.5, 'Angle_2': 0.0, 'Angle_3': -1, 'Gate_Number': 18}, 'gate_19': {'Gate_Type': 'U3Gate', 'Control': 4, 'Target': -1, 'Angle_1': 0.0, 'Angle_2': 0.0, 'Angle_3': -1, 'Gate_Number': 19}, 'gate_20': {'Gate_Type': 'CnotGate', 'Control': 4, 'Target': 2, 'Angle_1': -1, 'Angle_2': -1, 'Angle_3': -1, 'Gate_Number': 20}, 'gate_21': {'Gate_Type': 'U3Gate', 'Control': 2, 'Target': -1, 'Angle_1': -0.4484208264925838, 'Angle_2': 0.0, 'Angle_3': -1, 'Gate_Number': 21}, 'gate_22': {'Gate_Type': 'CnotGate', 'Control': 4, 'Target': 2, 'Angle_1': -1, 'Angle_2': -1, 'Angle_3': -1, 'Gate_Number': 22}, 'gate_23': {'Gate_Type': 'U3Gate', 'Control': 2, 'Target': -1, 'Angle_1': 0.4484208264925838, 'Angle_2': 1.443698759512704, 'Angle_3': -1, 'Gate_Number': 23}, 'gate_24': {'Gate_Type': 'U3Gate', 'Control': 2, 'Target': -1, 'Angle_1': 0.0, 'Angle_2': 0.0, 'Angle_3': -1, 'Gate_Number': 24}, 'gate_25': {'Gate_Type': 'CnotGate', 'Control': 4, 'Target': 2, 'Angle_1': -1, 'Angle_2': -1, 'Angle_3': -1, 'Gate_Number': 25}, 'gate_26': {'Gate_Type': 'U3Gate', 'Control': 2, 'Target': -1, 'Angle_1': 0.0, 'Angle_2': 0.0, 'Angle_3': -1, 'Gate_Number': 26}, 'gate_27': {'Gate_Type': 'CnotGate', 'Control': 4, 'Target': 2, 'Angle_1': -1, 'Angle_2': -1, 'Angle_3': -1, 'Gate_Number': 27}, 'gate_28': {'Gate_Type': 'Measure', 'Control': 0, 'Target': -1, 'Angle_1': -1, 'Angle_2': -1, 'Angle_3': -1, 'Gate_Number': 28}, 'gate_29': {'Gate_Type': 'Measure', 'Control': 1, 'Target': -1, 'Angle_1': -1, 'Angle_2': -1, 'Angle_3': -1, 'Gate_Number': 29}, 'gate_30': {'Gate_Type': 'Measure', 'Control': 2, 'Target': -1, 'Angle_1': -1, 'Angle_2': -1, 'Angle_3': -1, 'Gate_Number': 30}, 'gate_31': {'Gate_Type': 'Measure', 'Control': 3, 'Target': -1, 'Angle_1': -1, 'Angle_2': -1, 'Angle_3': -1, 'Gate_Number': 31}, 'gate_32': {'Gate_Type': 'Measure', 'Control': 4, 'Target': -1, 'Angle_1': -1, 'Angle_2': -1, 'Angle_3': -1, 'Gate_Number': 32}, 'gate_33': {'Gate_Number': -1, 'Gate_Type': '', 'Control': -1, 'Target': -1, 'Angle_1': -1, 'Angle_2': -1, 'Angle_3': -1}, 'gate_34': {'Gate_Number': -1, 'Gate_Type': '', 'Control': -1, 'Target': -1, 'Angle_1': -1, 'Angle_2': -1, 'Angle_3': -1}, 'gate_35': {'Gate_Number': -1, 'Gate_Type': '', 'Control': -1, 'Target': -1, 'Angle_1': -1, 'Angle_2': -1, 'Angle_3': -1}, 'gate_36': {'Gate_Number': -1, 'Gate_Type': '', 'Control': -1, 'Target': -1, 'Angle_1': -1, 'Angle_2': -1, 'Angle_3': -1}, 'gate_37': {'Gate_Number': -1, 'Gate_Type': '', 'Control': -1, 'Target': -1, 'Angle_1': -1, 'Angle_2': -1, 'Angle_3': -1}, 'gate_38': {'Gate_Number': -1, 'Gate_Type': '', 'Control': -1, 'Target': -1, 'Angle_1': -1, 'Angle_2': -1, 'Angle_3': -1}, 'gate_39': {'Gate_Number': -1, 'Gate_Type': '', 'Control': -1, 'Target': -1, 'Angle_1': -1, 'Angle_2': -1, 'Angle_3': -1}, 'gate_40': {'Gate_Number': -1, 'Gate_Type': '', 'Control': -1, 'Target': -1, 'Angle_1': -1, 'Angle_2': -1, 'Angle_3': -1}}}\n",
            "{'statevectors': {'state_00000': 448, 'state_00001': 144, 'state_00010': 0, 'state_00011': 0, 'state_00100': 0, 'state_00101': 0, 'state_00110': 0, 'state_00111': 0, 'state_01000': 47, 'state_01001': 10, 'state_01010': 0, 'state_01011': 0, 'state_01100': 0, 'state_01101': 0, 'state_01110': 0, 'state_01111': 0, 'state_10000': 262, 'state_10001': 67, 'state_10010': 0, 'state_10011': 0, 'state_10100': 0, 'state_10101': 0, 'state_10110': 0, 'state_10111': 0, 'state_11000': 34, 'state_11001': 12, 'state_11010': 0, 'state_11011': 0, 'state_11100': 0, 'state_11101': 0, 'state_11110': 0, 'state_11111': 0}, 'gates': {'gate_0': {'Gate_Type': 'U3Gate', 'Control': 1, 'Target': -1, 'Angle_1': 0.0, 'Angle_2': 0.0, 'Angle_3': -1, 'Gate_Number': 0}, 'gate_1': {'Gate_Type': 'CnotGate', 'Control': 0, 'Target': 1, 'Angle_1': -1, 'Angle_2': -1, 'Angle_3': -1, 'Gate_Number': 1}, 'gate_2': {'Gate_Type': 'U3Gate', 'Control': 1, 'Target': -1, 'Angle_1': 0.0, 'Angle_2': 0.0, 'Angle_3': -1, 'Gate_Number': 2}, 'gate_3': {'Gate_Type': 'U3Gate', 'Control': 1, 'Target': -1, 'Angle_1': 0.0, 'Angle_2': 0.0, 'Angle_3': -1, 'Gate_Number': 3}, 'gate_4': {'Gate_Type': 'U3Gate', 'Control': 2, 'Target': -1, 'Angle_1': 0.0, 'Angle_2': 0.0, 'Angle_3': -1, 'Gate_Number': 4}, 'gate_5': {'Gate_Type': 'U3Gate', 'Control': 2, 'Target': -1, 'Angle_1': 0.0, 'Angle_2': 0.0, 'Angle_3': -1, 'Gate_Number': 5}, 'gate_6': {'Gate_Type': 'U3Gate', 'Control': 2, 'Target': -1, 'Angle_1': 0.0, 'Angle_2': 0.0, 'Angle_3': -1, 'Gate_Number': 6}, 'gate_7': {'Gate_Type': 'U3Gate', 'Control': 2, 'Target': -1, 'Angle_1': 0.0, 'Angle_2': 0.0, 'Angle_3': -1, 'Gate_Number': 7}, 'gate_8': {'Gate_Type': 'U3Gate', 'Control': 3, 'Target': -1, 'Angle_1': 0.0, 'Angle_2': 0.0, 'Angle_3': -1, 'Gate_Number': 8}, 'gate_9': {'Gate_Type': 'U3Gate', 'Control': 3, 'Target': -1, 'Angle_1': 0.5, 'Angle_2': 0.0, 'Angle_3': -1, 'Gate_Number': 9}, 'gate_10': {'Gate_Type': 'U3Gate', 'Control': 3, 'Target': -1, 'Angle_1': 0.0, 'Angle_2': 0.0, 'Angle_3': -1, 'Gate_Number': 10}, 'gate_11': {'Gate_Type': 'CnotGate', 'Control': 4, 'Target': 3, 'Angle_1': -1, 'Angle_2': -1, 'Angle_3': -1, 'Gate_Number': 11}, 'gate_12': {'Gate_Type': 'CnotGate', 'Control': 0, 'Target': 4, 'Angle_1': -1, 'Angle_2': -1, 'Angle_3': -1, 'Gate_Number': 12}, 'gate_13': {'Gate_Type': 'U3Gate', 'Control': 3, 'Target': -1, 'Angle_1': 0.0, 'Angle_2': 0.0, 'Angle_3': -1, 'Gate_Number': 13}, 'gate_14': {'Gate_Type': 'U3Gate', 'Control': 3, 'Target': -1, 'Angle_1': 0.5, 'Angle_2': 0.0, 'Angle_3': -1, 'Gate_Number': 14}, 'gate_15': {'Gate_Type': 'U3Gate', 'Control': 3, 'Target': -1, 'Angle_1': 0.0, 'Angle_2': 0.0, 'Angle_3': -1, 'Gate_Number': 15}, 'gate_16': {'Gate_Type': 'U3Gate', 'Control': 3, 'Target': -1, 'Angle_1': 0.0, 'Angle_2': 0.0, 'Angle_3': -1, 'Gate_Number': 16}, 'gate_17': {'Gate_Type': 'U3Gate', 'Control': 3, 'Target': -1, 'Angle_1': 1.2304456058832218, 'Angle_2': 0.0, 'Angle_3': -1, 'Gate_Number': 17}, 'gate_18': {'Gate_Type': 'U3Gate', 'Control': 3, 'Target': -1, 'Angle_1': 0.989586210467367, 'Angle_2': 0.0, 'Angle_3': -1, 'Gate_Number': 18}, 'gate_19': {'Gate_Type': 'CnotGate', 'Control': 4, 'Target': 0, 'Angle_1': -1, 'Angle_2': -1, 'Angle_3': -1, 'Gate_Number': 19}, 'gate_20': {'Gate_Type': 'CnotGate', 'Control': 0, 'Target': 4, 'Angle_1': -1, 'Angle_2': -1, 'Angle_3': -1, 'Gate_Number': 20}, 'gate_21': {'Gate_Type': 'CnotGate', 'Control': 0, 'Target': 1, 'Angle_1': -1, 'Angle_2': -1, 'Angle_3': -1, 'Gate_Number': 21}, 'gate_22': {'Gate_Type': 'U3Gate', 'Control': 1, 'Target': -1, 'Angle_1': 0.0, 'Angle_2': 0.0, 'Angle_3': -1, 'Gate_Number': 22}, 'gate_23': {'Gate_Type': 'CnotGate', 'Control': 0, 'Target': 1, 'Angle_1': -1, 'Angle_2': -1, 'Angle_3': -1, 'Gate_Number': 23}, 'gate_24': {'Gate_Type': 'U3Gate', 'Control': 0, 'Target': -1, 'Angle_1': 0.3159143319019857, 'Angle_2': -0.5, 'Angle_3': -1, 'Gate_Number': 24}, 'gate_25': {'Gate_Type': 'U3Gate', 'Control': 4, 'Target': -1, 'Angle_1': 0.4132889102489885, 'Angle_2': 1.7946130243438825, 'Angle_3': -1, 'Gate_Number': 25}, 'gate_26': {'Gate_Type': 'U3Gate', 'Control': 4, 'Target': -1, 'Angle_1': 0.0, 'Angle_2': 0.0, 'Angle_3': -1, 'Gate_Number': 26}, 'gate_27': {'Gate_Type': 'CnotGate', 'Control': 1, 'Target': 4, 'Angle_1': -1, 'Angle_2': -1, 'Angle_3': -1, 'Gate_Number': 27}, 'gate_28': {'Gate_Type': 'U3Gate', 'Control': 4, 'Target': -1, 'Angle_1': 0.0, 'Angle_2': 0.0, 'Angle_3': -1, 'Gate_Number': 28}, 'gate_29': {'Gate_Type': 'Measure', 'Control': 0, 'Target': -1, 'Angle_1': -1, 'Angle_2': -1, 'Angle_3': -1, 'Gate_Number': 29}, 'gate_30': {'Gate_Type': 'Measure', 'Control': 1, 'Target': -1, 'Angle_1': -1, 'Angle_2': -1, 'Angle_3': -1, 'Gate_Number': 30}, 'gate_31': {'Gate_Type': 'Measure', 'Control': 2, 'Target': -1, 'Angle_1': -1, 'Angle_2': -1, 'Angle_3': -1, 'Gate_Number': 31}, 'gate_32': {'Gate_Type': 'Measure', 'Control': 3, 'Target': -1, 'Angle_1': -1, 'Angle_2': -1, 'Angle_3': -1, 'Gate_Number': 32}, 'gate_33': {'Gate_Type': 'Measure', 'Control': 4, 'Target': -1, 'Angle_1': -1, 'Angle_2': -1, 'Angle_3': -1, 'Gate_Number': 33}, 'gate_34': {'Gate_Number': -1, 'Gate_Type': '', 'Control': -1, 'Target': -1, 'Angle_1': -1, 'Angle_2': -1, 'Angle_3': -1}, 'gate_35': {'Gate_Number': -1, 'Gate_Type': '', 'Control': -1, 'Target': -1, 'Angle_1': -1, 'Angle_2': -1, 'Angle_3': -1}, 'gate_36': {'Gate_Number': -1, 'Gate_Type': '', 'Control': -1, 'Target': -1, 'Angle_1': -1, 'Angle_2': -1, 'Angle_3': -1}, 'gate_37': {'Gate_Number': -1, 'Gate_Type': '', 'Control': -1, 'Target': -1, 'Angle_1': -1, 'Angle_2': -1, 'Angle_3': -1}, 'gate_38': {'Gate_Number': -1, 'Gate_Type': '', 'Control': -1, 'Target': -1, 'Angle_1': -1, 'Angle_2': -1, 'Angle_3': -1}, 'gate_39': {'Gate_Number': -1, 'Gate_Type': '', 'Control': -1, 'Target': -1, 'Angle_1': -1, 'Angle_2': -1, 'Angle_3': -1}, 'gate_40': {'Gate_Number': -1, 'Gate_Type': '', 'Control': -1, 'Target': -1, 'Angle_1': -1, 'Angle_2': -1, 'Angle_3': -1}}}\n",
            "{'statevectors': {'state_00000': 0, 'state_00001': 59, 'state_00010': 0, 'state_00011': 0, 'state_00100': 95, 'state_00101': 86, 'state_00110': 0, 'state_00111': 0, 'state_01000': 0, 'state_01001': 51, 'state_01010': 0, 'state_01011': 0, 'state_01100': 95, 'state_01101': 105, 'state_01110': 0, 'state_01111': 0, 'state_10000': 0, 'state_10001': 63, 'state_10010': 0, 'state_10011': 0, 'state_10100': 106, 'state_10101': 103, 'state_10110': 0, 'state_10111': 0, 'state_11000': 0, 'state_11001': 53, 'state_11010': 0, 'state_11011': 0, 'state_11100': 104, 'state_11101': 104, 'state_11110': 0, 'state_11111': 0}, 'gates': {'gate_0': {'Gate_Type': 'U3Gate', 'Control': 0, 'Target': -1, 'Angle_1': 1.0, 'Angle_2': 0.5, 'Angle_3': -1, 'Gate_Number': 0}, 'gate_1': {'Gate_Type': 'U3Gate', 'Control': 0, 'Target': -1, 'Angle_1': 0.0, 'Angle_2': 0.0, 'Angle_3': -1, 'Gate_Number': 1}, 'gate_2': {'Gate_Type': 'U3Gate', 'Control': 0, 'Target': -1, 'Angle_1': 0.0, 'Angle_2': 0.0, 'Angle_3': -1, 'Gate_Number': 2}, 'gate_3': {'Gate_Type': 'U3Gate', 'Control': 0, 'Target': -1, 'Angle_1': 0.5, 'Angle_2': 0.0, 'Angle_3': -1, 'Gate_Number': 3}, 'gate_4': {'Gate_Type': 'U3Gate', 'Control': 0, 'Target': -1, 'Angle_1': 0.0, 'Angle_2': 0.0, 'Angle_3': -1, 'Gate_Number': 4}, 'gate_5': {'Gate_Type': 'U3Gate', 'Control': 2, 'Target': -1, 'Angle_1': 0.0, 'Angle_2': 0.0, 'Angle_3': -1, 'Gate_Number': 5}, 'gate_6': {'Gate_Type': 'U3Gate', 'Control': 2, 'Target': -1, 'Angle_1': 1.3296448651616193, 'Angle_2': 0.0, 'Angle_3': -1, 'Gate_Number': 6}, 'gate_7': {'Gate_Type': 'CnotGate', 'Control': 2, 'Target': 0, 'Angle_1': -1, 'Angle_2': -1, 'Angle_3': -1, 'Gate_Number': 7}, 'gate_8': {'Gate_Type': 'U3Gate', 'Control': 0, 'Target': -1, 'Angle_1': 0.0, 'Angle_2': 0.0, 'Angle_3': -1, 'Gate_Number': 8}, 'gate_9': {'Gate_Type': 'U3Gate', 'Control': 0, 'Target': -1, 'Angle_1': 0.5, 'Angle_2': 0.0, 'Angle_3': -1, 'Gate_Number': 9}, 'gate_10': {'Gate_Type': 'U3Gate', 'Control': 0, 'Target': -1, 'Angle_1': 0.0, 'Angle_2': 0.0, 'Angle_3': -1, 'Gate_Number': 10}, 'gate_11': {'Gate_Type': 'U3Gate', 'Control': 3, 'Target': -1, 'Angle_1': 0.5, 'Angle_2': 0.0, 'Angle_3': -1, 'Gate_Number': 11}, 'gate_12': {'Gate_Type': 'CnotGate', 'Control': 1, 'Target': 3, 'Angle_1': -1, 'Angle_2': -1, 'Angle_3': -1, 'Gate_Number': 12}, 'gate_13': {'Gate_Type': 'U3Gate', 'Control': 3, 'Target': -1, 'Angle_1': 0.5, 'Angle_2': 0.0, 'Angle_3': -1, 'Gate_Number': 13}, 'gate_14': {'Gate_Type': 'CnotGate', 'Control': 1, 'Target': 3, 'Angle_1': -1, 'Angle_2': -1, 'Angle_3': -1, 'Gate_Number': 14}, 'gate_15': {'Gate_Type': 'U3Gate', 'Control': 3, 'Target': -1, 'Angle_1': 0.0, 'Angle_2': 0.0, 'Angle_3': -1, 'Gate_Number': 15}, 'gate_16': {'Gate_Type': 'CnotGate', 'Control': 1, 'Target': 3, 'Angle_1': -1, 'Angle_2': -1, 'Angle_3': -1, 'Gate_Number': 16}, 'gate_17': {'Gate_Type': 'U3Gate', 'Control': 3, 'Target': -1, 'Angle_1': 0.0, 'Angle_2': 0.0, 'Angle_3': -1, 'Gate_Number': 17}, 'gate_18': {'Gate_Type': 'CnotGate', 'Control': 1, 'Target': 3, 'Angle_1': -1, 'Angle_2': -1, 'Angle_3': -1, 'Gate_Number': 18}, 'gate_19': {'Gate_Type': 'U3Gate', 'Control': 3, 'Target': -1, 'Angle_1': 0.0, 'Angle_2': 0.0, 'Angle_3': -1, 'Gate_Number': 19}, 'gate_20': {'Gate_Type': 'CnotGate', 'Control': 1, 'Target': 3, 'Angle_1': -1, 'Angle_2': -1, 'Angle_3': -1, 'Gate_Number': 20}, 'gate_21': {'Gate_Type': 'U3Gate', 'Control': 1, 'Target': -1, 'Angle_1': 0.5, 'Angle_2': 0.0, 'Angle_3': -1, 'Gate_Number': 21}, 'gate_22': {'Gate_Type': 'CnotGate', 'Control': 2, 'Target': 1, 'Angle_1': -1, 'Angle_2': -1, 'Angle_3': -1, 'Gate_Number': 22}, 'gate_23': {'Gate_Type': 'U3Gate', 'Control': 1, 'Target': -1, 'Angle_1': 0.5, 'Angle_2': 0.0, 'Angle_3': -1, 'Gate_Number': 23}, 'gate_24': {'Gate_Type': 'U3Gate', 'Control': 3, 'Target': -1, 'Angle_1': 0.5, 'Angle_2': 1.4306743044678774, 'Angle_3': -1, 'Gate_Number': 24}, 'gate_25': {'Gate_Type': 'U3Gate', 'Control': 4, 'Target': -1, 'Angle_1': 1.0, 'Angle_2': 0.5, 'Angle_3': -1, 'Gate_Number': 25}, 'gate_26': {'Gate_Type': 'U3Gate', 'Control': 4, 'Target': -1, 'Angle_1': 0.5, 'Angle_2': 0.0, 'Angle_3': -1, 'Gate_Number': 26}, 'gate_27': {'Gate_Type': 'U3Gate', 'Control': 4, 'Target': -1, 'Angle_1': 0.0, 'Angle_2': 0.0, 'Angle_3': -1, 'Gate_Number': 27}, 'gate_28': {'Gate_Type': 'CnotGate', 'Control': 4, 'Target': 0, 'Angle_1': -1, 'Angle_2': -1, 'Angle_3': -1, 'Gate_Number': 28}, 'gate_29': {'Gate_Type': 'U3Gate', 'Control': 0, 'Target': -1, 'Angle_1': 0.0, 'Angle_2': 0.0, 'Angle_3': -1, 'Gate_Number': 29}, 'gate_30': {'Gate_Type': 'CnotGate', 'Control': 4, 'Target': 0, 'Angle_1': -1, 'Angle_2': -1, 'Angle_3': -1, 'Gate_Number': 30}, 'gate_31': {'Gate_Type': 'Measure', 'Control': 0, 'Target': -1, 'Angle_1': -1, 'Angle_2': -1, 'Angle_3': -1, 'Gate_Number': 31}, 'gate_32': {'Gate_Type': 'Measure', 'Control': 1, 'Target': -1, 'Angle_1': -1, 'Angle_2': -1, 'Angle_3': -1, 'Gate_Number': 32}, 'gate_33': {'Gate_Type': 'Measure', 'Control': 2, 'Target': -1, 'Angle_1': -1, 'Angle_2': -1, 'Angle_3': -1, 'Gate_Number': 33}, 'gate_34': {'Gate_Type': 'Measure', 'Control': 3, 'Target': -1, 'Angle_1': -1, 'Angle_2': -1, 'Angle_3': -1, 'Gate_Number': 34}, 'gate_35': {'Gate_Type': 'Measure', 'Control': 4, 'Target': -1, 'Angle_1': -1, 'Angle_2': -1, 'Angle_3': -1, 'Gate_Number': 35}, 'gate_36': {'Gate_Number': -1, 'Gate_Type': '', 'Control': -1, 'Target': -1, 'Angle_1': -1, 'Angle_2': -1, 'Angle_3': -1}, 'gate_37': {'Gate_Number': -1, 'Gate_Type': '', 'Control': -1, 'Target': -1, 'Angle_1': -1, 'Angle_2': -1, 'Angle_3': -1}, 'gate_38': {'Gate_Number': -1, 'Gate_Type': '', 'Control': -1, 'Target': -1, 'Angle_1': -1, 'Angle_2': -1, 'Angle_3': -1}, 'gate_39': {'Gate_Number': -1, 'Gate_Type': '', 'Control': -1, 'Target': -1, 'Angle_1': -1, 'Angle_2': -1, 'Angle_3': -1}, 'gate_40': {'Gate_Number': -1, 'Gate_Type': '', 'Control': -1, 'Target': -1, 'Angle_1': -1, 'Angle_2': -1, 'Angle_3': -1}}}\n",
            "{'statevectors': {'state_00000': 0, 'state_00001': 0, 'state_00010': 0, 'state_00011': 0, 'state_00100': 0, 'state_00101': 0, 'state_00110': 274, 'state_00111': 243, 'state_01000': 0, 'state_01001': 0, 'state_01010': 242, 'state_01011': 252, 'state_01100': 0, 'state_01101': 0, 'state_01110': 2, 'state_01111': 4, 'state_10000': 0, 'state_10001': 0, 'state_10010': 0, 'state_10011': 0, 'state_10100': 0, 'state_10101': 0, 'state_10110': 3, 'state_10111': 2, 'state_11000': 0, 'state_11001': 0, 'state_11010': 0, 'state_11011': 2, 'state_11100': 0, 'state_11101': 0, 'state_11110': 0, 'state_11111': 0}, 'gates': {'gate_0': {'Gate_Type': 'U3Gate', 'Control': 0, 'Target': -1, 'Angle_1': 0.0, 'Angle_2': 0.0, 'Angle_3': -1, 'Gate_Number': 0}, 'gate_1': {'Gate_Type': 'U3Gate', 'Control': 0, 'Target': -1, 'Angle_1': 0.5, 'Angle_2': 0.0, 'Angle_3': -1, 'Gate_Number': 1}, 'gate_2': {'Gate_Type': 'U3Gate', 'Control': 0, 'Target': -1, 'Angle_1': 0.0, 'Angle_2': 0.0, 'Angle_3': -1, 'Gate_Number': 2}, 'gate_3': {'Gate_Type': 'U3Gate', 'Control': 1, 'Target': -1, 'Angle_1': 0.0, 'Angle_2': 0.0, 'Angle_3': -1, 'Gate_Number': 3}, 'gate_4': {'Gate_Type': 'U3Gate', 'Control': 1, 'Target': -1, 'Angle_1': 0.0, 'Angle_2': 0.0, 'Angle_3': -1, 'Gate_Number': 4}, 'gate_5': {'Gate_Type': 'U3Gate', 'Control': 1, 'Target': -1, 'Angle_1': 0.5, 'Angle_2': 0.0, 'Angle_3': -1, 'Gate_Number': 5}, 'gate_6': {'Gate_Type': 'U3Gate', 'Control': 2, 'Target': -1, 'Angle_1': 1.9607197746215475, 'Angle_2': 1.826861408563722, 'Angle_3': -1, 'Gate_Number': 6}, 'gate_7': {'Gate_Type': 'U3Gate', 'Control': 2, 'Target': -1, 'Angle_1': 0.0, 'Angle_2': 0.0, 'Angle_3': -1, 'Gate_Number': 7}, 'gate_8': {'Gate_Type': 'U3Gate', 'Control': 3, 'Target': -1, 'Angle_1': 1.0, 'Angle_2': 0.5, 'Angle_3': -1, 'Gate_Number': 8}, 'gate_9': {'Gate_Type': 'U3Gate', 'Control': 3, 'Target': -1, 'Angle_1': 0.5, 'Angle_2': 1.0120978372902043, 'Angle_3': -1, 'Gate_Number': 9}, 'gate_10': {'Gate_Type': 'CnotGate', 'Control': 4, 'Target': 0, 'Angle_1': -1, 'Angle_2': -1, 'Angle_3': -1, 'Gate_Number': 10}, 'gate_11': {'Gate_Type': 'U3Gate', 'Control': 0, 'Target': -1, 'Angle_1': 0.0, 'Angle_2': 0.0, 'Angle_3': -1, 'Gate_Number': 11}, 'gate_12': {'Gate_Type': 'U3Gate', 'Control': 0, 'Target': -1, 'Angle_1': 0.5, 'Angle_2': 0.0, 'Angle_3': -1, 'Gate_Number': 12}, 'gate_13': {'Gate_Type': 'U3Gate', 'Control': 0, 'Target': -1, 'Angle_1': 0.0, 'Angle_2': 0.0, 'Angle_3': -1, 'Gate_Number': 13}, 'gate_14': {'Gate_Type': 'CnotGate', 'Control': 2, 'Target': 0, 'Angle_1': -1, 'Angle_2': -1, 'Angle_3': -1, 'Gate_Number': 14}, 'gate_15': {'Gate_Type': 'U3Gate', 'Control': 0, 'Target': -1, 'Angle_1': 0.0, 'Angle_2': 0.0, 'Angle_3': -1, 'Gate_Number': 15}, 'gate_16': {'Gate_Type': 'CnotGate', 'Control': 2, 'Target': 0, 'Angle_1': -1, 'Angle_2': -1, 'Angle_3': -1, 'Gate_Number': 16}, 'gate_17': {'Gate_Type': 'U3Gate', 'Control': 0, 'Target': -1, 'Angle_1': 0.0, 'Angle_2': 0.0, 'Angle_3': -1, 'Gate_Number': 17}, 'gate_18': {'Gate_Type': 'CnotGate', 'Control': 0, 'Target': 1, 'Angle_1': -1, 'Angle_2': -1, 'Angle_3': -1, 'Gate_Number': 18}, 'gate_19': {'Gate_Type': 'U3Gate', 'Control': 0, 'Target': -1, 'Angle_1': 0.5, 'Angle_2': 0.0, 'Angle_3': -1, 'Gate_Number': 19}, 'gate_20': {'Gate_Type': 'U3Gate', 'Control': 1, 'Target': -1, 'Angle_1': 0.5, 'Angle_2': 0.0, 'Angle_3': -1, 'Gate_Number': 20}, 'gate_21': {'Gate_Type': 'U3Gate', 'Control': 1, 'Target': -1, 'Angle_1': 1.0, 'Angle_2': 0.0, 'Angle_3': -1, 'Gate_Number': 21}, 'gate_22': {'Gate_Type': 'CnotGate', 'Control': 1, 'Target': 0, 'Angle_1': -1, 'Angle_2': -1, 'Angle_3': -1, 'Gate_Number': 22}, 'gate_23': {'Gate_Type': 'U3Gate', 'Control': 2, 'Target': -1, 'Angle_1': 0.0, 'Angle_2': 0.0, 'Angle_3': -1, 'Gate_Number': 23}, 'gate_24': {'Gate_Type': 'U3Gate', 'Control': 4, 'Target': -1, 'Angle_1': 0.049726161931862745, 'Angle_2': 0.8311392407369995, 'Angle_3': -1, 'Gate_Number': 24}, 'gate_25': {'Gate_Type': 'CnotGate', 'Control': 3, 'Target': 4, 'Angle_1': -1, 'Angle_2': -1, 'Angle_3': -1, 'Gate_Number': 25}, 'gate_26': {'Gate_Type': 'U3Gate', 'Control': 3, 'Target': -1, 'Angle_1': 0.0, 'Angle_2': 0.0, 'Angle_3': -1, 'Gate_Number': 26}, 'gate_27': {'Gate_Type': 'U3Gate', 'Control': 3, 'Target': -1, 'Angle_1': 0.948644781690642, 'Angle_2': 0.0, 'Angle_3': -1, 'Gate_Number': 27}, 'gate_28': {'Gate_Type': 'CnotGate', 'Control': 4, 'Target': 2, 'Angle_1': -1, 'Angle_2': -1, 'Angle_3': -1, 'Gate_Number': 28}, 'gate_29': {'Gate_Type': 'CnotGate', 'Control': 2, 'Target': 4, 'Angle_1': -1, 'Angle_2': -1, 'Angle_3': -1, 'Gate_Number': 29}, 'gate_30': {'Gate_Type': 'CnotGate', 'Control': 4, 'Target': 2, 'Angle_1': -1, 'Angle_2': -1, 'Angle_3': -1, 'Gate_Number': 30}, 'gate_31': {'Gate_Type': 'U3Gate', 'Control': 4, 'Target': -1, 'Angle_1': 0.5, 'Angle_2': 0.0, 'Angle_3': -1, 'Gate_Number': 31}, 'gate_32': {'Gate_Type': 'CnotGate', 'Control': 2, 'Target': 4, 'Angle_1': -1, 'Angle_2': -1, 'Angle_3': -1, 'Gate_Number': 32}, 'gate_33': {'Gate_Type': 'U3Gate', 'Control': 4, 'Target': -1, 'Angle_1': 0.5, 'Angle_2': 0.0, 'Angle_3': -1, 'Gate_Number': 33}, 'gate_34': {'Gate_Type': 'Measure', 'Control': 0, 'Target': -1, 'Angle_1': -1, 'Angle_2': -1, 'Angle_3': -1, 'Gate_Number': 34}, 'gate_35': {'Gate_Type': 'Measure', 'Control': 1, 'Target': -1, 'Angle_1': -1, 'Angle_2': -1, 'Angle_3': -1, 'Gate_Number': 35}, 'gate_36': {'Gate_Type': 'Measure', 'Control': 2, 'Target': -1, 'Angle_1': -1, 'Angle_2': -1, 'Angle_3': -1, 'Gate_Number': 36}, 'gate_37': {'Gate_Type': 'Measure', 'Control': 3, 'Target': -1, 'Angle_1': -1, 'Angle_2': -1, 'Angle_3': -1, 'Gate_Number': 37}, 'gate_38': {'Gate_Type': 'Measure', 'Control': 4, 'Target': -1, 'Angle_1': -1, 'Angle_2': -1, 'Angle_3': -1, 'Gate_Number': 38}, 'gate_39': {'Gate_Number': -1, 'Gate_Type': '', 'Control': -1, 'Target': -1, 'Angle_1': -1, 'Angle_2': -1, 'Angle_3': -1}, 'gate_40': {'Gate_Number': -1, 'Gate_Type': '', 'Control': -1, 'Target': -1, 'Angle_1': -1, 'Angle_2': -1, 'Angle_3': -1}}}\n",
            "{'statevectors': {'state_00000': 532, 'state_00001': 0, 'state_00010': 0, 'state_00011': 0, 'state_00100': 492, 'state_00101': 0, 'state_00110': 0, 'state_00111': 0, 'state_01000': 0, 'state_01001': 0, 'state_01010': 0, 'state_01011': 0, 'state_01100': 0, 'state_01101': 0, 'state_01110': 0, 'state_01111': 0, 'state_10000': 0, 'state_10001': 0, 'state_10010': 0, 'state_10011': 0, 'state_10100': 0, 'state_10101': 0, 'state_10110': 0, 'state_10111': 0, 'state_11000': 0, 'state_11001': 0, 'state_11010': 0, 'state_11011': 0, 'state_11100': 0, 'state_11101': 0, 'state_11110': 0, 'state_11111': 0}, 'gates': {'gate_0': {'Gate_Type': 'U3Gate', 'Control': 0, 'Target': -1, 'Angle_1': 0.0, 'Angle_2': 0.0, 'Angle_3': -1, 'Gate_Number': 0}, 'gate_1': {'Gate_Type': 'U3Gate', 'Control': 1, 'Target': -1, 'Angle_1': 1.0, 'Angle_2': 0.5, 'Angle_3': -1, 'Gate_Number': 1}, 'gate_2': {'Gate_Type': 'U3Gate', 'Control': 1, 'Target': -1, 'Angle_1': 1.0, 'Angle_2': 0.0, 'Angle_3': -1, 'Gate_Number': 2}, 'gate_3': {'Gate_Type': 'U3Gate', 'Control': 2, 'Target': -1, 'Angle_1': 0.0, 'Angle_2': 0.0, 'Angle_3': -1, 'Gate_Number': 3}, 'gate_4': {'Gate_Type': 'U3Gate', 'Control': 2, 'Target': -1, 'Angle_1': 0.5, 'Angle_2': 1.997479651680916, 'Angle_3': -1, 'Gate_Number': 4}, 'gate_5': {'Gate_Type': 'U3Gate', 'Control': 3, 'Target': -1, 'Angle_1': 0.0, 'Angle_2': 0.0, 'Angle_3': -1, 'Gate_Number': 5}, 'gate_6': {'Gate_Type': 'CnotGate', 'Control': 3, 'Target': 0, 'Angle_1': -1, 'Angle_2': -1, 'Angle_3': -1, 'Gate_Number': 6}, 'gate_7': {'Gate_Type': 'U3Gate', 'Control': 0, 'Target': -1, 'Angle_1': -0.10346632259543066, 'Angle_2': 0.0, 'Angle_3': -1, 'Gate_Number': 7}, 'gate_8': {'Gate_Type': 'CnotGate', 'Control': 3, 'Target': 0, 'Angle_1': -1, 'Angle_2': -1, 'Angle_3': -1, 'Gate_Number': 8}, 'gate_9': {'Gate_Type': 'U3Gate', 'Control': 0, 'Target': -1, 'Angle_1': 0.10346632259543066, 'Angle_2': 1.9044249071995105, 'Angle_3': -1, 'Gate_Number': 9}, 'gate_10': {'Gate_Type': 'U3Gate', 'Control': 3, 'Target': -1, 'Angle_1': 0.0, 'Angle_2': 0.0, 'Angle_3': -1, 'Gate_Number': 10}, 'gate_11': {'Gate_Type': 'CnotGate', 'Control': 3, 'Target': 0, 'Angle_1': -1, 'Angle_2': -1, 'Angle_3': -1, 'Gate_Number': 11}, 'gate_12': {'Gate_Type': 'U3Gate', 'Control': 0, 'Target': -1, 'Angle_1': 0.0, 'Angle_2': 0.0, 'Angle_3': -1, 'Gate_Number': 12}, 'gate_13': {'Gate_Type': 'CnotGate', 'Control': 3, 'Target': 0, 'Angle_1': -1, 'Angle_2': -1, 'Angle_3': -1, 'Gate_Number': 13}, 'gate_14': {'Gate_Type': 'U3Gate', 'Control': 0, 'Target': -1, 'Angle_1': 0.0, 'Angle_2': 0.0, 'Angle_3': -1, 'Gate_Number': 14}, 'gate_15': {'Gate_Type': 'CnotGate', 'Control': 0, 'Target': 2, 'Angle_1': -1, 'Angle_2': -1, 'Angle_3': -1, 'Gate_Number': 15}, 'gate_16': {'Gate_Type': 'CnotGate', 'Control': 2, 'Target': 0, 'Angle_1': -1, 'Angle_2': -1, 'Angle_3': -1, 'Gate_Number': 16}, 'gate_17': {'Gate_Type': 'U3Gate', 'Control': 0, 'Target': -1, 'Angle_1': 0.0, 'Angle_2': 0.0, 'Angle_3': -1, 'Gate_Number': 17}, 'gate_18': {'Gate_Type': 'CnotGate', 'Control': 2, 'Target': 0, 'Angle_1': -1, 'Angle_2': -1, 'Angle_3': -1, 'Gate_Number': 18}, 'gate_19': {'Gate_Type': 'CnotGate', 'Control': 3, 'Target': 1, 'Angle_1': -1, 'Angle_2': -1, 'Angle_3': -1, 'Gate_Number': 19}, 'gate_20': {'Gate_Type': 'CnotGate', 'Control': 1, 'Target': 3, 'Angle_1': -1, 'Angle_2': -1, 'Angle_3': -1, 'Gate_Number': 20}, 'gate_21': {'Gate_Type': 'CnotGate', 'Control': 3, 'Target': 1, 'Angle_1': -1, 'Angle_2': -1, 'Angle_3': -1, 'Gate_Number': 21}, 'gate_22': {'Gate_Type': 'CnotGate', 'Control': 1, 'Target': 3, 'Angle_1': -1, 'Angle_2': -1, 'Angle_3': -1, 'Gate_Number': 22}, 'gate_23': {'Gate_Type': 'U3Gate', 'Control': 4, 'Target': -1, 'Angle_1': 0.0, 'Angle_2': 0.0, 'Angle_3': -1, 'Gate_Number': 23}, 'gate_24': {'Gate_Type': 'U3Gate', 'Control': 4, 'Target': -1, 'Angle_1': 0.0, 'Angle_2': 0.0, 'Angle_3': -1, 'Gate_Number': 24}, 'gate_25': {'Gate_Type': 'U3Gate', 'Control': 4, 'Target': -1, 'Angle_1': 0.0, 'Angle_2': 0.0, 'Angle_3': -1, 'Gate_Number': 25}, 'gate_26': {'Gate_Type': 'U3Gate', 'Control': 4, 'Target': -1, 'Angle_1': 0.0, 'Angle_2': 0.0, 'Angle_3': -1, 'Gate_Number': 26}, 'gate_27': {'Gate_Type': 'Measure', 'Control': 0, 'Target': -1, 'Angle_1': -1, 'Angle_2': -1, 'Angle_3': -1, 'Gate_Number': 27}, 'gate_28': {'Gate_Type': 'Measure', 'Control': 1, 'Target': -1, 'Angle_1': -1, 'Angle_2': -1, 'Angle_3': -1, 'Gate_Number': 28}, 'gate_29': {'Gate_Type': 'Measure', 'Control': 2, 'Target': -1, 'Angle_1': -1, 'Angle_2': -1, 'Angle_3': -1, 'Gate_Number': 29}, 'gate_30': {'Gate_Type': 'Measure', 'Control': 3, 'Target': -1, 'Angle_1': -1, 'Angle_2': -1, 'Angle_3': -1, 'Gate_Number': 30}, 'gate_31': {'Gate_Type': 'Measure', 'Control': 4, 'Target': -1, 'Angle_1': -1, 'Angle_2': -1, 'Angle_3': -1, 'Gate_Number': 31}, 'gate_32': {'Gate_Number': -1, 'Gate_Type': '', 'Control': -1, 'Target': -1, 'Angle_1': -1, 'Angle_2': -1, 'Angle_3': -1}, 'gate_33': {'Gate_Number': -1, 'Gate_Type': '', 'Control': -1, 'Target': -1, 'Angle_1': -1, 'Angle_2': -1, 'Angle_3': -1}, 'gate_34': {'Gate_Number': -1, 'Gate_Type': '', 'Control': -1, 'Target': -1, 'Angle_1': -1, 'Angle_2': -1, 'Angle_3': -1}, 'gate_35': {'Gate_Number': -1, 'Gate_Type': '', 'Control': -1, 'Target': -1, 'Angle_1': -1, 'Angle_2': -1, 'Angle_3': -1}, 'gate_36': {'Gate_Number': -1, 'Gate_Type': '', 'Control': -1, 'Target': -1, 'Angle_1': -1, 'Angle_2': -1, 'Angle_3': -1}, 'gate_37': {'Gate_Number': -1, 'Gate_Type': '', 'Control': -1, 'Target': -1, 'Angle_1': -1, 'Angle_2': -1, 'Angle_3': -1}, 'gate_38': {'Gate_Number': -1, 'Gate_Type': '', 'Control': -1, 'Target': -1, 'Angle_1': -1, 'Angle_2': -1, 'Angle_3': -1}, 'gate_39': {'Gate_Number': -1, 'Gate_Type': '', 'Control': -1, 'Target': -1, 'Angle_1': -1, 'Angle_2': -1, 'Angle_3': -1}, 'gate_40': {'Gate_Number': -1, 'Gate_Type': '', 'Control': -1, 'Target': -1, 'Angle_1': -1, 'Angle_2': -1, 'Angle_3': -1}}}\n",
            "{'statevectors': {'state_00000': 0, 'state_00001': 0, 'state_00010': 0, 'state_00011': 0, 'state_00100': 0, 'state_00101': 0, 'state_00110': 0, 'state_00111': 0, 'state_01000': 0, 'state_01001': 0, 'state_01010': 1024, 'state_01011': 0, 'state_01100': 0, 'state_01101': 0, 'state_01110': 0, 'state_01111': 0, 'state_10000': 0, 'state_10001': 0, 'state_10010': 0, 'state_10011': 0, 'state_10100': 0, 'state_10101': 0, 'state_10110': 0, 'state_10111': 0, 'state_11000': 0, 'state_11001': 0, 'state_11010': 0, 'state_11011': 0, 'state_11100': 0, 'state_11101': 0, 'state_11110': 0, 'state_11111': 0}, 'gates': {'gate_0': {'Gate_Type': 'U3Gate', 'Control': 0, 'Target': -1, 'Angle_1': 0.0, 'Angle_2': 0.0, 'Angle_3': -1, 'Gate_Number': 0}, 'gate_1': {'Gate_Type': 'U3Gate', 'Control': 1, 'Target': -1, 'Angle_1': 1.0, 'Angle_2': 0.0, 'Angle_3': -1, 'Gate_Number': 1}, 'gate_2': {'Gate_Type': 'U3Gate', 'Control': 2, 'Target': -1, 'Angle_1': 0.0, 'Angle_2': 0.0, 'Angle_3': -1, 'Gate_Number': 2}, 'gate_3': {'Gate_Type': 'U3Gate', 'Control': 3, 'Target': -1, 'Angle_1': 1.0, 'Angle_2': 0.0, 'Angle_3': -1, 'Gate_Number': 3}, 'gate_4': {'Gate_Type': 'U3Gate', 'Control': 4, 'Target': -1, 'Angle_1': 0.0, 'Angle_2': 0.0, 'Angle_3': -1, 'Gate_Number': 4}, 'gate_5': {'Gate_Type': 'CnotGate', 'Control': 4, 'Target': 0, 'Angle_1': -1, 'Angle_2': -1, 'Angle_3': -1, 'Gate_Number': 5}, 'gate_6': {'Gate_Type': 'U3Gate', 'Control': 0, 'Target': -1, 'Angle_1': -0.12120322774369852, 'Angle_2': 0.0, 'Angle_3': -1, 'Gate_Number': 6}, 'gate_7': {'Gate_Type': 'CnotGate', 'Control': 4, 'Target': 0, 'Angle_1': -1, 'Angle_2': -1, 'Angle_3': -1, 'Gate_Number': 7}, 'gate_8': {'Gate_Type': 'U3Gate', 'Control': 0, 'Target': -1, 'Angle_1': 0.12120322774369852, 'Angle_2': 1.4217609411283871, 'Angle_3': -1, 'Gate_Number': 8}, 'gate_9': {'Gate_Type': 'Measure', 'Control': 0, 'Target': -1, 'Angle_1': -1, 'Angle_2': -1, 'Angle_3': -1, 'Gate_Number': 9}, 'gate_10': {'Gate_Type': 'Measure', 'Control': 1, 'Target': -1, 'Angle_1': -1, 'Angle_2': -1, 'Angle_3': -1, 'Gate_Number': 10}, 'gate_11': {'Gate_Type': 'Measure', 'Control': 2, 'Target': -1, 'Angle_1': -1, 'Angle_2': -1, 'Angle_3': -1, 'Gate_Number': 11}, 'gate_12': {'Gate_Type': 'Measure', 'Control': 3, 'Target': -1, 'Angle_1': -1, 'Angle_2': -1, 'Angle_3': -1, 'Gate_Number': 12}, 'gate_13': {'Gate_Type': 'Measure', 'Control': 4, 'Target': -1, 'Angle_1': -1, 'Angle_2': -1, 'Angle_3': -1, 'Gate_Number': 13}, 'gate_14': {'Gate_Number': -1, 'Gate_Type': '', 'Control': -1, 'Target': -1, 'Angle_1': -1, 'Angle_2': -1, 'Angle_3': -1}, 'gate_15': {'Gate_Number': -1, 'Gate_Type': '', 'Control': -1, 'Target': -1, 'Angle_1': -1, 'Angle_2': -1, 'Angle_3': -1}, 'gate_16': {'Gate_Number': -1, 'Gate_Type': '', 'Control': -1, 'Target': -1, 'Angle_1': -1, 'Angle_2': -1, 'Angle_3': -1}, 'gate_17': {'Gate_Number': -1, 'Gate_Type': '', 'Control': -1, 'Target': -1, 'Angle_1': -1, 'Angle_2': -1, 'Angle_3': -1}, 'gate_18': {'Gate_Number': -1, 'Gate_Type': '', 'Control': -1, 'Target': -1, 'Angle_1': -1, 'Angle_2': -1, 'Angle_3': -1}, 'gate_19': {'Gate_Number': -1, 'Gate_Type': '', 'Control': -1, 'Target': -1, 'Angle_1': -1, 'Angle_2': -1, 'Angle_3': -1}, 'gate_20': {'Gate_Number': -1, 'Gate_Type': '', 'Control': -1, 'Target': -1, 'Angle_1': -1, 'Angle_2': -1, 'Angle_3': -1}, 'gate_21': {'Gate_Number': -1, 'Gate_Type': '', 'Control': -1, 'Target': -1, 'Angle_1': -1, 'Angle_2': -1, 'Angle_3': -1}, 'gate_22': {'Gate_Number': -1, 'Gate_Type': '', 'Control': -1, 'Target': -1, 'Angle_1': -1, 'Angle_2': -1, 'Angle_3': -1}, 'gate_23': {'Gate_Number': -1, 'Gate_Type': '', 'Control': -1, 'Target': -1, 'Angle_1': -1, 'Angle_2': -1, 'Angle_3': -1}, 'gate_24': {'Gate_Number': -1, 'Gate_Type': '', 'Control': -1, 'Target': -1, 'Angle_1': -1, 'Angle_2': -1, 'Angle_3': -1}, 'gate_25': {'Gate_Number': -1, 'Gate_Type': '', 'Control': -1, 'Target': -1, 'Angle_1': -1, 'Angle_2': -1, 'Angle_3': -1}, 'gate_26': {'Gate_Number': -1, 'Gate_Type': '', 'Control': -1, 'Target': -1, 'Angle_1': -1, 'Angle_2': -1, 'Angle_3': -1}, 'gate_27': {'Gate_Number': -1, 'Gate_Type': '', 'Control': -1, 'Target': -1, 'Angle_1': -1, 'Angle_2': -1, 'Angle_3': -1}, 'gate_28': {'Gate_Number': -1, 'Gate_Type': '', 'Control': -1, 'Target': -1, 'Angle_1': -1, 'Angle_2': -1, 'Angle_3': -1}, 'gate_29': {'Gate_Number': -1, 'Gate_Type': '', 'Control': -1, 'Target': -1, 'Angle_1': -1, 'Angle_2': -1, 'Angle_3': -1}, 'gate_30': {'Gate_Number': -1, 'Gate_Type': '', 'Control': -1, 'Target': -1, 'Angle_1': -1, 'Angle_2': -1, 'Angle_3': -1}, 'gate_31': {'Gate_Number': -1, 'Gate_Type': '', 'Control': -1, 'Target': -1, 'Angle_1': -1, 'Angle_2': -1, 'Angle_3': -1}, 'gate_32': {'Gate_Number': -1, 'Gate_Type': '', 'Control': -1, 'Target': -1, 'Angle_1': -1, 'Angle_2': -1, 'Angle_3': -1}, 'gate_33': {'Gate_Number': -1, 'Gate_Type': '', 'Control': -1, 'Target': -1, 'Angle_1': -1, 'Angle_2': -1, 'Angle_3': -1}, 'gate_34': {'Gate_Number': -1, 'Gate_Type': '', 'Control': -1, 'Target': -1, 'Angle_1': -1, 'Angle_2': -1, 'Angle_3': -1}, 'gate_35': {'Gate_Number': -1, 'Gate_Type': '', 'Control': -1, 'Target': -1, 'Angle_1': -1, 'Angle_2': -1, 'Angle_3': -1}, 'gate_36': {'Gate_Number': -1, 'Gate_Type': '', 'Control': -1, 'Target': -1, 'Angle_1': -1, 'Angle_2': -1, 'Angle_3': -1}, 'gate_37': {'Gate_Number': -1, 'Gate_Type': '', 'Control': -1, 'Target': -1, 'Angle_1': -1, 'Angle_2': -1, 'Angle_3': -1}, 'gate_38': {'Gate_Number': -1, 'Gate_Type': '', 'Control': -1, 'Target': -1, 'Angle_1': -1, 'Angle_2': -1, 'Angle_3': -1}, 'gate_39': {'Gate_Number': -1, 'Gate_Type': '', 'Control': -1, 'Target': -1, 'Angle_1': -1, 'Angle_2': -1, 'Angle_3': -1}, 'gate_40': {'Gate_Number': -1, 'Gate_Type': '', 'Control': -1, 'Target': -1, 'Angle_1': -1, 'Angle_2': -1, 'Angle_3': -1}}}\n",
            "{'statevectors': {'state_00000': 0, 'state_00001': 0, 'state_00010': 394, 'state_00011': 0, 'state_00100': 0, 'state_00101': 0, 'state_00110': 0, 'state_00111': 0, 'state_01000': 0, 'state_01001': 0, 'state_01010': 0, 'state_01011': 0, 'state_01100': 0, 'state_01101': 0, 'state_01110': 0, 'state_01111': 0, 'state_10000': 0, 'state_10001': 0, 'state_10010': 630, 'state_10011': 0, 'state_10100': 0, 'state_10101': 0, 'state_10110': 0, 'state_10111': 0, 'state_11000': 0, 'state_11001': 0, 'state_11010': 0, 'state_11011': 0, 'state_11100': 0, 'state_11101': 0, 'state_11110': 0, 'state_11111': 0}, 'gates': {'gate_0': {'Gate_Type': 'U3Gate', 'Control': 0, 'Target': -1, 'Angle_1': 0.5, 'Angle_2': 0.0, 'Angle_3': -1, 'Gate_Number': 0}, 'gate_1': {'Gate_Type': 'U3Gate', 'Control': 1, 'Target': -1, 'Angle_1': 0.0, 'Angle_2': 0.0, 'Angle_3': -1, 'Gate_Number': 1}, 'gate_2': {'Gate_Type': 'U3Gate', 'Control': 2, 'Target': -1, 'Angle_1': 0.0, 'Angle_2': 0.0, 'Angle_3': -1, 'Gate_Number': 2}, 'gate_3': {'Gate_Type': 'U3Gate', 'Control': 2, 'Target': -1, 'Angle_1': 0.0, 'Angle_2': 0.0, 'Angle_3': -1, 'Gate_Number': 3}, 'gate_4': {'Gate_Type': 'U3Gate', 'Control': 3, 'Target': -1, 'Angle_1': 1.0, 'Angle_2': 0.5, 'Angle_3': -1, 'Gate_Number': 4}, 'gate_5': {'Gate_Type': 'U3Gate', 'Control': 3, 'Target': -1, 'Angle_1': 0.0, 'Angle_2': 0.0, 'Angle_3': -1, 'Gate_Number': 5}, 'gate_6': {'Gate_Type': 'U3Gate', 'Control': 3, 'Target': -1, 'Angle_1': 0.5, 'Angle_2': 0.0, 'Angle_3': -1, 'Gate_Number': 6}, 'gate_7': {'Gate_Type': 'U3Gate', 'Control': 3, 'Target': -1, 'Angle_1': 0.0, 'Angle_2': 0.0, 'Angle_3': -1, 'Gate_Number': 7}, 'gate_8': {'Gate_Type': 'CnotGate', 'Control': 1, 'Target': 3, 'Angle_1': -1, 'Angle_2': -1, 'Angle_3': -1, 'Gate_Number': 8}, 'gate_9': {'Gate_Type': 'U3Gate', 'Control': 1, 'Target': -1, 'Angle_1': 0.0, 'Angle_2': 0.0, 'Angle_3': -1, 'Gate_Number': 9}, 'gate_10': {'Gate_Type': 'U3Gate', 'Control': 3, 'Target': -1, 'Angle_1': 0.0, 'Angle_2': 0.0, 'Angle_3': -1, 'Gate_Number': 10}, 'gate_11': {'Gate_Type': 'U3Gate', 'Control': 3, 'Target': -1, 'Angle_1': 0.5, 'Angle_2': 0.0, 'Angle_3': -1, 'Gate_Number': 11}, 'gate_12': {'Gate_Type': 'U3Gate', 'Control': 3, 'Target': -1, 'Angle_1': 0.0, 'Angle_2': 0.0, 'Angle_3': -1, 'Gate_Number': 12}, 'gate_13': {'Gate_Type': 'CnotGate', 'Control': 1, 'Target': 3, 'Angle_1': -1, 'Angle_2': -1, 'Angle_3': -1, 'Gate_Number': 13}, 'gate_14': {'Gate_Type': 'U3Gate', 'Control': 3, 'Target': -1, 'Angle_1': 0.0, 'Angle_2': 0.0, 'Angle_3': -1, 'Gate_Number': 14}, 'gate_15': {'Gate_Type': 'CnotGate', 'Control': 1, 'Target': 3, 'Angle_1': -1, 'Angle_2': -1, 'Angle_3': -1, 'Gate_Number': 15}, 'gate_16': {'Gate_Type': 'U3Gate', 'Control': 3, 'Target': -1, 'Angle_1': 0.0, 'Angle_2': 0.0, 'Angle_3': -1, 'Gate_Number': 16}, 'gate_17': {'Gate_Type': 'CnotGate', 'Control': 1, 'Target': 3, 'Angle_1': -1, 'Angle_2': -1, 'Angle_3': -1, 'Gate_Number': 17}, 'gate_18': {'Gate_Type': 'CnotGate', 'Control': 3, 'Target': 1, 'Angle_1': -1, 'Angle_2': -1, 'Angle_3': -1, 'Gate_Number': 18}, 'gate_19': {'Gate_Type': 'CnotGate', 'Control': 1, 'Target': 3, 'Angle_1': -1, 'Angle_2': -1, 'Angle_3': -1, 'Gate_Number': 19}, 'gate_20': {'Gate_Type': 'CnotGate', 'Control': 4, 'Target': 0, 'Angle_1': -1, 'Angle_2': -1, 'Angle_3': -1, 'Gate_Number': 20}, 'gate_21': {'Gate_Type': 'U3Gate', 'Control': 0, 'Target': -1, 'Angle_1': 0.5, 'Angle_2': 0.0, 'Angle_3': -1, 'Gate_Number': 21}, 'gate_22': {'Gate_Type': 'CnotGate', 'Control': 2, 'Target': 0, 'Angle_1': -1, 'Angle_2': -1, 'Angle_3': -1, 'Gate_Number': 22}, 'gate_23': {'Gate_Type': 'U3Gate', 'Control': 0, 'Target': -1, 'Angle_1': 0.0, 'Angle_2': 0.0, 'Angle_3': -1, 'Gate_Number': 23}, 'gate_24': {'Gate_Type': 'CnotGate', 'Control': 2, 'Target': 0, 'Angle_1': -1, 'Angle_2': -1, 'Angle_3': -1, 'Gate_Number': 24}, 'gate_25': {'Gate_Type': 'U3Gate', 'Control': 0, 'Target': -1, 'Angle_1': 0.0, 'Angle_2': 0.0, 'Angle_3': -1, 'Gate_Number': 25}, 'gate_26': {'Gate_Type': 'U3Gate', 'Control': 0, 'Target': -1, 'Angle_1': 0.0, 'Angle_2': 0.0, 'Angle_3': -1, 'Gate_Number': 26}, 'gate_27': {'Gate_Type': 'U3Gate', 'Control': 0, 'Target': -1, 'Angle_1': 0.0, 'Angle_2': 0.0, 'Angle_3': -1, 'Gate_Number': 27}, 'gate_28': {'Gate_Type': 'U3Gate', 'Control': 2, 'Target': -1, 'Angle_1': 0.0, 'Angle_2': 0.0, 'Angle_3': -1, 'Gate_Number': 28}, 'gate_29': {'Gate_Type': 'U3Gate', 'Control': 2, 'Target': -1, 'Angle_1': 0.0, 'Angle_2': 0.0, 'Angle_3': -1, 'Gate_Number': 29}, 'gate_30': {'Gate_Type': 'U3Gate', 'Control': 4, 'Target': -1, 'Angle_1': 0.5, 'Angle_2': 0.0, 'Angle_3': -1, 'Gate_Number': 30}, 'gate_31': {'Gate_Type': 'U3Gate', 'Control': 4, 'Target': -1, 'Angle_1': 0.0, 'Angle_2': 0.0, 'Angle_3': -1, 'Gate_Number': 31}, 'gate_32': {'Gate_Type': 'U3Gate', 'Control': 4, 'Target': -1, 'Angle_1': 0.5, 'Angle_2': 0.0, 'Angle_3': -1, 'Gate_Number': 32}, 'gate_33': {'Gate_Type': 'Measure', 'Control': 0, 'Target': -1, 'Angle_1': -1, 'Angle_2': -1, 'Angle_3': -1, 'Gate_Number': 33}, 'gate_34': {'Gate_Type': 'Measure', 'Control': 1, 'Target': -1, 'Angle_1': -1, 'Angle_2': -1, 'Angle_3': -1, 'Gate_Number': 34}, 'gate_35': {'Gate_Type': 'Measure', 'Control': 2, 'Target': -1, 'Angle_1': -1, 'Angle_2': -1, 'Angle_3': -1, 'Gate_Number': 35}, 'gate_36': {'Gate_Type': 'Measure', 'Control': 3, 'Target': -1, 'Angle_1': -1, 'Angle_2': -1, 'Angle_3': -1, 'Gate_Number': 36}, 'gate_37': {'Gate_Type': 'Measure', 'Control': 4, 'Target': -1, 'Angle_1': -1, 'Angle_2': -1, 'Angle_3': -1, 'Gate_Number': 37}, 'gate_38': {'Gate_Number': -1, 'Gate_Type': '', 'Control': -1, 'Target': -1, 'Angle_1': -1, 'Angle_2': -1, 'Angle_3': -1}, 'gate_39': {'Gate_Number': -1, 'Gate_Type': '', 'Control': -1, 'Target': -1, 'Angle_1': -1, 'Angle_2': -1, 'Angle_3': -1}, 'gate_40': {'Gate_Number': -1, 'Gate_Type': '', 'Control': -1, 'Target': -1, 'Angle_1': -1, 'Angle_2': -1, 'Angle_3': -1}}}\n",
            "{'statevectors': {'state_00000': 0, 'state_00001': 0, 'state_00010': 1024, 'state_00011': 0, 'state_00100': 0, 'state_00101': 0, 'state_00110': 0, 'state_00111': 0, 'state_01000': 0, 'state_01001': 0, 'state_01010': 0, 'state_01011': 0, 'state_01100': 0, 'state_01101': 0, 'state_01110': 0, 'state_01111': 0, 'state_10000': 0, 'state_10001': 0, 'state_10010': 0, 'state_10011': 0, 'state_10100': 0, 'state_10101': 0, 'state_10110': 0, 'state_10111': 0, 'state_11000': 0, 'state_11001': 0, 'state_11010': 0, 'state_11011': 0, 'state_11100': 0, 'state_11101': 0, 'state_11110': 0, 'state_11111': 0}, 'gates': {'gate_0': {'Gate_Type': 'U3Gate', 'Control': 0, 'Target': -1, 'Angle_1': 0.0, 'Angle_2': 0.0, 'Angle_3': -1, 'Gate_Number': 0}, 'gate_1': {'Gate_Type': 'U3Gate', 'Control': 1, 'Target': -1, 'Angle_1': 1.0, 'Angle_2': 0.0, 'Angle_3': -1, 'Gate_Number': 1}, 'gate_2': {'Gate_Type': 'U3Gate', 'Control': 2, 'Target': -1, 'Angle_1': 0.0, 'Angle_2': 0.0, 'Angle_3': -1, 'Gate_Number': 2}, 'gate_3': {'Gate_Type': 'CnotGate', 'Control': 0, 'Target': 2, 'Angle_1': -1, 'Angle_2': -1, 'Angle_3': -1, 'Gate_Number': 3}, 'gate_4': {'Gate_Type': 'U3Gate', 'Control': 2, 'Target': -1, 'Angle_1': -0.5809691634519822, 'Angle_2': 0.0, 'Angle_3': -1, 'Gate_Number': 4}, 'gate_5': {'Gate_Type': 'CnotGate', 'Control': 0, 'Target': 2, 'Angle_1': -1, 'Angle_2': -1, 'Angle_3': -1, 'Gate_Number': 5}, 'gate_6': {'Gate_Type': 'U3Gate', 'Control': 2, 'Target': -1, 'Angle_1': 0.5809691634519822, 'Angle_2': 0.8635118046779735, 'Angle_3': -1, 'Gate_Number': 6}, 'gate_7': {'Gate_Type': 'U3Gate', 'Control': 3, 'Target': -1, 'Angle_1': 0.0, 'Angle_2': 0.0, 'Angle_3': -1, 'Gate_Number': 7}, 'gate_8': {'Gate_Type': 'U3Gate', 'Control': 4, 'Target': -1, 'Angle_1': 0.0, 'Angle_2': 0.0, 'Angle_3': -1, 'Gate_Number': 8}, 'gate_9': {'Gate_Type': 'Measure', 'Control': 0, 'Target': -1, 'Angle_1': -1, 'Angle_2': -1, 'Angle_3': -1, 'Gate_Number': 9}, 'gate_10': {'Gate_Type': 'Measure', 'Control': 1, 'Target': -1, 'Angle_1': -1, 'Angle_2': -1, 'Angle_3': -1, 'Gate_Number': 10}, 'gate_11': {'Gate_Type': 'Measure', 'Control': 2, 'Target': -1, 'Angle_1': -1, 'Angle_2': -1, 'Angle_3': -1, 'Gate_Number': 11}, 'gate_12': {'Gate_Type': 'Measure', 'Control': 3, 'Target': -1, 'Angle_1': -1, 'Angle_2': -1, 'Angle_3': -1, 'Gate_Number': 12}, 'gate_13': {'Gate_Type': 'Measure', 'Control': 4, 'Target': -1, 'Angle_1': -1, 'Angle_2': -1, 'Angle_3': -1, 'Gate_Number': 13}, 'gate_14': {'Gate_Number': -1, 'Gate_Type': '', 'Control': -1, 'Target': -1, 'Angle_1': -1, 'Angle_2': -1, 'Angle_3': -1}, 'gate_15': {'Gate_Number': -1, 'Gate_Type': '', 'Control': -1, 'Target': -1, 'Angle_1': -1, 'Angle_2': -1, 'Angle_3': -1}, 'gate_16': {'Gate_Number': -1, 'Gate_Type': '', 'Control': -1, 'Target': -1, 'Angle_1': -1, 'Angle_2': -1, 'Angle_3': -1}, 'gate_17': {'Gate_Number': -1, 'Gate_Type': '', 'Control': -1, 'Target': -1, 'Angle_1': -1, 'Angle_2': -1, 'Angle_3': -1}, 'gate_18': {'Gate_Number': -1, 'Gate_Type': '', 'Control': -1, 'Target': -1, 'Angle_1': -1, 'Angle_2': -1, 'Angle_3': -1}, 'gate_19': {'Gate_Number': -1, 'Gate_Type': '', 'Control': -1, 'Target': -1, 'Angle_1': -1, 'Angle_2': -1, 'Angle_3': -1}, 'gate_20': {'Gate_Number': -1, 'Gate_Type': '', 'Control': -1, 'Target': -1, 'Angle_1': -1, 'Angle_2': -1, 'Angle_3': -1}, 'gate_21': {'Gate_Number': -1, 'Gate_Type': '', 'Control': -1, 'Target': -1, 'Angle_1': -1, 'Angle_2': -1, 'Angle_3': -1}, 'gate_22': {'Gate_Number': -1, 'Gate_Type': '', 'Control': -1, 'Target': -1, 'Angle_1': -1, 'Angle_2': -1, 'Angle_3': -1}, 'gate_23': {'Gate_Number': -1, 'Gate_Type': '', 'Control': -1, 'Target': -1, 'Angle_1': -1, 'Angle_2': -1, 'Angle_3': -1}, 'gate_24': {'Gate_Number': -1, 'Gate_Type': '', 'Control': -1, 'Target': -1, 'Angle_1': -1, 'Angle_2': -1, 'Angle_3': -1}, 'gate_25': {'Gate_Number': -1, 'Gate_Type': '', 'Control': -1, 'Target': -1, 'Angle_1': -1, 'Angle_2': -1, 'Angle_3': -1}, 'gate_26': {'Gate_Number': -1, 'Gate_Type': '', 'Control': -1, 'Target': -1, 'Angle_1': -1, 'Angle_2': -1, 'Angle_3': -1}, 'gate_27': {'Gate_Number': -1, 'Gate_Type': '', 'Control': -1, 'Target': -1, 'Angle_1': -1, 'Angle_2': -1, 'Angle_3': -1}, 'gate_28': {'Gate_Number': -1, 'Gate_Type': '', 'Control': -1, 'Target': -1, 'Angle_1': -1, 'Angle_2': -1, 'Angle_3': -1}, 'gate_29': {'Gate_Number': -1, 'Gate_Type': '', 'Control': -1, 'Target': -1, 'Angle_1': -1, 'Angle_2': -1, 'Angle_3': -1}, 'gate_30': {'Gate_Number': -1, 'Gate_Type': '', 'Control': -1, 'Target': -1, 'Angle_1': -1, 'Angle_2': -1, 'Angle_3': -1}, 'gate_31': {'Gate_Number': -1, 'Gate_Type': '', 'Control': -1, 'Target': -1, 'Angle_1': -1, 'Angle_2': -1, 'Angle_3': -1}, 'gate_32': {'Gate_Number': -1, 'Gate_Type': '', 'Control': -1, 'Target': -1, 'Angle_1': -1, 'Angle_2': -1, 'Angle_3': -1}, 'gate_33': {'Gate_Number': -1, 'Gate_Type': '', 'Control': -1, 'Target': -1, 'Angle_1': -1, 'Angle_2': -1, 'Angle_3': -1}, 'gate_34': {'Gate_Number': -1, 'Gate_Type': '', 'Control': -1, 'Target': -1, 'Angle_1': -1, 'Angle_2': -1, 'Angle_3': -1}, 'gate_35': {'Gate_Number': -1, 'Gate_Type': '', 'Control': -1, 'Target': -1, 'Angle_1': -1, 'Angle_2': -1, 'Angle_3': -1}, 'gate_36': {'Gate_Number': -1, 'Gate_Type': '', 'Control': -1, 'Target': -1, 'Angle_1': -1, 'Angle_2': -1, 'Angle_3': -1}, 'gate_37': {'Gate_Number': -1, 'Gate_Type': '', 'Control': -1, 'Target': -1, 'Angle_1': -1, 'Angle_2': -1, 'Angle_3': -1}, 'gate_38': {'Gate_Number': -1, 'Gate_Type': '', 'Control': -1, 'Target': -1, 'Angle_1': -1, 'Angle_2': -1, 'Angle_3': -1}, 'gate_39': {'Gate_Number': -1, 'Gate_Type': '', 'Control': -1, 'Target': -1, 'Angle_1': -1, 'Angle_2': -1, 'Angle_3': -1}, 'gate_40': {'Gate_Number': -1, 'Gate_Type': '', 'Control': -1, 'Target': -1, 'Angle_1': -1, 'Angle_2': -1, 'Angle_3': -1}}}\n",
            "{'statevectors': {'state_00000': 1024, 'state_00001': 0, 'state_00010': 0, 'state_00011': 0, 'state_00100': 0, 'state_00101': 0, 'state_00110': 0, 'state_00111': 0, 'state_01000': 0, 'state_01001': 0, 'state_01010': 0, 'state_01011': 0, 'state_01100': 0, 'state_01101': 0, 'state_01110': 0, 'state_01111': 0, 'state_10000': 0, 'state_10001': 0, 'state_10010': 0, 'state_10011': 0, 'state_10100': 0, 'state_10101': 0, 'state_10110': 0, 'state_10111': 0, 'state_11000': 0, 'state_11001': 0, 'state_11010': 0, 'state_11011': 0, 'state_11100': 0, 'state_11101': 0, 'state_11110': 0, 'state_11111': 0}, 'gates': {'gate_0': {'Gate_Type': 'U3Gate', 'Control': 0, 'Target': -1, 'Angle_1': 0.0, 'Angle_2': 0.0, 'Angle_3': -1, 'Gate_Number': 0}, 'gate_1': {'Gate_Type': 'U3Gate', 'Control': 1, 'Target': -1, 'Angle_1': 0.0, 'Angle_2': 0.0, 'Angle_3': -1, 'Gate_Number': 1}, 'gate_2': {'Gate_Type': 'U3Gate', 'Control': 3, 'Target': -1, 'Angle_1': 0.0, 'Angle_2': 0.0, 'Angle_3': -1, 'Gate_Number': 2}, 'gate_3': {'Gate_Type': 'CnotGate', 'Control': 2, 'Target': 4, 'Angle_1': -1, 'Angle_2': -1, 'Angle_3': -1, 'Gate_Number': 3}, 'gate_4': {'Gate_Type': 'CnotGate', 'Control': 4, 'Target': 2, 'Angle_1': -1, 'Angle_2': -1, 'Angle_3': -1, 'Gate_Number': 4}, 'gate_5': {'Gate_Type': 'CnotGate', 'Control': 2, 'Target': 4, 'Angle_1': -1, 'Angle_2': -1, 'Angle_3': -1, 'Gate_Number': 5}, 'gate_6': {'Gate_Type': 'Measure', 'Control': 0, 'Target': -1, 'Angle_1': -1, 'Angle_2': -1, 'Angle_3': -1, 'Gate_Number': 6}, 'gate_7': {'Gate_Type': 'Measure', 'Control': 1, 'Target': -1, 'Angle_1': -1, 'Angle_2': -1, 'Angle_3': -1, 'Gate_Number': 7}, 'gate_8': {'Gate_Type': 'Measure', 'Control': 2, 'Target': -1, 'Angle_1': -1, 'Angle_2': -1, 'Angle_3': -1, 'Gate_Number': 8}, 'gate_9': {'Gate_Type': 'Measure', 'Control': 3, 'Target': -1, 'Angle_1': -1, 'Angle_2': -1, 'Angle_3': -1, 'Gate_Number': 9}, 'gate_10': {'Gate_Type': 'Measure', 'Control': 4, 'Target': -1, 'Angle_1': -1, 'Angle_2': -1, 'Angle_3': -1, 'Gate_Number': 10}, 'gate_11': {'Gate_Number': -1, 'Gate_Type': '', 'Control': -1, 'Target': -1, 'Angle_1': -1, 'Angle_2': -1, 'Angle_3': -1}, 'gate_12': {'Gate_Number': -1, 'Gate_Type': '', 'Control': -1, 'Target': -1, 'Angle_1': -1, 'Angle_2': -1, 'Angle_3': -1}, 'gate_13': {'Gate_Number': -1, 'Gate_Type': '', 'Control': -1, 'Target': -1, 'Angle_1': -1, 'Angle_2': -1, 'Angle_3': -1}, 'gate_14': {'Gate_Number': -1, 'Gate_Type': '', 'Control': -1, 'Target': -1, 'Angle_1': -1, 'Angle_2': -1, 'Angle_3': -1}, 'gate_15': {'Gate_Number': -1, 'Gate_Type': '', 'Control': -1, 'Target': -1, 'Angle_1': -1, 'Angle_2': -1, 'Angle_3': -1}, 'gate_16': {'Gate_Number': -1, 'Gate_Type': '', 'Control': -1, 'Target': -1, 'Angle_1': -1, 'Angle_2': -1, 'Angle_3': -1}, 'gate_17': {'Gate_Number': -1, 'Gate_Type': '', 'Control': -1, 'Target': -1, 'Angle_1': -1, 'Angle_2': -1, 'Angle_3': -1}, 'gate_18': {'Gate_Number': -1, 'Gate_Type': '', 'Control': -1, 'Target': -1, 'Angle_1': -1, 'Angle_2': -1, 'Angle_3': -1}, 'gate_19': {'Gate_Number': -1, 'Gate_Type': '', 'Control': -1, 'Target': -1, 'Angle_1': -1, 'Angle_2': -1, 'Angle_3': -1}, 'gate_20': {'Gate_Number': -1, 'Gate_Type': '', 'Control': -1, 'Target': -1, 'Angle_1': -1, 'Angle_2': -1, 'Angle_3': -1}, 'gate_21': {'Gate_Number': -1, 'Gate_Type': '', 'Control': -1, 'Target': -1, 'Angle_1': -1, 'Angle_2': -1, 'Angle_3': -1}, 'gate_22': {'Gate_Number': -1, 'Gate_Type': '', 'Control': -1, 'Target': -1, 'Angle_1': -1, 'Angle_2': -1, 'Angle_3': -1}, 'gate_23': {'Gate_Number': -1, 'Gate_Type': '', 'Control': -1, 'Target': -1, 'Angle_1': -1, 'Angle_2': -1, 'Angle_3': -1}, 'gate_24': {'Gate_Number': -1, 'Gate_Type': '', 'Control': -1, 'Target': -1, 'Angle_1': -1, 'Angle_2': -1, 'Angle_3': -1}, 'gate_25': {'Gate_Number': -1, 'Gate_Type': '', 'Control': -1, 'Target': -1, 'Angle_1': -1, 'Angle_2': -1, 'Angle_3': -1}, 'gate_26': {'Gate_Number': -1, 'Gate_Type': '', 'Control': -1, 'Target': -1, 'Angle_1': -1, 'Angle_2': -1, 'Angle_3': -1}, 'gate_27': {'Gate_Number': -1, 'Gate_Type': '', 'Control': -1, 'Target': -1, 'Angle_1': -1, 'Angle_2': -1, 'Angle_3': -1}, 'gate_28': {'Gate_Number': -1, 'Gate_Type': '', 'Control': -1, 'Target': -1, 'Angle_1': -1, 'Angle_2': -1, 'Angle_3': -1}, 'gate_29': {'Gate_Number': -1, 'Gate_Type': '', 'Control': -1, 'Target': -1, 'Angle_1': -1, 'Angle_2': -1, 'Angle_3': -1}, 'gate_30': {'Gate_Number': -1, 'Gate_Type': '', 'Control': -1, 'Target': -1, 'Angle_1': -1, 'Angle_2': -1, 'Angle_3': -1}, 'gate_31': {'Gate_Number': -1, 'Gate_Type': '', 'Control': -1, 'Target': -1, 'Angle_1': -1, 'Angle_2': -1, 'Angle_3': -1}, 'gate_32': {'Gate_Number': -1, 'Gate_Type': '', 'Control': -1, 'Target': -1, 'Angle_1': -1, 'Angle_2': -1, 'Angle_3': -1}, 'gate_33': {'Gate_Number': -1, 'Gate_Type': '', 'Control': -1, 'Target': -1, 'Angle_1': -1, 'Angle_2': -1, 'Angle_3': -1}, 'gate_34': {'Gate_Number': -1, 'Gate_Type': '', 'Control': -1, 'Target': -1, 'Angle_1': -1, 'Angle_2': -1, 'Angle_3': -1}, 'gate_35': {'Gate_Number': -1, 'Gate_Type': '', 'Control': -1, 'Target': -1, 'Angle_1': -1, 'Angle_2': -1, 'Angle_3': -1}, 'gate_36': {'Gate_Number': -1, 'Gate_Type': '', 'Control': -1, 'Target': -1, 'Angle_1': -1, 'Angle_2': -1, 'Angle_3': -1}, 'gate_37': {'Gate_Number': -1, 'Gate_Type': '', 'Control': -1, 'Target': -1, 'Angle_1': -1, 'Angle_2': -1, 'Angle_3': -1}, 'gate_38': {'Gate_Number': -1, 'Gate_Type': '', 'Control': -1, 'Target': -1, 'Angle_1': -1, 'Angle_2': -1, 'Angle_3': -1}, 'gate_39': {'Gate_Number': -1, 'Gate_Type': '', 'Control': -1, 'Target': -1, 'Angle_1': -1, 'Angle_2': -1, 'Angle_3': -1}, 'gate_40': {'Gate_Number': -1, 'Gate_Type': '', 'Control': -1, 'Target': -1, 'Angle_1': -1, 'Angle_2': -1, 'Angle_3': -1}}}\n",
            "{'statevectors': {'state_00000': 218, 'state_00001': 92, 'state_00010': 201, 'state_00011': 103, 'state_00100': 118, 'state_00101': 51, 'state_00110': 111, 'state_00111': 50, 'state_01000': 0, 'state_01001': 0, 'state_01010': 0, 'state_01011': 0, 'state_01100': 0, 'state_01101': 0, 'state_01110': 0, 'state_01111': 0, 'state_10000': 21, 'state_10001': 6, 'state_10010': 18, 'state_10011': 6, 'state_10100': 12, 'state_10101': 1, 'state_10110': 11, 'state_10111': 5, 'state_11000': 0, 'state_11001': 0, 'state_11010': 0, 'state_11011': 0, 'state_11100': 0, 'state_11101': 0, 'state_11110': 0, 'state_11111': 0}, 'gates': {'gate_0': {'Gate_Type': 'U3Gate', 'Control': 0, 'Target': -1, 'Angle_1': 0.0, 'Angle_2': 0.0, 'Angle_3': -1, 'Gate_Number': 0}, 'gate_1': {'Gate_Type': 'U3Gate', 'Control': 1, 'Target': -1, 'Angle_1': 0.0, 'Angle_2': 0.0, 'Angle_3': -1, 'Gate_Number': 1}, 'gate_2': {'Gate_Type': 'U3Gate', 'Control': 1, 'Target': -1, 'Angle_1': 0.5, 'Angle_2': 1.8995077086878667, 'Angle_3': -1, 'Gate_Number': 2}, 'gate_3': {'Gate_Type': 'U3Gate', 'Control': 1, 'Target': -1, 'Angle_1': 0.0, 'Angle_2': 0.0, 'Angle_3': -1, 'Gate_Number': 3}, 'gate_4': {'Gate_Type': 'U3Gate', 'Control': 2, 'Target': -1, 'Angle_1': 1.592996854094899, 'Angle_2': 1.9153530843456497, 'Angle_3': -1, 'Gate_Number': 4}, 'gate_5': {'Gate_Type': 'CnotGate', 'Control': 3, 'Target': 0, 'Angle_1': -1, 'Angle_2': -1, 'Angle_3': -1, 'Gate_Number': 5}, 'gate_6': {'Gate_Type': 'U3Gate', 'Control': 0, 'Target': -1, 'Angle_1': 0.0, 'Angle_2': 0.0, 'Angle_3': -1, 'Gate_Number': 6}, 'gate_7': {'Gate_Type': 'CnotGate', 'Control': 3, 'Target': 0, 'Angle_1': -1, 'Angle_2': -1, 'Angle_3': -1, 'Gate_Number': 7}, 'gate_8': {'Gate_Type': 'U3Gate', 'Control': 0, 'Target': -1, 'Angle_1': 0.0, 'Angle_2': 0.0, 'Angle_3': -1, 'Gate_Number': 8}, 'gate_9': {'Gate_Type': 'U3Gate', 'Control': 3, 'Target': -1, 'Angle_1': 1.0, 'Angle_2': 0.5, 'Angle_3': -1, 'Gate_Number': 9}, 'gate_10': {'Gate_Type': 'U3Gate', 'Control': 3, 'Target': -1, 'Angle_1': 0.5, 'Angle_2': 0.0, 'Angle_3': -1, 'Gate_Number': 10}, 'gate_11': {'Gate_Type': 'CnotGate', 'Control': 0, 'Target': 3, 'Angle_1': -1, 'Angle_2': -1, 'Angle_3': -1, 'Gate_Number': 11}, 'gate_12': {'Gate_Type': 'U3Gate', 'Control': 0, 'Target': -1, 'Angle_1': 0.0, 'Angle_2': 0.0, 'Angle_3': -1, 'Gate_Number': 12}, 'gate_13': {'Gate_Type': 'U3Gate', 'Control': 0, 'Target': -1, 'Angle_1': 0.36021857019001113, 'Angle_2': 0.8746229104626194, 'Angle_3': -1, 'Gate_Number': 13}, 'gate_14': {'Gate_Type': 'U3Gate', 'Control': 3, 'Target': -1, 'Angle_1': 0.5, 'Angle_2': 0.0, 'Angle_3': -1, 'Gate_Number': 14}, 'gate_15': {'Gate_Type': 'U3Gate', 'Control': 3, 'Target': -1, 'Angle_1': 1.0, 'Angle_2': 0.0, 'Angle_3': -1, 'Gate_Number': 15}, 'gate_16': {'Gate_Type': 'U3Gate', 'Control': 3, 'Target': -1, 'Angle_1': 0.5, 'Angle_2': 0.0, 'Angle_3': -1, 'Gate_Number': 16}, 'gate_17': {'Gate_Type': 'U3Gate', 'Control': 4, 'Target': -1, 'Angle_1': 0.0, 'Angle_2': 0.0, 'Angle_3': -1, 'Gate_Number': 17}, 'gate_18': {'Gate_Type': 'U3Gate', 'Control': 4, 'Target': -1, 'Angle_1': 0.5, 'Angle_2': 0.0, 'Angle_3': -1, 'Gate_Number': 18}, 'gate_19': {'Gate_Type': 'CnotGate', 'Control': 2, 'Target': 4, 'Angle_1': -1, 'Angle_2': -1, 'Angle_3': -1, 'Gate_Number': 19}, 'gate_20': {'Gate_Type': 'U3Gate', 'Control': 2, 'Target': -1, 'Angle_1': 0.0, 'Angle_2': 0.0, 'Angle_3': -1, 'Gate_Number': 20}, 'gate_21': {'Gate_Type': 'U3Gate', 'Control': 4, 'Target': -1, 'Angle_1': 0.5, 'Angle_2': 0.0, 'Angle_3': -1, 'Gate_Number': 21}, 'gate_22': {'Gate_Type': 'CnotGate', 'Control': 4, 'Target': 2, 'Angle_1': -1, 'Angle_2': -1, 'Angle_3': -1, 'Gate_Number': 22}, 'gate_23': {'Gate_Type': 'U3Gate', 'Control': 2, 'Target': -1, 'Angle_1': 0.0, 'Angle_2': 0.0, 'Angle_3': -1, 'Gate_Number': 23}, 'gate_24': {'Gate_Type': 'CnotGate', 'Control': 4, 'Target': 2, 'Angle_1': -1, 'Angle_2': -1, 'Angle_3': -1, 'Gate_Number': 24}, 'gate_25': {'Gate_Type': 'CnotGate', 'Control': 1, 'Target': 2, 'Angle_1': -1, 'Angle_2': -1, 'Angle_3': -1, 'Gate_Number': 25}, 'gate_26': {'Gate_Type': 'U3Gate', 'Control': 2, 'Target': -1, 'Angle_1': 0.0, 'Angle_2': 0.0, 'Angle_3': -1, 'Gate_Number': 26}, 'gate_27': {'Gate_Type': 'CnotGate', 'Control': 1, 'Target': 2, 'Angle_1': -1, 'Angle_2': -1, 'Angle_3': -1, 'Gate_Number': 27}, 'gate_28': {'Gate_Type': 'U3Gate', 'Control': 1, 'Target': -1, 'Angle_1': 0.0, 'Angle_2': 0.0, 'Angle_3': -1, 'Gate_Number': 28}, 'gate_29': {'Gate_Type': 'CnotGate', 'Control': 2, 'Target': 3, 'Angle_1': -1, 'Angle_2': -1, 'Angle_3': -1, 'Gate_Number': 29}, 'gate_30': {'Gate_Type': 'U3Gate', 'Control': 3, 'Target': -1, 'Angle_1': 0.5, 'Angle_2': 0.0, 'Angle_3': -1, 'Gate_Number': 30}, 'gate_31': {'Gate_Type': 'U3Gate', 'Control': 4, 'Target': -1, 'Angle_1': 0.0, 'Angle_2': 0.0, 'Angle_3': -1, 'Gate_Number': 31}, 'gate_32': {'Gate_Type': 'U3Gate', 'Control': 4, 'Target': -1, 'Angle_1': 1.8162702776660793, 'Angle_2': 0.0, 'Angle_3': -1, 'Gate_Number': 32}, 'gate_33': {'Gate_Type': 'Measure', 'Control': 0, 'Target': -1, 'Angle_1': -1, 'Angle_2': -1, 'Angle_3': -1, 'Gate_Number': 33}, 'gate_34': {'Gate_Type': 'Measure', 'Control': 1, 'Target': -1, 'Angle_1': -1, 'Angle_2': -1, 'Angle_3': -1, 'Gate_Number': 34}, 'gate_35': {'Gate_Type': 'Measure', 'Control': 2, 'Target': -1, 'Angle_1': -1, 'Angle_2': -1, 'Angle_3': -1, 'Gate_Number': 35}, 'gate_36': {'Gate_Type': 'Measure', 'Control': 3, 'Target': -1, 'Angle_1': -1, 'Angle_2': -1, 'Angle_3': -1, 'Gate_Number': 36}, 'gate_37': {'Gate_Type': 'Measure', 'Control': 4, 'Target': -1, 'Angle_1': -1, 'Angle_2': -1, 'Angle_3': -1, 'Gate_Number': 37}, 'gate_38': {'Gate_Number': -1, 'Gate_Type': '', 'Control': -1, 'Target': -1, 'Angle_1': -1, 'Angle_2': -1, 'Angle_3': -1}, 'gate_39': {'Gate_Number': -1, 'Gate_Type': '', 'Control': -1, 'Target': -1, 'Angle_1': -1, 'Angle_2': -1, 'Angle_3': -1}, 'gate_40': {'Gate_Number': -1, 'Gate_Type': '', 'Control': -1, 'Target': -1, 'Angle_1': -1, 'Angle_2': -1, 'Angle_3': -1}}}\n"
          ],
          "name": "stdout"
        }
      ]
    },
    {
      "cell_type": "markdown",
      "metadata": {
        "id": "J7R0PAjqbr1H",
        "colab_type": "text"
      },
      "source": [
        "Now that you have the generated circuits, you can predict their statevectors."
      ]
    },
    {
      "cell_type": "code",
      "metadata": {
        "id": "IVMrkw1pbpqQ",
        "colab_type": "code",
        "colab": {}
      },
      "source": [
        ""
      ],
      "execution_count": 0,
      "outputs": []
    }
  ]
}