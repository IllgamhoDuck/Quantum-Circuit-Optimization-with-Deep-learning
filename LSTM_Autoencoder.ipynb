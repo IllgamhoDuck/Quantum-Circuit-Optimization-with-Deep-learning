{
  "nbformat": 4,
  "nbformat_minor": 0,
  "metadata": {
    "colab": {
      "name": "LSTM_Autoencoder.ipynb",
      "provenance": [],
      "collapsed_sections": [
        "ejCnPZZkz2dM",
        "CXu7rvlzY_fK",
        "PcynXXz_IxbR",
        "YicTjbmNbgM5",
        "_6dzo8eYFQld",
        "GZJV4ht1f4rp"
      ],
      "machine_shape": "hm",
      "include_colab_link": true
    },
    "kernelspec": {
      "name": "python3",
      "display_name": "Python 3"
    },
    "accelerator": "GPU"
  },
  "cells": [
    {
      "cell_type": "markdown",
      "metadata": {
        "id": "view-in-github",
        "colab_type": "text"
      },
      "source": [
        "<a href=\"https://colab.research.google.com/github/IllgamhoDuck/Quantum-Circuit-Optimization-with-Deep-learning/blob/master/LSTM_Autoencoder.ipynb\" target=\"_parent\"><img src=\"https://colab.research.google.com/assets/colab-badge.svg\" alt=\"Open In Colab\"/></a>"
      ]
    },
    {
      "cell_type": "markdown",
      "metadata": {
        "id": "kO1Xwxccujkw",
        "colab_type": "text"
      },
      "source": [
        "# LSTM Autoencoder\n",
        "\n",
        "**lstm autoencoder to find the original circuit manifold**\n",
        "\n",
        "This is the very first step to train the neural network model. Train the Encoder weight for extension model. At here we are going to train autoencoder to find the circuit manifold(latent space)\n"
      ]
    },
    {
      "cell_type": "markdown",
      "metadata": {
        "id": "ejCnPZZkz2dM",
        "colab_type": "text"
      },
      "source": [
        "### Setting environment\n",
        "- package install\n",
        "- google drive mount\n",
        "- path configuration"
      ]
    },
    {
      "cell_type": "code",
      "metadata": {
        "id": "UNZU7wREguVo",
        "colab_type": "code",
        "colab": {}
      },
      "source": [
        "!pip install --quiet qiskit nxpd"
      ],
      "execution_count": 0,
      "outputs": []
    },
    {
      "cell_type": "code",
      "metadata": {
        "id": "p4dJTBN7g4dB",
        "colab_type": "code",
        "colab": {}
      },
      "source": [
        "from google.colab import drive\n",
        "drive.mount('/content/drive')"
      ],
      "execution_count": 0,
      "outputs": []
    },
    {
      "cell_type": "code",
      "metadata": {
        "id": "3rwHcOWK1C2Y",
        "colab_type": "code",
        "colab": {}
      },
      "source": [
        "# TODO - modify path to fit your computer\n",
        "# dataset_path - where to save the dataset including circuit information\n",
        "# model_path = where to save the deep learning model you created\n",
        "# weight_path = Where to save the model weight you trained\n",
        "\n",
        "dataset_path = '/content/drive/My Drive/QUANTUM/qaward/dataset'\n",
        "model_path = '/content/drive/My Drive/QUANTUM/qaward/model and weight'\n",
        "weight_path = '/content/drive/My Drive/QUANTUM/qaward/model and weight'"
      ],
      "execution_count": 0,
      "outputs": []
    },
    {
      "cell_type": "markdown",
      "metadata": {
        "id": "CXu7rvlzY_fK",
        "colab_type": "text"
      },
      "source": [
        "### Train step 0 - load the total dataset\n",
        "- Load dataset\n",
        "- Divide it to Train / Validation / Test (default 70% / 10% / 20%)\n",
        "- check the shape of data"
      ]
    },
    {
      "cell_type": "code",
      "metadata": {
        "id": "pdDrqJf7Xg24",
        "colab_type": "code",
        "colab": {}
      },
      "source": [
        "import os\n",
        "import pickle\n",
        "\n",
        "# TODO - Choose your dataset name\n",
        "dataset_name = \"5_qubit_encoded_dataset.pkl\"\n",
        "with open(os.path.join(dataset_path, dataset_name), 'rb') as f:\n",
        "    total_dataset = pickle.load(f)"
      ],
      "execution_count": 0,
      "outputs": []
    },
    {
      "cell_type": "markdown",
      "metadata": {
        "id": "KTs8fz-mYZIg",
        "colab_type": "text"
      },
      "source": [
        "**Store dataset as a global variable**"
      ]
    },
    {
      "cell_type": "code",
      "metadata": {
        "id": "rO528KvkZiSm",
        "colab_type": "code",
        "colab": {}
      },
      "source": [
        "for k, v in total_dataset.items():\n",
        "    print(k)\n",
        "    exec(\"{} = v\".format(k))"
      ],
      "execution_count": 0,
      "outputs": []
    },
    {
      "cell_type": "markdown",
      "metadata": {
        "id": "xSVycpRfYip-",
        "colab_type": "text"
      },
      "source": [
        "**Devide dataset to `Train / Validation / Test` set**\n",
        "\n",
        "    Train - 70%\n",
        "    Validation - 10%\n",
        "    Test - 20%"
      ]
    },
    {
      "cell_type": "code",
      "metadata": {
        "id": "y-RDl3jhdjuG",
        "colab_type": "code",
        "colab": {}
      },
      "source": [
        "data_len = enc_in.shape[0]\n",
        "# TODO - choose the ratio\n",
        "# Test ratio will be choosed by train and validation ratio\n",
        "# 0.7 means 70% if dataset is 10,000 it will be 7,000\n",
        "train_ratio = 0.7\n",
        "validation_ratio = 0.1\n",
        "\n",
        "# this ratio will be used on the below code\n",
        "# first ratio - fr / second ratio - sr\n",
        "fr = train_ratio\n",
        "sr = train_ratio + validation_ratio\n",
        "\n",
        "# encoder input\n",
        "train_enc_in = enc_in[:round(data_len*fr)]\n",
        "validation_enc_in = enc_in[round(data_len*fr):round(data_len*sr)]\n",
        "test_enc_in = enc_in[round(data_len*sr):]\n",
        "\n",
        "# decode type output\n",
        "train_type = enc_out_type[:round(data_len*fr)]\n",
        "validation_type = enc_out_type[round(data_len*fr):round(data_len*sr)]\n",
        "test_type = enc_out_type[round(data_len*sr):]\n",
        "\n",
        "# decoder output\n",
        "# gate\n",
        "train_gate = enc_out_gate[:round(data_len*fr)]\n",
        "validation_gate = enc_out_gate[round(data_len*fr):round(data_len*sr)]\n",
        "test_gate = enc_out_gate[round(data_len*sr):]\n",
        "\n",
        "# control\n",
        "train_control = enc_out_control[:round(data_len*fr)]\n",
        "validation_control = enc_out_control[round(data_len*fr):round(data_len*sr)]\n",
        "test_control = enc_out_control[round(data_len*sr):]\n",
        "\n",
        "# target\n",
        "train_target = enc_out_target[:round(data_len*fr)]\n",
        "validation_target = enc_out_target[round(data_len*fr):round(data_len*sr)]\n",
        "test_target = enc_out_target[round(data_len*sr):]\n",
        "\n",
        "# classic\n",
        "train_classic = enc_out_classic[:round(data_len*fr)]\n",
        "validation_classic = enc_out_classic[round(data_len*fr):round(data_len*sr)]\n",
        "test_classic = enc_out_classic[round(data_len*sr):]\n",
        "\n",
        "# classic\n",
        "train_angle = enc_out_angle[:round(data_len*fr)]\n",
        "validation_angle = enc_out_angle[round(data_len*fr):round(data_len*sr)]\n",
        "test_angle = enc_out_angle[round(data_len*sr):]"
      ],
      "execution_count": 0,
      "outputs": []
    },
    {
      "cell_type": "code",
      "metadata": {
        "id": "LhYRMbfJmZ76",
        "colab_type": "code",
        "outputId": "8e7d6af8-b062-4e1f-ff5f-861f24453ca5",
        "colab": {
          "base_uri": "https://localhost:8080/",
          "height": 0
        }
      },
      "source": [
        "print(train_enc_in.shape)\n",
        "print(validation_enc_in.shape)\n",
        "print(test_enc_in.shape)"
      ],
      "execution_count": 7,
      "outputs": [
        {
          "output_type": "stream",
          "text": [
            "(21000, 65, 29)\n",
            "(3000, 65, 29)\n",
            "(6000, 65, 29)\n"
          ],
          "name": "stdout"
        }
      ]
    },
    {
      "cell_type": "markdown",
      "metadata": {
        "id": "PcynXXz_IxbR",
        "colab_type": "text"
      },
      "source": [
        "### Train step 1 - Create Model\n",
        "- Choose model hyperparamter\n",
        "- Choose the output style\n",
        "\n",
        "\n",
        "    - One Concatenated output (mse)\n",
        "    - type (binary crossentropy) / angle (mse)\n",
        "    - each types (categorical crossentropy) / angle (mse)\n",
        "\n",
        "- Create lstm autoencoder\n",
        "- check the model"
      ]
    },
    {
      "cell_type": "code",
      "metadata": {
        "id": "PiePEcsVpNsr",
        "colab_type": "code",
        "colab": {}
      },
      "source": [
        "import numpy as np\n",
        "import keras\n",
        "from keras import backend as K\n",
        "from keras.models import Sequential, Model\n",
        "from keras.layers import Input, LSTM, RepeatVector, LeakyReLU\n",
        "from keras.layers import BatchNormalization, concatenate\n",
        "from keras.layers.core import Flatten, Dense, Dropout, Lambda\n",
        "from keras.optimizers import SGD, RMSprop, Adam, Adagrad, Adadelta\n",
        "from keras import objectives\n",
        "from keras.callbacks import ModelCheckpoint\n",
        "from keras.models import model_from_json"
      ],
      "execution_count": 0,
      "outputs": []
    },
    {
      "cell_type": "code",
      "metadata": {
        "id": "AVDsCgBCJHkk",
        "colab_type": "code",
        "colab": {}
      },
      "source": [
        "# Model hyperparmeter\n",
        "# TODO - choose the latent dimension\n",
        "# This indicates the circuit latent space (manifold)\n",
        "latent_dim = 32\n",
        "\n",
        "input_dim = enc_in.shape[2]\n",
        "timesteps = enc_in.shape[1]"
      ],
      "execution_count": 0,
      "outputs": []
    },
    {
      "cell_type": "code",
      "metadata": {
        "id": "hwWFn9rAQ47i",
        "colab_type": "code",
        "colab": {}
      },
      "source": [
        "def lstm_ae(input_dim, timesteps, latent_dim, output_style=0):\n",
        "    \"\"\"\n",
        "    output_style\n",
        "    0 - concatenated\n",
        "        (gate + control + target + classic + angle)\n",
        "        [29]\n",
        "    1 - type + angle\n",
        "        (gate + control + target + classic) (angle)\n",
        "        [26] + [3]\n",
        "    2 - Seperated   \n",
        "        (gate) (control) (target) (classic) (angle)\n",
        "        [8] + [6] + [6] + [6] + [3]\n",
        "    \"\"\"\n",
        "    inputs = Input(shape=(timesteps, input_dim), name='circuit_input')\n",
        "    encoded = LSTM(64)(inputs)\n",
        "    # encoded = Dense(64)(encoded)\n",
        "    # encoded = LeakyReLU(alpha=0.05)(encoded)\n",
        "    # encoded = Dense(64)(encoded)\n",
        "    # encoded = LeakyReLU(alpha=0.05)(encoded)\n",
        "\n",
        "    # z = Dense(latent_dim)(encoded)\n",
        "    # z = LeakyReLU(alpha=0.05)(z)\n",
        "\n",
        "    # decoded = Dense(64)(z)\n",
        "    # decoded = LeakyReLU(alpha=0.05)(decoded)\n",
        "    # decoded = Dense(64)(decoded)\n",
        "    # decoded = LeakyReLU(alpha=0.05)(decoded)\n",
        "    decoded = RepeatVector(timesteps)(encoded)\n",
        "    decoded = LSTM(input_dim, return_sequences=True)(decoded)\n",
        "\n",
        "    # 1. Gate type (8) \n",
        "    gate = Dense(8, activation='softmax', name='gate')(decoded)\n",
        "    \n",
        "    # 2. Qubit / classical type (18)\n",
        "    control = Dense(6, activation='softmax', name='control')(decoded)\n",
        "    target = Dense(6, activation='softmax', name='target')(decoded)\n",
        "    classic = Dense(6, activation='softmax', name='classic')(decoded)\n",
        "\n",
        "    # 3. Angle type (3)\n",
        "    # Angle (phi, theta, gamma) choosing\n",
        "    angle = BatchNormalization()(decoded)\n",
        "    angle = Dense(3, name='angle')(angle)\n",
        "    \n",
        "    if (output_style == 0):\n",
        "        ## Concatenate the total output\n",
        "        # (8 + 6 + 6 + 6 + 3)\n",
        "        # (29)\n",
        "        total = concatenate([gate, control, target, classic, angle], name='circuit')\n",
        "        lstm_autoencoder = Model(inputs, total)\n",
        "        lstm_autoencoder.compile(optimizer=Adam(0.001), loss='mse', metrics=['accuracy'])\n",
        "        encoder = Model(inputs, encoded)\n",
        "        return (lstm_autoencoder, encoder)\n",
        "    elif (output_style == 1):\n",
        "        ## Concatenate the types\n",
        "        # (8 + 6 + 6 + 6) + (3)\n",
        "        # (26) + (3)\n",
        "        total_type = concatenate([gate, control, target, classic], name='type')\n",
        "        lstm_autoencoder = Model(inputs, [total_type, angle])\n",
        "        lstm_autoencoder.compile(optimizer=Adam(0.001),\n",
        "                                 loss=['binary_crossentropy', 'mse'],\n",
        "                                 loss_weights=[0.5, 0.5],\n",
        "                                 metrics=['accuracy'])\n",
        "        encoder = Model(inputs, encoded)\n",
        "        return (lstm_autoencoder, encoder)\n",
        "    elif (output_style == 2):\n",
        "        ## Seperated output\n",
        "        # (8) + (6) + (6) + (6) + (3)\n",
        "        lstm_autoencoder = Model(inputs, [gate, control, target, classic, angle])\n",
        "        lstm_autoencoder.compile(optimizer=Adagrad(0.001),\n",
        "                                loss=['categorical_crossentropy',\n",
        "                                    'categorical_crossentropy',\n",
        "                                    'categorical_crossentropy',\n",
        "                                    'categorical_crossentropy',\n",
        "                                    'mse'],\n",
        "                                loss_weights=[0.2, 0.2, 0.2, 0.2, 0.2],\n",
        "                                metrics=['accuracy'])\n",
        "        # encoder = Model(inputs, z)\n",
        "        encoder = Model(inputs, encoded)\n",
        "        return (lstm_autoencoder, encoder)\n",
        "    else:\n",
        "        raise \"You have to choose output style one of between [0, 1, 2]\""
      ],
      "execution_count": 0,
      "outputs": []
    },
    {
      "cell_type": "code",
      "metadata": {
        "id": "vN65WAiRdHLe",
        "colab_type": "code",
        "outputId": "d2d01d82-a33f-4fc1-def2-9fe282d5f2b5",
        "colab": {
          "base_uri": "https://localhost:8080/",
          "height": 0
        }
      },
      "source": [
        "# TODO - Choose the output style \n",
        "# Model and dataset will be set automatically depends on the output style\n",
        "\"\"\"\n",
        "    output_style\n",
        "    0 - concatenated\n",
        "        (gate + control + target + classic + angle)\n",
        "        [29]\n",
        "    1 - type + angle\n",
        "        (gate + control + target + classic) (angle)\n",
        "        [26] + [3]\n",
        "    2 - Seperated   \n",
        "        (gate) (control) (target) (classic) (angle)\n",
        "        [8] + [6] + [6] + [6] + [3]\n",
        "\"\"\"\n",
        "output_style = 0\n",
        "\n",
        "model, encoder = lstm_ae(input_dim, timesteps, latent_dim, output_style=output_style)\n",
        "model.summary()\n",
        "encoder.summary()"
      ],
      "execution_count": 13,
      "outputs": [
        {
          "output_type": "stream",
          "text": [
            "Model: \"model_3\"\n",
            "__________________________________________________________________________________________________\n",
            "Layer (type)                    Output Shape         Param #     Connected to                     \n",
            "==================================================================================================\n",
            "circuit_input (InputLayer)      (None, 65, 29)       0                                            \n",
            "__________________________________________________________________________________________________\n",
            "lstm_3 (LSTM)                   (None, 64)           24064       circuit_input[0][0]              \n",
            "__________________________________________________________________________________________________\n",
            "repeat_vector_2 (RepeatVector)  (None, 65, 64)       0           lstm_3[0][0]                     \n",
            "__________________________________________________________________________________________________\n",
            "lstm_4 (LSTM)                   (None, 65, 29)       10904       repeat_vector_2[0][0]            \n",
            "__________________________________________________________________________________________________\n",
            "batch_normalization_2 (BatchNor (None, 65, 29)       116         lstm_4[0][0]                     \n",
            "__________________________________________________________________________________________________\n",
            "gate (Dense)                    (None, 65, 8)        240         lstm_4[0][0]                     \n",
            "__________________________________________________________________________________________________\n",
            "control (Dense)                 (None, 65, 6)        180         lstm_4[0][0]                     \n",
            "__________________________________________________________________________________________________\n",
            "target (Dense)                  (None, 65, 6)        180         lstm_4[0][0]                     \n",
            "__________________________________________________________________________________________________\n",
            "classic (Dense)                 (None, 65, 6)        180         lstm_4[0][0]                     \n",
            "__________________________________________________________________________________________________\n",
            "angle (Dense)                   (None, 65, 3)        90          batch_normalization_2[0][0]      \n",
            "__________________________________________________________________________________________________\n",
            "circuit (Concatenate)           (None, 65, 29)       0           gate[0][0]                       \n",
            "                                                                 control[0][0]                    \n",
            "                                                                 target[0][0]                     \n",
            "                                                                 classic[0][0]                    \n",
            "                                                                 angle[0][0]                      \n",
            "==================================================================================================\n",
            "Total params: 35,954\n",
            "Trainable params: 35,896\n",
            "Non-trainable params: 58\n",
            "__________________________________________________________________________________________________\n",
            "Model: \"model_4\"\n",
            "_________________________________________________________________\n",
            "Layer (type)                 Output Shape              Param #   \n",
            "=================================================================\n",
            "circuit_input (InputLayer)   (None, 65, 29)            0         \n",
            "_________________________________________________________________\n",
            "lstm_3 (LSTM)                (None, 64)                24064     \n",
            "=================================================================\n",
            "Total params: 24,064\n",
            "Trainable params: 24,064\n",
            "Non-trainable params: 0\n",
            "_________________________________________________________________\n"
          ],
          "name": "stdout"
        }
      ]
    },
    {
      "cell_type": "markdown",
      "metadata": {
        "colab_type": "text",
        "id": "YicTjbmNbgM5"
      },
      "source": [
        "### Train step 2 - Train the model\n",
        "- Choose train hyperparameter\n",
        "    - epochs\n",
        "    - batch_size\n",
        "    - shuffle\n",
        "- Save the model and weight\n",
        "- Load the weight for sequential train"
      ]
    },
    {
      "cell_type": "markdown",
      "metadata": {
        "id": "_6dzo8eYFQld",
        "colab_type": "text"
      },
      "source": [
        "#### Load the weight for sequential train\n",
        "**Model should be already pre-built**"
      ]
    },
    {
      "cell_type": "code",
      "metadata": {
        "id": "E_gEyDKZE6ht",
        "colab_type": "code",
        "colab": {}
      },
      "source": [
        "# TODO - Choose weight name to load\n",
        "model_weight = \"lstm_ae.h5\"\n",
        "encoder_weight = \"lstm_ae_enc.h5\"\n",
        "\n",
        "model.load_weights(os.path.join(weight_path, model_weight))\n",
        "encoder.load_weights(os.path.join(weight_path, encoder_weight))\n",
        "print(\"Loaded weight to model\")"
      ],
      "execution_count": 0,
      "outputs": []
    },
    {
      "cell_type": "markdown",
      "metadata": {
        "id": "G1MsGZqDGf3A",
        "colab_type": "text"
      },
      "source": [
        "#### Train"
      ]
    },
    {
      "cell_type": "code",
      "metadata": {
        "id": "GS4ij6wIprva",
        "colab_type": "code",
        "colab": {}
      },
      "source": [
        "# Train hyperparameter\n",
        "# TODO - Choose the hyperparameter\n",
        "shuffle = True\n",
        "epochs = 100\n",
        "batch_size = 128\n",
        "\n",
        "if (output_style == 0):\n",
        "    model.fit(train_enc_in, train_enc_in,\n",
        "            verbose=1,\n",
        "            shuffle=shuffle,\n",
        "            epochs=epochs,\n",
        "            batch_size=batch_size,  \n",
        "            validation_data=(validation_enc_in, validation_enc_in))\n",
        "elif (output_style == 1):\n",
        "    model.fit(train_enc_in,\n",
        "            [train_type,\n",
        "            train_angle],\n",
        "            verbose=1,\n",
        "            shuffle=shuffle,\n",
        "            epochs=epochs,\n",
        "            batch_size=batch_size,  \n",
        "            validation_data=(validation_enc_in, [validation_type,\n",
        "                                                validation_angle]),)\n",
        "elif (output_style == 2):\n",
        "    model.fit(train_enc_in,\n",
        "            [train_gate,\n",
        "            train_control,\n",
        "            train_target,\n",
        "            train_classic,\n",
        "            train_angle],\n",
        "            verbose=1,\n",
        "            shuffle=shuffle,\n",
        "            epochs=epochs,\n",
        "            batch_size=batch_size,  \n",
        "            validation_data=(validation_enc_in, [validation_gate,\n",
        "                                                validation_control,\n",
        "                                                validation_target,\n",
        "                                                validation_classic,\n",
        "                                                validation_angle]),)\n",
        "else:\n",
        "    raise \"You have to choose output style one of between [0, 1, 2]\""
      ],
      "execution_count": 0,
      "outputs": []
    },
    {
      "cell_type": "markdown",
      "metadata": {
        "id": "qQQ3pdzTEElN",
        "colab_type": "text"
      },
      "source": [
        "**Save model and weight**"
      ]
    },
    {
      "cell_type": "code",
      "metadata": {
        "id": "HUeDb-gMdzGU",
        "colab_type": "code",
        "outputId": "cf103acc-135c-45ae-ab33-da3bbb631b87",
        "colab": {
          "base_uri": "https://localhost:8080/",
          "height": 51
        }
      },
      "source": [
        "# TODO - Choose the model & weight name\n",
        "model_name = \"lstm_ae.json\"\n",
        "encoder_name = \"lstm_ae_enc.json\"\n",
        "\n",
        "model_weight = \"lstm_ae.h5\"\n",
        "encoder_weight = \"lstm_ae_enc.h5\"\n",
        "\n",
        "model_json = model.to_json()\n",
        "with open(os.path.join(model_path, model_name), \"w\") as f:\n",
        "    f.write(model_json)\n",
        "encoder_json = encoder.to_json()\n",
        "with open(os.path.join(model_path, encoder_name), \"w\") as f:\n",
        "    f.write(encoder_json)\n",
        "print(\"Saved model to disk\")\n",
        "model.save_weights(os.path.join(weight_path, model_weight))\n",
        "encoder.save_weights(os.path.join(weight_path, encoder_weight))\n",
        "print(\"Saved weight to disk\")"
      ],
      "execution_count": 0,
      "outputs": [
        {
          "output_type": "stream",
          "text": [
            "Saved model to disk\n",
            "Saved weight to disk\n"
          ],
          "name": "stdout"
        }
      ]
    },
    {
      "cell_type": "markdown",
      "metadata": {
        "id": "GZJV4ht1f4rp",
        "colab_type": "text"
      },
      "source": [
        "### Train step 3 - Generate the circuit and compare with the original circuit"
      ]
    },
    {
      "cell_type": "code",
      "metadata": {
        "id": "eRECAf4KpaJL",
        "colab_type": "code",
        "colab": {}
      },
      "source": [
        "# gate type encode\n",
        "gate_2_id = {'U1Gate': 0, 'U2Gate':1, 'U3Gate': 2, 'CnotGate': 3, 'Measure': 4, 'IdGate': 5, 'Barrier': 6, 'X': 7}\n",
        "id_2_gate = dict((v, k) for k, v in gate_2_id.items())"
      ],
      "execution_count": 0,
      "outputs": []
    },
    {
      "cell_type": "code",
      "metadata": {
        "id": "TED2nvI0s4Py",
        "colab_type": "code",
        "cellView": "form",
        "colab": {}
      },
      "source": [
        "#@title Compare the original and generated circuit\n",
        "def compare_results(index, original, predict):\n",
        "    print(\"TEST SET %d\" % index)\n",
        "    print(\"=================ORIGINAL=================\\n=================RESTORE==================\\n\")\n",
        "    print(\"GATE NUMBER | GATE TYPE | CONTROL TARGET MEASURE | (THETA PIE GAMMA)\\n\")\n",
        "    for i in range(len(original)):\n",
        "        # predict\n",
        "        p_gate = predict[i][:8]\n",
        "        p_control= predict[i][8:14]\n",
        "        p_target = predict[i][14:20]\n",
        "        p_classic = predict[i][20:26]\n",
        "        p_angle = predict[i][26:]\n",
        "\n",
        "        p_gate = np.argmax(p_gate)\n",
        "        p_control = np.argmax(p_control)\n",
        "        p_target = np.argmax(p_target)\n",
        "        p_classic = np.argmax(p_classic)\n",
        "\n",
        "        # original\n",
        "        o_gate = original[i][:8]\n",
        "        o_control = original[i][8:14]\n",
        "        o_target = original[i][14:20]\n",
        "        o_classic = original[i][20:26]\n",
        "        o_angle = original[i][26:]\n",
        "\n",
        "        o_gate = np.argmax(o_gate)\n",
        "        o_control = np.argmax(o_control)\n",
        "        o_target = np.argmax(o_target)\n",
        "        o_classic = np.argmax(o_classic)\n",
        "        \n",
        "        print(\"%-10s\" % (\"GATE : {}\".format(i)), end=\"\")\n",
        "        print(\"%-8s\" % id_2_gate[o_gate], end=\" \")\n",
        "        print(\"%-4s\" % \"[C:{}\".format(o_control - 1 if o_control else ' '), end=\" \")\n",
        "        print(\"T:{}\".format(o_target - 1 if o_target else ' '), end=\" \")\n",
        "        print(\"M:{}]\".format(o_classic - 1 if o_classic else ' '), end=\" \")\n",
        "        print(\"(%.2f, %.2f, %.2f)\" % (o_angle[0], o_angle[1], o_angle[2]))\n",
        "\n",
        "        print(\"%-10s\" % \" \", end=\"\")\n",
        "        print(\"%-8s\" % id_2_gate[p_gate], end=\" \")\n",
        "        print(\"%-4s\" % \"[C:{}\".format(p_control - 1 if p_control else ' '), end=\" \")\n",
        "        print(\"T:{}\".format(p_target - 1 if p_target else ' '), end=\" \")\n",
        "        print(\"M:{}]\".format(p_classic - 1 if p_classic else ' '), end=\" \")\n",
        "        print(\"(%.2f, %.2f, %.2f)\" % (p_angle[0], p_angle[1], p_angle[2]), end='\\n\\n')"
      ],
      "execution_count": 0,
      "outputs": []
    },
    {
      "cell_type": "code",
      "metadata": {
        "id": "9G3VBsZMsyn7",
        "colab_type": "code",
        "cellView": "form",
        "colab": {}
      },
      "source": [
        "#@title predict circuit\n",
        "def predict_circuit(index, output_style=0):\n",
        "    original = test_enc_in[index]\n",
        "    if (output_style == 0):\n",
        "        predict = model.predict([[original]])\n",
        "        predict = predict[0]\n",
        "    elif (output_style == 1):\n",
        "        types, angles = model.predict([[original]])\n",
        "        predict = np.hstack((types[0], angles[0]))\n",
        "    elif (output_style == 2):\n",
        "        gates, controls, targets, classics, angles = model.predict([[original]])\n",
        "        predict = np.hstack((gates[0], controls[0], targets[0], classics[0], angles[0]))\n",
        "    else:\n",
        "        raise \"You have to choose output style one of between [0, 1, 2]\"\n",
        "    compare_results(index, original, predict)"
      ],
      "execution_count": 0,
      "outputs": []
    },
    {
      "cell_type": "code",
      "metadata": {
        "id": "0HwltgsOszoL",
        "colab_type": "code",
        "outputId": "ce41737e-5007-4308-e240-9e9b03574c60",
        "colab": {
          "base_uri": "https://localhost:8080/",
          "height": 1000
        }
      },
      "source": [
        "# TODO - choose what test case you want to check\n",
        "\n",
        "test_index = 150\n",
        "predict_circuit(test_index, output_style)"
      ],
      "execution_count": 0,
      "outputs": [
        {
          "output_type": "stream",
          "text": [
            "TEST SET 150\n",
            "=================ORIGINAL=================\n",
            "=================RESTORE==================\n",
            "\n",
            "GATE NUMBER | GATE TYPE | CONTROL TARGET MEASURE | (THETA PIE GAMMA)\n",
            "\n",
            "GATE : 0  U2Gate   [C:1 T:  M: ] (1.57, 0.00, 1.00)\n",
            "          U1Gate   [C:0 T:  M: ] (0.43, 0.05, 0.43)\n",
            "\n",
            "GATE : 1  CnotGate [C:0 T:1 M: ] (0.00, 0.00, 0.00)\n",
            "          U1Gate   [C:1 T:  M: ] (0.38, -0.02, 0.37)\n",
            "\n",
            "GATE : 2  U2Gate   [C:1 T:  M: ] (1.57, 0.00, 1.00)\n",
            "          U1Gate   [C:1 T:  M: ] (0.30, -0.01, 0.27)\n",
            "\n",
            "GATE : 3  U1Gate   [C:2 T:  M: ] (0.00, 0.00, 0.50)\n",
            "          U1Gate   [C:2 T:  M: ] (0.28, 0.02, 0.25)\n",
            "\n",
            "GATE : 4  U2Gate   [C:2 T:  M: ] (1.57, 0.00, 1.00)\n",
            "          U1Gate   [C:3 T:  M: ] (0.26, 0.04, 0.21)\n",
            "\n",
            "GATE : 5  U1Gate   [C:2 T:  M: ] (0.00, 0.00, 0.25)\n",
            "          CnotGate [C:3 T:  M: ] (0.25, 0.03, 0.18)\n",
            "\n",
            "GATE : 6  CnotGate [C:3 T:2 M: ] (0.00, 0.00, 0.00)\n",
            "          CnotGate [C:3 T:  M: ] (0.26, 0.03, 0.17)\n",
            "\n",
            "GATE : 7  U1Gate   [C:2 T:  M: ] (0.00, 0.00, -0.25)\n",
            "          CnotGate [C:4 T:  M: ] (0.27, 0.03, 0.18)\n",
            "\n",
            "GATE : 8  U2Gate   [C:2 T:  M: ] (1.57, 0.00, 1.00)\n",
            "          CnotGate [C:4 T:  M: ] (0.27, 0.03, 0.19)\n",
            "\n",
            "GATE : 9  U1Gate   [C:2 T:  M: ] (0.00, 0.00, -0.50)\n",
            "          CnotGate [C:4 T:  M: ] (0.27, 0.03, 0.19)\n",
            "\n",
            "GATE : 10 U3Gate   [C:4 T:  M: ] (1.00, 0.00, 1.00)\n",
            "          U1Gate   [C:4 T:  M: ] (0.25, 0.06, 0.18)\n",
            "\n",
            "GATE : 11 Measure  [C:0 T:  M:0] (0.00, 0.00, 0.00)\n",
            "          Measure  [C:0 T:  M:0] (0.19, 0.07, 0.11)\n",
            "\n",
            "GATE : 12 Measure  [C:1 T:  M:1] (0.00, 0.00, 0.00)\n",
            "          Measure  [C:1 T:  M:1] (0.08, -0.01, 0.00)\n",
            "\n",
            "GATE : 13 Measure  [C:2 T:  M:2] (0.00, 0.00, 0.00)\n",
            "          Measure  [C:2 T:  M:2] (0.00, -0.04, -0.04)\n",
            "\n",
            "GATE : 14 Measure  [C:3 T:  M:3] (0.00, 0.00, 0.00)\n",
            "          Measure  [C:3 T:  M:3] (0.02, -0.05, -0.03)\n",
            "\n",
            "GATE : 15 Measure  [C:4 T:  M:4] (0.00, 0.00, 0.00)\n",
            "          Measure  [C:4 T:  M:4] (0.06, 0.00, 0.05)\n",
            "\n",
            "GATE : 16 X        [C:  T:  M: ] (0.00, 0.00, 0.00)\n",
            "          X        [C:  T:  M: ] (0.02, -0.04, -0.00)\n",
            "\n",
            "GATE : 17 X        [C:  T:  M: ] (0.00, 0.00, 0.00)\n",
            "          X        [C:  T:  M: ] (0.04, -0.05, -0.00)\n",
            "\n",
            "GATE : 18 X        [C:  T:  M: ] (0.00, 0.00, 0.00)\n",
            "          X        [C:  T:  M: ] (0.06, -0.04, -0.02)\n",
            "\n",
            "GATE : 19 X        [C:  T:  M: ] (0.00, 0.00, 0.00)\n",
            "          X        [C:  T:  M: ] (0.04, -0.04, -0.02)\n",
            "\n",
            "GATE : 20 X        [C:  T:  M: ] (0.00, 0.00, 0.00)\n",
            "          X        [C:  T:  M: ] (0.03, -0.04, -0.02)\n",
            "\n",
            "GATE : 21 X        [C:  T:  M: ] (0.00, 0.00, 0.00)\n",
            "          X        [C:  T:  M: ] (0.02, -0.04, -0.02)\n",
            "\n",
            "GATE : 22 X        [C:  T:  M: ] (0.00, 0.00, 0.00)\n",
            "          X        [C:  T:  M: ] (0.02, -0.05, -0.02)\n",
            "\n",
            "GATE : 23 X        [C:  T:  M: ] (0.00, 0.00, 0.00)\n",
            "          X        [C:  T:  M: ] (0.02, -0.05, -0.02)\n",
            "\n",
            "GATE : 24 X        [C:  T:  M: ] (0.00, 0.00, 0.00)\n",
            "          X        [C:  T:  M: ] (0.02, -0.05, -0.02)\n",
            "\n",
            "GATE : 25 X        [C:  T:  M: ] (0.00, 0.00, 0.00)\n",
            "          X        [C:  T:  M: ] (0.02, -0.05, -0.02)\n",
            "\n",
            "GATE : 26 X        [C:  T:  M: ] (0.00, 0.00, 0.00)\n",
            "          X        [C:  T:  M: ] (0.03, -0.05, -0.02)\n",
            "\n",
            "GATE : 27 X        [C:  T:  M: ] (0.00, 0.00, 0.00)\n",
            "          X        [C:  T:  M: ] (0.03, -0.05, -0.01)\n",
            "\n",
            "GATE : 28 X        [C:  T:  M: ] (0.00, 0.00, 0.00)\n",
            "          X        [C:  T:  M: ] (0.03, -0.05, -0.01)\n",
            "\n",
            "GATE : 29 X        [C:  T:  M: ] (0.00, 0.00, 0.00)\n",
            "          X        [C:  T:  M: ] (0.03, -0.05, -0.01)\n",
            "\n",
            "GATE : 30 X        [C:  T:  M: ] (0.00, 0.00, 0.00)\n",
            "          X        [C:  T:  M: ] (0.03, -0.05, -0.01)\n",
            "\n",
            "GATE : 31 X        [C:  T:  M: ] (0.00, 0.00, 0.00)\n",
            "          X        [C:  T:  M: ] (0.03, -0.06, -0.01)\n",
            "\n",
            "GATE : 32 X        [C:  T:  M: ] (0.00, 0.00, 0.00)\n",
            "          X        [C:  T:  M: ] (0.03, -0.06, -0.01)\n",
            "\n",
            "GATE : 33 X        [C:  T:  M: ] (0.00, 0.00, 0.00)\n",
            "          X        [C:  T:  M: ] (0.03, -0.06, -0.01)\n",
            "\n",
            "GATE : 34 X        [C:  T:  M: ] (0.00, 0.00, 0.00)\n",
            "          X        [C:  T:  M: ] (0.03, -0.06, -0.01)\n",
            "\n",
            "GATE : 35 X        [C:  T:  M: ] (0.00, 0.00, 0.00)\n",
            "          X        [C:  T:  M: ] (0.03, -0.06, -0.01)\n",
            "\n",
            "GATE : 36 X        [C:  T:  M: ] (0.00, 0.00, 0.00)\n",
            "          X        [C:  T:  M: ] (0.03, -0.06, -0.01)\n",
            "\n",
            "GATE : 37 X        [C:  T:  M: ] (0.00, 0.00, 0.00)\n",
            "          X        [C:  T:  M: ] (0.03, -0.06, -0.01)\n",
            "\n",
            "GATE : 38 X        [C:  T:  M: ] (0.00, 0.00, 0.00)\n",
            "          X        [C:  T:  M: ] (0.03, -0.06, -0.01)\n",
            "\n",
            "GATE : 39 X        [C:  T:  M: ] (0.00, 0.00, 0.00)\n",
            "          X        [C:  T:  M: ] (0.03, -0.06, -0.01)\n",
            "\n",
            "GATE : 40 X        [C:  T:  M: ] (0.00, 0.00, 0.00)\n",
            "          X        [C:  T:  M: ] (0.03, -0.06, -0.01)\n",
            "\n",
            "GATE : 41 X        [C:  T:  M: ] (0.00, 0.00, 0.00)\n",
            "          X        [C:  T:  M: ] (0.03, -0.06, -0.01)\n",
            "\n",
            "GATE : 42 X        [C:  T:  M: ] (0.00, 0.00, 0.00)\n",
            "          X        [C:  T:  M: ] (0.03, -0.06, -0.01)\n",
            "\n",
            "GATE : 43 X        [C:  T:  M: ] (0.00, 0.00, 0.00)\n",
            "          X        [C:  T:  M: ] (0.03, -0.06, -0.01)\n",
            "\n",
            "GATE : 44 X        [C:  T:  M: ] (0.00, 0.00, 0.00)\n",
            "          X        [C:  T:  M: ] (0.03, -0.06, -0.01)\n",
            "\n",
            "GATE : 45 X        [C:  T:  M: ] (0.00, 0.00, 0.00)\n",
            "          X        [C:  T:  M: ] (0.03, -0.06, -0.01)\n",
            "\n",
            "GATE : 46 X        [C:  T:  M: ] (0.00, 0.00, 0.00)\n",
            "          X        [C:  T:  M: ] (0.03, -0.06, -0.01)\n",
            "\n",
            "GATE : 47 X        [C:  T:  M: ] (0.00, 0.00, 0.00)\n",
            "          X        [C:  T:  M: ] (0.03, -0.06, -0.01)\n",
            "\n",
            "GATE : 48 X        [C:  T:  M: ] (0.00, 0.00, 0.00)\n",
            "          X        [C:  T:  M: ] (0.03, -0.06, -0.01)\n",
            "\n",
            "GATE : 49 X        [C:  T:  M: ] (0.00, 0.00, 0.00)\n",
            "          X        [C:  T:  M: ] (0.03, -0.06, -0.01)\n",
            "\n",
            "GATE : 50 X        [C:  T:  M: ] (0.00, 0.00, 0.00)\n",
            "          X        [C:  T:  M: ] (0.03, -0.06, -0.01)\n",
            "\n",
            "GATE : 51 X        [C:  T:  M: ] (0.00, 0.00, 0.00)\n",
            "          X        [C:  T:  M: ] (0.03, -0.06, -0.01)\n",
            "\n",
            "GATE : 52 X        [C:  T:  M: ] (0.00, 0.00, 0.00)\n",
            "          X        [C:  T:  M: ] (0.03, -0.06, -0.01)\n",
            "\n",
            "GATE : 53 X        [C:  T:  M: ] (0.00, 0.00, 0.00)\n",
            "          X        [C:  T:  M: ] (0.03, -0.06, -0.01)\n",
            "\n",
            "GATE : 54 X        [C:  T:  M: ] (0.00, 0.00, 0.00)\n",
            "          X        [C:  T:  M: ] (0.03, -0.06, -0.01)\n",
            "\n",
            "GATE : 55 X        [C:  T:  M: ] (0.00, 0.00, 0.00)\n",
            "          X        [C:  T:  M: ] (0.03, -0.06, -0.01)\n",
            "\n",
            "GATE : 56 X        [C:  T:  M: ] (0.00, 0.00, 0.00)\n",
            "          X        [C:  T:  M: ] (0.03, -0.06, -0.02)\n",
            "\n",
            "GATE : 57 X        [C:  T:  M: ] (0.00, 0.00, 0.00)\n",
            "          X        [C:  T:  M: ] (0.03, -0.06, -0.02)\n",
            "\n",
            "GATE : 58 X        [C:  T:  M: ] (0.00, 0.00, 0.00)\n",
            "          X        [C:  T:  M: ] (0.03, -0.06, -0.02)\n",
            "\n",
            "GATE : 59 X        [C:  T:  M: ] (0.00, 0.00, 0.00)\n",
            "          X        [C:  T:  M: ] (0.03, -0.06, -0.02)\n",
            "\n",
            "GATE : 60 X        [C:  T:  M: ] (0.00, 0.00, 0.00)\n",
            "          X        [C:  T:  M: ] (0.03, -0.06, -0.02)\n",
            "\n",
            "GATE : 61 X        [C:  T:  M: ] (0.00, 0.00, 0.00)\n",
            "          X        [C:  T:  M: ] (0.03, -0.06, -0.02)\n",
            "\n",
            "GATE : 62 X        [C:  T:  M: ] (0.00, 0.00, 0.00)\n",
            "          X        [C:  T:  M: ] (0.03, -0.06, -0.02)\n",
            "\n",
            "GATE : 63 X        [C:  T:  M: ] (0.00, 0.00, 0.00)\n",
            "          X        [C:  T:  M: ] (0.03, -0.06, -0.02)\n",
            "\n",
            "GATE : 64 X        [C:  T:  M: ] (0.00, 0.00, 0.00)\n",
            "          X        [C:  T:  M: ] (0.03, -0.06, -0.02)\n",
            "\n"
          ],
          "name": "stdout"
        }
      ]
    }
  ]
}