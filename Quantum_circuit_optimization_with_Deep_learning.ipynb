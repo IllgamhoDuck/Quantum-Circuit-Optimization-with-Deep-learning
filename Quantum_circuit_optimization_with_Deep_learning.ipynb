{
  "nbformat": 4,
  "nbformat_minor": 0,
  "metadata": {
    "colab": {
      "name": "Quantum circuit optimization with Deep learning.ipynb",
      "provenance": [],
      "collapsed_sections": [
        "9Ahmkkat6RA-",
        "BZcN-TKGGTnd",
        "1nXMQLvSGMZH",
        "AKv6QCFkG6mo",
        "mjM6BZ51GxlG",
        "lAmckgX-GrD2",
        "AM5k1IxBZy-V",
        "ofKIT-Pie4ht",
        "n2R1ArXYbDXb",
        "N1FZo1A2X12W"
      ],
      "toc_visible": true,
      "include_colab_link": true
    },
    "kernelspec": {
      "name": "python3",
      "display_name": "Python 3"
    }
  },
  "cells": [
    {
      "cell_type": "markdown",
      "metadata": {
        "id": "view-in-github",
        "colab_type": "text"
      },
      "source": [
        "<a href=\"https://colab.research.google.com/github/IllgamhoDuck/Quantum-Circuit-Optimization-with-Deep-learning/blob/master/Quantum_circuit_optimization_with_Deep_learning.ipynb\" target=\"_parent\"><img src=\"https://colab.research.google.com/assets/colab-badge.svg\" alt=\"Open In Colab\"/></a>"
      ]
    },
    {
      "cell_type": "markdown",
      "metadata": {
        "id": "i3ieGoqnqJni",
        "colab_type": "text"
      },
      "source": [
        "# Quantum Circuit optimization with Deep learning\n",
        "\n",
        "This is a educational notebook about what is quantum circuit optimization and how to optimize the circuit using deep learning approach created for IBM Q Challenge teach me qiskit award\n",
        "\n",
        "0. Welcome :D\n",
        "1. What is circuit optimization?\n",
        "2. How does optimized circuit looks like depends on hardware?\n",
        "3. Check quantum hardware information\n",
        "4. How to generate random circuit?\n",
        "5. Generate dataset for Deep learning\n",
        "6. Train LSTM Autoencoder to find circuit manifold\n",
        "\n",
        "\n",
        "    6-1. (Optional) Estimating Statevector from circuit\n",
        "\n",
        "\n",
        "7. Train Layout predicting Model\n",
        "8. Train Optimized circuit generating model\n",
        "9. How to check it is optimized?\n",
        "\n",
        "\n",
        "\n",
        "A. Future work"
      ]
    },
    {
      "cell_type": "markdown",
      "metadata": {
        "id": "XIoWDycymlIG",
        "colab_type": "text"
      },
      "source": [
        "## 0. Welcome :D\n",
        "\n",
        "This topic include big main things!\n",
        "\n",
        "1. Deep learning \n",
        "2. Qiskit\n",
        "\n",
        "\n",
        "    If you never heard about those no problem!\n",
        "    This notebook includes several sub notebooks and you can simply\n",
        "    check one by one executing the cell without prior knowledge\n",
        "    But it will be helpful if you know what is what.\n",
        "    Recommend reading following chapter at qiskit textbook before you start\n",
        "    \n",
        "    chapter 0. Prerequisites\n",
        "    chapter 1. Quantum States and Qubits \n",
        "    chapter 2. Single Qubits and Multiple-Qubits gates\n",
        "\n",
        "[QISKIT TESTBOOK](https://community.qiskit.org/textbook/preface.html)"
      ]
    },
    {
      "cell_type": "markdown",
      "metadata": {
        "id": "vsLVOsFAqPRB",
        "colab_type": "text"
      },
      "source": [
        "## 1. What is circuit optimization?\n",
        "\n",
        "    Circuit is a program in quantum computer\n",
        "    Circuit optimization is process making the program fast and\n",
        "    accurate by making the total noise inside small as possible\n",
        "    You will learn how the program is optimized\n",
        "\n",
        "Most of the explaination includes classic computer example\n",
        "\n",
        "    Also don't forget to look at IBM transpiler jupyter notebook\n",
        "    linked right after this cell.\n",
        "    It is very useful to understand circuit optimization\n",
        "\n",
        "\n",
        "\n"
      ]
    },
    {
      "cell_type": "markdown",
      "metadata": {
        "id": "j6LfTxSIf2Ri",
        "colab_type": "text"
      },
      "source": [
        "This is Good introduction from IBM about circuit optimization. **Don't forget to read this!**\n",
        "\n",
        "    https://github.com/Qiskit/qiskit-iqx-tutorials/blob/master/qiskit/fundamentals/5_using_the_transpiler.ipynb\n"
      ]
    },
    {
      "cell_type": "markdown",
      "metadata": {
        "id": "9Ahmkkat6RA-",
        "colab_type": "text"
      },
      "source": [
        "### Circuit optimization is to reduce the total noise of circuit"
      ]
    },
    {
      "cell_type": "markdown",
      "metadata": {
        "id": "BZcN-TKGGTnd",
        "colab_type": "text"
      },
      "source": [
        "#### What is noise?"
      ]
    },
    {
      "cell_type": "markdown",
      "metadata": {
        "id": "vBfUxjOa5qb2",
        "colab_type": "text"
      },
      "source": [
        "\n",
        "\n",
        "    It is how much you loss your energy you stored inside the qubit.\n",
        "    Energy is same as information and qubit loss energy very easy so it\n",
        "    loss information very easy. You can loss energy in any way.\n",
        "    Applying gate and reading the data from the qubit, also the\n",
        "    energy naturally disappear.\n",
        "\n",
        "Let's think in a classic computer term\n",
        "\n",
        "    # Memory address is 0xA (noise 50%)\n",
        "    float number_A = 1\n",
        "    number_A += 1\n",
        "\n",
        "    # Memory address is 0xB (noise 5%)\n",
        "    float number_B = 1\n",
        "    number_B += 1\n",
        "\n",
        "    # Print out the result\n",
        "    print(number_A, number_B)\n",
        "\n",
        "Then you must expect both result is **(2.0, 2.0)**\n",
        "\n",
        "    # number_A = (1 + 1) * 0.5\n",
        "    # number_B = (1 + 1) * 0.95 \n",
        "    But the result is (1.0, 1.9)\n",
        "\n",
        "If you do one more time\n",
        "\n",
        "    # number_A = (1 + 1) * 0.5\n",
        "    # number_B = (1.9 + 1) * 0.95 \n",
        "    The result will be (1.0, 2.755)\n",
        "\n",
        "1. **Choosing which memory address** to use is choosing which qubit to use\n",
        "2. **+= operation** is gate operator applied to the qubit\n",
        "\n",
        "\n"
      ]
    },
    {
      "cell_type": "markdown",
      "metadata": {
        "id": "1nXMQLvSGMZH",
        "colab_type": "text"
      },
      "source": [
        "#### What is circuit optimization?"
      ]
    },
    {
      "cell_type": "markdown",
      "metadata": {
        "id": "w2ne4gN3GG56",
        "colab_type": "text"
      },
      "source": [
        "\n",
        "\n",
        "`Below phrase is what IBM mentioned`\n",
        "\n",
        "Optimize circuits to minimize noise when they are executed on a real IBMQ backend, by using the properties of the backends themselves. These properties contain information about the physics of the device, such as qubit lifetimes (decoherence and relaxation), gate and readout error rates, and gate latencies.\n",
        "\n",
        "    1. Reducing gate numbers and depth\n",
        "\n",
        "Let's think in classic term.\n",
        "\n",
        "    # Memory address is 0xA (noise 50%)\n",
        "    float number_A = 1\n",
        "\n",
        "    # number_3_op and number_1_op is same\n",
        "    # But number_3_operation applied unneccesary -1+1 operation\n",
        "    number_3_op = number_A + 1 - 1 + 1\n",
        "    number_1_op = number + 1\n",
        "\n",
        "Because of each each operation has noise even it should be same the final result of two will be different.\n",
        "\n",
        "    The result will be...\n",
        "    # number_3_op\n",
        "    1st op | 1 <= (1 + 1) * 0.5\n",
        "    2nd op | 0 <= (1 - 1) * 0.5\n",
        "    3rd op | 0.5 <= (0 + 1) * 0.5\n",
        "    number_3_op -> 0.5\n",
        "\n",
        "    # number_1_op\n",
        "    1st op | 1 <= (1 + 1) * 0.5\n",
        "    number_1_op -> 1\n",
        "\n",
        "In other words minimizing noise means making circuits total gate number and depth small as possible. Applying gate to qubit cause noise so if the number of applying gates is small then noise will going to be more smaller.\n",
        "\n",
        "    2. Applying gate to the qubit that has least noise\n",
        "\n",
        "Let's think in classic term\n",
        "\n",
        "    This case is already explained in upper example of number A & B\n",
        "    memory 0xA - 50% noise\n",
        "    memory 0xB - 5% noise\n",
        "\n",
        "    Applying operation to memory 0xB will be surely good\n",
        "\n",
        "Circuit optimization doesn't only focus on reducing the number of gates. It also focus on the where to put the gate at which qubit. Let's assume we have U1 gate and there is 2 qubits. qubit A will going to have 50% noise on U1 and qubit B has 5% noise on U1. Then we should put the U1 gate at qubit B to make less noise.\n",
        "\n",
        "**Final goal of circuit optimization is to make the total noise small as possible.**\n"
      ]
    },
    {
      "cell_type": "markdown",
      "metadata": {
        "id": "awHeLY5j6d-J",
        "colab_type": "text"
      },
      "source": [
        "### Circuit optimization at QISKIT"
      ]
    },
    {
      "cell_type": "markdown",
      "metadata": {
        "id": "AKv6QCFkG6mo",
        "colab_type": "text"
      },
      "source": [
        "#### QISKIT transpiler optimization process"
      ]
    },
    {
      "cell_type": "markdown",
      "metadata": {
        "id": "K9wc2Xtu6GHc",
        "colab_type": "text"
      },
      "source": [
        "\n",
        "Each step is well explained in the jupyter notebook in the upper link\n",
        "\n",
        "    1. Unroll to basis gates\n",
        "    2. Set initial layout\n",
        "    3. Topology mapping\n",
        "    4. Gate optimization\n",
        "\n",
        "<img src=\"https://user-images.githubusercontent.com/7631333/66371523-f5a44480-e9d5-11e9-8a79-742dcd35d050.png\" width=800px>\n",
        "\n",
        "\n",
        "\n",
        "\n",
        "\n",
        "\n",
        "\n",
        "\n",
        "\n",
        "\n",
        "\n",
        "\n"
      ]
    },
    {
      "cell_type": "markdown",
      "metadata": {
        "id": "mjM6BZ51GxlG",
        "colab_type": "text"
      },
      "source": [
        "#### 1. Unroll to basis gate\n"
      ]
    },
    {
      "cell_type": "markdown",
      "metadata": {
        "id": "DrtkKlIoGu6y",
        "colab_type": "text"
      },
      "source": [
        "Let's think in classic term\n",
        "\n",
        "let's assume you have program\n",
        "\n",
        "    def add(x1, x2):\n",
        "        return (x1 + x2)\n",
        "    A = add(1, 2)\n",
        "    B = add(3, 4)\n",
        "    C = add(A, B)\n",
        "\n",
        "Computer cannot understand what is **function add**. It can only understand **+** So we have to change the code to only using **+** \n",
        "\n",
        "    # Unrolling is ongoing...\n",
        "    A = 1 + 2\n",
        "    B = 3 + 4\n",
        "    C = A + B"
      ]
    },
    {
      "cell_type": "markdown",
      "metadata": {
        "id": "lAmckgX-GrD2",
        "colab_type": "text"
      },
      "source": [
        "#### 2. Set initial layout"
      ]
    },
    {
      "cell_type": "markdown",
      "metadata": {
        "id": "6h6dCDMcGp3y",
        "colab_type": "text"
      },
      "source": [
        "\n",
        "\n",
        "You have program algorithm. But what memory space of computer you want to use? Layout choose which physical memory space to use.\n",
        "\n",
        "Let's assume you have 3 bits memory.\n",
        "\n",
        "    # 0xA - 50% noise\n",
        "    # 0xB - 5% noise\n",
        "    # 0xC - 0% noise\n",
        "\n",
        "You have to put A, B, C. where you want to put in?\n",
        "\n",
        "    0xA (50% noise) - A = (1 + 2) 1 operation\n",
        "    0xB (5% noise) - B = (3 + 4) 1 operation\n",
        "    0xC (0% noise) - C = (A + B) 3 operation\n",
        "\n",
        "C has the most operations and most information so seems fair to put in the least 0xC which has least noise. \n",
        "\n",
        "    # The reason B is at 0xB is because B is holding more value than A\n",
        "    # A = 3, B = 7\n",
        "    # In upper case A noise is 50% so 1.5 = (1 + 2) * 0.5 \n",
        "    # B will be 6.65 = (3 + 4) * 0.95\n",
        "    # TOTAL NOISE LOSS = 1.5 + 0.35 = 1.85\n",
        "\n",
        "    # When we do opposite\n",
        "    # 0xA - B 0xB - A\n",
        "    # A will be 2.85 = (1 + 2) * 0.95\n",
        "    # B will be 3.5 = (3 + 4) * 0.5\n",
        "    # TOTAL NOISE LOSS = 0.15 + 3.5 = 3.65\n",
        "\n",
        "Even it has same number of operation the total noise could different by where do I put which variable to which memory.\n",
        "\n",
        "    Variable could be considered logical qubit\n",
        "    Memory could be considered physical qubit\n",
        "\n",
        "**layout is choosing which logical qubit to put at which physical qubit**\n",
        "\n",
        "    {logical qubit: physical qubit} = {Variable: Memory}\n"
      ]
    },
    {
      "cell_type": "markdown",
      "metadata": {
        "id": "AM5k1IxBZy-V",
        "colab_type": "text"
      },
      "source": [
        "#### 3. Topology mapping"
      ]
    },
    {
      "cell_type": "markdown",
      "metadata": {
        "id": "hI2gLHDMNiUh",
        "colab_type": "text"
      },
      "source": [
        "\n",
        "\n",
        "After you choose which memory to use you will find out that you cannot directly execute the program. Because the the operations written in the program could only be used in some specific memories. So you should fix your program to make your program fit the hardware constraint.\n",
        "\n",
        "**Fixing the program to meet the hardware constraint is called topology mapping**\n",
        "\n",
        "    Imagine you loaded two value to memory but if you want to apply\n",
        "    ADD operation then you should move your value to the register\n",
        "    inside CPU. It's time to consider which is the best path is the \n",
        "    best way to send the values to the CPU register\n",
        "\n",
        "Refer **Different Variants of the Same Pass** in the following link\n",
        "You can check out the swap gates is applied to meet the cx constraint between two qubits. Check out coupling map also.\n",
        "\n",
        "    https://github.com/Qiskit/qiskit-iqx-tutorials/blob/master/qiskit/advanced/terra/4_transpiler_passes_and_passmanager.ipynb"
      ]
    },
    {
      "cell_type": "markdown",
      "metadata": {
        "id": "HIf7jDFzLeFI",
        "colab_type": "text"
      },
      "source": [
        "\n",
        "\n",
        "This part is good to just know by quantum computer example related to coupling map and cx constraint. Now you have your program and mapped which variable(logical qubit) to which memory(physical qubit).\n",
        "\n",
        "**You want use CX [3,1]**\n",
        "\n",
        "    There are limitation of applying CX gate in real quantum computer\n",
        "    if you want to apply cnot gate from qubit 3 to qubit 1 then the\n",
        "    quantum computer should support it. If not then you should swap\n",
        "    the qubits to meet the quantum computer CX gate constraint.\n",
        "\n",
        "    If quantum computer only supports CX [2, 1]\n",
        "    You should swap qubit 3 and qubit 2 and apply CX to it.\n",
        "\n",
        "Swap gate includes 3 CX gates so now we have to choose the use the least swap gate as possible to swap qubits while meeting the constraint of CX gate used. This is Topology mapping. As you can see in the picture, CX gate is only can be used for two qubits that is connected with line.\n",
        "\n",
        "![IBM's 10 Quantum Device Lineup](https://www.ibm.com/blogs/research/wp-content/uploads/2019/09/10IBMQsystems-1024x768.jpg)\n",
        "\n",
        "\n",
        "\n"
      ]
    },
    {
      "cell_type": "markdown",
      "metadata": {
        "id": "F1fHVbUdQsKK",
        "colab_type": "text"
      },
      "source": [
        "Let's go back to classic computer.\n",
        "\n",
        "Imagine the you have memory space looks like **Yorktown** above.\n",
        "\n",
        "    0xA (50% noise) - A = (1 + 2) 1 operation\n",
        "    0xB (5% noise) - B = (3 + 4) 1 operation\n",
        "    0xC (0% noise) - C = (A + B) 3 operation\n",
        "\n",
        "We will use this again.\n",
        "\n",
        "    Now lets say the memory is located at the following qubit\n",
        "\n",
        "    0xA - 1 qubit\n",
        "    0xB - 4 qubit\n",
        "    0xC - 2 qubit\n",
        "\n",
        "Now let's say we could only apply two variable addition (+) when only the two memory is connected with line.\n",
        "\n",
        "    The memory space looks like this\n",
        "    A -  C  - 3\n",
        "    |   | |   |\n",
        "    0 -     - B\n",
        "\n",
        "    So we cannot operate C = (A + B) directly\n",
        "\n",
        "SWAP 1 - swap A and C and apply (A + B)\n",
        "\n",
        "    A -  C  - 3            C -  A  - 3\n",
        "    |   | |   |     ->     |   | |   |\n",
        "    0 -     - B            0 -     - B\n",
        "\n",
        "SWAP 2 - swap A and 0 and A and C and apply (A + B)\n",
        "\n",
        "    A -  C  - 3            0 -  C  - 3          0 -  A  - 3\n",
        "    |   | |   |     ->     |   | |   |    ->    |   | |   |\n",
        "    0 -     - B            A -     - B          C -     - B\n",
        "\n",
        "\n",
        "It seems swap method 1 is seems good because it has less move. But the problem is not that simple.\n",
        "\n",
        "**Swap noise is also different between memorys(qubits)**\n",
        "\n",
        "    # Swap 1\n",
        "    A <-> C noise 70%\n",
        "\n",
        "    # Swap 2\n",
        "    A <-> 0 noise 10%\n",
        "    0 <-> C noise 20%\n",
        "\n",
        "    YES swap 2 is much better!"
      ]
    },
    {
      "cell_type": "markdown",
      "metadata": {
        "id": "ofKIT-Pie4ht",
        "colab_type": "text"
      },
      "source": [
        "#### 4. Gate Optimization"
      ]
    },
    {
      "cell_type": "markdown",
      "metadata": {
        "id": "Si2CT_KjaDQG",
        "colab_type": "text"
      },
      "source": [
        "\n",
        "Merging the gates together or removing adjacent identical gate is Gate Optimization. Quantum computer can only use Unitary / Hermitian Operator so gate cancellation between same gate is possible.\n",
        "\n",
        "    Gate \n",
        "    XX = I\n",
        "    YY = I\n",
        "    HH = I\n",
        "\n",
        "You can think this two things in classic computer. So far you changed the **add function** to **+** operator and choose the what memory to use for variable. And you also modified your program to make your algorithm works on a real computer. You had to swap values among memory spaces to move the values to the specific memory space that could execute operation. And every thing was done considering noise. \n",
        "\n",
        "**Now this is the last step. Reduce the unnecessary operator**\n",
        "\n",
        "1. Merging gates\n",
        "\n",
        "\n",
        "    A = 3 <- 1 + 2\n",
        "    B = 7 <- 3 + 4\n",
        "    C = 10 <- 1 + 2 + 3 + 4 = A + B\n",
        "\n",
        "2. Gate Cancellation\n",
        "\n",
        "\n",
        "    If A is binary and 0000 0001\n",
        "    A~~ is same as A\n",
        "\n",
        "    A~ = 1111 0001\n",
        "    A~~ = 0000 0001\n",
        "\n",
        "Gate optimization reduces total gate number so it reduce noise\n"
      ]
    },
    {
      "cell_type": "markdown",
      "metadata": {
        "id": "Jk8C6FyXrreQ",
        "colab_type": "text"
      },
      "source": [
        "## 2. How does optimized circuit looks like depends on hardware?\n",
        "\n",
        "    Circuit optimization is based on hardware information. \n",
        "    Check out how the optimized circuit differ based on hardware\n",
        "\n",
        "[Jupyter notebook](https://github.com/IllgamhoDuck/Quantum-Circuit-Optimization-with-Deep-learning/blob/master/Check_how_circuit_optimized_depends_on_quantum_backend.ipynb)\n",
        "[colab](https://colab.research.google.com/drive/150ZR9zoIf8XBFpLM9IXAr6rhkSOcScpU)\n",
        "\n",
        "\n"
      ]
    },
    {
      "cell_type": "markdown",
      "metadata": {
        "id": "0hT2aXXhxM-d",
        "colab_type": "text"
      },
      "source": [
        "## 3. Check quantum hardware information\n",
        "\n",
        "    We now know circuit optimization is based on hardware information\n",
        "    It's time to look in details. And consider what information to use\n",
        "    for deep learning \n",
        "\n",
        "[jupyter notebook](https://github.com/IllgamhoDuck/Quantum-Circuit-Optimization-with-Deep-learning/blob/master/hardware_information.ipynb)\n",
        "[colab](https://colab.research.google.com/drive/1m-bRNeopa6mToCv01wy3_LyjQTYZ6Nap)"
      ]
    },
    {
      "cell_type": "markdown",
      "metadata": {
        "id": "WgAgqc2AykfR",
        "colab_type": "text"
      },
      "source": [
        "## 4. How to generate random circuit?\n",
        "\n",
        "    Now we need to prepare dataset for deep learning model\n",
        "    And the data should be a lot. We will going to look at\n",
        "    random circuit generator to generate dataset\n",
        "\n",
        "[jupyter notebook](https://github.com/IllgamhoDuck/Quantum-Circuit-Optimization-with-Deep-learning/blob/master/Random_quantum_circuit_Generator.ipynb)\n",
        "[colab](https://colab.research.google.com/drive/1AD5sX89YILQTAsL8Go2IOYXSFx_hEIaS)"
      ]
    },
    {
      "cell_type": "markdown",
      "metadata": {
        "id": "K3jxC0dQz252",
        "colab_type": "text"
      },
      "source": [
        "## 5. Generate dataset for Deep learning\n",
        "\n",
        "    Using the random circuit generator and hardware information\n",
        "    generate dataset as much as we want. And also preprocess\n",
        "    the dataset to generate encoded dataset\n",
        "\n",
        "[jupyter notebook](https://github.com/IllgamhoDuck/Quantum-Circuit-Optimization-with-Deep-learning/blob/master/Generate_dataset.ipynb)\n",
        "[colab](https://colab.research.google.com/drive/1n_zwBDY8UyXgpQedz8sHVXAjgYcGwN91)"
      ]
    },
    {
      "cell_type": "markdown",
      "metadata": {
        "id": "bSxZ87_W7zY0",
        "colab_type": "text"
      },
      "source": [
        "## Deep learning Model\n",
        "\n",
        "[Plan of the model architecture](https://docs.google.com/document/d/1reiGk7PIy-EpJceb2c9FLxVnZgROA5BWVULIMSviZF0/edit?usp=sharing)\n",
        "\n",
        "    Each Model performance is not good yet. Still have to find out\n",
        "    the way to train better. But this will show you one approach\n",
        "    to optimize circuit with deep learning\n",
        "\n",
        "**The model will be trained for 3 parts**\n",
        "\n",
        "1. LSTM Autoencoder\n",
        "2. Layout predicting model\n",
        "3. Optimized circuit generator\n",
        "\n"
      ]
    },
    {
      "cell_type": "markdown",
      "metadata": {
        "id": "2eYCUcEBwc8-",
        "colab_type": "text"
      },
      "source": [
        "#### Need to be improved\n",
        "**Trained by 30K dataset**\n",
        "1. Generated circuit is still unstable. Must find the way to train properly to predict the correct circuit"
      ]
    },
    {
      "cell_type": "markdown",
      "metadata": {
        "id": "CK3SKOO0vPKW",
        "colab_type": "text"
      },
      "source": [
        "#### Interesting fact\n",
        "\n",
        "1. When the dataset increased to 10K to 30K the layout prediction increased from 25% to 60%"
      ]
    },
    {
      "cell_type": "markdown",
      "metadata": {
        "id": "o0CHZBhB1JPl",
        "colab_type": "text"
      },
      "source": [
        "## 6. Train LSTM Autoencoder to find circuit manifold\n",
        "\n",
        "Good link to learn autoencoder\n",
        "\n",
        "    https://blog.keras.io/building-autoencoders-in-keras.html\n",
        "    https://lilianweng.github.io/lil-log/2018/08/12/from-autoencoder-to-beta-vae.html\n",
        "    [Below picture if from this link]\n",
        "\n",
        "\n",
        "<img src=\"https://lilianweng.github.io/lil-log/assets/images/autoencoder-architecture.png\" width=800px/>\n",
        "\n",
        "    Train lstm autoencoder to find the circuit manifold.\n",
        "    This manifold is a space that will be representing the\n",
        "    quantum circuit itself\n",
        "\n",
        "[jupyter notebook](https://github.com/IllgamhoDuck/Quantum-Circuit-Optimization-with-Deep-learning/blob/master/LSTM_Autoencoder.ipynb)\n",
        "[colab](https://colab.research.google.com/drive/1jcYs0p-XZCoSlnf2j8nwzYeiRKL-aBpJ)"
      ]
    },
    {
      "cell_type": "markdown",
      "metadata": {
        "id": "n2R1ArXYbDXb",
        "colab_type": "text"
      },
      "source": [
        "## 6-1 (Optional) Estimating Statevector from circuit\n",
        "\n",
        "    Rather then finding latent space z using autoencoder\n",
        "    we can make a model that estimate statevector based on\n",
        "    quantum circuit and use it for further extention models.\n",
        "    At here we ae going to Look at state vector.\n",
        "\n",
        "    we are not using statevectors for further model training\n",
        "    but you can enjoy how deep learning learns the relationship\n",
        "    between quantum circuit and statevector\n",
        "\n",
        "[jupyter notebook](https://github.com/IllgamhoDuck/Quantum-Circuit-Optimization-with-Deep-learning/blob/master/predicting_statevectors_from_circuits.ipynb)\n",
        "[colab](https://colab.research.google.com/github/IllgamhoDuck/Quantum-Circuit-Optimization-with-Deep-learning/blob/master/predicting_statevectors_from_circuits.ipynb)"
      ]
    },
    {
      "cell_type": "markdown",
      "metadata": {
        "id": "4_FhhUyimpeT",
        "colab_type": "text"
      },
      "source": [
        "    Check more about the experiment results of this statevector predicting model\n",
        "\n",
        "<img src=\"https://github.com/IllgamhoDuck/Quantum-Circuit-Optimization-with-Deep-learning/blob/master/img/research_log.png?raw=true\" width=800px>\n",
        "\n",
        "[experiment log](https://docs.google.com/spreadsheets/d/1LPAHmYtP5d9_qKSbEQmxlSk6NTAQU2ytRe82e3c6dVQ/edit)"
      ]
    },
    {
      "cell_type": "markdown",
      "metadata": {
        "id": "M42IBYdZrz7r",
        "colab_type": "text"
      },
      "source": [
        "#### Interesting fact\n",
        "\n",
        "**Training performance drastically improved as datasize increase from 1K to 8M**\n",
        "\n",
        "<img src=\"https://github.com/IllgamhoDuck/Quantum-Circuit-Optimization-with-Deep-learning/blob/master/img/mse.png?raw=true\" width=300px/>\n",
        "\n",
        "    When we ran the experiments, we found it interesting\n",
        "    that the neural networks were able to predict the \n",
        "    statevectors much better when they were trained on more data.\n",
        "    The RMSE (a way to measure how different the predicted and actual statevectors are)\n",
        "    for totally random predictions is 600, while for perfect \n",
        "    predictions it would be 0. With 1k data, the RMSE is 320. \n",
        "    With 5m data, the RMSE is 120 and with 8m data the RMSE is 70."
      ]
    },
    {
      "cell_type": "markdown",
      "metadata": {
        "id": "o-T0nYMn5Qwd",
        "colab_type": "text"
      },
      "source": [
        "## 7. Train Layout predicting Model\n",
        "\n",
        "    After training the LSTM Autoencoder use trained encoder to\n",
        "    do transfer learning for layout predicting model \n",
        "\n",
        "[jupyter notebook](https://github.com/IllgamhoDuck/Quantum-Circuit-Optimization-with-Deep-learning/blob/master/layout_prediction.ipynb)\n",
        "[colab](https://colab.research.google.com/drive/1EeWubYnIIkIdkq-5XNMZ68WXw9i1SMIc)"
      ]
    },
    {
      "cell_type": "markdown",
      "metadata": {
        "id": "Jm0U1jt16jfM",
        "colab_type": "text"
      },
      "source": [
        "## 8. Train Optimized circuit generating model\n",
        "\n",
        "    Complete model of previous 2 models. Get the circuit as input\n",
        "    and generate the optimized model\n",
        "\n",
        "[juypter notebook](https://github.com/IllgamhoDuck/Quantum-Circuit-Optimization-with-Deep-learning/blob/master/Optimized_circuit_generator.ipynb)\n",
        "[colab](https://colab.research.google.com/drive/1--9oFkHl7efT0fI9s1JkrBE1uwczt3YU)"
      ]
    },
    {
      "cell_type": "markdown",
      "metadata": {
        "id": "N1FZo1A2X12W",
        "colab_type": "text"
      },
      "source": [
        "## 9. How to check it is optimized?\n",
        "\n",
        "    After you train your model and now you can compare the\n",
        "    statevector of original circuit without noise and the \n",
        "    statevector of optimized circuit with noise in real\n",
        "    quantum computer\n",
        "\n"
      ]
    },
    {
      "cell_type": "code",
      "metadata": {
        "id": "unhD1PM-ZvFC",
        "colab_type": "code",
        "colab": {}
      },
      "source": [
        "# You can get code by this sample code\n",
        "# Sample code not for runnning!\n",
        "\n",
        "# With out noise\n",
        "original_state_vector = qiskit.execute(your_quantum_circuit,\n",
        "                                       qiskit.Aer.get_backend('qasm_simulator')).result().get_counts()\n",
        "\n",
        "# With noise\n",
        "noisy_state_vector = qiskit.execute(your_quantum_circuit,\n",
        "                                       qiskit.Aer.get_backend('REAL QUANTUM COMPUTER')).result().get_counts()"
      ],
      "execution_count": 0,
      "outputs": []
    },
    {
      "cell_type": "markdown",
      "metadata": {
        "id": "aRugdEtnaYvJ",
        "colab_type": "text"
      },
      "source": [
        "You can compare the two state vector using the following code"
      ]
    },
    {
      "cell_type": "code",
      "metadata": {
        "id": "J8_ebf6-acgX",
        "colab_type": "code",
        "colab": {}
      },
      "source": [
        "from qiskit.test.base import dicts_almost_equal\n",
        "\n",
        "\"\"\"\n",
        "Check to see how similar the counts from the two runs are, where delta the allowed difference between\n",
        "the counts. Returns an empty string if they are almost equal, otherwise returns an error message which can\n",
        "then be printed.\n",
        "\"\"\"\n",
        "your_circuit_equality = dicts_almost_equal(original_state_vector, noisy_state_vector, delta=1e-8)"
      ],
      "execution_count": 0,
      "outputs": []
    },
    {
      "cell_type": "markdown",
      "metadata": {
        "id": "8Cgyj6GrbkYv",
        "colab_type": "text"
      },
      "source": [
        "    If the statevector is well optimized then it will give no error.\n",
        "\n",
        "You can do this with transpiler optimizer and compare with your equality. If your optimizer gives more better result then it means your optimizer is much better!"
      ]
    },
    {
      "cell_type": "markdown",
      "metadata": {
        "id": "i4vHb4l1-Zra",
        "colab_type": "text"
      },
      "source": [
        "## A. Future work\n",
        "\n",
        "1. Find the way to train model better\n",
        "2. Apply reinforcement learning to make the model find the optimized circuit automatically\n",
        "3. There is no"
      ]
    },
    {
      "cell_type": "code",
      "metadata": {
        "id": "F3iKe6TUYLRy",
        "colab_type": "code",
        "colab": {}
      },
      "source": [
        ""
      ],
      "execution_count": 0,
      "outputs": []
    }
  ]
}